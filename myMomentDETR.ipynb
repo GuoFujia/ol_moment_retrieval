{
 "cells": [
  {
   "cell_type": "code",
   "execution_count": 1,
   "metadata": {},
   "outputs": [],
   "source": [
    "# 各种import组织在这个cell里\n",
    "import torch\n",
    "import torch.nn.functional as F\n",
    "from torch import nn\n",
    "import numpy as np\n",
    "\n",
    "import math\n",
    "\n",
    "from lighthouse.common.utils.myUtils import generalized_temporal_iou,span_cxw_to_xx,build_matcher\n",
    "from lighthouse.common.misc import accuracy"
   ]
  },
  {
   "cell_type": "code",
   "execution_count": 2,
   "metadata": {},
   "outputs": [],
   "source": [
    "from lighthouse.common.moment_transformer import build_transformer"
   ]
  },
  {
   "cell_type": "code",
   "execution_count": 3,
   "metadata": {},
   "outputs": [],
   "source": [
    "# 位置编码模块\n",
    "\n",
    "# 可学习的一维序列位置编码\n",
    "class TrainablePositionalEncoding(nn.Module):\n",
    "    \"\"\"Construct the embeddings from word, position and token_type embeddings.\n",
    "    \"\"\"\n",
    "    def __init__(self, max_position_embeddings, hidden_size, dropout=0.1):\n",
    "        super(TrainablePositionalEncoding, self).__init__()\n",
    "        self.position_embeddings = nn.Embedding(max_position_embeddings, hidden_size)\n",
    "        self.LayerNorm = nn.LayerNorm(hidden_size)\n",
    "        self.dropout = nn.Dropout(dropout)\n",
    "\n",
    "    def forward(self, input_feat):\n",
    "        \"\"\"\n",
    "        Args:\n",
    "            input_feat: (N, L, D)\n",
    "        \"\"\"\n",
    "        bsz, seq_length = input_feat.shape[:2]\n",
    "        position_ids = torch.arange(seq_length, dtype=torch.long, device=input_feat.device)\n",
    "        position_ids = position_ids.unsqueeze(0).repeat(bsz, 1)  # (N, L)\n",
    "\n",
    "        position_embeddings = self.position_embeddings(position_ids)\n",
    "\n",
    "        embeddings = self.LayerNorm(input_feat + position_embeddings)\n",
    "        embeddings = self.dropout(embeddings)\n",
    "        return embeddings\n",
    "\n",
    "# 正弦一维位置编码\n",
    "class PositionEmbeddingSine(nn.Module):\n",
    "    \"\"\"\n",
    "    This is a more standard version of the position embedding, very similar to the one\n",
    "    used by the Attention is all you need paper, generalized to work on images. (To 1D sequences)\n",
    "    \"\"\"\n",
    "    def __init__(self, num_pos_feats=64, temperature=10000, normalize=False, scale=None):\n",
    "        super().__init__()\n",
    "        self.num_pos_feats = num_pos_feats\n",
    "        self.temperature = temperature\n",
    "        self.normalize = normalize\n",
    "        if scale is not None and normalize is False:\n",
    "            raise ValueError(\"normalize should be True if scale is passed\")\n",
    "        if scale is None:\n",
    "            scale = 2 * math.pi\n",
    "        self.scale = scale\n",
    "\n",
    "    def forward(self, x, mask):\n",
    "        \"\"\"\n",
    "        Args:\n",
    "            x: torch.tensor, (batch_size, L, d)\n",
    "            mask: torch.tensor, (batch_size, L), with 1 as valid\n",
    "\n",
    "        Returns:\n",
    "\n",
    "        \"\"\"\n",
    "        assert mask is not None\n",
    "        x_embed = mask.cumsum(1, dtype=torch.float32)  # (bsz, L)\n",
    "        if self.normalize:\n",
    "            eps = 1e-6\n",
    "            x_embed = x_embed / (x_embed[:, -1:] + eps) * self.scale\n",
    "\n",
    "        dim_t = torch.arange(self.num_pos_feats, dtype=torch.float32, device=x.device)\n",
    "        dim_t = self.temperature ** (2 * (dim_t // 2) / self.num_pos_feats)\n",
    "\n",
    "        pos_x = x_embed[:, :, None] / dim_t  # (bsz, L, num_pos_feats)\n",
    "        pos_x = torch.stack((pos_x[:, :, 0::2].sin(), pos_x[:, :, 1::2].cos()), dim=3).flatten(2)  # (bsz, L, num_pos_feats*2)\n",
    "        return pos_x  # .permute(0, 2, 1)  # (bsz, num_pos_feats*2, L)\n",
    "\n",
    "# 可学习的二位序列位置编码\n",
    "class PositionEmbeddingLearned(nn.Module):\n",
    "    \"\"\"\n",
    "    Absolute pos embedding, learned.\n",
    "    \"\"\"\n",
    "    def __init__(self, num_pos_feats=256):\n",
    "        super().__init__()\n",
    "        self.row_embed = nn.Embedding(50, num_pos_feats)\n",
    "        self.col_embed = nn.Embedding(50, num_pos_feats)\n",
    "        self.reset_parameters()\n",
    "\n",
    "    def reset_parameters(self):\n",
    "        nn.init.uniform_(self.row_embed.weight)\n",
    "        nn.init.uniform_(self.col_embed.weight)\n",
    "\n",
    "    def forward(self, x, mask):\n",
    "        h, w = x.shape[-2:]\n",
    "        i = torch.arange(w, device=x.device)\n",
    "        j = torch.arange(h, device=x.device)\n",
    "        x_emb = self.col_embed(i)\n",
    "        y_emb = self.row_embed(j)\n",
    "        pos = torch.cat([\n",
    "            x_emb.unsqueeze(0).repeat(h, 1, 1),\n",
    "            y_emb.unsqueeze(1).repeat(1, w, 1),\n",
    "        ], dim=-1).permute(2, 0, 1).unsqueeze(0).repeat(x.shape[0], 1, 1, 1)\n",
    "        return pos\n",
    "\n",
    "\n",
    "def build_position_encoding(args):\n",
    "    N_steps = args.hidden_dim\n",
    "    if args.position_embedding in ('v2', 'sine'):\n",
    "        # TODO find a better way of exposing other arguments\n",
    "        position_embedding = PositionEmbeddingSine(N_steps, normalize=True)\n",
    "    elif args.position_embedding in ('v3', 'learned'):\n",
    "        position_embedding = PositionEmbeddingLearned(N_steps)\n",
    "    else:\n",
    "        raise ValueError(f\"not supported {args.position_embedding}\")\n",
    "\n",
    "    txt_pos_embed = TrainablePositionalEncoding(\n",
    "            max_position_embeddings=args.max_q_l,\n",
    "            hidden_size=args.hidden_dim, dropout=args.input_dropout)\n",
    "    return position_embedding, txt_pos_embed"
   ]
  },
  {
   "cell_type": "code",
   "execution_count": 4,
   "metadata": {},
   "outputs": [],
   "source": [
    "class MomentDETR(nn.Module):\n",
    "    \"\"\" This is the Moment-DETR module that performs moment localization. \"\"\"\n",
    "\n",
    "    def __init__(self, transformer, position_embed, txt_position_embed, txt_dim, vid_dim,\n",
    "                 num_queries, input_dropout, aux_loss=False, max_v_l=75, span_loss_type=\"l1\", \n",
    "                 use_txt_pos=False, n_input_proj=2, aud_dim=0):\n",
    "        \"\"\" Initializes the model.\n",
    "        Parameters:\n",
    "            transformer: torch module of the transformer architecture. See transformer.py\n",
    "            position_embed: torch module of the position_embedding, See position_encoding.py\n",
    "            txt_position_embed: position_embedding for text\n",
    "            txt_dim: int, text query input dimension\n",
    "            vid_dim: int, video feature input dimension\n",
    "            num_queries: number of object queries, ie detection slot. This is the maximal number of objects\n",
    "                         Moment-DETR can detect in a single video.\n",
    "            aux_loss: True if auxiliary decoding losses (loss at each decoder layer) are to be used.\n",
    "            max_v_l: int, maximum #clips in videos\n",
    "            span_loss_type: str, one of [l1, ce]\n",
    "                l1: (center-x, width) regression.\n",
    "                ce: (st_idx, ed_idx) classification.\n",
    "            # foreground_thd: float, intersection over prediction >= foreground_thd: labeled as foreground\n",
    "            # background_thd: float, intersection over prediction <= background_thd: labeled background\n",
    "        \"\"\"\n",
    "        super().__init__()\n",
    "        self.num_queries = num_queries\n",
    "        self.transformer = transformer\n",
    "        self.position_embed = position_embed\n",
    "        self.txt_position_embed = txt_position_embed\n",
    "        hidden_dim = transformer.d_model\n",
    "        self.span_loss_type = span_loss_type\n",
    "        self.max_v_l = max_v_l\n",
    "        span_pred_dim = 2 if span_loss_type == \"l1\" else max_v_l * 2\n",
    "        self.span_embed = MLP(hidden_dim, hidden_dim, span_pred_dim, 3)\n",
    "        self.class_embed = nn.Linear(hidden_dim, 2)  # 0: background, 1: foreground\n",
    "        self.use_txt_pos = use_txt_pos\n",
    "        self.n_input_proj = n_input_proj\n",
    "        # self.foreground_thd = foreground_thd\n",
    "        # self.background_thd = background_thd\n",
    "        self.query_embed = nn.Embedding(num_queries, hidden_dim)\n",
    "        relu_args = [True] * 3\n",
    "        relu_args[n_input_proj-1] = False\n",
    "        self.input_txt_proj = nn.Sequential(*[\n",
    "            LinearLayer(txt_dim, hidden_dim, layer_norm=True, dropout=input_dropout, relu=relu_args[0]),\n",
    "            LinearLayer(hidden_dim, hidden_dim, layer_norm=True, dropout=input_dropout, relu=relu_args[1]),\n",
    "            LinearLayer(hidden_dim, hidden_dim, layer_norm=True, dropout=input_dropout, relu=relu_args[2])\n",
    "        ][:n_input_proj])\n",
    "        self.input_vid_proj = nn.Sequential(*[\n",
    "            LinearLayer(vid_dim + aud_dim, hidden_dim, layer_norm=True, dropout=input_dropout, relu=relu_args[0]),\n",
    "            LinearLayer(hidden_dim, hidden_dim, layer_norm=True, dropout=input_dropout, relu=relu_args[1]),\n",
    "            LinearLayer(hidden_dim, hidden_dim, layer_norm=True, dropout=input_dropout, relu=relu_args[2])\n",
    "        ][:n_input_proj])\n",
    "\n",
    "        self.saliency_proj = nn.Linear(hidden_dim, 1)\n",
    "        self.aux_loss = aux_loss\n",
    "\n",
    "    def forward(self, src_txt, src_txt_mask, src_vid, src_vid_mask, src_aud=None, src_aud_mask=None):\n",
    "        \"\"\"The forward expects two tensors:\n",
    "               - src_txt: [batch_size, L_txt, D_txt]\n",
    "               - src_txt_mask: [batch_size, L_txt], containing 0 on padded pixels,\n",
    "                    will convert to 1 as padding later for transformer\n",
    "               - src_vid: [batch_size, L_vid, D_vid]\n",
    "               - src_vid_mask: [batch_size, L_vid], containing 0 on padded pixels,\n",
    "                    will convert to 1 as padding later for transformer\n",
    "\n",
    "            It returns a dict with the following elements:\n",
    "               - \"pred_spans\": The normalized boxes coordinates for all queries, represented as\n",
    "                               (center_x, width). These values are normalized in [0, 1],\n",
    "                               relative to the size of each individual image (disregarding possible padding).\n",
    "                               See PostProcess for information on how to retrieve the unnormalized bounding box.\n",
    "               - \"aux_outputs\": Optional, only returned when auxilary losses are activated. It is a list of\n",
    "                                dictionnaries containing the two above keys for each decoder layer.\n",
    "        \"\"\"\n",
    "        if src_aud is not None:\n",
    "            src_vid = torch.cat([src_vid, src_aud], dim=2)\n",
    "\n",
    "        src_vid = self.input_vid_proj(src_vid)\n",
    "        src_txt = self.input_txt_proj(src_txt)\n",
    "        src = torch.cat([src_vid, src_txt], dim=1)  # (bsz, L_vid+L_txt, d)\n",
    "        mask = torch.cat([src_vid_mask, src_txt_mask], dim=1).bool()  # (bsz, L_vid+L_txt)\n",
    "        # TODO should we remove or use different positional embeddings to the src_txt?\n",
    "        pos_vid = self.position_embed(src_vid, src_vid_mask)  # (bsz, L_vid, d)\n",
    "        pos_txt = self.txt_position_embed(src_txt) if self.use_txt_pos else torch.zeros_like(src_txt)  # (bsz, L_txt, d)\n",
    "        # pos_txt = torch.zeros_like(src_txt)\n",
    "        # pad zeros for txt positions\n",
    "        pos = torch.cat([pos_vid, pos_txt], dim=1)\n",
    "        # (#layers, bsz, #queries, d), (bsz, L_vid+L_txt, d)\n",
    "        hs, memory = self.transformer(src, ~mask, self.query_embed.weight, pos)\n",
    "        outputs_class = self.class_embed(hs)  # (#layers, batch_size, #queries, #classes)\n",
    "        outputs_coord = self.span_embed(hs)  # (#layers, bsz, #queries, 2 or max_v_l * 2)\n",
    "        if self.span_loss_type == \"l1\":\n",
    "            outputs_coord = outputs_coord.sigmoid()\n",
    "        out = {'pred_logits': outputs_class[-1], 'pred_spans': outputs_coord[-1]}\n",
    "\n",
    "        txt_mem = memory[:, src_vid.shape[1]:]  # (bsz, L_txt, d)\n",
    "        vid_mem = memory[:, :src_vid.shape[1]]  # (bsz, L_vid, d)\n",
    "\n",
    "        out[\"saliency_scores\"] = self.saliency_proj(vid_mem).squeeze(-1)  # (bsz, L_vid)\n",
    "\n",
    "        if self.aux_loss:\n",
    "            # assert proj_queries and proj_txt_mem\n",
    "            out['aux_outputs'] = [\n",
    "                {'pred_logits': a, 'pred_spans': b} for a, b in zip(outputs_class[:-1], outputs_coord[:-1])]\n",
    "\n",
    "        return out\n",
    "\n",
    "\n",
    "class SetCriterion(nn.Module):\n",
    "    \"\"\" This class computes the loss for DETR.\n",
    "    The process happens in two steps:\n",
    "        1) we compute hungarian assignment between ground truth boxes and the outputs of the model\n",
    "        2) we supervise each pair of matched ground-truth / prediction (supervise class and box)\n",
    "    \"\"\"\n",
    "\n",
    "    def __init__(self, matcher, weight_dict, eos_coef, losses, span_loss_type, max_v_l,\n",
    "                 saliency_margin=1):\n",
    "        \"\"\" Create the criterion.\n",
    "        Parameters:\n",
    "            matcher: module able to compute a matching between targets and proposals\n",
    "            weight_dict: dict containing as key the names of the losses and as values their relative weight.\n",
    "            eos_coef: relative classification weight applied to the no-object category\n",
    "            losses: list of all the losses to be applied. See get_loss for list of available losses.\n",
    "            span_loss_type: str, [l1, ce]\n",
    "            max_v_l: int,\n",
    "            saliency_margin: float\n",
    "        \"\"\"\n",
    "        super().__init__()\n",
    "        self.matcher = matcher\n",
    "        self.weight_dict = weight_dict\n",
    "        self.losses = losses\n",
    "        self.span_loss_type = span_loss_type\n",
    "        self.max_v_l = max_v_l\n",
    "        self.saliency_margin = saliency_margin\n",
    "\n",
    "        # foreground and background classification\n",
    "        self.foreground_label = 0\n",
    "        self.background_label = 1\n",
    "        self.eos_coef = eos_coef\n",
    "        empty_weight = torch.ones(2)\n",
    "        empty_weight[-1] = self.eos_coef  # lower weight for background (index 1, foreground index 0)\n",
    "        self.register_buffer('empty_weight', empty_weight)\n",
    "\n",
    "    def loss_spans(self, outputs, targets, indices):\n",
    "        \"\"\"Compute the losses related to the bounding boxes, the L1 regression loss and the GIoU loss\n",
    "           targets dicts must contain the key \"spans\" containing a tensor of dim [nb_tgt_spans, 2]\n",
    "           The target spans are expected in format (center_x, w), normalized by the image size.\n",
    "        \"\"\"\n",
    "        assert 'pred_spans' in outputs\n",
    "        targets = targets[\"span_labels\"]\n",
    "        idx = self._get_src_permutation_idx(indices)\n",
    "        src_spans = outputs['pred_spans'][idx]  # (#spans, max_v_l * 2)\n",
    "        tgt_spans = torch.cat([t['spans'][i] for t, (_, i) in zip(targets, indices)], dim=0)  # (#spans, 2)\n",
    "        if self.span_loss_type == \"l1\":\n",
    "            loss_span = F.l1_loss(src_spans, tgt_spans, reduction='none')\n",
    "            loss_giou = 1 - torch.diag(generalized_temporal_iou(span_cxw_to_xx(src_spans), span_cxw_to_xx(tgt_spans)))\n",
    "        else:  # ce\n",
    "            n_spans = src_spans.shape[0]\n",
    "            src_spans = src_spans.view(n_spans, 2, self.max_v_l).transpose(1, 2)\n",
    "            loss_span = F.cross_entropy(src_spans, tgt_spans, reduction='none')\n",
    "            loss_giou = loss_span.new_zeros([1])\n",
    "\n",
    "        losses = {}\n",
    "        losses['loss_span'] = loss_span.mean()\n",
    "        losses['loss_giou'] = loss_giou.mean()\n",
    "        return losses\n",
    "\n",
    "    def loss_labels(self, outputs, targets, indices, log=True):\n",
    "        \"\"\"Classification loss (NLL)\n",
    "        targets dicts must contain the key \"labels\" containing a tensor of dim [nb_target_boxes]\n",
    "        \"\"\"\n",
    "        # TODO add foreground and background classifier.  use all non-matched as background.\n",
    "        assert 'pred_logits' in outputs\n",
    "        src_logits = outputs['pred_logits']  # (batch_size, #queries, #classes=2)\n",
    "        # idx is a tuple of two 1D tensors (batch_idx, src_idx), of the same length == #objects in batch\n",
    "        idx = self._get_src_permutation_idx(indices)\n",
    "        target_classes = torch.full(src_logits.shape[:2], self.background_label,\n",
    "                                    dtype=torch.int64, device=src_logits.device)  # (batch_size, #queries)\n",
    "        target_classes[idx] = self.foreground_label\n",
    "\n",
    "        loss_ce = F.cross_entropy(src_logits.transpose(1, 2), target_classes, self.empty_weight, reduction=\"none\")\n",
    "        losses = {'loss_label': loss_ce.mean()}\n",
    "\n",
    "        if log:\n",
    "            # TODO this should probably be a separate loss, not hacked in this one here\n",
    "            losses['class_error'] = 100 - accuracy(src_logits[idx], self.foreground_label)[0]\n",
    "        return losses\n",
    "\n",
    "    def loss_saliency(self, outputs, targets, indices, log=True):\n",
    "        \"\"\"higher scores for positive clips\"\"\"\n",
    "        if \"saliency_pos_labels\" not in targets:\n",
    "            return {\"loss_saliency\": 0}\n",
    "        saliency_scores = outputs[\"saliency_scores\"]  # (N, L)\n",
    "        pos_indices = targets[\"saliency_pos_labels\"]  # (N, #pairs)\n",
    "        neg_indices = targets[\"saliency_neg_labels\"]  # (N, #pairs)\n",
    "        num_pairs = pos_indices.shape[1]  # typically 2 or 4\n",
    "        batch_indices = torch.arange(len(saliency_scores)).to(saliency_scores.device)\n",
    "        pos_scores = torch.stack(\n",
    "            [saliency_scores[batch_indices, pos_indices[:, col_idx]] for col_idx in range(num_pairs)], dim=1)\n",
    "        neg_scores = torch.stack(\n",
    "            [saliency_scores[batch_indices, neg_indices[:, col_idx]] for col_idx in range(num_pairs)], dim=1)\n",
    "        loss_saliency = torch.clamp(self.saliency_margin + neg_scores - pos_scores, min=0).sum() \\\n",
    "            / (len(pos_scores) * num_pairs) * 2  # * 2 to keep the loss the same scale\n",
    "        return {\"loss_saliency\": loss_saliency}\n",
    "\n",
    "    def _get_src_permutation_idx(self, indices):\n",
    "        # permute predictions following indices\n",
    "        batch_idx = torch.cat([torch.full_like(src, i) for i, (src, _) in enumerate(indices)])\n",
    "        src_idx = torch.cat([src for (src, _) in indices])\n",
    "        return batch_idx, src_idx  # two 1D tensors of the same length\n",
    "\n",
    "    def _get_tgt_permutation_idx(self, indices):\n",
    "        # permute targets following indices\n",
    "        batch_idx = torch.cat([torch.full_like(tgt, i) for i, (_, tgt) in enumerate(indices)])\n",
    "        tgt_idx = torch.cat([tgt for (_, tgt) in indices])\n",
    "        return batch_idx, tgt_idx\n",
    "\n",
    "    def get_loss(self, loss, outputs, targets, indices, **kwargs):\n",
    "        loss_map = {\n",
    "            \"spans\": self.loss_spans,\n",
    "            \"labels\": self.loss_labels,\n",
    "            \"saliency\": self.loss_saliency,\n",
    "        }\n",
    "        assert loss in loss_map, f'do you really want to compute {loss} loss?'\n",
    "        return loss_map[loss](outputs, targets, indices, **kwargs)\n",
    "\n",
    "    def forward(self, outputs, targets):\n",
    "        \"\"\" This performs the loss computation.\n",
    "        Parameters:\n",
    "             outputs: dict of tensors, see the output specification of the model for the format\n",
    "             targets: list of dicts, such that len(targets) == batch_size.\n",
    "                      The expected keys in each dict depends on the losses applied, see each loss' doc\n",
    "        \"\"\"\n",
    "        outputs_without_aux = {k: v for k, v in outputs.items() if k != 'aux_outputs'}\n",
    "\n",
    "        # Retrieve the matching between the outputs of the last layer and the targets\n",
    "        # list(tuples), each tuple is (pred_span_indices, tgt_span_indices)\n",
    "        indices = self.matcher(outputs_without_aux, targets)\n",
    "\n",
    "        # Compute all the requested losses\n",
    "        losses = {}\n",
    "        for loss in self.losses:\n",
    "            losses.update(self.get_loss(loss, outputs, targets, indices))\n",
    "\n",
    "        # In case of auxiliary losses, we repeat this process with the output of each intermediate layer.\n",
    "        if 'aux_outputs' in outputs:\n",
    "            for i, aux_outputs in enumerate(outputs['aux_outputs']):\n",
    "                indices = self.matcher(aux_outputs, targets)\n",
    "                for loss in self.losses:\n",
    "                    if \"saliency\" == loss:  # skip as it is only in the top layer\n",
    "                        continue\n",
    "                    kwargs = {}\n",
    "                    l_dict = self.get_loss(loss, aux_outputs, targets, indices, **kwargs)\n",
    "                    l_dict = {k + f'_{i}': v for k, v in l_dict.items()}\n",
    "                    losses.update(l_dict)\n",
    "\n",
    "        return losses\n",
    "\n",
    "\n",
    "class MLP(nn.Module):\n",
    "    \"\"\" Very simple multi-layer perceptron (also called FFN)\"\"\"\n",
    "\n",
    "    def __init__(self, input_dim, hidden_dim, output_dim, num_layers):\n",
    "        super().__init__()\n",
    "        self.num_layers = num_layers\n",
    "        h = [hidden_dim] * (num_layers - 1)\n",
    "        self.layers = nn.ModuleList(nn.Linear(n, k) for n, k in zip([input_dim] + h, h + [output_dim]))\n",
    "\n",
    "    def forward(self, x):\n",
    "        for i, layer in enumerate(self.layers):\n",
    "            x = F.relu(layer(x)) if i < self.num_layers - 1 else layer(x)\n",
    "        return x\n",
    "\n",
    "\n",
    "class LinearLayer(nn.Module):\n",
    "    \"\"\"linear layer configurable with layer normalization, dropout, ReLU.\"\"\"\n",
    "\n",
    "    def __init__(self, in_hsz, out_hsz, layer_norm=True, dropout=0.1, relu=True):\n",
    "        super(LinearLayer, self).__init__()\n",
    "        self.relu = relu\n",
    "        self.layer_norm = layer_norm\n",
    "        if layer_norm:\n",
    "            self.LayerNorm = nn.LayerNorm(in_hsz)\n",
    "        layers = [\n",
    "            nn.Dropout(dropout),\n",
    "            nn.Linear(in_hsz, out_hsz)\n",
    "        ]\n",
    "        self.net = nn.Sequential(*layers)\n",
    "\n",
    "    def forward(self, x):\n",
    "        \"\"\"(N, L, D)\"\"\"\n",
    "        if self.layer_norm:\n",
    "            x = self.LayerNorm(x)\n",
    "        x = self.net(x)\n",
    "        if self.relu:\n",
    "            x = F.relu(x, inplace=True)\n",
    "        return x  # (N, L, D)\n",
    "\n",
    "\n",
    "def build_model(args):\n",
    "    # the `num_classes` naming here is somewhat misleading.\n",
    "    # it indeed corresponds to `max_obj_id + 1`, where max_obj_id\n",
    "    # is the maximum id for a class in your dataset. For example,\n",
    "    # COCO has a max_obj_id of 90, so we pass `num_classes` to be 91.\n",
    "    # As another example, for a dataset that has a single class with id 1,\n",
    "    # you should pass `num_classes` to be 2 (max_obj_id + 1).\n",
    "    # For more details on this, check the following discussion\n",
    "    # https://github.com/facebookresearch/moment_detr/issues/108#issuecomment-650269223\n",
    "    device = torch.device(args.device)\n",
    "\n",
    "    transformer = build_transformer(args)\n",
    "    position_embedding, txt_position_embedding = build_position_encoding(args)\n",
    "\n",
    "    model = MomentDETR(\n",
    "        transformer,\n",
    "        position_embedding,\n",
    "        txt_position_embedding,\n",
    "        txt_dim=args.t_feat_dim,\n",
    "        vid_dim=args.v_feat_dim,\n",
    "        aud_dim=args.a_feat_dim if \"a_feat_dim\" in args else 0,\n",
    "        aux_loss=args.aux_loss,\n",
    "        num_queries=args.num_queries,\n",
    "        input_dropout=args.input_dropout,\n",
    "        span_loss_type=args.span_loss_type,\n",
    "        n_input_proj=args.n_input_proj,\n",
    "    )\n",
    "\n",
    "    matcher = build_matcher(args)\n",
    "    weight_dict = {\"loss_span\": args.span_loss_coef,\n",
    "                   \"loss_giou\": args.giou_loss_coef,\n",
    "                   \"loss_label\": args.label_loss_coef,\n",
    "                   \"loss_saliency\": args.lw_saliency}\n",
    "    \n",
    "    if args.aux_loss:\n",
    "        aux_weight_dict = {}\n",
    "        for i in range(args.dec_layers - 1):\n",
    "            aux_weight_dict.update({k + f'_{i}': v for k, v in weight_dict.items() if k != \"loss_saliency\"})\n",
    "        weight_dict.update(aux_weight_dict)\n",
    "\n",
    "    losses = ['spans', 'labels', 'saliency']\n",
    "\n",
    "    criterion = SetCriterion(\n",
    "        matcher=matcher, weight_dict=weight_dict, losses=losses,\n",
    "        eos_coef=args.eos_coef, span_loss_type=args.span_loss_type, \n",
    "        max_v_l=args.max_v_l, saliency_margin=args.saliency_margin\n",
    "    )\n",
    "\n",
    "    criterion.to(device)\n",
    "    return model, criterion"
   ]
  },
  {
   "cell_type": "code",
   "execution_count": 5,
   "metadata": {},
   "outputs": [],
   "source": [
    "from training.dataset2 import StartEndDataset\n",
    "from lighthouse.common.utils.myUtils import AverageMeter,ModelEMA,VTCLoss,CTC_Loss\n",
    "from torch.utils.data import DataLoader\n",
    "from easydict import EasyDict\n",
    "from collections import defaultdict\n",
    "from tqdm import tqdm\n",
    "from lighthouse.common.utils.myUtils import BaseOptions"
   ]
  },
  {
   "cell_type": "code",
   "execution_count": 6,
   "metadata": {},
   "outputs": [
    {
     "name": "stderr",
     "output_type": "stream",
     "text": [
      "2024-12-11 07:41:07.529:INFO:training.myTrain - Setup config, data and model...\n"
     ]
    },
    {
     "name": "stdout",
     "output_type": "stream",
     "text": [
      "['/media/sda/szr/lighthouse-main/features/qvhighlight/clip', '/media/sda/szr/lighthouse-main/features/qvhighlight/slowfast']\n",
      "/media/sda/szr/lighthouse-main/features/qvhighlight/clip_text\n",
      "None\n"
     ]
    },
    {
     "name": "stderr",
     "output_type": "stream",
     "text": [
      "2024-12-11 07:41:07.790:INFO:training.myEvaluate - setup model/optimizer/scheduler\n",
      "2024-12-11 07:41:07.985:INFO:training.myEvaluate - CUDA enabled.\n",
      "/home/gfj/ENTER/envs/lighthouse/lib/python3.9/site-packages/tqdm/auto.py:21: TqdmWarning: IProgress not found. Please update jupyter and ipywidgets. See https://ipywidgets.readthedocs.io/en/stable/user_install.html\n",
      "  from .autonotebook import tqdm as notebook_tqdm\n",
      "2024-12-11 07:41:08.195:INFO:training.myTrain - Model MomentDETR(\n",
      "  (transformer): Transformer(\n",
      "    (encoder): TransformerEncoder(\n",
      "      (layers): ModuleList(\n",
      "        (0-1): 2 x TransformerEncoderLayer(\n",
      "          (self_attn): MultiheadAttention(\n",
      "            (out_proj): NonDynamicallyQuantizableLinear(in_features=256, out_features=256, bias=True)\n",
      "          )\n",
      "          (linear1): Linear(in_features=256, out_features=1024, bias=True)\n",
      "          (dropout): Dropout(p=0.1, inplace=False)\n",
      "          (linear2): Linear(in_features=1024, out_features=256, bias=True)\n",
      "          (norm1): LayerNorm((256,), eps=1e-05, elementwise_affine=True)\n",
      "          (norm2): LayerNorm((256,), eps=1e-05, elementwise_affine=True)\n",
      "          (dropout1): Dropout(p=0.1, inplace=False)\n",
      "          (dropout2): Dropout(p=0.1, inplace=False)\n",
      "        )\n",
      "      )\n",
      "    )\n",
      "    (decoder): TransformerDecoder(\n",
      "      (layers): ModuleList(\n",
      "        (0-1): 2 x TransformerDecoderLayer(\n",
      "          (self_attn): MultiheadAttention(\n",
      "            (out_proj): NonDynamicallyQuantizableLinear(in_features=256, out_features=256, bias=True)\n",
      "          )\n",
      "          (multihead_attn): MultiheadAttention(\n",
      "            (out_proj): NonDynamicallyQuantizableLinear(in_features=256, out_features=256, bias=True)\n",
      "          )\n",
      "          (linear1): Linear(in_features=256, out_features=1024, bias=True)\n",
      "          (dropout): Dropout(p=0.1, inplace=False)\n",
      "          (linear2): Linear(in_features=1024, out_features=256, bias=True)\n",
      "          (norm1): LayerNorm((256,), eps=1e-05, elementwise_affine=True)\n",
      "          (norm2): LayerNorm((256,), eps=1e-05, elementwise_affine=True)\n",
      "          (norm3): LayerNorm((256,), eps=1e-05, elementwise_affine=True)\n",
      "          (dropout1): Dropout(p=0.1, inplace=False)\n",
      "          (dropout2): Dropout(p=0.1, inplace=False)\n",
      "          (dropout3): Dropout(p=0.1, inplace=False)\n",
      "        )\n",
      "      )\n",
      "      (norm): LayerNorm((256,), eps=1e-05, elementwise_affine=True)\n",
      "    )\n",
      "  )\n",
      "  (position_embed): PositionEmbeddingSine()\n",
      "  (txt_position_embed): TrainablePositionalEncoding(\n",
      "    (position_embeddings): Embedding(32, 256)\n",
      "    (LayerNorm): LayerNorm((256,), eps=1e-05, elementwise_affine=True)\n",
      "    (dropout): Dropout(p=0.5, inplace=False)\n",
      "  )\n",
      "  (span_embed): MLP(\n",
      "    (layers): ModuleList(\n",
      "      (0-1): 2 x Linear(in_features=256, out_features=256, bias=True)\n",
      "      (2): Linear(in_features=256, out_features=2, bias=True)\n",
      "    )\n",
      "  )\n",
      "  (class_embed): Linear(in_features=256, out_features=2, bias=True)\n",
      "  (query_embed): Embedding(10, 256)\n",
      "  (input_txt_proj): Sequential(\n",
      "    (0): LinearLayer(\n",
      "      (LayerNorm): LayerNorm((512,), eps=1e-05, elementwise_affine=True)\n",
      "      (net): Sequential(\n",
      "        (0): Dropout(p=0.5, inplace=False)\n",
      "        (1): Linear(in_features=512, out_features=256, bias=True)\n",
      "      )\n",
      "    )\n",
      "    (1): LinearLayer(\n",
      "      (LayerNorm): LayerNorm((256,), eps=1e-05, elementwise_affine=True)\n",
      "      (net): Sequential(\n",
      "        (0): Dropout(p=0.5, inplace=False)\n",
      "        (1): Linear(in_features=256, out_features=256, bias=True)\n",
      "      )\n",
      "    )\n",
      "  )\n",
      "  (input_vid_proj): Sequential(\n",
      "    (0): LinearLayer(\n",
      "      (LayerNorm): LayerNorm((2818,), eps=1e-05, elementwise_affine=True)\n",
      "      (net): Sequential(\n",
      "        (0): Dropout(p=0.5, inplace=False)\n",
      "        (1): Linear(in_features=2818, out_features=256, bias=True)\n",
      "      )\n",
      "    )\n",
      "    (1): LinearLayer(\n",
      "      (LayerNorm): LayerNorm((256,), eps=1e-05, elementwise_affine=True)\n",
      "      (net): Sequential(\n",
      "        (0): Dropout(p=0.5, inplace=False)\n",
      "        (1): Linear(in_features=256, out_features=256, bias=True)\n",
      "      )\n",
      "    )\n",
      "  )\n",
      "  (saliency_proj): Linear(in_features=256, out_features=1, bias=True)\n",
      ")\n",
      "2024-12-11 07:41:08.195:INFO:training.myTrain - Start Training...\n"
     ]
    },
    {
     "name": "stdout",
     "output_type": "stream",
     "text": [
      "Parameter Count: all 4,823,305; trainable 4,823,305\n"
     ]
    },
    {
     "name": "stderr",
     "output_type": "stream",
     "text": [
      "Epoch:   0%|          | 0/200 [00:00<?, ?it/s]2024-12-11 07:41:08.197:INFO:training.myTrain - [Epoch 1]\n",
      "Training Iteration: 100%|██████████| 226/226 [05:20<00:00,  1.42s/it]\n",
      "2024-12-11 07:46:29.035:INFO:training.myEvaluate - Generate submissions\n",
      "compute st ed scores: 100%|██████████| 16/16 [01:13<00:00,  4.56s/it]\n",
      "convert to multiples of clip_length=2: 100%|██████████| 1550/1550 [00:00<00:00, 46558.32it/s]\n",
      "2024-12-11 07:47:42.100:INFO:training.myEvaluate - Saving/Evaluating before nms results\n"
     ]
    },
    {
     "name": "stdout",
     "output_type": "stream",
     "text": [
      "full: [0, 1500], 1550/1550=100.00 examples.\n",
      "[eval_moment_retrieval] [full] 0.39 seconds\n",
      "Calculating highlight scores with min score 2 (Fair)\n",
      "Time cost 0.25 seconds\n",
      "Calculating highlight scores with min score 3 (Good)\n",
      "Time cost 0.25 seconds\n"
     ]
    },
    {
     "name": "stderr",
     "output_type": "stream",
     "text": [
      "2024-12-11 07:47:43.265:INFO:training.myTrain - metrics OrderedDict([   ('MR-full-R1@0.5', 8.0),\n",
      "                ('MR-full-R1@0.7', 2.26),\n",
      "                ('MR-full-mAP', 2.27),\n",
      "                ('MR-full-mAP@0.5', 6.13),\n",
      "                ('MR-full-mAP@0.75', 1.57),\n",
      "                ('HL-min-Fair-mAP', 44.05),\n",
      "                ('HL-min-Fair-Hit1', 36.19),\n",
      "                ('HL-min-Good-mAP', 37.28),\n",
      "                ('HL-min-Good-Hit1', 35.03),\n",
      "                ('HL-min-VeryGood-mAP', 22.99),\n",
      "                ('HL-min-VeryGood-Hit1', 29.48)])\n",
      "2024-12-11 07:47:43.326:INFO:training.myTrain - The checkpoint file has been updated.\n",
      "Epoch:   0%|          | 1/200 [06:35<21:50:30, 395.13s/it]2024-12-11 07:47:43.327:INFO:training.myTrain - [Epoch 2]\n"
     ]
    },
    {
     "name": "stdout",
     "output_type": "stream",
     "text": [
      "Calculating highlight scores with min score 4 (VeryGood)\n",
      "Time cost 0.23 seconds\n"
     ]
    },
    {
     "name": "stderr",
     "output_type": "stream",
     "text": [
      "Training Iteration: 100%|██████████| 226/226 [00:06<00:00, 35.97it/s]\n",
      "2024-12-11 07:47:49.681:INFO:training.myEvaluate - Generate submissions\n",
      "compute st ed scores: 100%|██████████| 16/16 [00:01<00:00, 12.45it/s]\n",
      "convert to multiples of clip_length=2: 100%|██████████| 1550/1550 [00:00<00:00, 42220.61it/s]\n",
      "2024-12-11 07:47:51.013:INFO:training.myEvaluate - Saving/Evaluating before nms results\n"
     ]
    },
    {
     "name": "stdout",
     "output_type": "stream",
     "text": [
      "full: [0, 1500], 1550/1550=100.00 examples.\n",
      "[eval_moment_retrieval] [full] 0.28 seconds\n",
      "Calculating highlight scores with min score 2 (Fair)\n",
      "Time cost 0.25 seconds\n",
      "Calculating highlight scores with min score 3 (Good)\n",
      "Time cost 0.25 seconds\n"
     ]
    },
    {
     "name": "stderr",
     "output_type": "stream",
     "text": [
      "2024-12-11 07:47:52.086:INFO:training.myTrain - metrics OrderedDict([   ('MR-full-R1@0.5', 10.77),\n",
      "                ('MR-full-R1@0.7', 3.94),\n",
      "                ('MR-full-mAP', 6.24),\n",
      "                ('MR-full-mAP@0.5', 16.7),\n",
      "                ('MR-full-mAP@0.75', 3.97),\n",
      "                ('HL-min-Fair-mAP', 44.89),\n",
      "                ('HL-min-Fair-Hit1', 36.97),\n",
      "                ('HL-min-Good-mAP', 38.11),\n",
      "                ('HL-min-Good-Hit1', 35.61),\n",
      "                ('HL-min-VeryGood-mAP', 23.55),\n",
      "                ('HL-min-VeryGood-Hit1', 29.81)])\n",
      "2024-12-11 07:47:52.172:INFO:training.myTrain - The checkpoint file has been updated.\n",
      "Epoch:   1%|          | 2/200 [06:43<9:14:04, 167.90s/it] 2024-12-11 07:47:52.173:INFO:training.myTrain - [Epoch 3]\n"
     ]
    },
    {
     "name": "stdout",
     "output_type": "stream",
     "text": [
      "Calculating highlight scores with min score 4 (VeryGood)\n",
      "Time cost 0.24 seconds\n"
     ]
    },
    {
     "name": "stderr",
     "output_type": "stream",
     "text": [
      "Training Iteration: 100%|██████████| 226/226 [00:06<00:00, 35.56it/s]\n",
      "2024-12-11 07:47:58.592:INFO:training.myEvaluate - Generate submissions\n",
      "compute st ed scores: 100%|██████████| 16/16 [00:01<00:00, 13.30it/s]\n",
      "convert to multiples of clip_length=2: 100%|██████████| 1550/1550 [00:00<00:00, 45194.73it/s]\n",
      "2024-12-11 07:47:59.840:INFO:training.myEvaluate - Saving/Evaluating before nms results\n"
     ]
    },
    {
     "name": "stdout",
     "output_type": "stream",
     "text": [
      "full: [0, 1500], 1550/1550=100.00 examples.\n",
      "[eval_moment_retrieval] [full] 0.35 seconds\n",
      "Calculating highlight scores with min score 2 (Fair)\n",
      "Time cost 0.26 seconds\n",
      "Calculating highlight scores with min score 3 (Good)\n",
      "Time cost 0.29 seconds\n"
     ]
    },
    {
     "name": "stderr",
     "output_type": "stream",
     "text": [
      "2024-12-11 07:48:01.042:INFO:training.myTrain - metrics OrderedDict([   ('MR-full-R1@0.5', 11.81),\n",
      "                ('MR-full-R1@0.7', 2.06),\n",
      "                ('MR-full-mAP', 6.87),\n",
      "                ('MR-full-mAP@0.5', 20.82),\n",
      "                ('MR-full-mAP@0.75', 4.03),\n",
      "                ('HL-min-Fair-mAP', 44.39),\n",
      "                ('HL-min-Fair-Hit1', 37.16),\n",
      "                ('HL-min-Good-mAP', 38.03),\n",
      "                ('HL-min-Good-Hit1', 36.32),\n",
      "                ('HL-min-VeryGood-mAP', 23.56),\n",
      "                ('HL-min-VeryGood-Hit1', 30.26)])\n",
      "2024-12-11 07:48:01.135:INFO:training.myTrain - The checkpoint file has been updated.\n",
      "Epoch:   2%|▏         | 3/200 [06:52<5:12:59, 95.33s/it] 2024-12-11 07:48:01.136:INFO:training.myTrain - [Epoch 4]\n"
     ]
    },
    {
     "name": "stdout",
     "output_type": "stream",
     "text": [
      "Calculating highlight scores with min score 4 (VeryGood)\n",
      "Time cost 0.25 seconds\n"
     ]
    },
    {
     "name": "stderr",
     "output_type": "stream",
     "text": [
      "Training Iteration: 100%|██████████| 226/226 [00:06<00:00, 36.13it/s]\n",
      "2024-12-11 07:48:07.464:INFO:training.myEvaluate - Generate submissions\n",
      "compute st ed scores: 100%|██████████| 16/16 [00:01<00:00, 12.07it/s]\n",
      "convert to multiples of clip_length=2: 100%|██████████| 1550/1550 [00:00<00:00, 44853.30it/s]\n",
      "2024-12-11 07:48:08.834:INFO:training.myEvaluate - Saving/Evaluating before nms results\n"
     ]
    },
    {
     "name": "stdout",
     "output_type": "stream",
     "text": [
      "full: [0, 1500], 1550/1550=100.00 examples.\n",
      "[eval_moment_retrieval] [full] 0.29 seconds\n",
      "Calculating highlight scores with min score 2 (Fair)\n",
      "Time cost 0.27 seconds\n",
      "Calculating highlight scores with min score 3 (Good)\n",
      "Time cost 0.28 seconds\n"
     ]
    },
    {
     "name": "stderr",
     "output_type": "stream",
     "text": [
      "2024-12-11 07:48:09.966:INFO:training.myTrain - metrics OrderedDict([   ('MR-full-R1@0.5', 10.58),\n",
      "                ('MR-full-R1@0.7', 3.1),\n",
      "                ('MR-full-mAP', 8.37),\n",
      "                ('MR-full-mAP@0.5', 22.07),\n",
      "                ('MR-full-mAP@0.75', 5.56),\n",
      "                ('HL-min-Fair-mAP', 45.24),\n",
      "                ('HL-min-Fair-Hit1', 36.9),\n",
      "                ('HL-min-Good-mAP', 38.55),\n",
      "                ('HL-min-Good-Hit1', 35.74),\n",
      "                ('HL-min-VeryGood-mAP', 23.85),\n",
      "                ('HL-min-VeryGood-Hit1', 30.19)])\n",
      "2024-12-11 07:48:10.056:INFO:training.myTrain - The checkpoint file has been updated.\n",
      "Epoch:   2%|▏         | 4/200 [07:01<3:19:58, 61.22s/it]2024-12-11 07:48:10.057:INFO:training.myTrain - [Epoch 5]\n"
     ]
    },
    {
     "name": "stdout",
     "output_type": "stream",
     "text": [
      "Calculating highlight scores with min score 4 (VeryGood)\n",
      "Time cost 0.24 seconds\n"
     ]
    },
    {
     "name": "stderr",
     "output_type": "stream",
     "text": [
      "Training Iteration: 100%|██████████| 226/226 [00:06<00:00, 35.31it/s]\n",
      "2024-12-11 07:48:16.529:INFO:training.myEvaluate - Generate submissions\n",
      "compute st ed scores: 100%|██████████| 16/16 [00:01<00:00, 13.70it/s]\n",
      "convert to multiples of clip_length=2: 100%|██████████| 1550/1550 [00:00<00:00, 48054.31it/s]\n",
      "2024-12-11 07:48:17.739:INFO:training.myEvaluate - Saving/Evaluating before nms results\n"
     ]
    },
    {
     "name": "stdout",
     "output_type": "stream",
     "text": [
      "full: [0, 1500], 1550/1550=100.00 examples.\n",
      "[eval_moment_retrieval] [full] 0.41 seconds\n",
      "Calculating highlight scores with min score 2 (Fair)\n",
      "Time cost 0.28 seconds\n",
      "Calculating highlight scores with min score 3 (Good)\n",
      "Time cost 0.28 seconds\n"
     ]
    },
    {
     "name": "stderr",
     "output_type": "stream",
     "text": [
      "2024-12-11 07:48:18.994:INFO:training.myTrain - metrics OrderedDict([   ('MR-full-R1@0.5', 14.58),\n",
      "                ('MR-full-R1@0.7', 4.52),\n",
      "                ('MR-full-mAP', 11.12),\n",
      "                ('MR-full-mAP@0.5', 26.63),\n",
      "                ('MR-full-mAP@0.75', 8.11),\n",
      "                ('HL-min-Fair-mAP', 44.71),\n",
      "                ('HL-min-Fair-Hit1', 37.87),\n",
      "                ('HL-min-Good-mAP', 38.37),\n",
      "                ('HL-min-Good-Hit1', 36.71),\n",
      "                ('HL-min-VeryGood-mAP', 23.86),\n",
      "                ('HL-min-VeryGood-Hit1', 30.65)])\n",
      "2024-12-11 07:48:19.087:INFO:training.myTrain - The checkpoint file has been updated.\n",
      "Epoch:   2%|▎         | 5/200 [07:10<2:17:47, 42.40s/it]2024-12-11 07:48:19.088:INFO:training.myTrain - [Epoch 6]\n"
     ]
    },
    {
     "name": "stdout",
     "output_type": "stream",
     "text": [
      "Calculating highlight scores with min score 4 (VeryGood)\n",
      "Time cost 0.24 seconds\n"
     ]
    },
    {
     "name": "stderr",
     "output_type": "stream",
     "text": [
      "Training Iteration: 100%|██████████| 226/226 [00:06<00:00, 37.26it/s]\n",
      "2024-12-11 07:48:25.226:INFO:training.myEvaluate - Generate submissions\n",
      "compute st ed scores: 100%|██████████| 16/16 [00:01<00:00, 13.45it/s]\n",
      "convert to multiples of clip_length=2: 100%|██████████| 1550/1550 [00:00<00:00, 40684.70it/s]\n",
      "2024-12-11 07:48:26.463:INFO:training.myEvaluate - Saving/Evaluating before nms results\n"
     ]
    },
    {
     "name": "stdout",
     "output_type": "stream",
     "text": [
      "full: [0, 1500], 1550/1550=100.00 examples.\n",
      "[eval_moment_retrieval] [full] 0.36 seconds\n",
      "Calculating highlight scores with min score 2 (Fair)\n",
      "Time cost 0.28 seconds\n",
      "Calculating highlight scores with min score 3 (Good)\n",
      "Time cost 0.24 seconds\n"
     ]
    },
    {
     "name": "stderr",
     "output_type": "stream",
     "text": [
      "2024-12-11 07:48:27.631:INFO:training.myTrain - metrics OrderedDict([   ('MR-full-R1@0.5', 11.74),\n",
      "                ('MR-full-R1@0.7', 4.06),\n",
      "                ('MR-full-mAP', 9.73),\n",
      "                ('MR-full-mAP@0.5', 23.03),\n",
      "                ('MR-full-mAP@0.75', 7.25),\n",
      "                ('HL-min-Fair-mAP', 44.59),\n",
      "                ('HL-min-Fair-Hit1', 37.81),\n",
      "                ('HL-min-Good-mAP', 38.24),\n",
      "                ('HL-min-Good-Hit1', 36.84),\n",
      "                ('HL-min-VeryGood-mAP', 23.72),\n",
      "                ('HL-min-VeryGood-Hit1', 31.16)])\n",
      "Epoch:   3%|▎         | 6/200 [07:19<1:39:52, 30.89s/it]2024-12-11 07:48:27.631:INFO:training.myTrain - [Epoch 7]\n"
     ]
    },
    {
     "name": "stdout",
     "output_type": "stream",
     "text": [
      "Calculating highlight scores with min score 4 (VeryGood)\n",
      "Time cost 0.23 seconds\n"
     ]
    },
    {
     "name": "stderr",
     "output_type": "stream",
     "text": [
      "Training Iteration: 100%|██████████| 226/226 [00:06<00:00, 36.08it/s]\n",
      "2024-12-11 07:48:33.949:INFO:training.myEvaluate - Generate submissions\n",
      "compute st ed scores: 100%|██████████| 16/16 [00:01<00:00, 12.11it/s]\n",
      "convert to multiples of clip_length=2: 100%|██████████| 1550/1550 [00:00<00:00, 43895.69it/s]\n",
      "2024-12-11 07:48:35.317:INFO:training.myEvaluate - Saving/Evaluating before nms results\n"
     ]
    },
    {
     "name": "stdout",
     "output_type": "stream",
     "text": [
      "full: [0, 1500], 1550/1550=100.00 examples.\n",
      "[eval_moment_retrieval] [full] 0.28 seconds\n",
      "Calculating highlight scores with min score 2 (Fair)\n",
      "Time cost 0.26 seconds\n",
      "Calculating highlight scores with min score 3 (Good)\n",
      "Time cost 0.28 seconds\n"
     ]
    },
    {
     "name": "stderr",
     "output_type": "stream",
     "text": [
      "2024-12-11 07:48:36.415:INFO:training.myTrain - metrics OrderedDict([   ('MR-full-R1@0.5', 14.0),\n",
      "                ('MR-full-R1@0.7', 5.48),\n",
      "                ('MR-full-mAP', 11.08),\n",
      "                ('MR-full-mAP@0.5', 26.2),\n",
      "                ('MR-full-mAP@0.75', 8.24),\n",
      "                ('HL-min-Fair-mAP', 45.29),\n",
      "                ('HL-min-Fair-Hit1', 38.0),\n",
      "                ('HL-min-Good-mAP', 38.8),\n",
      "                ('HL-min-Good-Hit1', 36.71),\n",
      "                ('HL-min-VeryGood-mAP', 23.94),\n",
      "                ('HL-min-VeryGood-Hit1', 30.77)])\n",
      "Epoch:   4%|▎         | 7/200 [07:28<1:16:06, 23.66s/it]2024-12-11 07:48:36.416:INFO:training.myTrain - [Epoch 8]\n"
     ]
    },
    {
     "name": "stdout",
     "output_type": "stream",
     "text": [
      "Calculating highlight scores with min score 4 (VeryGood)\n",
      "Time cost 0.23 seconds\n"
     ]
    },
    {
     "name": "stderr",
     "output_type": "stream",
     "text": [
      "Training Iteration: 100%|██████████| 226/226 [00:06<00:00, 34.85it/s]\n",
      "2024-12-11 07:48:42.973:INFO:training.myEvaluate - Generate submissions\n",
      "compute st ed scores: 100%|██████████| 16/16 [00:01<00:00, 13.42it/s]\n",
      "convert to multiples of clip_length=2: 100%|██████████| 1550/1550 [00:00<00:00, 45905.42it/s]\n",
      "2024-12-11 07:48:44.210:INFO:training.myEvaluate - Saving/Evaluating before nms results\n"
     ]
    },
    {
     "name": "stdout",
     "output_type": "stream",
     "text": [
      "full: [0, 1500], 1550/1550=100.00 examples.\n",
      "[eval_moment_retrieval] [full] 0.41 seconds\n",
      "Calculating highlight scores with min score 2 (Fair)\n",
      "Time cost 0.28 seconds\n",
      "Calculating highlight scores with min score 3 (Good)\n",
      "Time cost 0.28 seconds\n"
     ]
    },
    {
     "name": "stderr",
     "output_type": "stream",
     "text": [
      "2024-12-11 07:48:45.479:INFO:training.myTrain - metrics OrderedDict([   ('MR-full-R1@0.5', 14.19),\n",
      "                ('MR-full-R1@0.7', 5.87),\n",
      "                ('MR-full-mAP', 10.69),\n",
      "                ('MR-full-mAP@0.5', 25.27),\n",
      "                ('MR-full-mAP@0.75', 7.73),\n",
      "                ('HL-min-Fair-mAP', 45.62),\n",
      "                ('HL-min-Fair-Hit1', 38.65),\n",
      "                ('HL-min-Good-mAP', 39.05),\n",
      "                ('HL-min-Good-Hit1', 37.61),\n",
      "                ('HL-min-VeryGood-mAP', 24.21),\n",
      "                ('HL-min-VeryGood-Hit1', 31.42)])\n",
      "Epoch:   4%|▍         | 8/200 [07:37<1:00:50, 19.01s/it]2024-12-11 07:48:45.480:INFO:training.myTrain - [Epoch 9]\n"
     ]
    },
    {
     "name": "stdout",
     "output_type": "stream",
     "text": [
      "Calculating highlight scores with min score 4 (VeryGood)\n",
      "Time cost 0.26 seconds\n"
     ]
    },
    {
     "name": "stderr",
     "output_type": "stream",
     "text": [
      "Training Iteration: 100%|██████████| 226/226 [00:06<00:00, 36.10it/s]\n",
      "2024-12-11 07:48:51.813:INFO:training.myEvaluate - Generate submissions\n",
      "compute st ed scores: 100%|██████████| 16/16 [00:01<00:00, 12.31it/s]\n",
      "convert to multiples of clip_length=2: 100%|██████████| 1550/1550 [00:00<00:00, 40536.05it/s]\n",
      "2024-12-11 07:48:53.161:INFO:training.myEvaluate - Saving/Evaluating before nms results\n"
     ]
    },
    {
     "name": "stdout",
     "output_type": "stream",
     "text": [
      "full: [0, 1500], 1550/1550=100.00 examples.\n",
      "[eval_moment_retrieval] [full] 0.28 seconds\n",
      "Calculating highlight scores with min score 2 (Fair)\n",
      "Time cost 0.28 seconds\n",
      "Calculating highlight scores with min score 3 (Good)\n",
      "Time cost 0.28 seconds\n"
     ]
    },
    {
     "name": "stderr",
     "output_type": "stream",
     "text": [
      "2024-12-11 07:48:54.322:INFO:training.myTrain - metrics OrderedDict([   ('MR-full-R1@0.5', 13.81),\n",
      "                ('MR-full-R1@0.7', 5.94),\n",
      "                ('MR-full-mAP', 10.45),\n",
      "                ('MR-full-mAP@0.5', 24.08),\n",
      "                ('MR-full-mAP@0.75', 7.68),\n",
      "                ('HL-min-Fair-mAP', 46.15),\n",
      "                ('HL-min-Fair-Hit1', 40.06),\n",
      "                ('HL-min-Good-mAP', 39.63),\n",
      "                ('HL-min-Good-Hit1', 39.23),\n",
      "                ('HL-min-VeryGood-mAP', 24.61),\n",
      "                ('HL-min-VeryGood-Hit1', 33.81)])\n",
      "Epoch:   4%|▍         | 9/200 [07:46<50:24, 15.83s/it]  2024-12-11 07:48:54.324:INFO:training.myTrain - [Epoch 10]\n"
     ]
    },
    {
     "name": "stdout",
     "output_type": "stream",
     "text": [
      "Calculating highlight scores with min score 4 (VeryGood)\n",
      "Time cost 0.26 seconds\n"
     ]
    },
    {
     "name": "stderr",
     "output_type": "stream",
     "text": [
      "Training Iteration: 100%|██████████| 226/226 [00:06<00:00, 36.29it/s]\n",
      "2024-12-11 07:49:00.620:INFO:training.myEvaluate - Generate submissions\n",
      "compute st ed scores: 100%|██████████| 16/16 [00:01<00:00, 13.18it/s]\n",
      "convert to multiples of clip_length=2: 100%|██████████| 1550/1550 [00:00<00:00, 40780.92it/s]\n",
      "2024-12-11 07:49:01.883:INFO:training.myEvaluate - Saving/Evaluating before nms results\n"
     ]
    },
    {
     "name": "stdout",
     "output_type": "stream",
     "text": [
      "full: [0, 1500], 1550/1550=100.00 examples.\n",
      "[eval_moment_retrieval] [full] 0.35 seconds\n",
      "Calculating highlight scores with min score 2 (Fair)\n",
      "Time cost 0.26 seconds\n",
      "Calculating highlight scores with min score 3 (Good)\n",
      "Time cost 0.25 seconds\n"
     ]
    },
    {
     "name": "stderr",
     "output_type": "stream",
     "text": [
      "2024-12-11 07:49:03.015:INFO:training.myTrain - metrics OrderedDict([   ('MR-full-R1@0.5', 14.84),\n",
      "                ('MR-full-R1@0.7', 6.39),\n",
      "                ('MR-full-mAP', 11.91),\n",
      "                ('MR-full-mAP@0.5', 26.71),\n",
      "                ('MR-full-mAP@0.75', 9.34),\n",
      "                ('HL-min-Fair-mAP', 47.15),\n",
      "                ('HL-min-Fair-Hit1', 40.71),\n",
      "                ('HL-min-Good-mAP', 40.5),\n",
      "                ('HL-min-Good-Hit1', 39.94),\n",
      "                ('HL-min-VeryGood-mAP', 25.2),\n",
      "                ('HL-min-VeryGood-Hit1', 34.45)])\n",
      "2024-12-11 07:49:03.104:INFO:training.myTrain - The checkpoint file has been updated.\n",
      "Epoch:   5%|▌         | 10/200 [07:54<43:14, 13.66s/it]2024-12-11 07:49:03.105:INFO:training.myTrain - [Epoch 11]\n"
     ]
    },
    {
     "name": "stdout",
     "output_type": "stream",
     "text": [
      "Calculating highlight scores with min score 4 (VeryGood)\n",
      "Time cost 0.22 seconds\n"
     ]
    },
    {
     "name": "stderr",
     "output_type": "stream",
     "text": [
      "Training Iteration: 100%|██████████| 226/226 [00:06<00:00, 36.45it/s]\n",
      "2024-12-11 07:49:09.377:INFO:training.myEvaluate - Generate submissions\n",
      "compute st ed scores: 100%|██████████| 16/16 [00:01<00:00, 12.07it/s]\n",
      "convert to multiples of clip_length=2: 100%|██████████| 1550/1550 [00:00<00:00, 42335.26it/s]\n",
      "2024-12-11 07:49:10.750:INFO:training.myEvaluate - Saving/Evaluating before nms results\n"
     ]
    },
    {
     "name": "stdout",
     "output_type": "stream",
     "text": [
      "full: [0, 1500], 1550/1550=100.00 examples.\n",
      "[eval_moment_retrieval] [full] 0.27 seconds\n",
      "Calculating highlight scores with min score 2 (Fair)\n",
      "Time cost 0.28 seconds\n",
      "Calculating highlight scores with min score 3 (Good)\n",
      "Time cost 0.26 seconds\n"
     ]
    },
    {
     "name": "stderr",
     "output_type": "stream",
     "text": [
      "2024-12-11 07:49:11.831:INFO:training.myTrain - metrics OrderedDict([   ('MR-full-R1@0.5', 14.45),\n",
      "                ('MR-full-R1@0.7', 5.74),\n",
      "                ('MR-full-mAP', 11.53),\n",
      "                ('MR-full-mAP@0.5', 26.64),\n",
      "                ('MR-full-mAP@0.75', 8.86),\n",
      "                ('HL-min-Fair-mAP', 48.27),\n",
      "                ('HL-min-Fair-Hit1', 42.65),\n",
      "                ('HL-min-Good-mAP', 41.51),\n",
      "                ('HL-min-Good-Hit1', 41.87),\n",
      "                ('HL-min-VeryGood-mAP', 25.76),\n",
      "                ('HL-min-VeryGood-Hit1', 35.68)])\n",
      "Epoch:   6%|▌         | 11/200 [08:03<38:16, 12.15s/it]2024-12-11 07:49:11.832:INFO:training.myTrain - [Epoch 12]\n"
     ]
    },
    {
     "name": "stdout",
     "output_type": "stream",
     "text": [
      "Calculating highlight scores with min score 4 (VeryGood)\n",
      "Time cost 0.22 seconds\n"
     ]
    },
    {
     "name": "stderr",
     "output_type": "stream",
     "text": [
      "Training Iteration: 100%|██████████| 226/226 [00:06<00:00, 35.34it/s]\n",
      "2024-12-11 07:49:18.279:INFO:training.myEvaluate - Generate submissions\n",
      "compute st ed scores: 100%|██████████| 16/16 [00:01<00:00, 13.28it/s]\n",
      "convert to multiples of clip_length=2: 100%|██████████| 1550/1550 [00:00<00:00, 48882.82it/s]\n",
      "2024-12-11 07:49:19.526:INFO:training.myEvaluate - Saving/Evaluating before nms results\n"
     ]
    },
    {
     "name": "stdout",
     "output_type": "stream",
     "text": [
      "full: [0, 1500], 1550/1550=100.00 examples.\n",
      "[eval_moment_retrieval] [full] 0.38 seconds\n",
      "Calculating highlight scores with min score 2 (Fair)\n",
      "Time cost 0.27 seconds\n",
      "Calculating highlight scores with min score 3 (Good)\n",
      "Time cost 0.26 seconds\n"
     ]
    },
    {
     "name": "stderr",
     "output_type": "stream",
     "text": [
      "2024-12-11 07:49:20.724:INFO:training.myTrain - metrics OrderedDict([   ('MR-full-R1@0.5', 15.29),\n",
      "                ('MR-full-R1@0.7', 6.84),\n",
      "                ('MR-full-mAP', 11.89),\n",
      "                ('MR-full-mAP@0.5', 26.63),\n",
      "                ('MR-full-mAP@0.75', 9.54),\n",
      "                ('HL-min-Fair-mAP', 48.58),\n",
      "                ('HL-min-Fair-Hit1', 42.13),\n",
      "                ('HL-min-Good-mAP', 41.67),\n",
      "                ('HL-min-Good-Hit1', 41.42),\n",
      "                ('HL-min-VeryGood-mAP', 25.8),\n",
      "                ('HL-min-VeryGood-Hit1', 35.55)])\n",
      "Epoch:   6%|▌         | 12/200 [08:12<34:57, 11.16s/it]2024-12-11 07:49:20.724:INFO:training.myTrain - [Epoch 13]\n"
     ]
    },
    {
     "name": "stdout",
     "output_type": "stream",
     "text": [
      "Calculating highlight scores with min score 4 (VeryGood)\n",
      "Time cost 0.23 seconds\n"
     ]
    },
    {
     "name": "stderr",
     "output_type": "stream",
     "text": [
      "Training Iteration: 100%|██████████| 226/226 [00:06<00:00, 37.18it/s]\n",
      "2024-12-11 07:49:26.864:INFO:training.myEvaluate - Generate submissions\n",
      "compute st ed scores: 100%|██████████| 16/16 [00:01<00:00, 13.78it/s]\n",
      "convert to multiples of clip_length=2: 100%|██████████| 1550/1550 [00:00<00:00, 48202.17it/s]\n",
      "2024-12-11 07:49:28.067:INFO:training.myEvaluate - Saving/Evaluating before nms results\n"
     ]
    },
    {
     "name": "stdout",
     "output_type": "stream",
     "text": [
      "full: [0, 1500], 1550/1550=100.00 examples.\n",
      "[eval_moment_retrieval] [full] 0.38 seconds\n",
      "Calculating highlight scores with min score 2 (Fair)\n",
      "Time cost 0.25 seconds\n",
      "Calculating highlight scores with min score 3 (Good)\n",
      "Time cost 0.29 seconds\n"
     ]
    },
    {
     "name": "stderr",
     "output_type": "stream",
     "text": [
      "2024-12-11 07:49:29.252:INFO:training.myTrain - metrics OrderedDict([   ('MR-full-R1@0.5', 14.58),\n",
      "                ('MR-full-R1@0.7', 6.39),\n",
      "                ('MR-full-mAP', 10.96),\n",
      "                ('MR-full-mAP@0.5', 24.39),\n",
      "                ('MR-full-mAP@0.75', 8.24),\n",
      "                ('HL-min-Fair-mAP', 49.76),\n",
      "                ('HL-min-Fair-Hit1', 43.42),\n",
      "                ('HL-min-Good-mAP', 42.66),\n",
      "                ('HL-min-Good-Hit1', 42.45),\n",
      "                ('HL-min-VeryGood-mAP', 26.43),\n",
      "                ('HL-min-VeryGood-Hit1', 36.71)])\n",
      "Epoch:   6%|▋         | 13/200 [08:21<32:17, 10.36s/it]2024-12-11 07:49:29.253:INFO:training.myTrain - [Epoch 14]\n"
     ]
    },
    {
     "name": "stdout",
     "output_type": "stream",
     "text": [
      "Calculating highlight scores with min score 4 (VeryGood)\n",
      "Time cost 0.21 seconds\n"
     ]
    },
    {
     "name": "stderr",
     "output_type": "stream",
     "text": [
      "Training Iteration: 100%|██████████| 226/226 [00:06<00:00, 35.41it/s]\n",
      "2024-12-11 07:49:35.704:INFO:training.myEvaluate - Generate submissions\n",
      "compute st ed scores: 100%|██████████| 16/16 [00:01<00:00, 11.99it/s]\n",
      "convert to multiples of clip_length=2: 100%|██████████| 1550/1550 [00:00<00:00, 45006.07it/s]\n",
      "2024-12-11 07:49:37.084:INFO:training.myEvaluate - Saving/Evaluating before nms results\n"
     ]
    },
    {
     "name": "stdout",
     "output_type": "stream",
     "text": [
      "full: [0, 1500], 1550/1550=100.00 examples.\n",
      "[eval_moment_retrieval] [full] 0.30 seconds\n",
      "Calculating highlight scores with min score 2 (Fair)\n",
      "Time cost 0.28 seconds\n",
      "Calculating highlight scores with min score 3 (Good)\n",
      "Time cost 0.26 seconds\n"
     ]
    },
    {
     "name": "stderr",
     "output_type": "stream",
     "text": [
      "2024-12-11 07:49:38.191:INFO:training.myTrain - metrics OrderedDict([   ('MR-full-R1@0.5', 16.9),\n",
      "                ('MR-full-R1@0.7', 7.48),\n",
      "                ('MR-full-mAP', 13.67),\n",
      "                ('MR-full-mAP@0.5', 28.74),\n",
      "                ('MR-full-mAP@0.75', 10.79),\n",
      "                ('HL-min-Fair-mAP', 49.3),\n",
      "                ('HL-min-Fair-Hit1', 42.39),\n",
      "                ('HL-min-Good-mAP', 42.27),\n",
      "                ('HL-min-Good-Hit1', 41.55),\n",
      "                ('HL-min-VeryGood-mAP', 26.18),\n",
      "                ('HL-min-VeryGood-Hit1', 35.94)])\n",
      "2024-12-11 07:49:38.267:INFO:training.myTrain - The checkpoint file has been updated.\n",
      "Epoch:   7%|▋         | 14/200 [08:30<30:51,  9.95s/it]2024-12-11 07:49:38.268:INFO:training.myTrain - [Epoch 15]\n"
     ]
    },
    {
     "name": "stdout",
     "output_type": "stream",
     "text": [
      "Calculating highlight scores with min score 4 (VeryGood)\n",
      "Time cost 0.22 seconds\n"
     ]
    },
    {
     "name": "stderr",
     "output_type": "stream",
     "text": [
      "Training Iteration: 100%|██████████| 226/226 [00:06<00:00, 36.90it/s]\n",
      "2024-12-11 07:49:44.470:INFO:training.myEvaluate - Generate submissions\n",
      "compute st ed scores: 100%|██████████| 16/16 [00:01<00:00, 13.49it/s]\n",
      "convert to multiples of clip_length=2: 100%|██████████| 1550/1550 [00:00<00:00, 43514.62it/s]\n",
      "2024-12-11 07:49:45.701:INFO:training.myEvaluate - Saving/Evaluating before nms results\n"
     ]
    },
    {
     "name": "stdout",
     "output_type": "stream",
     "text": [
      "full: [0, 1500], 1550/1550=100.00 examples.\n",
      "[eval_moment_retrieval] [full] 0.39 seconds\n",
      "Calculating highlight scores with min score 2 (Fair)\n",
      "Time cost 0.28 seconds\n",
      "Calculating highlight scores with min score 3 (Good)\n",
      "Time cost 0.28 seconds\n"
     ]
    },
    {
     "name": "stderr",
     "output_type": "stream",
     "text": [
      "2024-12-11 07:49:46.940:INFO:training.myTrain - metrics OrderedDict([   ('MR-full-R1@0.5', 17.87),\n",
      "                ('MR-full-R1@0.7', 7.94),\n",
      "                ('MR-full-mAP', 13.36),\n",
      "                ('MR-full-mAP@0.5', 28.86),\n",
      "                ('MR-full-mAP@0.75', 10.67),\n",
      "                ('HL-min-Fair-mAP', 50.06),\n",
      "                ('HL-min-Fair-Hit1', 43.81),\n",
      "                ('HL-min-Good-mAP', 42.98),\n",
      "                ('HL-min-Good-Hit1', 43.29),\n",
      "                ('HL-min-VeryGood-mAP', 26.73),\n",
      "                ('HL-min-VeryGood-Hit1', 37.29)])\n",
      "Epoch:   8%|▊         | 15/200 [08:38<29:30,  9.57s/it]2024-12-11 07:49:46.941:INFO:training.myTrain - [Epoch 16]\n"
     ]
    },
    {
     "name": "stdout",
     "output_type": "stream",
     "text": [
      "Calculating highlight scores with min score 4 (VeryGood)\n",
      "Time cost 0.24 seconds\n"
     ]
    },
    {
     "name": "stderr",
     "output_type": "stream",
     "text": [
      "Training Iteration: 100%|██████████| 226/226 [00:06<00:00, 36.73it/s]\n",
      "2024-12-11 07:49:53.170:INFO:training.myEvaluate - Generate submissions\n",
      "compute st ed scores: 100%|██████████| 16/16 [00:01<00:00, 12.05it/s]\n",
      "convert to multiples of clip_length=2: 100%|██████████| 1550/1550 [00:00<00:00, 46916.49it/s]\n",
      "2024-12-11 07:49:54.541:INFO:training.myEvaluate - Saving/Evaluating before nms results\n"
     ]
    },
    {
     "name": "stdout",
     "output_type": "stream",
     "text": [
      "full: [0, 1500], 1550/1550=100.00 examples.\n",
      "[eval_moment_retrieval] [full] 0.28 seconds\n",
      "Calculating highlight scores with min score 2 (Fair)\n",
      "Time cost 0.26 seconds\n",
      "Calculating highlight scores with min score 3 (Good)\n",
      "Time cost 0.25 seconds\n"
     ]
    },
    {
     "name": "stderr",
     "output_type": "stream",
     "text": [
      "2024-12-11 07:49:55.619:INFO:training.myTrain - metrics OrderedDict([   ('MR-full-R1@0.5', 23.35),\n",
      "                ('MR-full-R1@0.7', 11.42),\n",
      "                ('MR-full-mAP', 15.26),\n",
      "                ('MR-full-mAP@0.5', 32.95),\n",
      "                ('MR-full-mAP@0.75', 11.98),\n",
      "                ('HL-min-Fair-mAP', 51.97),\n",
      "                ('HL-min-Fair-Hit1', 46.39),\n",
      "                ('HL-min-Good-mAP', 44.53),\n",
      "                ('HL-min-Good-Hit1', 45.55),\n",
      "                ('HL-min-VeryGood-mAP', 27.52),\n",
      "                ('HL-min-VeryGood-Hit1', 39.61)])\n",
      "2024-12-11 07:49:55.704:INFO:training.myTrain - The checkpoint file has been updated.\n",
      "Epoch:   8%|▊         | 16/200 [08:47<28:36,  9.33s/it]2024-12-11 07:49:55.705:INFO:training.myTrain - [Epoch 17]\n"
     ]
    },
    {
     "name": "stdout",
     "output_type": "stream",
     "text": [
      "Calculating highlight scores with min score 4 (VeryGood)\n",
      "Time cost 0.23 seconds\n"
     ]
    },
    {
     "name": "stderr",
     "output_type": "stream",
     "text": [
      "Training Iteration: 100%|██████████| 226/226 [00:06<00:00, 35.41it/s]\n",
      "2024-12-11 07:50:02.160:INFO:training.myEvaluate - Generate submissions\n",
      "compute st ed scores: 100%|██████████| 16/16 [00:01<00:00, 13.38it/s]\n",
      "convert to multiples of clip_length=2: 100%|██████████| 1550/1550 [00:00<00:00, 41522.99it/s]\n",
      "2024-12-11 07:50:03.404:INFO:training.myEvaluate - Saving/Evaluating before nms results\n"
     ]
    },
    {
     "name": "stdout",
     "output_type": "stream",
     "text": [
      "full: [0, 1500], 1550/1550=100.00 examples.\n",
      "[eval_moment_retrieval] [full] 0.36 seconds\n",
      "Calculating highlight scores with min score 2 (Fair)\n",
      "Time cost 0.24 seconds\n",
      "Calculating highlight scores with min score 3 (Good)\n",
      "Time cost 0.25 seconds\n"
     ]
    },
    {
     "name": "stderr",
     "output_type": "stream",
     "text": [
      "2024-12-11 07:50:04.538:INFO:training.myTrain - metrics OrderedDict([   ('MR-full-R1@0.5', 24.97),\n",
      "                ('MR-full-R1@0.7', 10.58),\n",
      "                ('MR-full-mAP', 15.77),\n",
      "                ('MR-full-mAP@0.5', 35.54),\n",
      "                ('MR-full-mAP@0.75', 11.94),\n",
      "                ('HL-min-Fair-mAP', 52.19),\n",
      "                ('HL-min-Fair-Hit1', 46.06),\n",
      "                ('HL-min-Good-mAP', 44.82),\n",
      "                ('HL-min-Good-Hit1', 45.29),\n",
      "                ('HL-min-VeryGood-mAP', 27.6),\n",
      "                ('HL-min-VeryGood-Hit1', 39.03)])\n",
      "2024-12-11 07:50:04.637:INFO:training.myTrain - The checkpoint file has been updated.\n",
      "Epoch:   8%|▊         | 17/200 [08:56<28:05,  9.21s/it]2024-12-11 07:50:04.639:INFO:training.myTrain - [Epoch 18]\n"
     ]
    },
    {
     "name": "stdout",
     "output_type": "stream",
     "text": [
      "Calculating highlight scores with min score 4 (VeryGood)\n",
      "Time cost 0.23 seconds\n"
     ]
    },
    {
     "name": "stderr",
     "output_type": "stream",
     "text": [
      "Training Iteration: 100%|██████████| 226/226 [00:06<00:00, 36.14it/s]\n",
      "2024-12-11 07:50:10.968:INFO:training.myEvaluate - Generate submissions\n",
      "compute st ed scores: 100%|██████████| 16/16 [00:01<00:00, 12.17it/s]\n",
      "convert to multiples of clip_length=2: 100%|██████████| 1550/1550 [00:00<00:00, 42739.93it/s]\n",
      "2024-12-11 07:50:12.329:INFO:training.myEvaluate - Saving/Evaluating before nms results\n"
     ]
    },
    {
     "name": "stdout",
     "output_type": "stream",
     "text": [
      "full: [0, 1500], 1550/1550=100.00 examples.\n",
      "[eval_moment_retrieval] [full] 0.28 seconds\n",
      "Calculating highlight scores with min score 2 (Fair)\n",
      "Time cost 0.26 seconds\n",
      "Calculating highlight scores with min score 3 (Good)\n",
      "Time cost 0.26 seconds\n"
     ]
    },
    {
     "name": "stderr",
     "output_type": "stream",
     "text": [
      "2024-12-11 07:50:13.436:INFO:training.myTrain - metrics OrderedDict([   ('MR-full-R1@0.5', 27.55),\n",
      "                ('MR-full-R1@0.7', 12.97),\n",
      "                ('MR-full-mAP', 17.16),\n",
      "                ('MR-full-mAP@0.5', 36.36),\n",
      "                ('MR-full-mAP@0.75', 13.95),\n",
      "                ('HL-min-Fair-mAP', 54.48),\n",
      "                ('HL-min-Fair-Hit1', 50.26),\n",
      "                ('HL-min-Good-mAP', 46.64),\n",
      "                ('HL-min-Good-Hit1', 49.16),\n",
      "                ('HL-min-VeryGood-mAP', 28.85),\n",
      "                ('HL-min-VeryGood-Hit1', 42.19)])\n",
      "2024-12-11 07:50:13.523:INFO:training.myTrain - The checkpoint file has been updated.\n",
      "Epoch:   9%|▉         | 18/200 [09:05<27:38,  9.11s/it]2024-12-11 07:50:13.525:INFO:training.myTrain - [Epoch 19]\n"
     ]
    },
    {
     "name": "stdout",
     "output_type": "stream",
     "text": [
      "Calculating highlight scores with min score 4 (VeryGood)\n",
      "Time cost 0.25 seconds\n"
     ]
    },
    {
     "name": "stderr",
     "output_type": "stream",
     "text": [
      "Training Iteration: 100%|██████████| 226/226 [00:06<00:00, 35.67it/s]\n",
      "2024-12-11 07:50:19.940:INFO:training.myEvaluate - Generate submissions\n",
      "compute st ed scores: 100%|██████████| 16/16 [00:01<00:00, 13.38it/s]\n",
      "convert to multiples of clip_length=2: 100%|██████████| 1550/1550 [00:00<00:00, 39482.87it/s]\n",
      "2024-12-11 07:50:21.186:INFO:training.myEvaluate - Saving/Evaluating before nms results\n"
     ]
    },
    {
     "name": "stdout",
     "output_type": "stream",
     "text": [
      "full: [0, 1500], 1550/1550=100.00 examples.\n",
      "[eval_moment_retrieval] [full] 0.34 seconds\n",
      "Calculating highlight scores with min score 2 (Fair)\n",
      "Time cost 0.26 seconds\n",
      "Calculating highlight scores with min score 3 (Good)\n",
      "Time cost 0.24 seconds\n"
     ]
    },
    {
     "name": "stderr",
     "output_type": "stream",
     "text": [
      "2024-12-11 07:50:22.321:INFO:training.myTrain - metrics OrderedDict([   ('MR-full-R1@0.5', 30.26),\n",
      "                ('MR-full-R1@0.7', 13.81),\n",
      "                ('MR-full-mAP', 17.83),\n",
      "                ('MR-full-mAP@0.5', 38.74),\n",
      "                ('MR-full-mAP@0.75', 14.18),\n",
      "                ('HL-min-Fair-mAP', 55.82),\n",
      "                ('HL-min-Fair-Hit1', 51.48),\n",
      "                ('HL-min-Good-mAP', 47.68),\n",
      "                ('HL-min-Good-Hit1', 50.26),\n",
      "                ('HL-min-VeryGood-mAP', 29.32),\n",
      "                ('HL-min-VeryGood-Hit1', 42.97)])\n",
      "2024-12-11 07:50:22.407:INFO:training.myTrain - The checkpoint file has been updated.\n",
      "Epoch:  10%|▉         | 19/200 [09:14<27:16,  9.04s/it]2024-12-11 07:50:22.408:INFO:training.myTrain - [Epoch 20]\n"
     ]
    },
    {
     "name": "stdout",
     "output_type": "stream",
     "text": [
      "Calculating highlight scores with min score 4 (VeryGood)\n",
      "Time cost 0.24 seconds\n"
     ]
    },
    {
     "name": "stderr",
     "output_type": "stream",
     "text": [
      "Training Iteration: 100%|██████████| 226/226 [00:06<00:00, 36.69it/s]\n",
      "2024-12-11 07:50:28.643:INFO:training.myEvaluate - Generate submissions\n",
      "compute st ed scores: 100%|██████████| 16/16 [00:01<00:00, 12.38it/s]\n",
      "convert to multiples of clip_length=2: 100%|██████████| 1550/1550 [00:00<00:00, 40878.36it/s]\n",
      "2024-12-11 07:50:29.983:INFO:training.myEvaluate - Saving/Evaluating before nms results\n"
     ]
    },
    {
     "name": "stdout",
     "output_type": "stream",
     "text": [
      "full: [0, 1500], 1550/1550=100.00 examples.\n",
      "[eval_moment_retrieval] [full] 0.28 seconds\n",
      "Calculating highlight scores with min score 2 (Fair)\n",
      "Time cost 0.27 seconds\n",
      "Calculating highlight scores with min score 3 (Good)\n",
      "Time cost 0.25 seconds\n"
     ]
    },
    {
     "name": "stderr",
     "output_type": "stream",
     "text": [
      "2024-12-11 07:50:31.055:INFO:training.myTrain - metrics OrderedDict([   ('MR-full-R1@0.5', 32.32),\n",
      "                ('MR-full-R1@0.7', 15.68),\n",
      "                ('MR-full-mAP', 19.51),\n",
      "                ('MR-full-mAP@0.5', 40.83),\n",
      "                ('MR-full-mAP@0.75', 15.97),\n",
      "                ('HL-min-Fair-mAP', 56.3),\n",
      "                ('HL-min-Fair-Hit1', 51.61),\n",
      "                ('HL-min-Good-mAP', 47.99),\n",
      "                ('HL-min-Good-Hit1', 50.52),\n",
      "                ('HL-min-VeryGood-mAP', 29.65),\n",
      "                ('HL-min-VeryGood-Hit1', 43.16)])\n",
      "2024-12-11 07:50:31.143:INFO:training.myTrain - The checkpoint file has been updated.\n",
      "Epoch:  10%|█         | 20/200 [09:22<26:51,  8.95s/it]2024-12-11 07:50:31.144:INFO:training.myTrain - [Epoch 21]\n"
     ]
    },
    {
     "name": "stdout",
     "output_type": "stream",
     "text": [
      "Calculating highlight scores with min score 4 (VeryGood)\n",
      "Time cost 0.21 seconds\n"
     ]
    },
    {
     "name": "stderr",
     "output_type": "stream",
     "text": [
      "Training Iteration: 100%|██████████| 226/226 [00:06<00:00, 35.40it/s]\n",
      "2024-12-11 07:50:37.609:INFO:training.myEvaluate - Generate submissions\n",
      "compute st ed scores: 100%|██████████| 16/16 [00:01<00:00, 13.48it/s]\n",
      "convert to multiples of clip_length=2: 100%|██████████| 1550/1550 [00:00<00:00, 42874.95it/s]\n",
      "2024-12-11 07:50:38.842:INFO:training.myEvaluate - Saving/Evaluating before nms results\n"
     ]
    },
    {
     "name": "stdout",
     "output_type": "stream",
     "text": [
      "full: [0, 1500], 1550/1550=100.00 examples.\n",
      "[eval_moment_retrieval] [full] 0.35 seconds\n",
      "Calculating highlight scores with min score 2 (Fair)\n",
      "Time cost 0.24 seconds\n",
      "Calculating highlight scores with min score 3 (Good)\n",
      "Time cost 0.27 seconds\n"
     ]
    },
    {
     "name": "stderr",
     "output_type": "stream",
     "text": [
      "2024-12-11 07:50:39.977:INFO:training.myTrain - metrics OrderedDict([   ('MR-full-R1@0.5', 29.94),\n",
      "                ('MR-full-R1@0.7', 13.48),\n",
      "                ('MR-full-mAP', 17.56),\n",
      "                ('MR-full-mAP@0.5', 38.56),\n",
      "                ('MR-full-mAP@0.75', 13.85),\n",
      "                ('HL-min-Fair-mAP', 55.85),\n",
      "                ('HL-min-Fair-Hit1', 51.87),\n",
      "                ('HL-min-Good-mAP', 47.72),\n",
      "                ('HL-min-Good-Hit1', 50.77),\n",
      "                ('HL-min-VeryGood-mAP', 29.47),\n",
      "                ('HL-min-VeryGood-Hit1', 43.55)])\n",
      "Epoch:  10%|█         | 21/200 [09:31<26:35,  8.92s/it]2024-12-11 07:50:39.978:INFO:training.myTrain - [Epoch 22]\n"
     ]
    },
    {
     "name": "stdout",
     "output_type": "stream",
     "text": [
      "Calculating highlight scores with min score 4 (VeryGood)\n",
      "Time cost 0.22 seconds\n"
     ]
    },
    {
     "name": "stderr",
     "output_type": "stream",
     "text": [
      "Training Iteration: 100%|██████████| 226/226 [00:06<00:00, 36.49it/s]\n",
      "2024-12-11 07:50:46.226:INFO:training.myEvaluate - Generate submissions\n",
      "compute st ed scores: 100%|██████████| 16/16 [00:01<00:00, 13.33it/s]\n",
      "convert to multiples of clip_length=2: 100%|██████████| 1550/1550 [00:00<00:00, 40273.88it/s]\n",
      "2024-12-11 07:50:47.475:INFO:training.myEvaluate - Saving/Evaluating before nms results\n"
     ]
    },
    {
     "name": "stdout",
     "output_type": "stream",
     "text": [
      "full: [0, 1500], 1550/1550=100.00 examples.\n",
      "[eval_moment_retrieval] [full] 0.36 seconds\n",
      "Calculating highlight scores with min score 2 (Fair)\n",
      "Time cost 0.29 seconds\n",
      "Calculating highlight scores with min score 3 (Good)\n",
      "Time cost 0.28 seconds\n"
     ]
    },
    {
     "name": "stderr",
     "output_type": "stream",
     "text": [
      "2024-12-11 07:50:48.708:INFO:training.myTrain - metrics OrderedDict([   ('MR-full-R1@0.5', 36.13),\n",
      "                ('MR-full-R1@0.7', 18.19),\n",
      "                ('MR-full-mAP', 21.56),\n",
      "                ('MR-full-mAP@0.5', 44.08),\n",
      "                ('MR-full-mAP@0.75', 17.96),\n",
      "                ('HL-min-Fair-mAP', 58.55),\n",
      "                ('HL-min-Fair-Hit1', 54.9),\n",
      "                ('HL-min-Good-mAP', 49.87),\n",
      "                ('HL-min-Good-Hit1', 53.16),\n",
      "                ('HL-min-VeryGood-mAP', 30.82),\n",
      "                ('HL-min-VeryGood-Hit1', 45.55)])\n",
      "2024-12-11 07:50:48.793:INFO:training.myTrain - The checkpoint file has been updated.\n",
      "Epoch:  11%|█         | 22/200 [09:40<26:21,  8.89s/it]2024-12-11 07:50:48.794:INFO:training.myTrain - [Epoch 23]\n"
     ]
    },
    {
     "name": "stdout",
     "output_type": "stream",
     "text": [
      "Calculating highlight scores with min score 4 (VeryGood)\n",
      "Time cost 0.24 seconds\n"
     ]
    },
    {
     "name": "stderr",
     "output_type": "stream",
     "text": [
      "Training Iteration: 100%|██████████| 226/226 [00:06<00:00, 35.45it/s]\n",
      "2024-12-11 07:50:55.240:INFO:training.myEvaluate - Generate submissions\n",
      "compute st ed scores: 100%|██████████| 16/16 [00:01<00:00, 12.10it/s]\n",
      "convert to multiples of clip_length=2: 100%|██████████| 1550/1550 [00:00<00:00, 43909.62it/s]\n",
      "2024-12-11 07:50:56.607:INFO:training.myEvaluate - Saving/Evaluating before nms results\n"
     ]
    },
    {
     "name": "stdout",
     "output_type": "stream",
     "text": [
      "full: [0, 1500], 1550/1550=100.00 examples.\n",
      "[eval_moment_retrieval] [full] 0.28 seconds\n",
      "Calculating highlight scores with min score 2 (Fair)\n",
      "Time cost 0.27 seconds\n",
      "Calculating highlight scores with min score 3 (Good)\n",
      "Time cost 0.26 seconds\n"
     ]
    },
    {
     "name": "stderr",
     "output_type": "stream",
     "text": [
      "2024-12-11 07:50:57.697:INFO:training.myTrain - metrics OrderedDict([   ('MR-full-R1@0.5', 39.87),\n",
      "                ('MR-full-R1@0.7', 21.61),\n",
      "                ('MR-full-mAP', 23.18),\n",
      "                ('MR-full-mAP@0.5', 46.68),\n",
      "                ('MR-full-mAP@0.75', 20.15),\n",
      "                ('HL-min-Fair-mAP', 60.18),\n",
      "                ('HL-min-Fair-Hit1', 56.84),\n",
      "                ('HL-min-Good-mAP', 51.31),\n",
      "                ('HL-min-Good-Hit1', 54.97),\n",
      "                ('HL-min-VeryGood-mAP', 31.75),\n",
      "                ('HL-min-VeryGood-Hit1', 47.29)])\n",
      "2024-12-11 07:50:57.785:INFO:training.myTrain - The checkpoint file has been updated.\n",
      "Epoch:  12%|█▏        | 23/200 [09:49<26:18,  8.92s/it]2024-12-11 07:50:57.786:INFO:training.myTrain - [Epoch 24]\n"
     ]
    },
    {
     "name": "stdout",
     "output_type": "stream",
     "text": [
      "Calculating highlight scores with min score 4 (VeryGood)\n",
      "Time cost 0.23 seconds\n"
     ]
    },
    {
     "name": "stderr",
     "output_type": "stream",
     "text": [
      "Training Iteration: 100%|██████████| 226/226 [00:06<00:00, 35.51it/s]\n",
      "2024-12-11 07:51:04.221:INFO:training.myEvaluate - Generate submissions\n",
      "compute st ed scores: 100%|██████████| 16/16 [00:01<00:00, 13.70it/s]\n",
      "convert to multiples of clip_length=2: 100%|██████████| 1550/1550 [00:00<00:00, 42684.37it/s]\n",
      "2024-12-11 07:51:05.435:INFO:training.myEvaluate - Saving/Evaluating before nms results\n"
     ]
    },
    {
     "name": "stdout",
     "output_type": "stream",
     "text": [
      "full: [0, 1500], 1550/1550=100.00 examples.\n",
      "[eval_moment_retrieval] [full] 0.38 seconds\n",
      "Calculating highlight scores with min score 2 (Fair)\n",
      "Time cost 0.27 seconds\n",
      "Calculating highlight scores with min score 3 (Good)\n",
      "Time cost 0.28 seconds\n"
     ]
    },
    {
     "name": "stderr",
     "output_type": "stream",
     "text": [
      "2024-12-11 07:51:06.673:INFO:training.myTrain - metrics OrderedDict([   ('MR-full-R1@0.5', 39.55),\n",
      "                ('MR-full-R1@0.7', 18.97),\n",
      "                ('MR-full-mAP', 22.69),\n",
      "                ('MR-full-mAP@0.5', 46.69),\n",
      "                ('MR-full-mAP@0.75', 19.33),\n",
      "                ('HL-min-Fair-mAP', 60.48),\n",
      "                ('HL-min-Fair-Hit1', 57.1),\n",
      "                ('HL-min-Good-mAP', 51.69),\n",
      "                ('HL-min-Good-Hit1', 55.81),\n",
      "                ('HL-min-VeryGood-mAP', 32.06),\n",
      "                ('HL-min-VeryGood-Hit1', 48.19)])\n",
      "Epoch:  12%|█▏        | 24/200 [09:58<26:07,  8.91s/it]2024-12-11 07:51:06.674:INFO:training.myTrain - [Epoch 25]\n"
     ]
    },
    {
     "name": "stdout",
     "output_type": "stream",
     "text": [
      "Calculating highlight scores with min score 4 (VeryGood)\n",
      "Time cost 0.24 seconds\n"
     ]
    },
    {
     "name": "stderr",
     "output_type": "stream",
     "text": [
      "Training Iteration: 100%|██████████| 226/226 [00:06<00:00, 35.59it/s]\n",
      "2024-12-11 07:51:13.094:INFO:training.myEvaluate - Generate submissions\n",
      "compute st ed scores: 100%|██████████| 16/16 [00:01<00:00, 12.58it/s]\n",
      "convert to multiples of clip_length=2: 100%|██████████| 1550/1550 [00:00<00:00, 40236.99it/s]\n",
      "2024-12-11 07:51:14.414:INFO:training.myEvaluate - Saving/Evaluating before nms results\n"
     ]
    },
    {
     "name": "stdout",
     "output_type": "stream",
     "text": [
      "full: [0, 1500], 1550/1550=100.00 examples.\n",
      "[eval_moment_retrieval] [full] 0.26 seconds\n",
      "Calculating highlight scores with min score 2 (Fair)\n",
      "Time cost 0.24 seconds\n",
      "Calculating highlight scores with min score 3 (Good)\n",
      "Time cost 0.25 seconds\n"
     ]
    },
    {
     "name": "stderr",
     "output_type": "stream",
     "text": [
      "2024-12-11 07:51:15.487:INFO:training.myTrain - metrics OrderedDict([   ('MR-full-R1@0.5', 41.29),\n",
      "                ('MR-full-R1@0.7', 22.0),\n",
      "                ('MR-full-mAP', 24.4),\n",
      "                ('MR-full-mAP@0.5', 47.46),\n",
      "                ('MR-full-mAP@0.75', 21.57),\n",
      "                ('HL-min-Fair-mAP', 61.87),\n",
      "                ('HL-min-Fair-Hit1', 60.39),\n",
      "                ('HL-min-Good-mAP', 53.03),\n",
      "                ('HL-min-Good-Hit1', 58.97),\n",
      "                ('HL-min-VeryGood-mAP', 32.93),\n",
      "                ('HL-min-VeryGood-Hit1', 50.71)])\n",
      "2024-12-11 07:51:15.574:INFO:training.myTrain - The checkpoint file has been updated.\n",
      "Epoch:  12%|█▎        | 25/200 [10:07<25:58,  8.91s/it]2024-12-11 07:51:15.576:INFO:training.myTrain - [Epoch 26]\n"
     ]
    },
    {
     "name": "stdout",
     "output_type": "stream",
     "text": [
      "Calculating highlight scores with min score 4 (VeryGood)\n",
      "Time cost 0.26 seconds\n"
     ]
    },
    {
     "name": "stderr",
     "output_type": "stream",
     "text": [
      "Training Iteration: 100%|██████████| 226/226 [00:06<00:00, 35.53it/s]\n",
      "2024-12-11 07:51:22.016:INFO:training.myEvaluate - Generate submissions\n",
      "compute st ed scores: 100%|██████████| 16/16 [00:01<00:00, 13.56it/s]\n",
      "convert to multiples of clip_length=2: 100%|██████████| 1550/1550 [00:00<00:00, 43224.44it/s]\n",
      "2024-12-11 07:51:23.242:INFO:training.myEvaluate - Saving/Evaluating before nms results\n"
     ]
    },
    {
     "name": "stdout",
     "output_type": "stream",
     "text": [
      "full: [0, 1500], 1550/1550=100.00 examples.\n",
      "[eval_moment_retrieval] [full] 0.36 seconds\n",
      "Calculating highlight scores with min score 2 (Fair)\n",
      "Time cost 0.27 seconds\n",
      "Calculating highlight scores with min score 3 (Good)\n",
      "Time cost 0.26 seconds\n"
     ]
    },
    {
     "name": "stderr",
     "output_type": "stream",
     "text": [
      "2024-12-11 07:51:24.414:INFO:training.myTrain - metrics OrderedDict([   ('MR-full-R1@0.5', 42.26),\n",
      "                ('MR-full-R1@0.7', 21.74),\n",
      "                ('MR-full-mAP', 23.91),\n",
      "                ('MR-full-mAP@0.5', 47.83),\n",
      "                ('MR-full-mAP@0.75', 20.54),\n",
      "                ('HL-min-Fair-mAP', 60.72),\n",
      "                ('HL-min-Fair-Hit1', 58.45),\n",
      "                ('HL-min-Good-mAP', 52.05),\n",
      "                ('HL-min-Good-Hit1', 57.23),\n",
      "                ('HL-min-VeryGood-mAP', 32.22),\n",
      "                ('HL-min-VeryGood-Hit1', 49.03)])\n",
      "Epoch:  13%|█▎        | 26/200 [10:16<25:46,  8.89s/it]2024-12-11 07:51:24.414:INFO:training.myTrain - [Epoch 27]\n"
     ]
    },
    {
     "name": "stdout",
     "output_type": "stream",
     "text": [
      "Calculating highlight scores with min score 4 (VeryGood)\n",
      "Time cost 0.22 seconds\n"
     ]
    },
    {
     "name": "stderr",
     "output_type": "stream",
     "text": [
      "Training Iteration: 100%|██████████| 226/226 [00:06<00:00, 36.39it/s]\n",
      "2024-12-11 07:51:30.690:INFO:training.myEvaluate - Generate submissions\n",
      "compute st ed scores: 100%|██████████| 16/16 [00:01<00:00, 11.91it/s]\n",
      "convert to multiples of clip_length=2: 100%|██████████| 1550/1550 [00:00<00:00, 42770.30it/s]\n",
      "2024-12-11 07:51:32.081:INFO:training.myEvaluate - Saving/Evaluating before nms results\n"
     ]
    },
    {
     "name": "stdout",
     "output_type": "stream",
     "text": [
      "full: [0, 1500], 1550/1550=100.00 examples.\n",
      "[eval_moment_retrieval] [full] 0.29 seconds\n",
      "Calculating highlight scores with min score 2 (Fair)\n",
      "Time cost 0.27 seconds\n",
      "Calculating highlight scores with min score 3 (Good)\n",
      "Time cost 0.26 seconds\n"
     ]
    },
    {
     "name": "stderr",
     "output_type": "stream",
     "text": [
      "2024-12-11 07:51:33.192:INFO:training.myTrain - metrics OrderedDict([   ('MR-full-R1@0.5', 42.77),\n",
      "                ('MR-full-R1@0.7', 24.9),\n",
      "                ('MR-full-mAP', 25.26),\n",
      "                ('MR-full-mAP@0.5', 47.75),\n",
      "                ('MR-full-mAP@0.75', 22.39),\n",
      "                ('HL-min-Fair-mAP', 61.71),\n",
      "                ('HL-min-Fair-Hit1', 59.74),\n",
      "                ('HL-min-Good-mAP', 52.96),\n",
      "                ('HL-min-Good-Hit1', 58.32),\n",
      "                ('HL-min-VeryGood-mAP', 32.92),\n",
      "                ('HL-min-VeryGood-Hit1', 50.77)])\n",
      "2024-12-11 07:51:33.280:INFO:training.myTrain - The checkpoint file has been updated.\n",
      "Epoch:  14%|█▎        | 27/200 [10:25<25:36,  8.88s/it]2024-12-11 07:51:33.282:INFO:training.myTrain - [Epoch 28]\n"
     ]
    },
    {
     "name": "stdout",
     "output_type": "stream",
     "text": [
      "Calculating highlight scores with min score 4 (VeryGood)\n",
      "Time cost 0.23 seconds\n"
     ]
    },
    {
     "name": "stderr",
     "output_type": "stream",
     "text": [
      "Training Iteration: 100%|██████████| 226/226 [00:06<00:00, 34.94it/s]\n",
      "2024-12-11 07:51:39.824:INFO:training.myEvaluate - Generate submissions\n",
      "compute st ed scores: 100%|██████████| 16/16 [00:01<00:00, 13.44it/s]\n",
      "convert to multiples of clip_length=2: 100%|██████████| 1550/1550 [00:00<00:00, 46404.79it/s]\n",
      "2024-12-11 07:51:41.058:INFO:training.myEvaluate - Saving/Evaluating before nms results\n"
     ]
    },
    {
     "name": "stdout",
     "output_type": "stream",
     "text": [
      "full: [0, 1500], 1550/1550=100.00 examples.\n",
      "[eval_moment_retrieval] [full] 0.40 seconds\n",
      "Calculating highlight scores with min score 2 (Fair)\n",
      "Time cost 0.26 seconds\n",
      "Calculating highlight scores with min score 3 (Good)\n",
      "Time cost 0.26 seconds\n"
     ]
    },
    {
     "name": "stderr",
     "output_type": "stream",
     "text": [
      "2024-12-11 07:51:42.273:INFO:training.myTrain - metrics OrderedDict([   ('MR-full-R1@0.5', 43.29),\n",
      "                ('MR-full-R1@0.7', 24.71),\n",
      "                ('MR-full-mAP', 24.78),\n",
      "                ('MR-full-mAP@0.5', 47.83),\n",
      "                ('MR-full-mAP@0.75', 21.83),\n",
      "                ('HL-min-Fair-mAP', 62.97),\n",
      "                ('HL-min-Fair-Hit1', 61.03),\n",
      "                ('HL-min-Good-mAP', 54.05),\n",
      "                ('HL-min-Good-Hit1', 59.94),\n",
      "                ('HL-min-VeryGood-mAP', 33.58),\n",
      "                ('HL-min-VeryGood-Hit1', 51.35)])\n",
      "Epoch:  14%|█▍        | 28/200 [10:34<25:33,  8.91s/it]2024-12-11 07:51:42.274:INFO:training.myTrain - [Epoch 29]\n"
     ]
    },
    {
     "name": "stdout",
     "output_type": "stream",
     "text": [
      "Calculating highlight scores with min score 4 (VeryGood)\n",
      "Time cost 0.24 seconds\n"
     ]
    },
    {
     "name": "stderr",
     "output_type": "stream",
     "text": [
      "Training Iteration: 100%|██████████| 226/226 [00:06<00:00, 37.02it/s]\n",
      "2024-12-11 07:51:48.452:INFO:training.myEvaluate - Generate submissions\n",
      "compute st ed scores: 100%|██████████| 16/16 [00:01<00:00, 13.95it/s]\n",
      "convert to multiples of clip_length=2: 100%|██████████| 1550/1550 [00:00<00:00, 48093.06it/s]\n",
      "2024-12-11 07:51:49.641:INFO:training.myEvaluate - Saving/Evaluating before nms results\n"
     ]
    },
    {
     "name": "stdout",
     "output_type": "stream",
     "text": [
      "full: [0, 1500], 1550/1550=100.00 examples.\n",
      "[eval_moment_retrieval] [full] 0.41 seconds\n",
      "Calculating highlight scores with min score 2 (Fair)\n",
      "Time cost 0.28 seconds\n",
      "Calculating highlight scores with min score 3 (Good)\n",
      "Time cost 0.27 seconds\n"
     ]
    },
    {
     "name": "stderr",
     "output_type": "stream",
     "text": [
      "2024-12-11 07:51:50.886:INFO:training.myTrain - metrics OrderedDict([   ('MR-full-R1@0.5', 41.94),\n",
      "                ('MR-full-R1@0.7', 23.03),\n",
      "                ('MR-full-mAP', 24.09),\n",
      "                ('MR-full-mAP@0.5', 46.82),\n",
      "                ('MR-full-mAP@0.75', 21.75),\n",
      "                ('HL-min-Fair-mAP', 63.45),\n",
      "                ('HL-min-Fair-Hit1', 61.48),\n",
      "                ('HL-min-Good-mAP', 54.25),\n",
      "                ('HL-min-Good-Hit1', 59.94),\n",
      "                ('HL-min-VeryGood-mAP', 33.64),\n",
      "                ('HL-min-VeryGood-Hit1', 51.48)])\n",
      "Epoch:  14%|█▍        | 29/200 [10:42<25:08,  8.82s/it]2024-12-11 07:51:50.887:INFO:training.myTrain - [Epoch 30]\n"
     ]
    },
    {
     "name": "stdout",
     "output_type": "stream",
     "text": [
      "Calculating highlight scores with min score 4 (VeryGood)\n",
      "Time cost 0.24 seconds\n"
     ]
    },
    {
     "name": "stderr",
     "output_type": "stream",
     "text": [
      "Training Iteration: 100%|██████████| 226/226 [00:06<00:00, 35.89it/s]\n",
      "2024-12-11 07:51:57.248:INFO:training.myEvaluate - Generate submissions\n",
      "compute st ed scores: 100%|██████████| 16/16 [00:01<00:00, 12.01it/s]\n",
      "convert to multiples of clip_length=2: 100%|██████████| 1550/1550 [00:00<00:00, 41939.52it/s]\n",
      "2024-12-11 07:51:58.628:INFO:training.myEvaluate - Saving/Evaluating before nms results\n"
     ]
    },
    {
     "name": "stdout",
     "output_type": "stream",
     "text": [
      "full: [0, 1500], 1550/1550=100.00 examples.\n",
      "[eval_moment_retrieval] [full] 0.27 seconds\n",
      "Calculating highlight scores with min score 2 (Fair)\n",
      "Time cost 0.27 seconds\n",
      "Calculating highlight scores with min score 3 (Good)\n",
      "Time cost 0.26 seconds\n"
     ]
    },
    {
     "name": "stderr",
     "output_type": "stream",
     "text": [
      "2024-12-11 07:51:59.697:INFO:training.myTrain - metrics OrderedDict([   ('MR-full-R1@0.5', 47.29),\n",
      "                ('MR-full-R1@0.7', 27.42),\n",
      "                ('MR-full-mAP', 27.49),\n",
      "                ('MR-full-mAP@0.5', 51.65),\n",
      "                ('MR-full-mAP@0.75', 25.41),\n",
      "                ('HL-min-Fair-mAP', 63.63),\n",
      "                ('HL-min-Fair-Hit1', 61.94),\n",
      "                ('HL-min-Good-mAP', 54.35),\n",
      "                ('HL-min-Good-Hit1', 60.32),\n",
      "                ('HL-min-VeryGood-mAP', 33.49),\n",
      "                ('HL-min-VeryGood-Hit1', 51.81)])\n",
      "2024-12-11 07:51:59.787:INFO:training.myTrain - The checkpoint file has been updated.\n",
      "Epoch:  15%|█▌        | 30/200 [10:51<25:04,  8.85s/it]2024-12-11 07:51:59.788:INFO:training.myTrain - [Epoch 31]\n"
     ]
    },
    {
     "name": "stdout",
     "output_type": "stream",
     "text": [
      "Calculating highlight scores with min score 4 (VeryGood)\n",
      "Time cost 0.21 seconds\n"
     ]
    },
    {
     "name": "stderr",
     "output_type": "stream",
     "text": [
      "Training Iteration: 100%|██████████| 226/226 [00:06<00:00, 36.09it/s]\n",
      "2024-12-11 07:52:06.104:INFO:training.myEvaluate - Generate submissions\n",
      "compute st ed scores: 100%|██████████| 16/16 [00:01<00:00, 13.08it/s]\n",
      "convert to multiples of clip_length=2: 100%|██████████| 1550/1550 [00:00<00:00, 41787.75it/s]\n",
      "2024-12-11 07:52:07.375:INFO:training.myEvaluate - Saving/Evaluating before nms results\n"
     ]
    },
    {
     "name": "stdout",
     "output_type": "stream",
     "text": [
      "full: [0, 1500], 1550/1550=100.00 examples.\n",
      "[eval_moment_retrieval] [full] 0.39 seconds\n",
      "Calculating highlight scores with min score 2 (Fair)\n",
      "Time cost 0.27 seconds\n",
      "Calculating highlight scores with min score 3 (Good)\n",
      "Time cost 0.27 seconds\n"
     ]
    },
    {
     "name": "stderr",
     "output_type": "stream",
     "text": [
      "2024-12-11 07:52:08.604:INFO:training.myTrain - metrics OrderedDict([   ('MR-full-R1@0.5', 42.65),\n",
      "                ('MR-full-R1@0.7', 22.26),\n",
      "                ('MR-full-mAP', 23.82),\n",
      "                ('MR-full-mAP@0.5', 47.79),\n",
      "                ('MR-full-mAP@0.75', 20.34),\n",
      "                ('HL-min-Fair-mAP', 64.39),\n",
      "                ('HL-min-Fair-Hit1', 63.35),\n",
      "                ('HL-min-Good-mAP', 55.09),\n",
      "                ('HL-min-Good-Hit1', 61.68),\n",
      "                ('HL-min-VeryGood-mAP', 34.24),\n",
      "                ('HL-min-VeryGood-Hit1', 53.35)])\n",
      "Epoch:  16%|█▌        | 31/200 [11:00<24:53,  8.84s/it]2024-12-11 07:52:08.605:INFO:training.myTrain - [Epoch 32]\n"
     ]
    },
    {
     "name": "stdout",
     "output_type": "stream",
     "text": [
      "Calculating highlight scores with min score 4 (VeryGood)\n",
      "Time cost 0.24 seconds\n"
     ]
    },
    {
     "name": "stderr",
     "output_type": "stream",
     "text": [
      "Training Iteration: 100%|██████████| 226/226 [00:05<00:00, 38.35it/s]\n",
      "2024-12-11 07:52:14.565:INFO:training.myEvaluate - Generate submissions\n",
      "compute st ed scores: 100%|██████████| 16/16 [00:01<00:00, 12.37it/s]\n",
      "convert to multiples of clip_length=2: 100%|██████████| 1550/1550 [00:00<00:00, 47180.36it/s]\n",
      "2024-12-11 07:52:15.901:INFO:training.myEvaluate - Saving/Evaluating before nms results\n"
     ]
    },
    {
     "name": "stdout",
     "output_type": "stream",
     "text": [
      "full: [0, 1500], 1550/1550=100.00 examples.\n",
      "[eval_moment_retrieval] [full] 0.29 seconds\n",
      "Calculating highlight scores with min score 2 (Fair)\n",
      "Time cost 0.29 seconds\n",
      "Calculating highlight scores with min score 3 (Good)\n",
      "Time cost 0.28 seconds\n"
     ]
    },
    {
     "name": "stderr",
     "output_type": "stream",
     "text": [
      "2024-12-11 07:52:17.080:INFO:training.myTrain - metrics OrderedDict([   ('MR-full-R1@0.5', 43.48),\n",
      "                ('MR-full-R1@0.7', 23.23),\n",
      "                ('MR-full-mAP', 24.63),\n",
      "                ('MR-full-mAP@0.5', 48.39),\n",
      "                ('MR-full-mAP@0.75', 20.64),\n",
      "                ('HL-min-Fair-mAP', 64.53),\n",
      "                ('HL-min-Fair-Hit1', 62.45),\n",
      "                ('HL-min-Good-mAP', 55.16),\n",
      "                ('HL-min-Good-Hit1', 61.03),\n",
      "                ('HL-min-VeryGood-mAP', 34.14),\n",
      "                ('HL-min-VeryGood-Hit1', 51.81)])\n",
      "Epoch:  16%|█▌        | 32/200 [11:08<24:26,  8.73s/it]2024-12-11 07:52:17.081:INFO:training.myTrain - [Epoch 33]\n"
     ]
    },
    {
     "name": "stdout",
     "output_type": "stream",
     "text": [
      "Calculating highlight scores with min score 4 (VeryGood)\n",
      "Time cost 0.27 seconds\n"
     ]
    },
    {
     "name": "stderr",
     "output_type": "stream",
     "text": [
      "Training Iteration: 100%|██████████| 226/226 [00:06<00:00, 35.77it/s]\n",
      "2024-12-11 07:52:23.477:INFO:training.myEvaluate - Generate submissions\n",
      "compute st ed scores: 100%|██████████| 16/16 [00:01<00:00, 13.63it/s]\n",
      "convert to multiples of clip_length=2: 100%|██████████| 1550/1550 [00:00<00:00, 46776.40it/s]\n",
      "2024-12-11 07:52:24.693:INFO:training.myEvaluate - Saving/Evaluating before nms results\n"
     ]
    },
    {
     "name": "stdout",
     "output_type": "stream",
     "text": [
      "full: [0, 1500], 1550/1550=100.00 examples.\n",
      "[eval_moment_retrieval] [full] 0.40 seconds\n",
      "Calculating highlight scores with min score 2 (Fair)\n",
      "Time cost 0.27 seconds\n",
      "Calculating highlight scores with min score 3 (Good)\n",
      "Time cost 0.27 seconds\n"
     ]
    },
    {
     "name": "stderr",
     "output_type": "stream",
     "text": [
      "2024-12-11 07:52:25.932:INFO:training.myTrain - metrics OrderedDict([   ('MR-full-R1@0.5', 46.58),\n",
      "                ('MR-full-R1@0.7', 27.03),\n",
      "                ('MR-full-mAP', 27.1),\n",
      "                ('MR-full-mAP@0.5', 51.41),\n",
      "                ('MR-full-mAP@0.75', 24.51),\n",
      "                ('HL-min-Fair-mAP', 64.29),\n",
      "                ('HL-min-Fair-Hit1', 62.32),\n",
      "                ('HL-min-Good-mAP', 55.08),\n",
      "                ('HL-min-Good-Hit1', 60.77),\n",
      "                ('HL-min-VeryGood-mAP', 34.26),\n",
      "                ('HL-min-VeryGood-Hit1', 52.19)])\n",
      "Epoch:  16%|█▋        | 33/200 [11:17<24:23,  8.77s/it]2024-12-11 07:52:25.933:INFO:training.myTrain - [Epoch 34]\n"
     ]
    },
    {
     "name": "stdout",
     "output_type": "stream",
     "text": [
      "Calculating highlight scores with min score 4 (VeryGood)\n",
      "Time cost 0.25 seconds\n"
     ]
    },
    {
     "name": "stderr",
     "output_type": "stream",
     "text": [
      "Training Iteration: 100%|██████████| 226/226 [00:06<00:00, 36.19it/s]\n",
      "2024-12-11 07:52:32.250:INFO:training.myEvaluate - Generate submissions\n",
      "compute st ed scores: 100%|██████████| 16/16 [00:01<00:00, 13.41it/s]\n",
      "convert to multiples of clip_length=2: 100%|██████████| 1550/1550 [00:00<00:00, 43680.98it/s]\n",
      "2024-12-11 07:52:33.489:INFO:training.myEvaluate - Saving/Evaluating before nms results\n"
     ]
    },
    {
     "name": "stdout",
     "output_type": "stream",
     "text": [
      "full: [0, 1500], 1550/1550=100.00 examples.\n",
      "[eval_moment_retrieval] [full] 0.41 seconds\n",
      "Calculating highlight scores with min score 2 (Fair)\n",
      "Time cost 0.29 seconds\n",
      "Calculating highlight scores with min score 3 (Good)\n",
      "Time cost 0.27 seconds\n"
     ]
    },
    {
     "name": "stderr",
     "output_type": "stream",
     "text": [
      "2024-12-11 07:52:34.751:INFO:training.myTrain - metrics OrderedDict([   ('MR-full-R1@0.5', 48.52),\n",
      "                ('MR-full-R1@0.7', 28.39),\n",
      "                ('MR-full-mAP', 28.71),\n",
      "                ('MR-full-mAP@0.5', 52.54),\n",
      "                ('MR-full-mAP@0.75', 25.92),\n",
      "                ('HL-min-Fair-mAP', 64.65),\n",
      "                ('HL-min-Fair-Hit1', 64.13),\n",
      "                ('HL-min-Good-mAP', 55.42),\n",
      "                ('HL-min-Good-Hit1', 62.71),\n",
      "                ('HL-min-VeryGood-mAP', 34.4),\n",
      "                ('HL-min-VeryGood-Hit1', 53.48)])\n",
      "2024-12-11 07:52:34.846:INFO:training.myTrain - The checkpoint file has been updated.\n",
      "Epoch:  17%|█▋        | 34/200 [11:26<24:22,  8.81s/it]2024-12-11 07:52:34.847:INFO:training.myTrain - [Epoch 35]\n"
     ]
    },
    {
     "name": "stdout",
     "output_type": "stream",
     "text": [
      "Calculating highlight scores with min score 4 (VeryGood)\n",
      "Time cost 0.23 seconds\n"
     ]
    },
    {
     "name": "stderr",
     "output_type": "stream",
     "text": [
      "Training Iteration: 100%|██████████| 226/226 [00:06<00:00, 37.07it/s]\n",
      "2024-12-11 07:52:41.015:INFO:training.myEvaluate - Generate submissions\n",
      "compute st ed scores: 100%|██████████| 16/16 [00:01<00:00, 12.19it/s]\n",
      "convert to multiples of clip_length=2: 100%|██████████| 1550/1550 [00:00<00:00, 49680.73it/s]\n",
      "2024-12-11 07:52:42.369:INFO:training.myEvaluate - Saving/Evaluating before nms results\n"
     ]
    },
    {
     "name": "stdout",
     "output_type": "stream",
     "text": [
      "full: [0, 1500], 1550/1550=100.00 examples.\n",
      "[eval_moment_retrieval] [full] 0.30 seconds\n",
      "Calculating highlight scores with min score 2 (Fair)\n",
      "Time cost 0.28 seconds\n",
      "Calculating highlight scores with min score 3 (Good)\n",
      "Time cost 0.28 seconds\n"
     ]
    },
    {
     "name": "stderr",
     "output_type": "stream",
     "text": [
      "2024-12-11 07:52:43.537:INFO:training.myTrain - metrics OrderedDict([   ('MR-full-R1@0.5', 48.39),\n",
      "                ('MR-full-R1@0.7', 29.48),\n",
      "                ('MR-full-mAP', 28.2),\n",
      "                ('MR-full-mAP@0.5', 52.04),\n",
      "                ('MR-full-mAP@0.75', 26.42),\n",
      "                ('HL-min-Fair-mAP', 65.61),\n",
      "                ('HL-min-Fair-Hit1', 64.19),\n",
      "                ('HL-min-Good-mAP', 56.3),\n",
      "                ('HL-min-Good-Hit1', 62.71),\n",
      "                ('HL-min-VeryGood-mAP', 34.88),\n",
      "                ('HL-min-VeryGood-Hit1', 53.35)])\n",
      "Epoch:  18%|█▊        | 35/200 [11:35<24:07,  8.77s/it]2024-12-11 07:52:43.538:INFO:training.myTrain - [Epoch 36]\n"
     ]
    },
    {
     "name": "stdout",
     "output_type": "stream",
     "text": [
      "Calculating highlight scores with min score 4 (VeryGood)\n",
      "Time cost 0.25 seconds\n"
     ]
    },
    {
     "name": "stderr",
     "output_type": "stream",
     "text": [
      "Training Iteration: 100%|██████████| 226/226 [00:06<00:00, 35.33it/s]\n",
      "2024-12-11 07:52:50.004:INFO:training.myEvaluate - Generate submissions\n",
      "compute st ed scores: 100%|██████████| 16/16 [00:01<00:00, 13.61it/s]\n",
      "convert to multiples of clip_length=2: 100%|██████████| 1550/1550 [00:00<00:00, 43334.21it/s]\n",
      "2024-12-11 07:52:51.225:INFO:training.myEvaluate - Saving/Evaluating before nms results\n"
     ]
    },
    {
     "name": "stdout",
     "output_type": "stream",
     "text": [
      "full: [0, 1500], 1550/1550=100.00 examples.\n",
      "[eval_moment_retrieval] [full] 0.39 seconds\n",
      "Calculating highlight scores with min score 2 (Fair)\n",
      "Time cost 0.27 seconds\n",
      "Calculating highlight scores with min score 3 (Good)\n",
      "Time cost 0.29 seconds\n"
     ]
    },
    {
     "name": "stderr",
     "output_type": "stream",
     "text": [
      "2024-12-11 07:52:52.463:INFO:training.myTrain - metrics OrderedDict([   ('MR-full-R1@0.5', 46.77),\n",
      "                ('MR-full-R1@0.7', 26.65),\n",
      "                ('MR-full-mAP', 27.36),\n",
      "                ('MR-full-mAP@0.5', 51.17),\n",
      "                ('MR-full-mAP@0.75', 24.81),\n",
      "                ('HL-min-Fair-mAP', 66.04),\n",
      "                ('HL-min-Fair-Hit1', 64.65),\n",
      "                ('HL-min-Good-mAP', 56.55),\n",
      "                ('HL-min-Good-Hit1', 62.77),\n",
      "                ('HL-min-VeryGood-mAP', 35.12),\n",
      "                ('HL-min-VeryGood-Hit1', 53.68)])\n",
      "Epoch:  18%|█▊        | 36/200 [11:44<24:06,  8.82s/it]2024-12-11 07:52:52.464:INFO:training.myTrain - [Epoch 37]\n"
     ]
    },
    {
     "name": "stdout",
     "output_type": "stream",
     "text": [
      "Calculating highlight scores with min score 4 (VeryGood)\n",
      "Time cost 0.24 seconds\n"
     ]
    },
    {
     "name": "stderr",
     "output_type": "stream",
     "text": [
      "Training Iteration: 100%|██████████| 226/226 [00:06<00:00, 35.83it/s]\n",
      "2024-12-11 07:52:58.841:INFO:training.myEvaluate - Generate submissions\n",
      "compute st ed scores: 100%|██████████| 16/16 [00:01<00:00, 12.23it/s]\n",
      "convert to multiples of clip_length=2: 100%|██████████| 1550/1550 [00:00<00:00, 43544.35it/s]\n",
      "2024-12-11 07:53:00.195:INFO:training.myEvaluate - Saving/Evaluating before nms results\n"
     ]
    },
    {
     "name": "stdout",
     "output_type": "stream",
     "text": [
      "full: [0, 1500], 1550/1550=100.00 examples.\n",
      "[eval_moment_retrieval] [full] 0.29 seconds\n",
      "Calculating highlight scores with min score 2 (Fair)\n",
      "Time cost 0.28 seconds\n",
      "Calculating highlight scores with min score 3 (Good)\n",
      "Time cost 0.27 seconds\n"
     ]
    },
    {
     "name": "stderr",
     "output_type": "stream",
     "text": [
      "2024-12-11 07:53:01.320:INFO:training.myTrain - metrics OrderedDict([   ('MR-full-R1@0.5', 47.94),\n",
      "                ('MR-full-R1@0.7', 27.61),\n",
      "                ('MR-full-mAP', 27.16),\n",
      "                ('MR-full-mAP@0.5', 51.5),\n",
      "                ('MR-full-mAP@0.75', 24.22),\n",
      "                ('HL-min-Fair-mAP', 65.71),\n",
      "                ('HL-min-Fair-Hit1', 63.87),\n",
      "                ('HL-min-Good-mAP', 56.29),\n",
      "                ('HL-min-Good-Hit1', 61.81),\n",
      "                ('HL-min-VeryGood-mAP', 34.89),\n",
      "                ('HL-min-VeryGood-Hit1', 53.03)])\n",
      "Epoch:  18%|█▊        | 37/200 [11:53<23:59,  8.83s/it]2024-12-11 07:53:01.321:INFO:training.myTrain - [Epoch 38]\n"
     ]
    },
    {
     "name": "stdout",
     "output_type": "stream",
     "text": [
      "Calculating highlight scores with min score 4 (VeryGood)\n",
      "Time cost 0.23 seconds\n"
     ]
    },
    {
     "name": "stderr",
     "output_type": "stream",
     "text": [
      "Training Iteration: 100%|██████████| 226/226 [00:06<00:00, 34.55it/s]\n",
      "2024-12-11 07:53:07.924:INFO:training.myEvaluate - Generate submissions\n",
      "compute st ed scores: 100%|██████████| 16/16 [00:01<00:00, 13.63it/s]\n",
      "convert to multiples of clip_length=2: 100%|██████████| 1550/1550 [00:00<00:00, 44333.62it/s]\n",
      "2024-12-11 07:53:09.142:INFO:training.myEvaluate - Saving/Evaluating before nms results\n"
     ]
    },
    {
     "name": "stdout",
     "output_type": "stream",
     "text": [
      "full: [0, 1500], 1550/1550=100.00 examples.\n",
      "[eval_moment_retrieval] [full] 0.39 seconds\n",
      "Calculating highlight scores with min score 2 (Fair)\n",
      "Time cost 0.27 seconds\n",
      "Calculating highlight scores with min score 3 (Good)\n",
      "Time cost 0.26 seconds\n"
     ]
    },
    {
     "name": "stderr",
     "output_type": "stream",
     "text": [
      "2024-12-11 07:53:10.355:INFO:training.myTrain - metrics OrderedDict([   ('MR-full-R1@0.5', 46.9),\n",
      "                ('MR-full-R1@0.7', 28.58),\n",
      "                ('MR-full-mAP', 28.02),\n",
      "                ('MR-full-mAP@0.5', 51.47),\n",
      "                ('MR-full-mAP@0.75', 26.96),\n",
      "                ('HL-min-Fair-mAP', 66.7),\n",
      "                ('HL-min-Fair-Hit1', 65.68),\n",
      "                ('HL-min-Good-mAP', 57.13),\n",
      "                ('HL-min-Good-Hit1', 63.87),\n",
      "                ('HL-min-VeryGood-mAP', 35.56),\n",
      "                ('HL-min-VeryGood-Hit1', 55.16)])\n",
      "Epoch:  19%|█▉        | 38/200 [12:02<24:00,  8.89s/it]2024-12-11 07:53:10.356:INFO:training.myTrain - [Epoch 39]\n"
     ]
    },
    {
     "name": "stdout",
     "output_type": "stream",
     "text": [
      "Calculating highlight scores with min score 4 (VeryGood)\n",
      "Time cost 0.24 seconds\n"
     ]
    },
    {
     "name": "stderr",
     "output_type": "stream",
     "text": [
      "Training Iteration: 100%|██████████| 226/226 [00:06<00:00, 35.64it/s]\n",
      "2024-12-11 07:53:16.766:INFO:training.myEvaluate - Generate submissions\n",
      "compute st ed scores: 100%|██████████| 16/16 [00:01<00:00, 12.22it/s]\n",
      "convert to multiples of clip_length=2: 100%|██████████| 1550/1550 [00:00<00:00, 44626.69it/s]\n",
      "2024-12-11 07:53:18.119:INFO:training.myEvaluate - Saving/Evaluating before nms results\n"
     ]
    },
    {
     "name": "stdout",
     "output_type": "stream",
     "text": [
      "full: [0, 1500], 1550/1550=100.00 examples.\n",
      "[eval_moment_retrieval] [full] 0.27 seconds\n",
      "Calculating highlight scores with min score 2 (Fair)\n",
      "Time cost 0.26 seconds\n",
      "Calculating highlight scores with min score 3 (Good)\n",
      "Time cost 0.27 seconds\n"
     ]
    },
    {
     "name": "stderr",
     "output_type": "stream",
     "text": [
      "2024-12-11 07:53:19.191:INFO:training.myTrain - metrics OrderedDict([   ('MR-full-R1@0.5', 50.06),\n",
      "                ('MR-full-R1@0.7', 29.42),\n",
      "                ('MR-full-mAP', 29.84),\n",
      "                ('MR-full-mAP@0.5', 53.69),\n",
      "                ('MR-full-mAP@0.75', 27.9),\n",
      "                ('HL-min-Fair-mAP', 66.54),\n",
      "                ('HL-min-Fair-Hit1', 64.71),\n",
      "                ('HL-min-Good-mAP', 57.01),\n",
      "                ('HL-min-Good-Hit1', 62.97),\n",
      "                ('HL-min-VeryGood-mAP', 35.37),\n",
      "                ('HL-min-VeryGood-Hit1', 54.32)])\n",
      "2024-12-11 07:53:19.282:INFO:training.myTrain - The checkpoint file has been updated.\n",
      "Epoch:  20%|█▉        | 39/200 [12:11<23:53,  8.90s/it]2024-12-11 07:53:19.283:INFO:training.myTrain - [Epoch 40]\n"
     ]
    },
    {
     "name": "stdout",
     "output_type": "stream",
     "text": [
      "Calculating highlight scores with min score 4 (VeryGood)\n",
      "Time cost 0.21 seconds\n"
     ]
    },
    {
     "name": "stderr",
     "output_type": "stream",
     "text": [
      "Training Iteration: 100%|██████████| 226/226 [00:06<00:00, 34.93it/s]\n",
      "2024-12-11 07:53:25.805:INFO:training.myEvaluate - Generate submissions\n",
      "compute st ed scores: 100%|██████████| 16/16 [00:01<00:00, 13.56it/s]\n",
      "convert to multiples of clip_length=2: 100%|██████████| 1550/1550 [00:00<00:00, 41346.32it/s]\n",
      "2024-12-11 07:53:27.031:INFO:training.myEvaluate - Saving/Evaluating before nms results\n"
     ]
    },
    {
     "name": "stdout",
     "output_type": "stream",
     "text": [
      "full: [0, 1500], 1550/1550=100.00 examples.\n",
      "[eval_moment_retrieval] [full] 0.34 seconds\n",
      "Calculating highlight scores with min score 2 (Fair)\n",
      "Time cost 0.24 seconds\n",
      "Calculating highlight scores with min score 3 (Good)\n",
      "Time cost 0.25 seconds\n"
     ]
    },
    {
     "name": "stderr",
     "output_type": "stream",
     "text": [
      "2024-12-11 07:53:28.148:INFO:training.myTrain - metrics OrderedDict([   ('MR-full-R1@0.5', 48.19),\n",
      "                ('MR-full-R1@0.7', 28.13),\n",
      "                ('MR-full-mAP', 28.12),\n",
      "                ('MR-full-mAP@0.5', 52.36),\n",
      "                ('MR-full-mAP@0.75', 26.13),\n",
      "                ('HL-min-Fair-mAP', 65.57),\n",
      "                ('HL-min-Fair-Hit1', 65.03),\n",
      "                ('HL-min-Good-mAP', 56.17),\n",
      "                ('HL-min-Good-Hit1', 63.68),\n",
      "                ('HL-min-VeryGood-mAP', 35.05),\n",
      "                ('HL-min-VeryGood-Hit1', 54.32)])\n",
      "Epoch:  20%|██        | 40/200 [12:19<23:42,  8.89s/it]2024-12-11 07:53:28.149:INFO:training.myTrain - [Epoch 41]\n"
     ]
    },
    {
     "name": "stdout",
     "output_type": "stream",
     "text": [
      "Calculating highlight scores with min score 4 (VeryGood)\n",
      "Time cost 0.22 seconds\n"
     ]
    },
    {
     "name": "stderr",
     "output_type": "stream",
     "text": [
      "Training Iteration: 100%|██████████| 226/226 [00:06<00:00, 36.38it/s]\n",
      "2024-12-11 07:53:34.425:INFO:training.myEvaluate - Generate submissions\n",
      "compute st ed scores: 100%|██████████| 16/16 [00:01<00:00, 12.30it/s]\n",
      "convert to multiples of clip_length=2: 100%|██████████| 1550/1550 [00:00<00:00, 45835.83it/s]\n",
      "2024-12-11 07:53:35.769:INFO:training.myEvaluate - Saving/Evaluating before nms results\n"
     ]
    },
    {
     "name": "stdout",
     "output_type": "stream",
     "text": [
      "full: [0, 1500], 1550/1550=100.00 examples.\n",
      "[eval_moment_retrieval] [full] 0.26 seconds\n",
      "Calculating highlight scores with min score 2 (Fair)\n",
      "Time cost 0.26 seconds\n",
      "Calculating highlight scores with min score 3 (Good)\n",
      "Time cost 0.26 seconds\n"
     ]
    },
    {
     "name": "stderr",
     "output_type": "stream",
     "text": [
      "2024-12-11 07:53:36.814:INFO:training.myTrain - metrics OrderedDict([   ('MR-full-R1@0.5', 49.03),\n",
      "                ('MR-full-R1@0.7', 29.74),\n",
      "                ('MR-full-mAP', 29.21),\n",
      "                ('MR-full-mAP@0.5', 52.9),\n",
      "                ('MR-full-mAP@0.75', 27.51),\n",
      "                ('HL-min-Fair-mAP', 66.88),\n",
      "                ('HL-min-Fair-Hit1', 65.87),\n",
      "                ('HL-min-Good-mAP', 57.3),\n",
      "                ('HL-min-Good-Hit1', 64.45),\n",
      "                ('HL-min-VeryGood-mAP', 35.53),\n",
      "                ('HL-min-VeryGood-Hit1', 54.84)])\n",
      "Epoch:  20%|██        | 41/200 [12:28<23:23,  8.82s/it]2024-12-11 07:53:36.815:INFO:training.myTrain - [Epoch 42]\n"
     ]
    },
    {
     "name": "stdout",
     "output_type": "stream",
     "text": [
      "Calculating highlight scores with min score 4 (VeryGood)\n",
      "Time cost 0.21 seconds\n"
     ]
    },
    {
     "name": "stderr",
     "output_type": "stream",
     "text": [
      "Training Iteration: 100%|██████████| 226/226 [00:06<00:00, 35.57it/s]\n",
      "2024-12-11 07:53:43.219:INFO:training.myEvaluate - Generate submissions\n",
      "compute st ed scores: 100%|██████████| 16/16 [00:01<00:00, 13.79it/s]\n",
      "convert to multiples of clip_length=2: 100%|██████████| 1550/1550 [00:00<00:00, 43003.14it/s]\n",
      "2024-12-11 07:53:44.426:INFO:training.myEvaluate - Saving/Evaluating before nms results\n"
     ]
    },
    {
     "name": "stdout",
     "output_type": "stream",
     "text": [
      "full: [0, 1500], 1550/1550=100.00 examples.\n",
      "[eval_moment_retrieval] [full] 0.41 seconds\n",
      "Calculating highlight scores with min score 2 (Fair)\n",
      "Time cost 0.29 seconds\n",
      "Calculating highlight scores with min score 3 (Good)\n",
      "Time cost 0.29 seconds\n"
     ]
    },
    {
     "name": "stderr",
     "output_type": "stream",
     "text": [
      "2024-12-11 07:53:45.719:INFO:training.myTrain - metrics OrderedDict([   ('MR-full-R1@0.5', 51.03),\n",
      "                ('MR-full-R1@0.7', 29.74),\n",
      "                ('MR-full-mAP', 29.33),\n",
      "                ('MR-full-mAP@0.5', 54.24),\n",
      "                ('MR-full-mAP@0.75', 26.44),\n",
      "                ('HL-min-Fair-mAP', 67.01),\n",
      "                ('HL-min-Fair-Hit1', 64.39),\n",
      "                ('HL-min-Good-mAP', 57.22),\n",
      "                ('HL-min-Good-Hit1', 61.94),\n",
      "                ('HL-min-VeryGood-mAP', 35.46),\n",
      "                ('HL-min-VeryGood-Hit1', 52.26)])\n",
      "Epoch:  21%|██        | 42/200 [12:37<23:18,  8.85s/it]2024-12-11 07:53:45.720:INFO:training.myTrain - [Epoch 43]\n"
     ]
    },
    {
     "name": "stdout",
     "output_type": "stream",
     "text": [
      "Calculating highlight scores with min score 4 (VeryGood)\n",
      "Time cost 0.26 seconds\n"
     ]
    },
    {
     "name": "stderr",
     "output_type": "stream",
     "text": [
      "Training Iteration: 100%|██████████| 226/226 [00:06<00:00, 36.24it/s]\n",
      "2024-12-11 07:53:52.033:INFO:training.myEvaluate - Generate submissions\n",
      "compute st ed scores: 100%|██████████| 16/16 [00:01<00:00, 12.22it/s]\n",
      "convert to multiples of clip_length=2: 100%|██████████| 1550/1550 [00:00<00:00, 42739.09it/s]\n",
      "2024-12-11 07:53:53.389:INFO:training.myEvaluate - Saving/Evaluating before nms results\n"
     ]
    },
    {
     "name": "stdout",
     "output_type": "stream",
     "text": [
      "full: [0, 1500], 1550/1550=100.00 examples.\n",
      "[eval_moment_retrieval] [full] 0.28 seconds\n",
      "Calculating highlight scores with min score 2 (Fair)\n",
      "Time cost 0.29 seconds\n",
      "Calculating highlight scores with min score 3 (Good)\n",
      "Time cost 0.26 seconds\n"
     ]
    },
    {
     "name": "stderr",
     "output_type": "stream",
     "text": [
      "2024-12-11 07:53:54.501:INFO:training.myTrain - metrics OrderedDict([   ('MR-full-R1@0.5', 49.48),\n",
      "                ('MR-full-R1@0.7', 28.32),\n",
      "                ('MR-full-mAP', 27.89),\n",
      "                ('MR-full-mAP@0.5', 52.59),\n",
      "                ('MR-full-mAP@0.75', 25.33),\n",
      "                ('HL-min-Fair-mAP', 66.56),\n",
      "                ('HL-min-Fair-Hit1', 64.9),\n",
      "                ('HL-min-Good-mAP', 56.94),\n",
      "                ('HL-min-Good-Hit1', 63.29),\n",
      "                ('HL-min-VeryGood-mAP', 35.26),\n",
      "                ('HL-min-VeryGood-Hit1', 54.26)])\n",
      "Epoch:  22%|██▏       | 43/200 [12:46<23:06,  8.83s/it]2024-12-11 07:53:54.502:INFO:training.myTrain - [Epoch 44]\n"
     ]
    },
    {
     "name": "stdout",
     "output_type": "stream",
     "text": [
      "Calculating highlight scores with min score 4 (VeryGood)\n",
      "Time cost 0.23 seconds\n"
     ]
    },
    {
     "name": "stderr",
     "output_type": "stream",
     "text": [
      "Training Iteration: 100%|██████████| 226/226 [00:06<00:00, 34.50it/s]\n",
      "2024-12-11 07:54:01.122:INFO:training.myEvaluate - Generate submissions\n",
      "compute st ed scores: 100%|██████████| 16/16 [00:01<00:00, 13.13it/s]\n",
      "convert to multiples of clip_length=2: 100%|██████████| 1550/1550 [00:00<00:00, 47265.43it/s]\n",
      "2024-12-11 07:54:02.383:INFO:training.myEvaluate - Saving/Evaluating before nms results\n"
     ]
    },
    {
     "name": "stdout",
     "output_type": "stream",
     "text": [
      "full: [0, 1500], 1550/1550=100.00 examples.\n",
      "[eval_moment_retrieval] [full] 0.40 seconds\n",
      "Calculating highlight scores with min score 2 (Fair)\n",
      "Time cost 0.26 seconds\n",
      "Calculating highlight scores with min score 3 (Good)\n",
      "Time cost 0.26 seconds\n"
     ]
    },
    {
     "name": "stderr",
     "output_type": "stream",
     "text": [
      "2024-12-11 07:54:03.574:INFO:training.myTrain - metrics OrderedDict([   ('MR-full-R1@0.5', 52.0),\n",
      "                ('MR-full-R1@0.7', 31.29),\n",
      "                ('MR-full-mAP', 29.62),\n",
      "                ('MR-full-mAP@0.5', 54.07),\n",
      "                ('MR-full-mAP@0.75', 27.68),\n",
      "                ('HL-min-Fair-mAP', 67.54),\n",
      "                ('HL-min-Fair-Hit1', 67.16),\n",
      "                ('HL-min-Good-mAP', 57.77),\n",
      "                ('HL-min-Good-Hit1', 65.16),\n",
      "                ('HL-min-VeryGood-mAP', 35.83),\n",
      "                ('HL-min-VeryGood-Hit1', 55.94)])\n",
      "Epoch:  22%|██▏       | 44/200 [12:55<23:08,  8.90s/it]2024-12-11 07:54:03.575:INFO:training.myTrain - [Epoch 45]\n"
     ]
    },
    {
     "name": "stdout",
     "output_type": "stream",
     "text": [
      "Calculating highlight scores with min score 4 (VeryGood)\n",
      "Time cost 0.23 seconds\n"
     ]
    },
    {
     "name": "stderr",
     "output_type": "stream",
     "text": [
      "Training Iteration: 100%|██████████| 226/226 [00:06<00:00, 36.34it/s]\n",
      "2024-12-11 07:54:09.864:INFO:training.myEvaluate - Generate submissions\n",
      "compute st ed scores: 100%|██████████| 16/16 [00:01<00:00, 12.64it/s]\n",
      "convert to multiples of clip_length=2: 100%|██████████| 1550/1550 [00:00<00:00, 40523.92it/s]\n",
      "2024-12-11 07:54:11.178:INFO:training.myEvaluate - Saving/Evaluating before nms results\n"
     ]
    },
    {
     "name": "stdout",
     "output_type": "stream",
     "text": [
      "full: [0, 1500], 1550/1550=100.00 examples.\n",
      "[eval_moment_retrieval] [full] 0.27 seconds\n",
      "Calculating highlight scores with min score 2 (Fair)\n",
      "Time cost 0.27 seconds\n",
      "Calculating highlight scores with min score 3 (Good)\n",
      "Time cost 0.27 seconds\n"
     ]
    },
    {
     "name": "stderr",
     "output_type": "stream",
     "text": [
      "2024-12-11 07:54:12.267:INFO:training.myTrain - metrics OrderedDict([   ('MR-full-R1@0.5', 49.94),\n",
      "                ('MR-full-R1@0.7', 28.9),\n",
      "                ('MR-full-mAP', 27.79),\n",
      "                ('MR-full-mAP@0.5', 52.18),\n",
      "                ('MR-full-mAP@0.75', 25.18),\n",
      "                ('HL-min-Fair-mAP', 66.97),\n",
      "                ('HL-min-Fair-Hit1', 65.87),\n",
      "                ('HL-min-Good-mAP', 57.22),\n",
      "                ('HL-min-Good-Hit1', 64.06),\n",
      "                ('HL-min-VeryGood-mAP', 35.41),\n",
      "                ('HL-min-VeryGood-Hit1', 54.71)])\n",
      "Epoch:  22%|██▎       | 45/200 [13:04<22:50,  8.84s/it]2024-12-11 07:54:12.268:INFO:training.myTrain - [Epoch 46]\n"
     ]
    },
    {
     "name": "stdout",
     "output_type": "stream",
     "text": [
      "Calculating highlight scores with min score 4 (VeryGood)\n",
      "Time cost 0.23 seconds\n"
     ]
    },
    {
     "name": "stderr",
     "output_type": "stream",
     "text": [
      "Training Iteration: 100%|██████████| 226/226 [00:06<00:00, 35.72it/s]\n",
      "2024-12-11 07:54:18.659:INFO:training.myEvaluate - Generate submissions\n",
      "compute st ed scores: 100%|██████████| 16/16 [00:01<00:00, 13.49it/s]\n",
      "convert to multiples of clip_length=2: 100%|██████████| 1550/1550 [00:00<00:00, 43188.83it/s]\n",
      "2024-12-11 07:54:19.892:INFO:training.myEvaluate - Saving/Evaluating before nms results\n"
     ]
    },
    {
     "name": "stdout",
     "output_type": "stream",
     "text": [
      "full: [0, 1500], 1550/1550=100.00 examples.\n",
      "[eval_moment_retrieval] [full] 0.38 seconds\n",
      "Calculating highlight scores with min score 2 (Fair)\n",
      "Time cost 0.26 seconds\n",
      "Calculating highlight scores with min score 3 (Good)\n",
      "Time cost 0.28 seconds\n"
     ]
    },
    {
     "name": "stderr",
     "output_type": "stream",
     "text": [
      "2024-12-11 07:54:21.109:INFO:training.myTrain - metrics OrderedDict([   ('MR-full-R1@0.5', 50.32),\n",
      "                ('MR-full-R1@0.7', 29.94),\n",
      "                ('MR-full-mAP', 28.79),\n",
      "                ('MR-full-mAP@0.5', 53.01),\n",
      "                ('MR-full-mAP@0.75', 26.2),\n",
      "                ('HL-min-Fair-mAP', 67.42),\n",
      "                ('HL-min-Fair-Hit1', 67.1),\n",
      "                ('HL-min-Good-mAP', 57.54),\n",
      "                ('HL-min-Good-Hit1', 64.9),\n",
      "                ('HL-min-VeryGood-mAP', 35.63),\n",
      "                ('HL-min-VeryGood-Hit1', 55.16)])\n",
      "Epoch:  23%|██▎       | 46/200 [13:12<22:41,  8.84s/it]2024-12-11 07:54:21.110:INFO:training.myTrain - [Epoch 47]\n"
     ]
    },
    {
     "name": "stdout",
     "output_type": "stream",
     "text": [
      "Calculating highlight scores with min score 4 (VeryGood)\n",
      "Time cost 0.25 seconds\n"
     ]
    },
    {
     "name": "stderr",
     "output_type": "stream",
     "text": [
      "Training Iteration: 100%|██████████| 226/226 [00:06<00:00, 35.00it/s]\n",
      "2024-12-11 07:54:27.634:INFO:training.myEvaluate - Generate submissions\n",
      "compute st ed scores: 100%|██████████| 16/16 [00:01<00:00, 13.36it/s]\n",
      "convert to multiples of clip_length=2: 100%|██████████| 1550/1550 [00:00<00:00, 40736.96it/s]\n",
      "2024-12-11 07:54:28.879:INFO:training.myEvaluate - Saving/Evaluating before nms results\n"
     ]
    },
    {
     "name": "stdout",
     "output_type": "stream",
     "text": [
      "full: [0, 1500], 1550/1550=100.00 examples.\n",
      "[eval_moment_retrieval] [full] 0.35 seconds\n",
      "Calculating highlight scores with min score 2 (Fair)\n",
      "Time cost 0.25 seconds\n",
      "Calculating highlight scores with min score 3 (Good)\n",
      "Time cost 0.25 seconds\n"
     ]
    },
    {
     "name": "stderr",
     "output_type": "stream",
     "text": [
      "2024-12-11 07:54:29.993:INFO:training.myTrain - metrics OrderedDict([   ('MR-full-R1@0.5', 50.19),\n",
      "                ('MR-full-R1@0.7', 30.58),\n",
      "                ('MR-full-mAP', 29.37),\n",
      "                ('MR-full-mAP@0.5', 53.28),\n",
      "                ('MR-full-mAP@0.75', 26.95),\n",
      "                ('HL-min-Fair-mAP', 67.13),\n",
      "                ('HL-min-Fair-Hit1', 65.48),\n",
      "                ('HL-min-Good-mAP', 57.39),\n",
      "                ('HL-min-Good-Hit1', 63.68),\n",
      "                ('HL-min-VeryGood-mAP', 35.5),\n",
      "                ('HL-min-VeryGood-Hit1', 54.71)])\n",
      "Epoch:  24%|██▎       | 47/200 [13:21<22:34,  8.85s/it]2024-12-11 07:54:29.994:INFO:training.myTrain - [Epoch 48]\n"
     ]
    },
    {
     "name": "stdout",
     "output_type": "stream",
     "text": [
      "Calculating highlight scores with min score 4 (VeryGood)\n",
      "Time cost 0.21 seconds\n"
     ]
    },
    {
     "name": "stderr",
     "output_type": "stream",
     "text": [
      "Training Iteration: 100%|██████████| 226/226 [00:06<00:00, 35.89it/s]\n",
      "2024-12-11 07:54:36.347:INFO:training.myEvaluate - Generate submissions\n",
      "compute st ed scores: 100%|██████████| 16/16 [00:01<00:00, 12.44it/s]\n",
      "convert to multiples of clip_length=2: 100%|██████████| 1550/1550 [00:00<00:00, 41839.12it/s]\n",
      "2024-12-11 07:54:37.680:INFO:training.myEvaluate - Saving/Evaluating before nms results\n"
     ]
    },
    {
     "name": "stdout",
     "output_type": "stream",
     "text": [
      "full: [0, 1500], 1550/1550=100.00 examples.\n",
      "[eval_moment_retrieval] [full] 0.29 seconds\n",
      "Calculating highlight scores with min score 2 (Fair)\n",
      "Time cost 0.28 seconds\n",
      "Calculating highlight scores with min score 3 (Good)\n",
      "Time cost 0.26 seconds\n"
     ]
    },
    {
     "name": "stderr",
     "output_type": "stream",
     "text": [
      "2024-12-11 07:54:38.807:INFO:training.myTrain - metrics OrderedDict([   ('MR-full-R1@0.5', 50.97),\n",
      "                ('MR-full-R1@0.7', 30.84),\n",
      "                ('MR-full-mAP', 29.04),\n",
      "                ('MR-full-mAP@0.5', 52.51),\n",
      "                ('MR-full-mAP@0.75', 26.75),\n",
      "                ('HL-min-Fair-mAP', 66.62),\n",
      "                ('HL-min-Fair-Hit1', 65.03),\n",
      "                ('HL-min-Good-mAP', 56.9),\n",
      "                ('HL-min-Good-Hit1', 63.1),\n",
      "                ('HL-min-VeryGood-mAP', 35.16),\n",
      "                ('HL-min-VeryGood-Hit1', 53.87)])\n",
      "Epoch:  24%|██▍       | 48/200 [13:30<22:23,  8.84s/it]2024-12-11 07:54:38.808:INFO:training.myTrain - [Epoch 49]\n"
     ]
    },
    {
     "name": "stdout",
     "output_type": "stream",
     "text": [
      "Calculating highlight scores with min score 4 (VeryGood)\n",
      "Time cost 0.25 seconds\n"
     ]
    },
    {
     "name": "stderr",
     "output_type": "stream",
     "text": [
      "Training Iteration: 100%|██████████| 226/226 [00:06<00:00, 35.12it/s]\n",
      "2024-12-11 07:54:45.313:INFO:training.myEvaluate - Generate submissions\n",
      "compute st ed scores: 100%|██████████| 16/16 [00:01<00:00, 13.39it/s]\n",
      "convert to multiples of clip_length=2: 100%|██████████| 1550/1550 [00:00<00:00, 41026.95it/s]\n",
      "2024-12-11 07:54:46.556:INFO:training.myEvaluate - Saving/Evaluating before nms results\n"
     ]
    },
    {
     "name": "stdout",
     "output_type": "stream",
     "text": [
      "full: [0, 1500], 1550/1550=100.00 examples.\n",
      "[eval_moment_retrieval] [full] 0.33 seconds\n",
      "Calculating highlight scores with min score 2 (Fair)\n",
      "Time cost 0.25 seconds\n",
      "Calculating highlight scores with min score 3 (Good)\n",
      "Time cost 0.24 seconds\n"
     ]
    },
    {
     "name": "stderr",
     "output_type": "stream",
     "text": [
      "2024-12-11 07:54:47.674:INFO:training.myTrain - metrics OrderedDict([   ('MR-full-R1@0.5', 50.32),\n",
      "                ('MR-full-R1@0.7', 31.68),\n",
      "                ('MR-full-mAP', 29.86),\n",
      "                ('MR-full-mAP@0.5', 52.81),\n",
      "                ('MR-full-mAP@0.75', 28.67),\n",
      "                ('HL-min-Fair-mAP', 67.37),\n",
      "                ('HL-min-Fair-Hit1', 65.61),\n",
      "                ('HL-min-Good-mAP', 57.53),\n",
      "                ('HL-min-Good-Hit1', 63.23),\n",
      "                ('HL-min-VeryGood-mAP', 35.56),\n",
      "                ('HL-min-VeryGood-Hit1', 54.26)])\n",
      "2024-12-11 07:54:47.765:INFO:training.myTrain - The checkpoint file has been updated.\n",
      "Epoch:  24%|██▍       | 49/200 [13:39<22:20,  8.88s/it]2024-12-11 07:54:47.767:INFO:training.myTrain - [Epoch 50]\n"
     ]
    },
    {
     "name": "stdout",
     "output_type": "stream",
     "text": [
      "Calculating highlight scores with min score 4 (VeryGood)\n",
      "Time cost 0.23 seconds\n"
     ]
    },
    {
     "name": "stderr",
     "output_type": "stream",
     "text": [
      "Training Iteration: 100%|██████████| 226/226 [00:06<00:00, 36.09it/s]\n",
      "2024-12-11 07:54:54.091:INFO:training.myEvaluate - Generate submissions\n",
      "compute st ed scores: 100%|██████████| 16/16 [00:01<00:00, 12.16it/s]\n",
      "convert to multiples of clip_length=2: 100%|██████████| 1550/1550 [00:00<00:00, 42707.64it/s]\n",
      "2024-12-11 07:54:55.453:INFO:training.myEvaluate - Saving/Evaluating before nms results\n"
     ]
    },
    {
     "name": "stdout",
     "output_type": "stream",
     "text": [
      "full: [0, 1500], 1550/1550=100.00 examples.\n",
      "[eval_moment_retrieval] [full] 0.28 seconds\n",
      "Calculating highlight scores with min score 2 (Fair)\n",
      "Time cost 0.26 seconds\n",
      "Calculating highlight scores with min score 3 (Good)\n",
      "Time cost 0.27 seconds\n"
     ]
    },
    {
     "name": "stderr",
     "output_type": "stream",
     "text": [
      "2024-12-11 07:54:56.528:INFO:training.myTrain - metrics OrderedDict([   ('MR-full-R1@0.5', 51.68),\n",
      "                ('MR-full-R1@0.7', 31.61),\n",
      "                ('MR-full-mAP', 30.09),\n",
      "                ('MR-full-mAP@0.5', 53.69),\n",
      "                ('MR-full-mAP@0.75', 27.94),\n",
      "                ('HL-min-Fair-mAP', 67.44),\n",
      "                ('HL-min-Fair-Hit1', 66.77),\n",
      "                ('HL-min-Good-mAP', 57.67),\n",
      "                ('HL-min-Good-Hit1', 64.71),\n",
      "                ('HL-min-VeryGood-mAP', 35.76),\n",
      "                ('HL-min-VeryGood-Hit1', 55.81)])\n",
      "2024-12-11 07:54:56.621:INFO:training.myTrain - The checkpoint file has been updated.\n",
      "Epoch:  25%|██▌       | 50/200 [13:48<22:10,  8.87s/it]2024-12-11 07:54:56.623:INFO:training.myTrain - [Epoch 51]\n"
     ]
    },
    {
     "name": "stdout",
     "output_type": "stream",
     "text": [
      "Calculating highlight scores with min score 4 (VeryGood)\n",
      "Time cost 0.22 seconds\n"
     ]
    },
    {
     "name": "stderr",
     "output_type": "stream",
     "text": [
      "Training Iteration: 100%|██████████| 226/226 [00:06<00:00, 35.32it/s]\n",
      "2024-12-11 07:55:03.095:INFO:training.myEvaluate - Generate submissions\n",
      "compute st ed scores: 100%|██████████| 16/16 [00:01<00:00, 13.35it/s]\n",
      "convert to multiples of clip_length=2: 100%|██████████| 1550/1550 [00:00<00:00, 42415.36it/s]\n",
      "2024-12-11 07:55:04.340:INFO:training.myEvaluate - Saving/Evaluating before nms results\n"
     ]
    },
    {
     "name": "stdout",
     "output_type": "stream",
     "text": [
      "full: [0, 1500], 1550/1550=100.00 examples.\n",
      "[eval_moment_retrieval] [full] 0.35 seconds\n",
      "Calculating highlight scores with min score 2 (Fair)\n",
      "Time cost 0.26 seconds\n",
      "Calculating highlight scores with min score 3 (Good)\n",
      "Time cost 0.25 seconds\n"
     ]
    },
    {
     "name": "stderr",
     "output_type": "stream",
     "text": [
      "2024-12-11 07:55:05.495:INFO:training.myTrain - metrics OrderedDict([   ('MR-full-R1@0.5', 54.52),\n",
      "                ('MR-full-R1@0.7', 35.29),\n",
      "                ('MR-full-mAP', 32.07),\n",
      "                ('MR-full-mAP@0.5', 56.2),\n",
      "                ('MR-full-mAP@0.75', 31.07),\n",
      "                ('HL-min-Fair-mAP', 67.19),\n",
      "                ('HL-min-Fair-Hit1', 65.87),\n",
      "                ('HL-min-Good-mAP', 57.46),\n",
      "                ('HL-min-Good-Hit1', 63.87),\n",
      "                ('HL-min-VeryGood-mAP', 35.5),\n",
      "                ('HL-min-VeryGood-Hit1', 54.84)])\n",
      "2024-12-11 07:55:05.584:INFO:training.myTrain - The checkpoint file has been updated.\n",
      "Epoch:  26%|██▌       | 51/200 [13:57<22:05,  8.90s/it]2024-12-11 07:55:05.585:INFO:training.myTrain - [Epoch 52]\n"
     ]
    },
    {
     "name": "stdout",
     "output_type": "stream",
     "text": [
      "Calculating highlight scores with min score 4 (VeryGood)\n",
      "Time cost 0.23 seconds\n"
     ]
    },
    {
     "name": "stderr",
     "output_type": "stream",
     "text": [
      "Training Iteration: 100%|██████████| 226/226 [00:06<00:00, 36.11it/s]\n",
      "2024-12-11 07:55:11.911:INFO:training.myEvaluate - Generate submissions\n",
      "compute st ed scores: 100%|██████████| 16/16 [00:01<00:00, 12.40it/s]\n",
      "convert to multiples of clip_length=2: 100%|██████████| 1550/1550 [00:00<00:00, 44715.09it/s]\n",
      "2024-12-11 07:55:13.246:INFO:training.myEvaluate - Saving/Evaluating before nms results\n"
     ]
    },
    {
     "name": "stdout",
     "output_type": "stream",
     "text": [
      "full: [0, 1500], 1550/1550=100.00 examples.\n",
      "[eval_moment_retrieval] [full] 0.29 seconds\n",
      "Calculating highlight scores with min score 2 (Fair)\n",
      "Time cost 0.26 seconds\n",
      "Calculating highlight scores with min score 3 (Good)\n",
      "Time cost 0.28 seconds\n"
     ]
    },
    {
     "name": "stderr",
     "output_type": "stream",
     "text": [
      "2024-12-11 07:55:14.369:INFO:training.myTrain - metrics OrderedDict([   ('MR-full-R1@0.5', 52.71),\n",
      "                ('MR-full-R1@0.7', 32.58),\n",
      "                ('MR-full-mAP', 30.45),\n",
      "                ('MR-full-mAP@0.5', 54.76),\n",
      "                ('MR-full-mAP@0.75', 28.12),\n",
      "                ('HL-min-Fair-mAP', 67.7),\n",
      "                ('HL-min-Fair-Hit1', 66.0),\n",
      "                ('HL-min-Good-mAP', 57.98),\n",
      "                ('HL-min-Good-Hit1', 64.26),\n",
      "                ('HL-min-VeryGood-mAP', 35.76),\n",
      "                ('HL-min-VeryGood-Hit1', 54.97)])\n",
      "Epoch:  26%|██▌       | 52/200 [14:06<21:51,  8.86s/it]2024-12-11 07:55:14.370:INFO:training.myTrain - [Epoch 53]\n"
     ]
    },
    {
     "name": "stdout",
     "output_type": "stream",
     "text": [
      "Calculating highlight scores with min score 4 (VeryGood)\n",
      "Time cost 0.24 seconds\n"
     ]
    },
    {
     "name": "stderr",
     "output_type": "stream",
     "text": [
      "Training Iteration: 100%|██████████| 226/226 [00:06<00:00, 36.81it/s]\n",
      "2024-12-11 07:55:20.579:INFO:training.myEvaluate - Generate submissions\n",
      "compute st ed scores: 100%|██████████| 16/16 [00:01<00:00, 13.45it/s]\n",
      "convert to multiples of clip_length=2: 100%|██████████| 1550/1550 [00:00<00:00, 40801.13it/s]\n",
      "2024-12-11 07:55:21.817:INFO:training.myEvaluate - Saving/Evaluating before nms results\n"
     ]
    },
    {
     "name": "stdout",
     "output_type": "stream",
     "text": [
      "full: [0, 1500], 1550/1550=100.00 examples.\n",
      "[eval_moment_retrieval] [full] 0.34 seconds\n",
      "Calculating highlight scores with min score 2 (Fair)\n",
      "Time cost 0.25 seconds\n",
      "Calculating highlight scores with min score 3 (Good)\n",
      "Time cost 0.25 seconds\n"
     ]
    },
    {
     "name": "stderr",
     "output_type": "stream",
     "text": [
      "2024-12-11 07:55:22.923:INFO:training.myTrain - metrics OrderedDict([   ('MR-full-R1@0.5', 52.58),\n",
      "                ('MR-full-R1@0.7', 33.48),\n",
      "                ('MR-full-mAP', 31.59),\n",
      "                ('MR-full-mAP@0.5', 54.99),\n",
      "                ('MR-full-mAP@0.75', 30.43),\n",
      "                ('HL-min-Fair-mAP', 67.25),\n",
      "                ('HL-min-Fair-Hit1', 65.61),\n",
      "                ('HL-min-Good-mAP', 57.52),\n",
      "                ('HL-min-Good-Hit1', 63.81),\n",
      "                ('HL-min-VeryGood-mAP', 35.64),\n",
      "                ('HL-min-VeryGood-Hit1', 54.97)])\n",
      "Epoch:  26%|██▋       | 53/200 [14:14<21:29,  8.77s/it]2024-12-11 07:55:22.924:INFO:training.myTrain - [Epoch 54]\n"
     ]
    },
    {
     "name": "stdout",
     "output_type": "stream",
     "text": [
      "Calculating highlight scores with min score 4 (VeryGood)\n",
      "Time cost 0.21 seconds\n"
     ]
    },
    {
     "name": "stderr",
     "output_type": "stream",
     "text": [
      "Training Iteration: 100%|██████████| 226/226 [00:06<00:00, 35.86it/s]\n",
      "2024-12-11 07:55:29.286:INFO:training.myEvaluate - Generate submissions\n",
      "compute st ed scores: 100%|██████████| 16/16 [00:01<00:00, 12.39it/s]\n",
      "convert to multiples of clip_length=2: 100%|██████████| 1550/1550 [00:00<00:00, 35344.75it/s]\n",
      "2024-12-11 07:55:30.632:INFO:training.myEvaluate - Saving/Evaluating before nms results\n"
     ]
    },
    {
     "name": "stdout",
     "output_type": "stream",
     "text": [
      "full: [0, 1500], 1550/1550=100.00 examples.\n",
      "[eval_moment_retrieval] [full] 0.29 seconds\n",
      "Calculating highlight scores with min score 2 (Fair)\n",
      "Time cost 0.26 seconds\n",
      "Calculating highlight scores with min score 3 (Good)\n",
      "Time cost 0.28 seconds\n"
     ]
    },
    {
     "name": "stderr",
     "output_type": "stream",
     "text": [
      "2024-12-11 07:55:31.754:INFO:training.myTrain - metrics OrderedDict([   ('MR-full-R1@0.5', 52.39),\n",
      "                ('MR-full-R1@0.7', 33.42),\n",
      "                ('MR-full-mAP', 30.68),\n",
      "                ('MR-full-mAP@0.5', 54.32),\n",
      "                ('MR-full-mAP@0.75', 29.46),\n",
      "                ('HL-min-Fair-mAP', 67.7),\n",
      "                ('HL-min-Fair-Hit1', 65.61),\n",
      "                ('HL-min-Good-mAP', 57.88),\n",
      "                ('HL-min-Good-Hit1', 63.74),\n",
      "                ('HL-min-VeryGood-mAP', 35.94),\n",
      "                ('HL-min-VeryGood-Hit1', 54.32)])\n",
      "Epoch:  27%|██▋       | 54/200 [14:23<21:23,  8.79s/it]2024-12-11 07:55:31.755:INFO:training.myTrain - [Epoch 55]\n"
     ]
    },
    {
     "name": "stdout",
     "output_type": "stream",
     "text": [
      "Calculating highlight scores with min score 4 (VeryGood)\n",
      "Time cost 0.23 seconds\n"
     ]
    },
    {
     "name": "stderr",
     "output_type": "stream",
     "text": [
      "Training Iteration: 100%|██████████| 226/226 [00:06<00:00, 36.05it/s]\n",
      "2024-12-11 07:55:38.093:INFO:training.myEvaluate - Generate submissions\n",
      "compute st ed scores: 100%|██████████| 16/16 [00:01<00:00, 13.57it/s]\n",
      "convert to multiples of clip_length=2: 100%|██████████| 1550/1550 [00:00<00:00, 41969.85it/s]\n",
      "2024-12-11 07:55:39.320:INFO:training.myEvaluate - Saving/Evaluating before nms results\n"
     ]
    },
    {
     "name": "stdout",
     "output_type": "stream",
     "text": [
      "full: [0, 1500], 1550/1550=100.00 examples.\n",
      "[eval_moment_retrieval] [full] 0.40 seconds\n",
      "Calculating highlight scores with min score 2 (Fair)\n",
      "Time cost 0.30 seconds\n",
      "Calculating highlight scores with min score 3 (Good)\n",
      "Time cost 0.28 seconds\n"
     ]
    },
    {
     "name": "stderr",
     "output_type": "stream",
     "text": [
      "2024-12-11 07:55:40.605:INFO:training.myTrain - metrics OrderedDict([   ('MR-full-R1@0.5', 52.84),\n",
      "                ('MR-full-R1@0.7', 32.0),\n",
      "                ('MR-full-mAP', 29.8),\n",
      "                ('MR-full-mAP@0.5', 54.37),\n",
      "                ('MR-full-mAP@0.75', 27.08),\n",
      "                ('HL-min-Fair-mAP', 67.92),\n",
      "                ('HL-min-Fair-Hit1', 67.48),\n",
      "                ('HL-min-Good-mAP', 58.14),\n",
      "                ('HL-min-Good-Hit1', 65.55),\n",
      "                ('HL-min-VeryGood-mAP', 36.03),\n",
      "                ('HL-min-VeryGood-Hit1', 56.0)])\n",
      "Epoch:  28%|██▊       | 55/200 [14:32<21:17,  8.81s/it]2024-12-11 07:55:40.606:INFO:training.myTrain - [Epoch 56]\n"
     ]
    },
    {
     "name": "stdout",
     "output_type": "stream",
     "text": [
      "Calculating highlight scores with min score 4 (VeryGood)\n",
      "Time cost 0.24 seconds\n"
     ]
    },
    {
     "name": "stderr",
     "output_type": "stream",
     "text": [
      "Training Iteration: 100%|██████████| 226/226 [00:06<00:00, 35.49it/s]\n",
      "2024-12-11 07:55:47.044:INFO:training.myEvaluate - Generate submissions\n",
      "compute st ed scores: 100%|██████████| 16/16 [00:01<00:00, 13.87it/s]\n",
      "convert to multiples of clip_length=2: 100%|██████████| 1550/1550 [00:00<00:00, 44723.39it/s]\n",
      "2024-12-11 07:55:48.242:INFO:training.myEvaluate - Saving/Evaluating before nms results\n"
     ]
    },
    {
     "name": "stdout",
     "output_type": "stream",
     "text": [
      "full: [0, 1500], 1550/1550=100.00 examples.\n",
      "[eval_moment_retrieval] [full] 0.39 seconds\n",
      "Calculating highlight scores with min score 2 (Fair)\n",
      "Time cost 0.29 seconds\n",
      "Calculating highlight scores with min score 3 (Good)\n",
      "Time cost 0.27 seconds\n"
     ]
    },
    {
     "name": "stderr",
     "output_type": "stream",
     "text": [
      "2024-12-11 07:55:49.507:INFO:training.myTrain - metrics OrderedDict([   ('MR-full-R1@0.5', 52.71),\n",
      "                ('MR-full-R1@0.7', 32.77),\n",
      "                ('MR-full-mAP', 30.93),\n",
      "                ('MR-full-mAP@0.5', 55.18),\n",
      "                ('MR-full-mAP@0.75', 29.4),\n",
      "                ('HL-min-Fair-mAP', 67.9),\n",
      "                ('HL-min-Fair-Hit1', 66.32),\n",
      "                ('HL-min-Good-mAP', 58.09),\n",
      "                ('HL-min-Good-Hit1', 64.52),\n",
      "                ('HL-min-VeryGood-mAP', 35.92),\n",
      "                ('HL-min-VeryGood-Hit1', 54.77)])\n",
      "Epoch:  28%|██▊       | 56/200 [14:41<21:12,  8.84s/it]2024-12-11 07:55:49.508:INFO:training.myTrain - [Epoch 57]\n"
     ]
    },
    {
     "name": "stdout",
     "output_type": "stream",
     "text": [
      "Calculating highlight scores with min score 4 (VeryGood)\n",
      "Time cost 0.26 seconds\n"
     ]
    },
    {
     "name": "stderr",
     "output_type": "stream",
     "text": [
      "Training Iteration: 100%|██████████| 226/226 [00:06<00:00, 36.49it/s]\n",
      "2024-12-11 07:55:55.776:INFO:training.myEvaluate - Generate submissions\n",
      "compute st ed scores: 100%|██████████| 16/16 [00:01<00:00, 12.04it/s]\n",
      "convert to multiples of clip_length=2: 100%|██████████| 1550/1550 [00:00<00:00, 40799.85it/s]\n",
      "2024-12-11 07:55:57.153:INFO:training.myEvaluate - Saving/Evaluating before nms results\n"
     ]
    },
    {
     "name": "stdout",
     "output_type": "stream",
     "text": [
      "full: [0, 1500], 1550/1550=100.00 examples.\n",
      "[eval_moment_retrieval] [full] 0.28 seconds\n",
      "Calculating highlight scores with min score 2 (Fair)\n",
      "Time cost 0.26 seconds\n",
      "Calculating highlight scores with min score 3 (Good)\n",
      "Time cost 0.27 seconds\n"
     ]
    },
    {
     "name": "stderr",
     "output_type": "stream",
     "text": [
      "2024-12-11 07:55:58.260:INFO:training.myTrain - metrics OrderedDict([   ('MR-full-R1@0.5', 51.68),\n",
      "                ('MR-full-R1@0.7', 33.61),\n",
      "                ('MR-full-mAP', 30.21),\n",
      "                ('MR-full-mAP@0.5', 53.03),\n",
      "                ('MR-full-mAP@0.75', 28.77),\n",
      "                ('HL-min-Fair-mAP', 67.22),\n",
      "                ('HL-min-Fair-Hit1', 65.29),\n",
      "                ('HL-min-Good-mAP', 57.29),\n",
      "                ('HL-min-Good-Hit1', 63.42),\n",
      "                ('HL-min-VeryGood-mAP', 35.43),\n",
      "                ('HL-min-VeryGood-Hit1', 53.61)])\n",
      "Epoch:  28%|██▊       | 57/200 [14:50<20:59,  8.81s/it]2024-12-11 07:55:58.261:INFO:training.myTrain - [Epoch 58]\n"
     ]
    },
    {
     "name": "stdout",
     "output_type": "stream",
     "text": [
      "Calculating highlight scores with min score 4 (VeryGood)\n",
      "Time cost 0.25 seconds\n"
     ]
    },
    {
     "name": "stderr",
     "output_type": "stream",
     "text": [
      "Training Iteration: 100%|██████████| 226/226 [00:06<00:00, 35.56it/s]\n",
      "2024-12-11 07:56:04.690:INFO:training.myEvaluate - Generate submissions\n",
      "compute st ed scores: 100%|██████████| 16/16 [00:01<00:00, 13.42it/s]\n",
      "convert to multiples of clip_length=2: 100%|██████████| 1550/1550 [00:00<00:00, 44724.62it/s]\n",
      "2024-12-11 07:56:05.927:INFO:training.myEvaluate - Saving/Evaluating before nms results\n"
     ]
    },
    {
     "name": "stdout",
     "output_type": "stream",
     "text": [
      "full: [0, 1500], 1550/1550=100.00 examples.\n",
      "[eval_moment_retrieval] [full] 0.35 seconds\n",
      "Calculating highlight scores with min score 2 (Fair)\n",
      "Time cost 0.27 seconds\n",
      "Calculating highlight scores with min score 3 (Good)\n",
      "Time cost 0.26 seconds\n"
     ]
    },
    {
     "name": "stderr",
     "output_type": "stream",
     "text": [
      "2024-12-11 07:56:07.083:INFO:training.myTrain - metrics OrderedDict([   ('MR-full-R1@0.5', 52.9),\n",
      "                ('MR-full-R1@0.7', 34.26),\n",
      "                ('MR-full-mAP', 31.08),\n",
      "                ('MR-full-mAP@0.5', 55.14),\n",
      "                ('MR-full-mAP@0.75', 30.08),\n",
      "                ('HL-min-Fair-mAP', 67.71),\n",
      "                ('HL-min-Fair-Hit1', 66.26),\n",
      "                ('HL-min-Good-mAP', 57.77),\n",
      "                ('HL-min-Good-Hit1', 64.19),\n",
      "                ('HL-min-VeryGood-mAP', 35.75),\n",
      "                ('HL-min-VeryGood-Hit1', 54.84)])\n",
      "Epoch:  29%|██▉       | 58/200 [14:58<20:51,  8.81s/it]2024-12-11 07:56:07.084:INFO:training.myTrain - [Epoch 59]\n"
     ]
    },
    {
     "name": "stdout",
     "output_type": "stream",
     "text": [
      "Calculating highlight scores with min score 4 (VeryGood)\n",
      "Time cost 0.22 seconds\n"
     ]
    },
    {
     "name": "stderr",
     "output_type": "stream",
     "text": [
      "Training Iteration: 100%|██████████| 226/226 [00:06<00:00, 35.66it/s]\n",
      "2024-12-11 07:56:13.484:INFO:training.myEvaluate - Generate submissions\n",
      "compute st ed scores: 100%|██████████| 16/16 [00:01<00:00, 12.13it/s]\n",
      "convert to multiples of clip_length=2: 100%|██████████| 1550/1550 [00:00<00:00, 43518.12it/s]\n",
      "2024-12-11 07:56:14.848:INFO:training.myEvaluate - Saving/Evaluating before nms results\n"
     ]
    },
    {
     "name": "stdout",
     "output_type": "stream",
     "text": [
      "full: [0, 1500], 1550/1550=100.00 examples.\n",
      "[eval_moment_retrieval] [full] 0.28 seconds\n",
      "Calculating highlight scores with min score 2 (Fair)\n",
      "Time cost 0.27 seconds\n",
      "Calculating highlight scores with min score 3 (Good)\n",
      "Time cost 0.27 seconds\n"
     ]
    },
    {
     "name": "stderr",
     "output_type": "stream",
     "text": [
      "2024-12-11 07:56:15.952:INFO:training.myTrain - metrics OrderedDict([   ('MR-full-R1@0.5', 52.06),\n",
      "                ('MR-full-R1@0.7', 33.81),\n",
      "                ('MR-full-mAP', 30.74),\n",
      "                ('MR-full-mAP@0.5', 53.58),\n",
      "                ('MR-full-mAP@0.75', 29.55),\n",
      "                ('HL-min-Fair-mAP', 67.94),\n",
      "                ('HL-min-Fair-Hit1', 66.19),\n",
      "                ('HL-min-Good-mAP', 58.01),\n",
      "                ('HL-min-Good-Hit1', 64.06),\n",
      "                ('HL-min-VeryGood-mAP', 35.88),\n",
      "                ('HL-min-VeryGood-Hit1', 54.65)])\n",
      "Epoch:  30%|██▉       | 59/200 [15:07<20:45,  8.83s/it]2024-12-11 07:56:15.953:INFO:training.myTrain - [Epoch 60]\n"
     ]
    },
    {
     "name": "stdout",
     "output_type": "stream",
     "text": [
      "Calculating highlight scores with min score 4 (VeryGood)\n",
      "Time cost 0.23 seconds\n"
     ]
    },
    {
     "name": "stderr",
     "output_type": "stream",
     "text": [
      "Training Iteration: 100%|██████████| 226/226 [00:06<00:00, 35.48it/s]\n",
      "2024-12-11 07:56:22.382:INFO:training.myEvaluate - Generate submissions\n",
      "compute st ed scores: 100%|██████████| 16/16 [00:01<00:00, 13.16it/s]\n",
      "convert to multiples of clip_length=2: 100%|██████████| 1550/1550 [00:00<00:00, 45526.09it/s]\n",
      "2024-12-11 07:56:23.642:INFO:training.myEvaluate - Saving/Evaluating before nms results\n"
     ]
    },
    {
     "name": "stdout",
     "output_type": "stream",
     "text": [
      "full: [0, 1500], 1550/1550=100.00 examples.\n",
      "[eval_moment_retrieval] [full] 0.35 seconds\n",
      "Calculating highlight scores with min score 2 (Fair)\n",
      "Time cost 0.25 seconds\n",
      "Calculating highlight scores with min score 3 (Good)\n",
      "Time cost 0.24 seconds\n"
     ]
    },
    {
     "name": "stderr",
     "output_type": "stream",
     "text": [
      "2024-12-11 07:56:24.766:INFO:training.myTrain - metrics OrderedDict([   ('MR-full-R1@0.5', 50.65),\n",
      "                ('MR-full-R1@0.7', 32.13),\n",
      "                ('MR-full-mAP', 29.89),\n",
      "                ('MR-full-mAP@0.5', 53.14),\n",
      "                ('MR-full-mAP@0.75', 29.03),\n",
      "                ('HL-min-Fair-mAP', 67.81),\n",
      "                ('HL-min-Fair-Hit1', 66.0),\n",
      "                ('HL-min-Good-mAP', 57.92),\n",
      "                ('HL-min-Good-Hit1', 64.06),\n",
      "                ('HL-min-VeryGood-mAP', 35.83),\n",
      "                ('HL-min-VeryGood-Hit1', 54.84)])\n",
      "Epoch:  30%|███       | 60/200 [15:16<20:35,  8.83s/it]2024-12-11 07:56:24.767:INFO:training.myTrain - [Epoch 61]\n"
     ]
    },
    {
     "name": "stdout",
     "output_type": "stream",
     "text": [
      "Calculating highlight scores with min score 4 (VeryGood)\n",
      "Time cost 0.23 seconds\n"
     ]
    },
    {
     "name": "stderr",
     "output_type": "stream",
     "text": [
      "Training Iteration: 100%|██████████| 226/226 [00:06<00:00, 36.61it/s]\n",
      "2024-12-11 07:56:31.010:INFO:training.myEvaluate - Generate submissions\n",
      "compute st ed scores: 100%|██████████| 16/16 [00:01<00:00, 12.13it/s]\n",
      "convert to multiples of clip_length=2: 100%|██████████| 1550/1550 [00:00<00:00, 41630.94it/s]\n",
      "2024-12-11 07:56:32.376:INFO:training.myEvaluate - Saving/Evaluating before nms results\n"
     ]
    },
    {
     "name": "stdout",
     "output_type": "stream",
     "text": [
      "full: [0, 1500], 1550/1550=100.00 examples.\n",
      "[eval_moment_retrieval] [full] 0.27 seconds\n",
      "Calculating highlight scores with min score 2 (Fair)\n",
      "Time cost 0.27 seconds\n",
      "Calculating highlight scores with min score 3 (Good)\n",
      "Time cost 0.25 seconds\n"
     ]
    },
    {
     "name": "stderr",
     "output_type": "stream",
     "text": [
      "2024-12-11 07:56:33.431:INFO:training.myTrain - metrics OrderedDict([   ('MR-full-R1@0.5', 53.23),\n",
      "                ('MR-full-R1@0.7', 34.71),\n",
      "                ('MR-full-mAP', 31.84),\n",
      "                ('MR-full-mAP@0.5', 55.02),\n",
      "                ('MR-full-mAP@0.75', 30.98),\n",
      "                ('HL-min-Fair-mAP', 67.77),\n",
      "                ('HL-min-Fair-Hit1', 66.45),\n",
      "                ('HL-min-Good-mAP', 58.02),\n",
      "                ('HL-min-Good-Hit1', 64.45),\n",
      "                ('HL-min-VeryGood-mAP', 35.84),\n",
      "                ('HL-min-VeryGood-Hit1', 54.32)])\n",
      "Epoch:  30%|███       | 61/200 [15:25<20:20,  8.78s/it]2024-12-11 07:56:33.432:INFO:training.myTrain - [Epoch 62]\n"
     ]
    },
    {
     "name": "stdout",
     "output_type": "stream",
     "text": [
      "Calculating highlight scores with min score 4 (VeryGood)\n",
      "Time cost 0.21 seconds\n"
     ]
    },
    {
     "name": "stderr",
     "output_type": "stream",
     "text": [
      "Training Iteration: 100%|██████████| 226/226 [00:06<00:00, 35.18it/s]\n",
      "2024-12-11 07:56:39.916:INFO:training.myEvaluate - Generate submissions\n",
      "compute st ed scores: 100%|██████████| 16/16 [00:01<00:00, 13.28it/s]\n",
      "convert to multiples of clip_length=2: 100%|██████████| 1550/1550 [00:00<00:00, 44641.70it/s]\n",
      "2024-12-11 07:56:41.166:INFO:training.myEvaluate - Saving/Evaluating before nms results\n"
     ]
    },
    {
     "name": "stdout",
     "output_type": "stream",
     "text": [
      "full: [0, 1500], 1550/1550=100.00 examples.\n",
      "[eval_moment_retrieval] [full] 0.38 seconds\n",
      "Calculating highlight scores with min score 2 (Fair)\n",
      "Time cost 0.28 seconds\n",
      "Calculating highlight scores with min score 3 (Good)\n",
      "Time cost 0.28 seconds\n"
     ]
    },
    {
     "name": "stderr",
     "output_type": "stream",
     "text": [
      "2024-12-11 07:56:42.400:INFO:training.myTrain - metrics OrderedDict([   ('MR-full-R1@0.5', 52.58),\n",
      "                ('MR-full-R1@0.7', 32.45),\n",
      "                ('MR-full-mAP', 30.74),\n",
      "                ('MR-full-mAP@0.5', 55.13),\n",
      "                ('MR-full-mAP@0.75', 29.61),\n",
      "                ('HL-min-Fair-mAP', 68.18),\n",
      "                ('HL-min-Fair-Hit1', 66.13),\n",
      "                ('HL-min-Good-mAP', 58.29),\n",
      "                ('HL-min-Good-Hit1', 64.13),\n",
      "                ('HL-min-VeryGood-mAP', 36.0),\n",
      "                ('HL-min-VeryGood-Hit1', 54.52)])\n",
      "Epoch:  31%|███       | 62/200 [15:34<20:19,  8.83s/it]2024-12-11 07:56:42.401:INFO:training.myTrain - [Epoch 63]\n"
     ]
    },
    {
     "name": "stdout",
     "output_type": "stream",
     "text": [
      "Calculating highlight scores with min score 4 (VeryGood)\n",
      "Time cost 0.23 seconds\n"
     ]
    },
    {
     "name": "stderr",
     "output_type": "stream",
     "text": [
      "Training Iteration: 100%|██████████| 226/226 [00:06<00:00, 37.41it/s]\n",
      "2024-12-11 07:56:48.514:INFO:training.myEvaluate - Generate submissions\n",
      "compute st ed scores: 100%|██████████| 16/16 [00:01<00:00, 11.79it/s]\n",
      "convert to multiples of clip_length=2: 100%|██████████| 1550/1550 [00:00<00:00, 41157.33it/s]\n",
      "2024-12-11 07:56:49.919:INFO:training.myEvaluate - Saving/Evaluating before nms results\n"
     ]
    },
    {
     "name": "stdout",
     "output_type": "stream",
     "text": [
      "full: [0, 1500], 1550/1550=100.00 examples.\n",
      "[eval_moment_retrieval] [full] 0.29 seconds\n",
      "Calculating highlight scores with min score 2 (Fair)\n",
      "Time cost 0.26 seconds\n",
      "Calculating highlight scores with min score 3 (Good)\n",
      "Time cost 0.25 seconds\n"
     ]
    },
    {
     "name": "stderr",
     "output_type": "stream",
     "text": [
      "2024-12-11 07:56:51.000:INFO:training.myTrain - metrics OrderedDict([   ('MR-full-R1@0.5', 51.81),\n",
      "                ('MR-full-R1@0.7', 33.35),\n",
      "                ('MR-full-mAP', 30.67),\n",
      "                ('MR-full-mAP@0.5', 53.81),\n",
      "                ('MR-full-mAP@0.75', 29.68),\n",
      "                ('HL-min-Fair-mAP', 68.27),\n",
      "                ('HL-min-Fair-Hit1', 66.26),\n",
      "                ('HL-min-Good-mAP', 58.45),\n",
      "                ('HL-min-Good-Hit1', 64.52),\n",
      "                ('HL-min-VeryGood-mAP', 36.36),\n",
      "                ('HL-min-VeryGood-Hit1', 55.68)])\n",
      "Epoch:  32%|███▏      | 63/200 [15:42<20:00,  8.76s/it]2024-12-11 07:56:51.001:INFO:training.myTrain - [Epoch 64]\n"
     ]
    },
    {
     "name": "stdout",
     "output_type": "stream",
     "text": [
      "Calculating highlight scores with min score 4 (VeryGood)\n",
      "Time cost 0.23 seconds\n"
     ]
    },
    {
     "name": "stderr",
     "output_type": "stream",
     "text": [
      "Training Iteration: 100%|██████████| 226/226 [00:06<00:00, 35.85it/s]\n",
      "2024-12-11 07:56:57.364:INFO:training.myEvaluate - Generate submissions\n",
      "compute st ed scores: 100%|██████████| 16/16 [00:01<00:00, 13.08it/s]\n",
      "convert to multiples of clip_length=2: 100%|██████████| 1550/1550 [00:00<00:00, 45613.29it/s]\n",
      "2024-12-11 07:56:58.633:INFO:training.myEvaluate - Saving/Evaluating before nms results\n"
     ]
    },
    {
     "name": "stdout",
     "output_type": "stream",
     "text": [
      "full: [0, 1500], 1550/1550=100.00 examples.\n",
      "[eval_moment_retrieval] [full] 0.39 seconds\n",
      "Calculating highlight scores with min score 2 (Fair)\n",
      "Time cost 0.28 seconds\n",
      "Calculating highlight scores with min score 3 (Good)\n",
      "Time cost 0.28 seconds\n"
     ]
    },
    {
     "name": "stderr",
     "output_type": "stream",
     "text": [
      "2024-12-11 07:56:59.875:INFO:training.myTrain - metrics OrderedDict([   ('MR-full-R1@0.5', 53.55),\n",
      "                ('MR-full-R1@0.7', 33.68),\n",
      "                ('MR-full-mAP', 31.72),\n",
      "                ('MR-full-mAP@0.5', 55.7),\n",
      "                ('MR-full-mAP@0.75', 29.98),\n",
      "                ('HL-min-Fair-mAP', 68.39),\n",
      "                ('HL-min-Fair-Hit1', 66.71),\n",
      "                ('HL-min-Good-mAP', 58.45),\n",
      "                ('HL-min-Good-Hit1', 64.52),\n",
      "                ('HL-min-VeryGood-mAP', 36.0),\n",
      "                ('HL-min-VeryGood-Hit1', 55.16)])\n",
      "Epoch:  32%|███▏      | 64/200 [15:51<19:56,  8.80s/it]2024-12-11 07:56:59.876:INFO:training.myTrain - [Epoch 65]\n"
     ]
    },
    {
     "name": "stdout",
     "output_type": "stream",
     "text": [
      "Calculating highlight scores with min score 4 (VeryGood)\n",
      "Time cost 0.24 seconds\n"
     ]
    },
    {
     "name": "stderr",
     "output_type": "stream",
     "text": [
      "Training Iteration: 100%|██████████| 226/226 [00:06<00:00, 35.19it/s]\n",
      "2024-12-11 07:57:06.359:INFO:training.myEvaluate - Generate submissions\n",
      "compute st ed scores: 100%|██████████| 16/16 [00:01<00:00, 12.46it/s]\n",
      "convert to multiples of clip_length=2: 100%|██████████| 1550/1550 [00:00<00:00, 42135.78it/s]\n",
      "2024-12-11 07:57:07.690:INFO:training.myEvaluate - Saving/Evaluating before nms results\n"
     ]
    },
    {
     "name": "stdout",
     "output_type": "stream",
     "text": [
      "full: [0, 1500], 1550/1550=100.00 examples.\n",
      "[eval_moment_retrieval] [full] 0.28 seconds\n",
      "Calculating highlight scores with min score 2 (Fair)\n",
      "Time cost 0.26 seconds\n",
      "Calculating highlight scores with min score 3 (Good)\n",
      "Time cost 0.23 seconds\n"
     ]
    },
    {
     "name": "stderr",
     "output_type": "stream",
     "text": [
      "2024-12-11 07:57:08.740:INFO:training.myTrain - metrics OrderedDict([   ('MR-full-R1@0.5', 53.68),\n",
      "                ('MR-full-R1@0.7', 35.16),\n",
      "                ('MR-full-mAP', 31.95),\n",
      "                ('MR-full-mAP@0.5', 55.16),\n",
      "                ('MR-full-mAP@0.75', 31.18),\n",
      "                ('HL-min-Fair-mAP', 68.01),\n",
      "                ('HL-min-Fair-Hit1', 65.94),\n",
      "                ('HL-min-Good-mAP', 58.1),\n",
      "                ('HL-min-Good-Hit1', 63.61),\n",
      "                ('HL-min-VeryGood-mAP', 35.94),\n",
      "                ('HL-min-VeryGood-Hit1', 54.65)])\n",
      "Epoch:  32%|███▎      | 65/200 [16:00<19:50,  8.82s/it]2024-12-11 07:57:08.741:INFO:training.myTrain - [Epoch 66]\n"
     ]
    },
    {
     "name": "stdout",
     "output_type": "stream",
     "text": [
      "Calculating highlight scores with min score 4 (VeryGood)\n",
      "Time cost 0.22 seconds\n"
     ]
    },
    {
     "name": "stderr",
     "output_type": "stream",
     "text": [
      "Training Iteration: 100%|██████████| 226/226 [00:06<00:00, 34.09it/s]\n",
      "2024-12-11 07:57:15.441:INFO:training.myEvaluate - Generate submissions\n",
      "compute st ed scores: 100%|██████████| 16/16 [00:01<00:00, 13.26it/s]\n",
      "convert to multiples of clip_length=2: 100%|██████████| 1550/1550 [00:00<00:00, 47114.03it/s]\n",
      "2024-12-11 07:57:16.691:INFO:training.myEvaluate - Saving/Evaluating before nms results\n"
     ]
    },
    {
     "name": "stdout",
     "output_type": "stream",
     "text": [
      "full: [0, 1500], 1550/1550=100.00 examples.\n",
      "[eval_moment_retrieval] [full] 0.39 seconds\n",
      "Calculating highlight scores with min score 2 (Fair)\n",
      "Time cost 0.29 seconds\n",
      "Calculating highlight scores with min score 3 (Good)\n",
      "Time cost 0.29 seconds\n"
     ]
    },
    {
     "name": "stderr",
     "output_type": "stream",
     "text": [
      "2024-12-11 07:57:17.976:INFO:training.myTrain - metrics OrderedDict([   ('MR-full-R1@0.5', 53.74),\n",
      "                ('MR-full-R1@0.7', 35.16),\n",
      "                ('MR-full-mAP', 31.76),\n",
      "                ('MR-full-mAP@0.5', 55.54),\n",
      "                ('MR-full-mAP@0.75', 30.24),\n",
      "                ('HL-min-Fair-mAP', 68.7),\n",
      "                ('HL-min-Fair-Hit1', 66.39),\n",
      "                ('HL-min-Good-mAP', 58.71),\n",
      "                ('HL-min-Good-Hit1', 64.32),\n",
      "                ('HL-min-VeryGood-mAP', 36.29),\n",
      "                ('HL-min-VeryGood-Hit1', 54.97)])\n",
      "Epoch:  33%|███▎      | 66/200 [16:09<19:58,  8.94s/it]2024-12-11 07:57:17.977:INFO:training.myTrain - [Epoch 67]\n"
     ]
    },
    {
     "name": "stdout",
     "output_type": "stream",
     "text": [
      "Calculating highlight scores with min score 4 (VeryGood)\n",
      "Time cost 0.26 seconds\n"
     ]
    },
    {
     "name": "stderr",
     "output_type": "stream",
     "text": [
      "Training Iteration: 100%|██████████| 226/226 [00:06<00:00, 37.48it/s]\n",
      "2024-12-11 07:57:24.074:INFO:training.myEvaluate - Generate submissions\n",
      "compute st ed scores: 100%|██████████| 16/16 [00:01<00:00, 13.39it/s]\n",
      "convert to multiples of clip_length=2: 100%|██████████| 1550/1550 [00:00<00:00, 39591.80it/s]\n",
      "2024-12-11 07:57:25.318:INFO:training.myEvaluate - Saving/Evaluating before nms results\n"
     ]
    },
    {
     "name": "stdout",
     "output_type": "stream",
     "text": [
      "full: [0, 1500], 1550/1550=100.00 examples.\n",
      "[eval_moment_retrieval] [full] 0.35 seconds\n",
      "Calculating highlight scores with min score 2 (Fair)\n",
      "Time cost 0.24 seconds\n",
      "Calculating highlight scores with min score 3 (Good)\n",
      "Time cost 0.24 seconds\n"
     ]
    },
    {
     "name": "stderr",
     "output_type": "stream",
     "text": [
      "2024-12-11 07:57:26.431:INFO:training.myTrain - metrics OrderedDict([   ('MR-full-R1@0.5', 52.52),\n",
      "                ('MR-full-R1@0.7', 34.84),\n",
      "                ('MR-full-mAP', 31.35),\n",
      "                ('MR-full-mAP@0.5', 54.39),\n",
      "                ('MR-full-mAP@0.75', 29.99),\n",
      "                ('HL-min-Fair-mAP', 68.36),\n",
      "                ('HL-min-Fair-Hit1', 66.32),\n",
      "                ('HL-min-Good-mAP', 58.51),\n",
      "                ('HL-min-Good-Hit1', 64.39),\n",
      "                ('HL-min-VeryGood-mAP', 36.15),\n",
      "                ('HL-min-VeryGood-Hit1', 55.42)])\n",
      "Epoch:  34%|███▎      | 67/200 [16:18<19:29,  8.80s/it]2024-12-11 07:57:26.432:INFO:training.myTrain - [Epoch 68]\n"
     ]
    },
    {
     "name": "stdout",
     "output_type": "stream",
     "text": [
      "Calculating highlight scores with min score 4 (VeryGood)\n",
      "Time cost 0.22 seconds\n"
     ]
    },
    {
     "name": "stderr",
     "output_type": "stream",
     "text": [
      "Training Iteration: 100%|██████████| 226/226 [00:05<00:00, 38.47it/s]\n",
      "2024-12-11 07:57:32.371:INFO:training.myEvaluate - Generate submissions\n",
      "compute st ed scores: 100%|██████████| 16/16 [00:01<00:00, 12.33it/s]\n",
      "convert to multiples of clip_length=2: 100%|██████████| 1550/1550 [00:00<00:00, 46122.32it/s]\n",
      "2024-12-11 07:57:33.712:INFO:training.myEvaluate - Saving/Evaluating before nms results\n"
     ]
    },
    {
     "name": "stdout",
     "output_type": "stream",
     "text": [
      "full: [0, 1500], 1550/1550=100.00 examples.\n",
      "[eval_moment_retrieval] [full] 0.30 seconds\n",
      "Calculating highlight scores with min score 2 (Fair)\n",
      "Time cost 0.27 seconds\n",
      "Calculating highlight scores with min score 3 (Good)\n",
      "Time cost 0.27 seconds\n"
     ]
    },
    {
     "name": "stderr",
     "output_type": "stream",
     "text": [
      "2024-12-11 07:57:34.842:INFO:training.myTrain - metrics OrderedDict([   ('MR-full-R1@0.5', 54.06),\n",
      "                ('MR-full-R1@0.7', 33.74),\n",
      "                ('MR-full-mAP', 31.02),\n",
      "                ('MR-full-mAP@0.5', 55.57),\n",
      "                ('MR-full-mAP@0.75', 28.59),\n",
      "                ('HL-min-Fair-mAP', 69.0),\n",
      "                ('HL-min-Fair-Hit1', 68.13),\n",
      "                ('HL-min-Good-mAP', 59.09),\n",
      "                ('HL-min-Good-Hit1', 66.32),\n",
      "                ('HL-min-VeryGood-mAP', 36.54),\n",
      "                ('HL-min-VeryGood-Hit1', 56.19)])\n",
      "Epoch:  34%|███▍      | 68/200 [16:26<19:05,  8.68s/it]2024-12-11 07:57:34.843:INFO:training.myTrain - [Epoch 69]\n"
     ]
    },
    {
     "name": "stdout",
     "output_type": "stream",
     "text": [
      "Calculating highlight scores with min score 4 (VeryGood)\n",
      "Time cost 0.23 seconds\n"
     ]
    },
    {
     "name": "stderr",
     "output_type": "stream",
     "text": [
      "Training Iteration: 100%|██████████| 226/226 [00:05<00:00, 37.84it/s]\n",
      "2024-12-11 07:57:40.879:INFO:training.myEvaluate - Generate submissions\n",
      "compute st ed scores: 100%|██████████| 16/16 [00:01<00:00, 13.65it/s]\n",
      "convert to multiples of clip_length=2: 100%|██████████| 1550/1550 [00:00<00:00, 40433.44it/s]\n",
      "2024-12-11 07:57:42.099:INFO:training.myEvaluate - Saving/Evaluating before nms results\n"
     ]
    },
    {
     "name": "stdout",
     "output_type": "stream",
     "text": [
      "full: [0, 1500], 1550/1550=100.00 examples.\n",
      "[eval_moment_retrieval] [full] 0.35 seconds\n",
      "Calculating highlight scores with min score 2 (Fair)\n",
      "Time cost 0.27 seconds\n",
      "Calculating highlight scores with min score 3 (Good)\n",
      "Time cost 0.24 seconds\n"
     ]
    },
    {
     "name": "stderr",
     "output_type": "stream",
     "text": [
      "2024-12-11 07:57:43.258:INFO:training.myTrain - metrics OrderedDict([   ('MR-full-R1@0.5', 56.26),\n",
      "                ('MR-full-R1@0.7', 36.0),\n",
      "                ('MR-full-mAP', 32.89),\n",
      "                ('MR-full-mAP@0.5', 56.78),\n",
      "                ('MR-full-mAP@0.75', 31.68),\n",
      "                ('HL-min-Fair-mAP', 68.7),\n",
      "                ('HL-min-Fair-Hit1', 66.32),\n",
      "                ('HL-min-Good-mAP', 58.79),\n",
      "                ('HL-min-Good-Hit1', 64.52),\n",
      "                ('HL-min-VeryGood-mAP', 36.38),\n",
      "                ('HL-min-VeryGood-Hit1', 55.29)])\n",
      "2024-12-11 07:57:43.350:INFO:training.myTrain - The checkpoint file has been updated.\n",
      "Epoch:  34%|███▍      | 69/200 [16:35<18:50,  8.63s/it]2024-12-11 07:57:43.351:INFO:training.myTrain - [Epoch 70]\n"
     ]
    },
    {
     "name": "stdout",
     "output_type": "stream",
     "text": [
      "Calculating highlight scores with min score 4 (VeryGood)\n",
      "Time cost 0.24 seconds\n"
     ]
    },
    {
     "name": "stderr",
     "output_type": "stream",
     "text": [
      "Training Iteration: 100%|██████████| 226/226 [00:05<00:00, 37.78it/s]\n",
      "2024-12-11 07:57:49.398:INFO:training.myEvaluate - Generate submissions\n",
      "compute st ed scores: 100%|██████████| 16/16 [00:01<00:00, 11.89it/s]\n",
      "convert to multiples of clip_length=2: 100%|██████████| 1550/1550 [00:00<00:00, 41155.25it/s]\n",
      "2024-12-11 07:57:50.791:INFO:training.myEvaluate - Saving/Evaluating before nms results\n"
     ]
    },
    {
     "name": "stdout",
     "output_type": "stream",
     "text": [
      "full: [0, 1500], 1550/1550=100.00 examples.\n",
      "[eval_moment_retrieval] [full] 0.28 seconds\n",
      "Calculating highlight scores with min score 2 (Fair)\n",
      "Time cost 0.25 seconds\n",
      "Calculating highlight scores with min score 3 (Good)\n",
      "Time cost 0.24 seconds\n"
     ]
    },
    {
     "name": "stderr",
     "output_type": "stream",
     "text": [
      "2024-12-11 07:57:51.848:INFO:training.myTrain - metrics OrderedDict([   ('MR-full-R1@0.5', 54.45),\n",
      "                ('MR-full-R1@0.7', 35.03),\n",
      "                ('MR-full-mAP', 31.28),\n",
      "                ('MR-full-mAP@0.5', 55.04),\n",
      "                ('MR-full-mAP@0.75', 29.65),\n",
      "                ('HL-min-Fair-mAP', 67.91),\n",
      "                ('HL-min-Fair-Hit1', 65.29),\n",
      "                ('HL-min-Good-mAP', 58.07),\n",
      "                ('HL-min-Good-Hit1', 63.1),\n",
      "                ('HL-min-VeryGood-mAP', 35.92),\n",
      "                ('HL-min-VeryGood-Hit1', 53.94)])\n",
      "Epoch:  35%|███▌      | 70/200 [16:43<18:36,  8.59s/it]2024-12-11 07:57:51.849:INFO:training.myTrain - [Epoch 71]\n"
     ]
    },
    {
     "name": "stdout",
     "output_type": "stream",
     "text": [
      "Calculating highlight scores with min score 4 (VeryGood)\n",
      "Time cost 0.23 seconds\n"
     ]
    },
    {
     "name": "stderr",
     "output_type": "stream",
     "text": [
      "Training Iteration: 100%|██████████| 226/226 [00:06<00:00, 36.99it/s]\n",
      "2024-12-11 07:57:58.017:INFO:training.myEvaluate - Generate submissions\n",
      "compute st ed scores: 100%|██████████| 16/16 [00:01<00:00, 13.29it/s]\n",
      "convert to multiples of clip_length=2: 100%|██████████| 1550/1550 [00:00<00:00, 43552.22it/s]\n",
      "2024-12-11 07:57:59.268:INFO:training.myEvaluate - Saving/Evaluating before nms results\n"
     ]
    },
    {
     "name": "stdout",
     "output_type": "stream",
     "text": [
      "full: [0, 1500], 1550/1550=100.00 examples.\n",
      "[eval_moment_retrieval] [full] 0.38 seconds\n",
      "Calculating highlight scores with min score 2 (Fair)\n",
      "Time cost 0.28 seconds\n",
      "Calculating highlight scores with min score 3 (Good)\n",
      "Time cost 0.27 seconds\n"
     ]
    },
    {
     "name": "stderr",
     "output_type": "stream",
     "text": [
      "2024-12-11 07:58:00.471:INFO:training.myTrain - metrics OrderedDict([   ('MR-full-R1@0.5', 54.19),\n",
      "                ('MR-full-R1@0.7', 35.94),\n",
      "                ('MR-full-mAP', 32.09),\n",
      "                ('MR-full-mAP@0.5', 55.45),\n",
      "                ('MR-full-mAP@0.75', 30.51),\n",
      "                ('HL-min-Fair-mAP', 68.99),\n",
      "                ('HL-min-Fair-Hit1', 67.03),\n",
      "                ('HL-min-Good-mAP', 59.08),\n",
      "                ('HL-min-Good-Hit1', 65.1),\n",
      "                ('HL-min-VeryGood-mAP', 36.54),\n",
      "                ('HL-min-VeryGood-Hit1', 55.61)])\n",
      "Epoch:  36%|███▌      | 71/200 [16:52<18:29,  8.60s/it]2024-12-11 07:58:00.472:INFO:training.myTrain - [Epoch 72]\n"
     ]
    },
    {
     "name": "stdout",
     "output_type": "stream",
     "text": [
      "Calculating highlight scores with min score 4 (VeryGood)\n",
      "Time cost 0.22 seconds\n"
     ]
    },
    {
     "name": "stderr",
     "output_type": "stream",
     "text": [
      "Training Iteration: 100%|██████████| 226/226 [00:06<00:00, 35.48it/s]\n",
      "2024-12-11 07:58:06.904:INFO:training.myEvaluate - Generate submissions\n",
      "compute st ed scores: 100%|██████████| 16/16 [00:01<00:00, 12.67it/s]\n",
      "convert to multiples of clip_length=2: 100%|██████████| 1550/1550 [00:00<00:00, 40428.41it/s]\n",
      "2024-12-11 07:58:08.215:INFO:training.myEvaluate - Saving/Evaluating before nms results\n"
     ]
    },
    {
     "name": "stdout",
     "output_type": "stream",
     "text": [
      "full: [0, 1500], 1550/1550=100.00 examples.\n",
      "[eval_moment_retrieval] [full] 0.26 seconds\n",
      "Calculating highlight scores with min score 2 (Fair)\n",
      "Time cost 0.26 seconds\n",
      "Calculating highlight scores with min score 3 (Good)\n",
      "Time cost 0.25 seconds\n"
     ]
    },
    {
     "name": "stderr",
     "output_type": "stream",
     "text": [
      "2024-12-11 07:58:09.261:INFO:training.myTrain - metrics OrderedDict([   ('MR-full-R1@0.5', 52.97),\n",
      "                ('MR-full-R1@0.7', 34.19),\n",
      "                ('MR-full-mAP', 31.01),\n",
      "                ('MR-full-mAP@0.5', 54.14),\n",
      "                ('MR-full-mAP@0.75', 29.71),\n",
      "                ('HL-min-Fair-mAP', 68.51),\n",
      "                ('HL-min-Fair-Hit1', 66.45),\n",
      "                ('HL-min-Good-mAP', 58.53),\n",
      "                ('HL-min-Good-Hit1', 64.71),\n",
      "                ('HL-min-VeryGood-mAP', 36.07),\n",
      "                ('HL-min-VeryGood-Hit1', 55.1)])\n",
      "Epoch:  36%|███▌      | 72/200 [17:01<18:28,  8.66s/it]2024-12-11 07:58:09.262:INFO:training.myTrain - [Epoch 73]\n"
     ]
    },
    {
     "name": "stdout",
     "output_type": "stream",
     "text": [
      "Calculating highlight scores with min score 4 (VeryGood)\n",
      "Time cost 0.21 seconds\n"
     ]
    },
    {
     "name": "stderr",
     "output_type": "stream",
     "text": [
      "Training Iteration: 100%|██████████| 226/226 [00:06<00:00, 35.24it/s]\n",
      "2024-12-11 07:58:15.740:INFO:training.myEvaluate - Generate submissions\n",
      "compute st ed scores: 100%|██████████| 16/16 [00:01<00:00, 13.49it/s]\n",
      "convert to multiples of clip_length=2: 100%|██████████| 1550/1550 [00:00<00:00, 42871.84it/s]\n",
      "2024-12-11 07:58:16.972:INFO:training.myEvaluate - Saving/Evaluating before nms results\n"
     ]
    },
    {
     "name": "stdout",
     "output_type": "stream",
     "text": [
      "full: [0, 1500], 1550/1550=100.00 examples.\n",
      "[eval_moment_retrieval] [full] 0.40 seconds\n",
      "Calculating highlight scores with min score 2 (Fair)\n",
      "Time cost 0.28 seconds\n",
      "Calculating highlight scores with min score 3 (Good)\n",
      "Time cost 0.26 seconds\n"
     ]
    },
    {
     "name": "stderr",
     "output_type": "stream",
     "text": [
      "2024-12-11 07:58:18.234:INFO:training.myTrain - metrics OrderedDict([   ('MR-full-R1@0.5', 53.35),\n",
      "                ('MR-full-R1@0.7', 33.87),\n",
      "                ('MR-full-mAP', 31.4),\n",
      "                ('MR-full-mAP@0.5', 55.22),\n",
      "                ('MR-full-mAP@0.75', 30.26),\n",
      "                ('HL-min-Fair-mAP', 68.27),\n",
      "                ('HL-min-Fair-Hit1', 66.19),\n",
      "                ('HL-min-Good-mAP', 58.37),\n",
      "                ('HL-min-Good-Hit1', 64.39),\n",
      "                ('HL-min-VeryGood-mAP', 36.11),\n",
      "                ('HL-min-VeryGood-Hit1', 55.16)])\n",
      "Epoch:  36%|███▋      | 73/200 [17:10<18:31,  8.75s/it]2024-12-11 07:58:18.235:INFO:training.myTrain - [Epoch 74]\n"
     ]
    },
    {
     "name": "stdout",
     "output_type": "stream",
     "text": [
      "Calculating highlight scores with min score 4 (VeryGood)\n",
      "Time cost 0.26 seconds\n"
     ]
    },
    {
     "name": "stderr",
     "output_type": "stream",
     "text": [
      "Training Iteration: 100%|██████████| 226/226 [00:06<00:00, 35.29it/s]\n",
      "2024-12-11 07:58:24.710:INFO:training.myEvaluate - Generate submissions\n",
      "compute st ed scores: 100%|██████████| 16/16 [00:01<00:00, 12.11it/s]\n",
      "convert to multiples of clip_length=2: 100%|██████████| 1550/1550 [00:00<00:00, 45106.30it/s]\n",
      "2024-12-11 07:58:26.076:INFO:training.myEvaluate - Saving/Evaluating before nms results\n"
     ]
    },
    {
     "name": "stdout",
     "output_type": "stream",
     "text": [
      "full: [0, 1500], 1550/1550=100.00 examples.\n",
      "[eval_moment_retrieval] [full] 0.28 seconds\n",
      "Calculating highlight scores with min score 2 (Fair)\n",
      "Time cost 0.26 seconds\n",
      "Calculating highlight scores with min score 3 (Good)\n",
      "Time cost 0.29 seconds\n"
     ]
    },
    {
     "name": "stderr",
     "output_type": "stream",
     "text": [
      "2024-12-11 07:58:27.216:INFO:training.myTrain - metrics OrderedDict([   ('MR-full-R1@0.5', 54.58),\n",
      "                ('MR-full-R1@0.7', 35.68),\n",
      "                ('MR-full-mAP', 31.96),\n",
      "                ('MR-full-mAP@0.5', 55.92),\n",
      "                ('MR-full-mAP@0.75', 30.32),\n",
      "                ('HL-min-Fair-mAP', 68.7),\n",
      "                ('HL-min-Fair-Hit1', 66.39),\n",
      "                ('HL-min-Good-mAP', 58.71),\n",
      "                ('HL-min-Good-Hit1', 64.77),\n",
      "                ('HL-min-VeryGood-mAP', 36.23),\n",
      "                ('HL-min-VeryGood-Hit1', 55.03)])\n",
      "Epoch:  37%|███▋      | 74/200 [17:19<18:31,  8.82s/it]2024-12-11 07:58:27.217:INFO:training.myTrain - [Epoch 75]\n"
     ]
    },
    {
     "name": "stdout",
     "output_type": "stream",
     "text": [
      "Calculating highlight scores with min score 4 (VeryGood)\n",
      "Time cost 0.25 seconds\n"
     ]
    },
    {
     "name": "stderr",
     "output_type": "stream",
     "text": [
      "Training Iteration: 100%|██████████| 226/226 [00:06<00:00, 34.79it/s]\n",
      "2024-12-11 07:58:33.781:INFO:training.myEvaluate - Generate submissions\n",
      "compute st ed scores: 100%|██████████| 16/16 [00:01<00:00, 13.08it/s]\n",
      "convert to multiples of clip_length=2: 100%|██████████| 1550/1550 [00:00<00:00, 41123.23it/s]\n",
      "2024-12-11 07:58:35.052:INFO:training.myEvaluate - Saving/Evaluating before nms results\n"
     ]
    },
    {
     "name": "stdout",
     "output_type": "stream",
     "text": [
      "full: [0, 1500], 1550/1550=100.00 examples.\n",
      "[eval_moment_retrieval] [full] 0.36 seconds\n",
      "Calculating highlight scores with min score 2 (Fair)\n",
      "Time cost 0.26 seconds\n",
      "Calculating highlight scores with min score 3 (Good)\n",
      "Time cost 0.26 seconds\n"
     ]
    },
    {
     "name": "stderr",
     "output_type": "stream",
     "text": [
      "2024-12-11 07:58:36.236:INFO:training.myTrain - metrics OrderedDict([   ('MR-full-R1@0.5', 52.58),\n",
      "                ('MR-full-R1@0.7', 33.68),\n",
      "                ('MR-full-mAP', 30.84),\n",
      "                ('MR-full-mAP@0.5', 53.98),\n",
      "                ('MR-full-mAP@0.75', 28.91),\n",
      "                ('HL-min-Fair-mAP', 68.38),\n",
      "                ('HL-min-Fair-Hit1', 66.45),\n",
      "                ('HL-min-Good-mAP', 58.57),\n",
      "                ('HL-min-Good-Hit1', 64.39),\n",
      "                ('HL-min-VeryGood-mAP', 36.18),\n",
      "                ('HL-min-VeryGood-Hit1', 55.03)])\n",
      "Epoch:  38%|███▊      | 75/200 [17:28<18:30,  8.88s/it]2024-12-11 07:58:36.237:INFO:training.myTrain - [Epoch 76]\n"
     ]
    },
    {
     "name": "stdout",
     "output_type": "stream",
     "text": [
      "Calculating highlight scores with min score 4 (VeryGood)\n",
      "Time cost 0.26 seconds\n"
     ]
    },
    {
     "name": "stderr",
     "output_type": "stream",
     "text": [
      "Training Iteration: 100%|██████████| 226/226 [00:06<00:00, 36.20it/s]\n",
      "2024-12-11 07:58:42.548:INFO:training.myEvaluate - Generate submissions\n",
      "compute st ed scores: 100%|██████████| 16/16 [00:01<00:00, 13.32it/s]\n",
      "convert to multiples of clip_length=2: 100%|██████████| 1550/1550 [00:00<00:00, 39723.40it/s]\n",
      "2024-12-11 07:58:43.798:INFO:training.myEvaluate - Saving/Evaluating before nms results\n"
     ]
    },
    {
     "name": "stdout",
     "output_type": "stream",
     "text": [
      "full: [0, 1500], 1550/1550=100.00 examples.\n",
      "[eval_moment_retrieval] [full] 0.34 seconds\n",
      "Calculating highlight scores with min score 2 (Fair)\n",
      "Time cost 0.25 seconds\n",
      "Calculating highlight scores with min score 3 (Good)\n",
      "Time cost 0.26 seconds\n"
     ]
    },
    {
     "name": "stderr",
     "output_type": "stream",
     "text": [
      "2024-12-11 07:58:44.921:INFO:training.myTrain - metrics OrderedDict([   ('MR-full-R1@0.5', 54.0),\n",
      "                ('MR-full-R1@0.7', 35.42),\n",
      "                ('MR-full-mAP', 31.69),\n",
      "                ('MR-full-mAP@0.5', 55.31),\n",
      "                ('MR-full-mAP@0.75', 30.93),\n",
      "                ('HL-min-Fair-mAP', 69.11),\n",
      "                ('HL-min-Fair-Hit1', 67.74),\n",
      "                ('HL-min-Good-mAP', 59.14),\n",
      "                ('HL-min-Good-Hit1', 66.0),\n",
      "                ('HL-min-VeryGood-mAP', 36.53),\n",
      "                ('HL-min-VeryGood-Hit1', 56.39)])\n",
      "Epoch:  38%|███▊      | 76/200 [17:36<18:13,  8.82s/it]2024-12-11 07:58:44.922:INFO:training.myTrain - [Epoch 77]\n"
     ]
    },
    {
     "name": "stdout",
     "output_type": "stream",
     "text": [
      "Calculating highlight scores with min score 4 (VeryGood)\n",
      "Time cost 0.21 seconds\n"
     ]
    },
    {
     "name": "stderr",
     "output_type": "stream",
     "text": [
      "Training Iteration: 100%|██████████| 226/226 [00:06<00:00, 35.11it/s]\n",
      "2024-12-11 07:58:51.421:INFO:training.myEvaluate - Generate submissions\n",
      "compute st ed scores: 100%|██████████| 16/16 [00:01<00:00, 12.00it/s]\n",
      "convert to multiples of clip_length=2: 100%|██████████| 1550/1550 [00:00<00:00, 40896.36it/s]\n",
      "2024-12-11 07:58:52.802:INFO:training.myEvaluate - Saving/Evaluating before nms results\n"
     ]
    },
    {
     "name": "stdout",
     "output_type": "stream",
     "text": [
      "full: [0, 1500], 1550/1550=100.00 examples.\n",
      "[eval_moment_retrieval] [full] 0.30 seconds\n",
      "Calculating highlight scores with min score 2 (Fair)\n",
      "Time cost 0.27 seconds\n",
      "Calculating highlight scores with min score 3 (Good)\n",
      "Time cost 0.30 seconds\n"
     ]
    },
    {
     "name": "stderr",
     "output_type": "stream",
     "text": [
      "2024-12-11 07:58:53.977:INFO:training.myTrain - metrics OrderedDict([   ('MR-full-R1@0.5', 53.68),\n",
      "                ('MR-full-R1@0.7', 34.52),\n",
      "                ('MR-full-mAP', 31.22),\n",
      "                ('MR-full-mAP@0.5', 54.89),\n",
      "                ('MR-full-mAP@0.75', 29.88),\n",
      "                ('HL-min-Fair-mAP', 68.66),\n",
      "                ('HL-min-Fair-Hit1', 67.16),\n",
      "                ('HL-min-Good-mAP', 58.81),\n",
      "                ('HL-min-Good-Hit1', 65.29),\n",
      "                ('HL-min-VeryGood-mAP', 36.37),\n",
      "                ('HL-min-VeryGood-Hit1', 56.06)])\n",
      "Epoch:  38%|███▊      | 77/200 [17:45<18:13,  8.89s/it]2024-12-11 07:58:53.978:INFO:training.myTrain - [Epoch 78]\n"
     ]
    },
    {
     "name": "stdout",
     "output_type": "stream",
     "text": [
      "Calculating highlight scores with min score 4 (VeryGood)\n",
      "Time cost 0.25 seconds\n"
     ]
    },
    {
     "name": "stderr",
     "output_type": "stream",
     "text": [
      "Training Iteration: 100%|██████████| 226/226 [00:06<00:00, 35.74it/s]\n",
      "2024-12-11 07:59:00.371:INFO:training.myEvaluate - Generate submissions\n",
      "compute st ed scores: 100%|██████████| 16/16 [00:01<00:00, 13.48it/s]\n",
      "convert to multiples of clip_length=2: 100%|██████████| 1550/1550 [00:00<00:00, 45883.71it/s]\n",
      "2024-12-11 07:59:01.602:INFO:training.myEvaluate - Saving/Evaluating before nms results\n"
     ]
    },
    {
     "name": "stdout",
     "output_type": "stream",
     "text": [
      "full: [0, 1500], 1550/1550=100.00 examples.\n",
      "[eval_moment_retrieval] [full] 0.39 seconds\n",
      "Calculating highlight scores with min score 2 (Fair)\n",
      "Time cost 0.29 seconds\n",
      "Calculating highlight scores with min score 3 (Good)\n",
      "Time cost 0.27 seconds\n"
     ]
    },
    {
     "name": "stderr",
     "output_type": "stream",
     "text": [
      "2024-12-11 07:59:02.831:INFO:training.myTrain - metrics OrderedDict([   ('MR-full-R1@0.5', 55.1),\n",
      "                ('MR-full-R1@0.7', 36.77),\n",
      "                ('MR-full-mAP', 32.58),\n",
      "                ('MR-full-mAP@0.5', 56.41),\n",
      "                ('MR-full-mAP@0.75', 30.67),\n",
      "                ('HL-min-Fair-mAP', 69.52),\n",
      "                ('HL-min-Fair-Hit1', 69.35),\n",
      "                ('HL-min-Good-mAP', 59.5),\n",
      "                ('HL-min-Good-Hit1', 67.61),\n",
      "                ('HL-min-VeryGood-mAP', 36.75),\n",
      "                ('HL-min-VeryGood-Hit1', 57.74)])\n",
      "Epoch:  39%|███▉      | 78/200 [17:54<18:03,  8.88s/it]2024-12-11 07:59:02.832:INFO:training.myTrain - [Epoch 79]\n"
     ]
    },
    {
     "name": "stdout",
     "output_type": "stream",
     "text": [
      "Calculating highlight scores with min score 4 (VeryGood)\n",
      "Time cost 0.23 seconds\n"
     ]
    },
    {
     "name": "stderr",
     "output_type": "stream",
     "text": [
      "Training Iteration: 100%|██████████| 226/226 [00:06<00:00, 35.96it/s]\n",
      "2024-12-11 07:59:09.184:INFO:training.myEvaluate - Generate submissions\n",
      "compute st ed scores: 100%|██████████| 16/16 [00:01<00:00, 12.26it/s]\n",
      "convert to multiples of clip_length=2: 100%|██████████| 1550/1550 [00:00<00:00, 40095.54it/s]\n",
      "2024-12-11 07:59:10.538:INFO:training.myEvaluate - Saving/Evaluating before nms results\n"
     ]
    },
    {
     "name": "stdout",
     "output_type": "stream",
     "text": [
      "full: [0, 1500], 1550/1550=100.00 examples.\n",
      "[eval_moment_retrieval] [full] 0.28 seconds\n",
      "Calculating highlight scores with min score 2 (Fair)\n",
      "Time cost 0.27 seconds\n",
      "Calculating highlight scores with min score 3 (Good)\n",
      "Time cost 0.24 seconds\n"
     ]
    },
    {
     "name": "stderr",
     "output_type": "stream",
     "text": [
      "2024-12-11 07:59:11.611:INFO:training.myTrain - metrics OrderedDict([   ('MR-full-R1@0.5', 54.19),\n",
      "                ('MR-full-R1@0.7', 36.26),\n",
      "                ('MR-full-mAP', 33.31),\n",
      "                ('MR-full-mAP@0.5', 56.35),\n",
      "                ('MR-full-mAP@0.75', 31.46),\n",
      "                ('HL-min-Fair-mAP', 68.86),\n",
      "                ('HL-min-Fair-Hit1', 68.13),\n",
      "                ('HL-min-Good-mAP', 59.0),\n",
      "                ('HL-min-Good-Hit1', 66.52),\n",
      "                ('HL-min-VeryGood-mAP', 36.48),\n",
      "                ('HL-min-VeryGood-Hit1', 56.58)])\n",
      "2024-12-11 07:59:11.703:INFO:training.myTrain - The checkpoint file has been updated.\n",
      "Epoch:  40%|███▉      | 79/200 [18:03<17:54,  8.88s/it]2024-12-11 07:59:11.704:INFO:training.myTrain - [Epoch 80]\n"
     ]
    },
    {
     "name": "stdout",
     "output_type": "stream",
     "text": [
      "Calculating highlight scores with min score 4 (VeryGood)\n",
      "Time cost 0.22 seconds\n"
     ]
    },
    {
     "name": "stderr",
     "output_type": "stream",
     "text": [
      "Training Iteration: 100%|██████████| 226/226 [00:06<00:00, 36.40it/s]\n",
      "2024-12-11 07:59:17.980:INFO:training.myEvaluate - Generate submissions\n",
      "compute st ed scores: 100%|██████████| 16/16 [00:01<00:00, 13.50it/s]\n",
      "convert to multiples of clip_length=2: 100%|██████████| 1550/1550 [00:00<00:00, 42456.35it/s]\n",
      "2024-12-11 07:59:19.211:INFO:training.myEvaluate - Saving/Evaluating before nms results\n"
     ]
    },
    {
     "name": "stdout",
     "output_type": "stream",
     "text": [
      "full: [0, 1500], 1550/1550=100.00 examples.\n",
      "[eval_moment_retrieval] [full] 0.36 seconds\n",
      "Calculating highlight scores with min score 2 (Fair)\n",
      "Time cost 0.27 seconds\n",
      "Calculating highlight scores with min score 3 (Good)\n",
      "Time cost 0.24 seconds\n"
     ]
    },
    {
     "name": "stderr",
     "output_type": "stream",
     "text": [
      "2024-12-11 07:59:20.365:INFO:training.myTrain - metrics OrderedDict([   ('MR-full-R1@0.5', 55.94),\n",
      "                ('MR-full-R1@0.7', 36.97),\n",
      "                ('MR-full-mAP', 32.08),\n",
      "                ('MR-full-mAP@0.5', 56.11),\n",
      "                ('MR-full-mAP@0.75', 31.44),\n",
      "                ('HL-min-Fair-mAP', 68.97),\n",
      "                ('HL-min-Fair-Hit1', 68.06),\n",
      "                ('HL-min-Good-mAP', 59.21),\n",
      "                ('HL-min-Good-Hit1', 66.58),\n",
      "                ('HL-min-VeryGood-mAP', 36.56),\n",
      "                ('HL-min-VeryGood-Hit1', 57.23)])\n",
      "Epoch:  40%|████      | 80/200 [18:12<17:37,  8.81s/it]2024-12-11 07:59:20.366:INFO:training.myTrain - [Epoch 81]\n"
     ]
    },
    {
     "name": "stdout",
     "output_type": "stream",
     "text": [
      "Calculating highlight scores with min score 4 (VeryGood)\n",
      "Time cost 0.23 seconds\n"
     ]
    },
    {
     "name": "stderr",
     "output_type": "stream",
     "text": [
      "Training Iteration: 100%|██████████| 226/226 [00:06<00:00, 36.26it/s]\n",
      "2024-12-11 07:59:26.672:INFO:training.myEvaluate - Generate submissions\n",
      "compute st ed scores: 100%|██████████| 16/16 [00:01<00:00, 12.46it/s]\n",
      "convert to multiples of clip_length=2: 100%|██████████| 1550/1550 [00:00<00:00, 39448.14it/s]\n",
      "2024-12-11 07:59:28.005:INFO:training.myEvaluate - Saving/Evaluating before nms results\n"
     ]
    },
    {
     "name": "stdout",
     "output_type": "stream",
     "text": [
      "full: [0, 1500], 1550/1550=100.00 examples.\n",
      "[eval_moment_retrieval] [full] 0.28 seconds\n",
      "Calculating highlight scores with min score 2 (Fair)\n",
      "Time cost 0.26 seconds\n",
      "Calculating highlight scores with min score 3 (Good)\n",
      "Time cost 0.26 seconds\n"
     ]
    },
    {
     "name": "stderr",
     "output_type": "stream",
     "text": [
      "2024-12-11 07:59:29.074:INFO:training.myTrain - metrics OrderedDict([   ('MR-full-R1@0.5', 54.71),\n",
      "                ('MR-full-R1@0.7', 35.29),\n",
      "                ('MR-full-mAP', 31.21),\n",
      "                ('MR-full-mAP@0.5', 55.12),\n",
      "                ('MR-full-mAP@0.75', 29.8),\n",
      "                ('HL-min-Fair-mAP', 69.28),\n",
      "                ('HL-min-Fair-Hit1', 67.87),\n",
      "                ('HL-min-Good-mAP', 59.41),\n",
      "                ('HL-min-Good-Hit1', 66.32),\n",
      "                ('HL-min-VeryGood-mAP', 36.81),\n",
      "                ('HL-min-VeryGood-Hit1', 57.48)])\n",
      "Epoch:  40%|████      | 81/200 [18:20<17:25,  8.78s/it]2024-12-11 07:59:29.075:INFO:training.myTrain - [Epoch 82]\n"
     ]
    },
    {
     "name": "stdout",
     "output_type": "stream",
     "text": [
      "Calculating highlight scores with min score 4 (VeryGood)\n",
      "Time cost 0.21 seconds\n"
     ]
    },
    {
     "name": "stderr",
     "output_type": "stream",
     "text": [
      "Training Iteration: 100%|██████████| 226/226 [00:06<00:00, 35.62it/s]\n",
      "2024-12-11 07:59:35.497:INFO:training.myEvaluate - Generate submissions\n",
      "compute st ed scores: 100%|██████████| 16/16 [00:01<00:00, 13.28it/s]\n",
      "convert to multiples of clip_length=2: 100%|██████████| 1550/1550 [00:00<00:00, 45491.37it/s]\n",
      "2024-12-11 07:59:36.747:INFO:training.myEvaluate - Saving/Evaluating before nms results\n"
     ]
    },
    {
     "name": "stdout",
     "output_type": "stream",
     "text": [
      "full: [0, 1500], 1550/1550=100.00 examples.\n",
      "[eval_moment_retrieval] [full] 0.36 seconds\n",
      "Calculating highlight scores with min score 2 (Fair)\n",
      "Time cost 0.25 seconds\n",
      "Calculating highlight scores with min score 3 (Good)\n",
      "Time cost 0.25 seconds\n"
     ]
    },
    {
     "name": "stderr",
     "output_type": "stream",
     "text": [
      "2024-12-11 07:59:37.881:INFO:training.myTrain - metrics OrderedDict([   ('MR-full-R1@0.5', 53.42),\n",
      "                ('MR-full-R1@0.7', 35.29),\n",
      "                ('MR-full-mAP', 31.86),\n",
      "                ('MR-full-mAP@0.5', 55.17),\n",
      "                ('MR-full-mAP@0.75', 30.14),\n",
      "                ('HL-min-Fair-mAP', 68.66),\n",
      "                ('HL-min-Fair-Hit1', 67.61),\n",
      "                ('HL-min-Good-mAP', 58.79),\n",
      "                ('HL-min-Good-Hit1', 65.94),\n",
      "                ('HL-min-VeryGood-mAP', 36.29),\n",
      "                ('HL-min-VeryGood-Hit1', 56.32)])\n",
      "Epoch:  41%|████      | 82/200 [18:29<17:17,  8.79s/it]2024-12-11 07:59:37.881:INFO:training.myTrain - [Epoch 83]\n"
     ]
    },
    {
     "name": "stdout",
     "output_type": "stream",
     "text": [
      "Calculating highlight scores with min score 4 (VeryGood)\n",
      "Time cost 0.23 seconds\n"
     ]
    },
    {
     "name": "stderr",
     "output_type": "stream",
     "text": [
      "Training Iteration: 100%|██████████| 226/226 [00:06<00:00, 35.86it/s]\n",
      "2024-12-11 07:59:44.235:INFO:training.myEvaluate - Generate submissions\n",
      "compute st ed scores: 100%|██████████| 16/16 [00:01<00:00, 13.09it/s]\n",
      "convert to multiples of clip_length=2: 100%|██████████| 1550/1550 [00:00<00:00, 42524.39it/s]\n",
      "2024-12-11 07:59:45.503:INFO:training.myEvaluate - Saving/Evaluating before nms results\n"
     ]
    },
    {
     "name": "stdout",
     "output_type": "stream",
     "text": [
      "full: [0, 1500], 1550/1550=100.00 examples.\n",
      "[eval_moment_retrieval] [full] 0.36 seconds\n",
      "Calculating highlight scores with min score 2 (Fair)\n",
      "Time cost 0.25 seconds\n",
      "Calculating highlight scores with min score 3 (Good)\n",
      "Time cost 0.24 seconds\n"
     ]
    },
    {
     "name": "stderr",
     "output_type": "stream",
     "text": [
      "2024-12-11 07:59:46.628:INFO:training.myTrain - metrics OrderedDict([   ('MR-full-R1@0.5', 55.81),\n",
      "                ('MR-full-R1@0.7', 35.87),\n",
      "                ('MR-full-mAP', 32.93),\n",
      "                ('MR-full-mAP@0.5', 56.92),\n",
      "                ('MR-full-mAP@0.75', 31.86),\n",
      "                ('HL-min-Fair-mAP', 69.38),\n",
      "                ('HL-min-Fair-Hit1', 68.65),\n",
      "                ('HL-min-Good-mAP', 59.36),\n",
      "                ('HL-min-Good-Hit1', 66.97),\n",
      "                ('HL-min-VeryGood-mAP', 36.7),\n",
      "                ('HL-min-VeryGood-Hit1', 57.23)])\n",
      "Epoch:  42%|████▏     | 83/200 [18:38<17:06,  8.78s/it]2024-12-11 07:59:46.629:INFO:training.myTrain - [Epoch 84]\n"
     ]
    },
    {
     "name": "stdout",
     "output_type": "stream",
     "text": [
      "Calculating highlight scores with min score 4 (VeryGood)\n",
      "Time cost 0.22 seconds\n"
     ]
    },
    {
     "name": "stderr",
     "output_type": "stream",
     "text": [
      "Training Iteration: 100%|██████████| 226/226 [00:06<00:00, 35.90it/s]\n",
      "2024-12-11 07:59:52.986:INFO:training.myEvaluate - Generate submissions\n",
      "compute st ed scores: 100%|██████████| 16/16 [00:01<00:00, 12.19it/s]\n",
      "convert to multiples of clip_length=2: 100%|██████████| 1550/1550 [00:00<00:00, 41658.69it/s]\n",
      "2024-12-11 07:59:54.346:INFO:training.myEvaluate - Saving/Evaluating before nms results\n"
     ]
    },
    {
     "name": "stdout",
     "output_type": "stream",
     "text": [
      "full: [0, 1500], 1550/1550=100.00 examples.\n",
      "[eval_moment_retrieval] [full] 0.27 seconds\n",
      "Calculating highlight scores with min score 2 (Fair)\n",
      "Time cost 0.24 seconds\n",
      "Calculating highlight scores with min score 3 (Good)\n",
      "Time cost 0.26 seconds\n"
     ]
    },
    {
     "name": "stderr",
     "output_type": "stream",
     "text": [
      "2024-12-11 07:59:55.396:INFO:training.myTrain - metrics OrderedDict([   ('MR-full-R1@0.5', 55.1),\n",
      "                ('MR-full-R1@0.7', 36.26),\n",
      "                ('MR-full-mAP', 32.03),\n",
      "                ('MR-full-mAP@0.5', 55.99),\n",
      "                ('MR-full-mAP@0.75', 30.02),\n",
      "                ('HL-min-Fair-mAP', 69.5),\n",
      "                ('HL-min-Fair-Hit1', 68.65),\n",
      "                ('HL-min-Good-mAP', 59.53),\n",
      "                ('HL-min-Good-Hit1', 66.45),\n",
      "                ('HL-min-VeryGood-mAP', 36.78),\n",
      "                ('HL-min-VeryGood-Hit1', 57.03)])\n",
      "Epoch:  42%|████▏     | 84/200 [18:47<16:57,  8.77s/it]2024-12-11 07:59:55.397:INFO:training.myTrain - [Epoch 85]\n"
     ]
    },
    {
     "name": "stdout",
     "output_type": "stream",
     "text": [
      "Calculating highlight scores with min score 4 (VeryGood)\n",
      "Time cost 0.22 seconds\n"
     ]
    },
    {
     "name": "stderr",
     "output_type": "stream",
     "text": [
      "Training Iteration: 100%|██████████| 226/226 [00:06<00:00, 34.95it/s]\n",
      "2024-12-11 08:00:01.940:INFO:training.myEvaluate - Generate submissions\n",
      "compute st ed scores: 100%|██████████| 16/16 [00:01<00:00, 13.33it/s]\n",
      "convert to multiples of clip_length=2: 100%|██████████| 1550/1550 [00:00<00:00, 42708.49it/s]\n",
      "2024-12-11 08:00:03.187:INFO:training.myEvaluate - Saving/Evaluating before nms results\n"
     ]
    },
    {
     "name": "stdout",
     "output_type": "stream",
     "text": [
      "full: [0, 1500], 1550/1550=100.00 examples.\n",
      "[eval_moment_retrieval] [full] 0.39 seconds\n",
      "Calculating highlight scores with min score 2 (Fair)\n",
      "Time cost 0.29 seconds\n",
      "Calculating highlight scores with min score 3 (Good)\n",
      "Time cost 0.26 seconds\n"
     ]
    },
    {
     "name": "stderr",
     "output_type": "stream",
     "text": [
      "2024-12-11 08:00:04.408:INFO:training.myTrain - metrics OrderedDict([   ('MR-full-R1@0.5', 54.32),\n",
      "                ('MR-full-R1@0.7', 34.9),\n",
      "                ('MR-full-mAP', 31.39),\n",
      "                ('MR-full-mAP@0.5', 55.37),\n",
      "                ('MR-full-mAP@0.75', 30.47),\n",
      "                ('HL-min-Fair-mAP', 69.0),\n",
      "                ('HL-min-Fair-Hit1', 68.13),\n",
      "                ('HL-min-Good-mAP', 59.16),\n",
      "                ('HL-min-Good-Hit1', 66.06),\n",
      "                ('HL-min-VeryGood-mAP', 36.63),\n",
      "                ('HL-min-VeryGood-Hit1', 56.39)])\n",
      "Epoch:  42%|████▎     | 85/200 [18:56<16:57,  8.85s/it]2024-12-11 08:00:04.408:INFO:training.myTrain - [Epoch 86]\n"
     ]
    },
    {
     "name": "stdout",
     "output_type": "stream",
     "text": [
      "Calculating highlight scores with min score 4 (VeryGood)\n",
      "Time cost 0.23 seconds\n"
     ]
    },
    {
     "name": "stderr",
     "output_type": "stream",
     "text": [
      "Training Iteration: 100%|██████████| 226/226 [00:06<00:00, 35.73it/s]\n",
      "2024-12-11 08:00:10.808:INFO:training.myEvaluate - Generate submissions\n",
      "compute st ed scores: 100%|██████████| 16/16 [00:01<00:00, 12.15it/s]\n",
      "convert to multiples of clip_length=2: 100%|██████████| 1550/1550 [00:00<00:00, 42108.49it/s]\n",
      "2024-12-11 08:00:12.172:INFO:training.myEvaluate - Saving/Evaluating before nms results\n"
     ]
    },
    {
     "name": "stdout",
     "output_type": "stream",
     "text": [
      "full: [0, 1500], 1550/1550=100.00 examples.\n",
      "[eval_moment_retrieval] [full] 0.28 seconds\n",
      "Calculating highlight scores with min score 2 (Fair)\n",
      "Time cost 0.26 seconds\n",
      "Calculating highlight scores with min score 3 (Good)\n",
      "Time cost 0.27 seconds\n"
     ]
    },
    {
     "name": "stderr",
     "output_type": "stream",
     "text": [
      "2024-12-11 08:00:13.263:INFO:training.myTrain - metrics OrderedDict([   ('MR-full-R1@0.5', 52.39),\n",
      "                ('MR-full-R1@0.7', 31.94),\n",
      "                ('MR-full-mAP', 29.72),\n",
      "                ('MR-full-mAP@0.5', 53.94),\n",
      "                ('MR-full-mAP@0.75', 28.16),\n",
      "                ('HL-min-Fair-mAP', 68.81),\n",
      "                ('HL-min-Fair-Hit1', 67.81),\n",
      "                ('HL-min-Good-mAP', 58.99),\n",
      "                ('HL-min-Good-Hit1', 65.87),\n",
      "                ('HL-min-VeryGood-mAP', 36.47),\n",
      "                ('HL-min-VeryGood-Hit1', 56.32)])\n",
      "Epoch:  43%|████▎     | 86/200 [19:05<16:48,  8.85s/it]2024-12-11 08:00:13.263:INFO:training.myTrain - [Epoch 87]\n"
     ]
    },
    {
     "name": "stdout",
     "output_type": "stream",
     "text": [
      "Calculating highlight scores with min score 4 (VeryGood)\n",
      "Time cost 0.23 seconds\n"
     ]
    },
    {
     "name": "stderr",
     "output_type": "stream",
     "text": [
      "Training Iteration: 100%|██████████| 226/226 [00:06<00:00, 36.02it/s]\n",
      "2024-12-11 08:00:19.597:INFO:training.myEvaluate - Generate submissions\n",
      "compute st ed scores: 100%|██████████| 16/16 [00:01<00:00, 13.43it/s]\n",
      "convert to multiples of clip_length=2: 100%|██████████| 1550/1550 [00:00<00:00, 40811.89it/s]\n",
      "2024-12-11 08:00:20.835:INFO:training.myEvaluate - Saving/Evaluating before nms results\n"
     ]
    },
    {
     "name": "stdout",
     "output_type": "stream",
     "text": [
      "full: [0, 1500], 1550/1550=100.00 examples.\n",
      "[eval_moment_retrieval] [full] 0.35 seconds\n",
      "Calculating highlight scores with min score 2 (Fair)\n",
      "Time cost 0.28 seconds\n",
      "Calculating highlight scores with min score 3 (Good)\n",
      "Time cost 0.29 seconds\n"
     ]
    },
    {
     "name": "stderr",
     "output_type": "stream",
     "text": [
      "2024-12-11 08:00:22.061:INFO:training.myTrain - metrics OrderedDict([   ('MR-full-R1@0.5', 54.58),\n",
      "                ('MR-full-R1@0.7', 35.42),\n",
      "                ('MR-full-mAP', 32.34),\n",
      "                ('MR-full-mAP@0.5', 55.79),\n",
      "                ('MR-full-mAP@0.75', 31.13),\n",
      "                ('HL-min-Fair-mAP', 68.33),\n",
      "                ('HL-min-Fair-Hit1', 67.16),\n",
      "                ('HL-min-Good-mAP', 58.55),\n",
      "                ('HL-min-Good-Hit1', 65.16),\n",
      "                ('HL-min-VeryGood-mAP', 36.07),\n",
      "                ('HL-min-VeryGood-Hit1', 55.74)])\n",
      "Epoch:  44%|████▎     | 87/200 [19:13<16:38,  8.83s/it]2024-12-11 08:00:22.062:INFO:training.myTrain - [Epoch 88]\n"
     ]
    },
    {
     "name": "stdout",
     "output_type": "stream",
     "text": [
      "Calculating highlight scores with min score 4 (VeryGood)\n",
      "Time cost 0.25 seconds\n"
     ]
    },
    {
     "name": "stderr",
     "output_type": "stream",
     "text": [
      "Training Iteration: 100%|██████████| 226/226 [00:06<00:00, 35.74it/s]\n",
      "2024-12-11 08:00:28.453:INFO:training.myEvaluate - Generate submissions\n",
      "compute st ed scores: 100%|██████████| 16/16 [00:01<00:00, 12.11it/s]\n",
      "convert to multiples of clip_length=2: 100%|██████████| 1550/1550 [00:00<00:00, 41640.01it/s]\n",
      "2024-12-11 08:00:29.823:INFO:training.myEvaluate - Saving/Evaluating before nms results\n"
     ]
    },
    {
     "name": "stdout",
     "output_type": "stream",
     "text": [
      "full: [0, 1500], 1550/1550=100.00 examples.\n",
      "[eval_moment_retrieval] [full] 0.30 seconds\n",
      "Calculating highlight scores with min score 2 (Fair)\n",
      "Time cost 0.28 seconds\n",
      "Calculating highlight scores with min score 3 (Good)\n",
      "Time cost 0.27 seconds\n"
     ]
    },
    {
     "name": "stderr",
     "output_type": "stream",
     "text": [
      "2024-12-11 08:00:30.984:INFO:training.myTrain - metrics OrderedDict([   ('MR-full-R1@0.5', 53.94),\n",
      "                ('MR-full-R1@0.7', 35.35),\n",
      "                ('MR-full-mAP', 31.98),\n",
      "                ('MR-full-mAP@0.5', 55.34),\n",
      "                ('MR-full-mAP@0.75', 30.51),\n",
      "                ('HL-min-Fair-mAP', 68.72),\n",
      "                ('HL-min-Fair-Hit1', 68.39),\n",
      "                ('HL-min-Good-mAP', 58.97),\n",
      "                ('HL-min-Good-Hit1', 66.58),\n",
      "                ('HL-min-VeryGood-mAP', 36.36),\n",
      "                ('HL-min-VeryGood-Hit1', 56.0)])\n",
      "Epoch:  44%|████▍     | 88/200 [19:22<16:32,  8.86s/it]2024-12-11 08:00:30.985:INFO:training.myTrain - [Epoch 89]\n"
     ]
    },
    {
     "name": "stdout",
     "output_type": "stream",
     "text": [
      "Calculating highlight scores with min score 4 (VeryGood)\n",
      "Time cost 0.25 seconds\n"
     ]
    },
    {
     "name": "stderr",
     "output_type": "stream",
     "text": [
      "Training Iteration: 100%|██████████| 226/226 [00:06<00:00, 35.76it/s]\n",
      "2024-12-11 08:00:37.378:INFO:training.myEvaluate - Generate submissions\n",
      "compute st ed scores: 100%|██████████| 16/16 [00:01<00:00, 13.71it/s]\n",
      "convert to multiples of clip_length=2: 100%|██████████| 1550/1550 [00:00<00:00, 38975.15it/s]\n",
      "2024-12-11 08:00:38.595:INFO:training.myEvaluate - Saving/Evaluating before nms results\n"
     ]
    },
    {
     "name": "stdout",
     "output_type": "stream",
     "text": [
      "full: [0, 1500], 1550/1550=100.00 examples.\n",
      "[eval_moment_retrieval] [full] 0.36 seconds\n",
      "Calculating highlight scores with min score 2 (Fair)\n",
      "Time cost 0.26 seconds\n",
      "Calculating highlight scores with min score 3 (Good)\n",
      "Time cost 0.24 seconds\n"
     ]
    },
    {
     "name": "stderr",
     "output_type": "stream",
     "text": [
      "2024-12-11 08:00:39.715:INFO:training.myTrain - metrics OrderedDict([   ('MR-full-R1@0.5', 55.1),\n",
      "                ('MR-full-R1@0.7', 36.52),\n",
      "                ('MR-full-mAP', 32.69),\n",
      "                ('MR-full-mAP@0.5', 56.16),\n",
      "                ('MR-full-mAP@0.75', 31.77),\n",
      "                ('HL-min-Fair-mAP', 68.94),\n",
      "                ('HL-min-Fair-Hit1', 68.06),\n",
      "                ('HL-min-Good-mAP', 59.1),\n",
      "                ('HL-min-Good-Hit1', 66.32),\n",
      "                ('HL-min-VeryGood-mAP', 36.53),\n",
      "                ('HL-min-VeryGood-Hit1', 56.39)])\n",
      "Epoch:  44%|████▍     | 89/200 [19:31<16:19,  8.82s/it]2024-12-11 08:00:39.716:INFO:training.myTrain - [Epoch 90]\n"
     ]
    },
    {
     "name": "stdout",
     "output_type": "stream",
     "text": [
      "Calculating highlight scores with min score 4 (VeryGood)\n",
      "Time cost 0.21 seconds\n"
     ]
    },
    {
     "name": "stderr",
     "output_type": "stream",
     "text": [
      "Training Iteration: 100%|██████████| 226/226 [00:05<00:00, 38.25it/s]\n",
      "2024-12-11 08:00:45.677:INFO:training.myEvaluate - Generate submissions\n",
      "compute st ed scores: 100%|██████████| 16/16 [00:01<00:00, 12.37it/s]\n",
      "convert to multiples of clip_length=2: 100%|██████████| 1550/1550 [00:00<00:00, 48254.05it/s]\n",
      "2024-12-11 08:00:47.012:INFO:training.myEvaluate - Saving/Evaluating before nms results\n"
     ]
    },
    {
     "name": "stdout",
     "output_type": "stream",
     "text": [
      "full: [0, 1500], 1550/1550=100.00 examples.\n",
      "[eval_moment_retrieval] [full] 0.30 seconds\n",
      "Calculating highlight scores with min score 2 (Fair)\n",
      "Time cost 0.28 seconds\n",
      "Calculating highlight scores with min score 3 (Good)\n",
      "Time cost 0.29 seconds\n"
     ]
    },
    {
     "name": "stderr",
     "output_type": "stream",
     "text": [
      "2024-12-11 08:00:48.171:INFO:training.myTrain - metrics OrderedDict([   ('MR-full-R1@0.5', 55.23),\n",
      "                ('MR-full-R1@0.7', 35.94),\n",
      "                ('MR-full-mAP', 32.28),\n",
      "                ('MR-full-mAP@0.5', 56.67),\n",
      "                ('MR-full-mAP@0.75', 30.83),\n",
      "                ('HL-min-Fair-mAP', 69.23),\n",
      "                ('HL-min-Fair-Hit1', 67.61),\n",
      "                ('HL-min-Good-mAP', 59.37),\n",
      "                ('HL-min-Good-Hit1', 66.26),\n",
      "                ('HL-min-VeryGood-mAP', 36.91),\n",
      "                ('HL-min-VeryGood-Hit1', 57.1)])\n",
      "Epoch:  45%|████▌     | 90/200 [19:39<15:58,  8.71s/it]2024-12-11 08:00:48.172:INFO:training.myTrain - [Epoch 91]\n"
     ]
    },
    {
     "name": "stdout",
     "output_type": "stream",
     "text": [
      "Calculating highlight scores with min score 4 (VeryGood)\n",
      "Time cost 0.24 seconds\n"
     ]
    },
    {
     "name": "stderr",
     "output_type": "stream",
     "text": [
      "Training Iteration: 100%|██████████| 226/226 [00:06<00:00, 36.95it/s]\n",
      "2024-12-11 08:00:54.358:INFO:training.myEvaluate - Generate submissions\n",
      "compute st ed scores: 100%|██████████| 16/16 [00:01<00:00, 13.29it/s]\n",
      "convert to multiples of clip_length=2: 100%|██████████| 1550/1550 [00:00<00:00, 48818.59it/s]\n",
      "2024-12-11 08:00:55.603:INFO:training.myEvaluate - Saving/Evaluating before nms results\n"
     ]
    },
    {
     "name": "stdout",
     "output_type": "stream",
     "text": [
      "full: [0, 1500], 1550/1550=100.00 examples.\n",
      "[eval_moment_retrieval] [full] 0.37 seconds\n",
      "Calculating highlight scores with min score 2 (Fair)\n",
      "Time cost 0.28 seconds\n",
      "Calculating highlight scores with min score 3 (Good)\n",
      "Time cost 0.28 seconds\n"
     ]
    },
    {
     "name": "stderr",
     "output_type": "stream",
     "text": [
      "2024-12-11 08:00:56.845:INFO:training.myTrain - metrics OrderedDict([   ('MR-full-R1@0.5', 55.23),\n",
      "                ('MR-full-R1@0.7', 35.42),\n",
      "                ('MR-full-mAP', 31.86),\n",
      "                ('MR-full-mAP@0.5', 55.71),\n",
      "                ('MR-full-mAP@0.75', 30.46),\n",
      "                ('HL-min-Fair-mAP', 69.31),\n",
      "                ('HL-min-Fair-Hit1', 68.32),\n",
      "                ('HL-min-Good-mAP', 59.46),\n",
      "                ('HL-min-Good-Hit1', 66.52),\n",
      "                ('HL-min-VeryGood-mAP', 36.79),\n",
      "                ('HL-min-VeryGood-Hit1', 56.71)])\n",
      "Epoch:  46%|████▌     | 91/200 [19:48<15:48,  8.70s/it]2024-12-11 08:00:56.846:INFO:training.myTrain - [Epoch 92]\n"
     ]
    },
    {
     "name": "stdout",
     "output_type": "stream",
     "text": [
      "Calculating highlight scores with min score 4 (VeryGood)\n",
      "Time cost 0.25 seconds\n"
     ]
    },
    {
     "name": "stderr",
     "output_type": "stream",
     "text": [
      "Training Iteration: 100%|██████████| 226/226 [00:06<00:00, 35.03it/s]\n",
      "2024-12-11 08:01:03.369:INFO:training.myEvaluate - Generate submissions\n",
      "compute st ed scores: 100%|██████████| 16/16 [00:01<00:00, 12.15it/s]\n",
      "convert to multiples of clip_length=2: 100%|██████████| 1550/1550 [00:00<00:00, 43102.35it/s]\n",
      "2024-12-11 08:01:04.732:INFO:training.myEvaluate - Saving/Evaluating before nms results\n"
     ]
    },
    {
     "name": "stdout",
     "output_type": "stream",
     "text": [
      "full: [0, 1500], 1550/1550=100.00 examples.\n",
      "[eval_moment_retrieval] [full] 0.30 seconds\n",
      "Calculating highlight scores with min score 2 (Fair)\n",
      "Time cost 0.27 seconds\n",
      "Calculating highlight scores with min score 3 (Good)\n",
      "Time cost 0.27 seconds\n"
     ]
    },
    {
     "name": "stderr",
     "output_type": "stream",
     "text": [
      "2024-12-11 08:01:05.862:INFO:training.myTrain - metrics OrderedDict([   ('MR-full-R1@0.5', 55.35),\n",
      "                ('MR-full-R1@0.7', 34.39),\n",
      "                ('MR-full-mAP', 31.56),\n",
      "                ('MR-full-mAP@0.5', 56.06),\n",
      "                ('MR-full-mAP@0.75', 30.36),\n",
      "                ('HL-min-Fair-mAP', 69.08),\n",
      "                ('HL-min-Fair-Hit1', 67.87),\n",
      "                ('HL-min-Good-mAP', 59.27),\n",
      "                ('HL-min-Good-Hit1', 66.52),\n",
      "                ('HL-min-VeryGood-mAP', 36.66),\n",
      "                ('HL-min-VeryGood-Hit1', 56.52)])\n",
      "Epoch:  46%|████▌     | 92/200 [19:57<15:49,  8.80s/it]2024-12-11 08:01:05.862:INFO:training.myTrain - [Epoch 93]\n"
     ]
    },
    {
     "name": "stdout",
     "output_type": "stream",
     "text": [
      "Calculating highlight scores with min score 4 (VeryGood)\n",
      "Time cost 0.23 seconds\n"
     ]
    },
    {
     "name": "stderr",
     "output_type": "stream",
     "text": [
      "Training Iteration: 100%|██████████| 226/226 [00:06<00:00, 34.08it/s]\n",
      "2024-12-11 08:01:12.564:INFO:training.myEvaluate - Generate submissions\n",
      "compute st ed scores: 100%|██████████| 16/16 [00:01<00:00, 13.38it/s]\n",
      "convert to multiples of clip_length=2: 100%|██████████| 1550/1550 [00:00<00:00, 40698.20it/s]\n",
      "2024-12-11 08:01:13.807:INFO:training.myEvaluate - Saving/Evaluating before nms results\n"
     ]
    },
    {
     "name": "stdout",
     "output_type": "stream",
     "text": [
      "full: [0, 1500], 1550/1550=100.00 examples.\n",
      "[eval_moment_retrieval] [full] 0.34 seconds\n",
      "Calculating highlight scores with min score 2 (Fair)\n",
      "Time cost 0.24 seconds\n",
      "Calculating highlight scores with min score 3 (Good)\n",
      "Time cost 0.25 seconds\n"
     ]
    },
    {
     "name": "stderr",
     "output_type": "stream",
     "text": [
      "2024-12-11 08:01:14.929:INFO:training.myTrain - metrics OrderedDict([   ('MR-full-R1@0.5', 53.81),\n",
      "                ('MR-full-R1@0.7', 34.71),\n",
      "                ('MR-full-mAP', 31.4),\n",
      "                ('MR-full-mAP@0.5', 54.89),\n",
      "                ('MR-full-mAP@0.75', 30.04),\n",
      "                ('HL-min-Fair-mAP', 68.63),\n",
      "                ('HL-min-Fair-Hit1', 66.97),\n",
      "                ('HL-min-Good-mAP', 58.76),\n",
      "                ('HL-min-Good-Hit1', 65.74),\n",
      "                ('HL-min-VeryGood-mAP', 36.27),\n",
      "                ('HL-min-VeryGood-Hit1', 55.61)])\n",
      "Epoch:  46%|████▋     | 93/200 [20:06<15:49,  8.88s/it]2024-12-11 08:01:14.930:INFO:training.myTrain - [Epoch 94]\n"
     ]
    },
    {
     "name": "stdout",
     "output_type": "stream",
     "text": [
      "Calculating highlight scores with min score 4 (VeryGood)\n",
      "Time cost 0.23 seconds\n"
     ]
    },
    {
     "name": "stderr",
     "output_type": "stream",
     "text": [
      "Training Iteration: 100%|██████████| 226/226 [00:06<00:00, 36.21it/s]\n",
      "2024-12-11 08:01:21.230:INFO:training.myEvaluate - Generate submissions\n",
      "compute st ed scores: 100%|██████████| 16/16 [00:01<00:00, 13.49it/s]\n",
      "convert to multiples of clip_length=2: 100%|██████████| 1550/1550 [00:00<00:00, 46889.08it/s]\n",
      "2024-12-11 08:01:22.460:INFO:training.myEvaluate - Saving/Evaluating before nms results\n"
     ]
    },
    {
     "name": "stdout",
     "output_type": "stream",
     "text": [
      "full: [0, 1500], 1550/1550=100.00 examples.\n",
      "[eval_moment_retrieval] [full] 0.38 seconds\n",
      "Calculating highlight scores with min score 2 (Fair)\n",
      "Time cost 0.28 seconds\n",
      "Calculating highlight scores with min score 3 (Good)\n",
      "Time cost 0.28 seconds\n"
     ]
    },
    {
     "name": "stderr",
     "output_type": "stream",
     "text": [
      "2024-12-11 08:01:23.685:INFO:training.myTrain - metrics OrderedDict([   ('MR-full-R1@0.5', 53.68),\n",
      "                ('MR-full-R1@0.7', 34.58),\n",
      "                ('MR-full-mAP', 32.01),\n",
      "                ('MR-full-mAP@0.5', 55.01),\n",
      "                ('MR-full-mAP@0.75', 30.94),\n",
      "                ('HL-min-Fair-mAP', 68.47),\n",
      "                ('HL-min-Fair-Hit1', 67.23),\n",
      "                ('HL-min-Good-mAP', 58.82),\n",
      "                ('HL-min-Good-Hit1', 65.55),\n",
      "                ('HL-min-VeryGood-mAP', 36.33),\n",
      "                ('HL-min-VeryGood-Hit1', 55.23)])\n",
      "Epoch:  47%|████▋     | 94/200 [20:15<15:37,  8.84s/it]2024-12-11 08:01:23.686:INFO:training.myTrain - [Epoch 95]\n"
     ]
    },
    {
     "name": "stdout",
     "output_type": "stream",
     "text": [
      "Calculating highlight scores with min score 4 (VeryGood)\n",
      "Time cost 0.24 seconds\n"
     ]
    },
    {
     "name": "stderr",
     "output_type": "stream",
     "text": [
      "Training Iteration: 100%|██████████| 226/226 [00:06<00:00, 35.20it/s]\n",
      "2024-12-11 08:01:30.181:INFO:training.myEvaluate - Generate submissions\n",
      "compute st ed scores: 100%|██████████| 16/16 [00:01<00:00, 12.12it/s]\n",
      "convert to multiples of clip_length=2: 100%|██████████| 1550/1550 [00:00<00:00, 45644.04it/s]\n",
      "2024-12-11 08:01:31.545:INFO:training.myEvaluate - Saving/Evaluating before nms results\n"
     ]
    },
    {
     "name": "stdout",
     "output_type": "stream",
     "text": [
      "full: [0, 1500], 1550/1550=100.00 examples.\n",
      "[eval_moment_retrieval] [full] 0.28 seconds\n",
      "Calculating highlight scores with min score 2 (Fair)\n",
      "Time cost 0.28 seconds\n",
      "Calculating highlight scores with min score 3 (Good)\n",
      "Time cost 0.29 seconds\n"
     ]
    },
    {
     "name": "stderr",
     "output_type": "stream",
     "text": [
      "2024-12-11 08:01:32.708:INFO:training.myTrain - metrics OrderedDict([   ('MR-full-R1@0.5', 53.94),\n",
      "                ('MR-full-R1@0.7', 34.32),\n",
      "                ('MR-full-mAP', 31.17),\n",
      "                ('MR-full-mAP@0.5', 55.17),\n",
      "                ('MR-full-mAP@0.75', 29.83),\n",
      "                ('HL-min-Fair-mAP', 69.42),\n",
      "                ('HL-min-Fair-Hit1', 67.94),\n",
      "                ('HL-min-Good-mAP', 59.52),\n",
      "                ('HL-min-Good-Hit1', 66.06),\n",
      "                ('HL-min-VeryGood-mAP', 36.78),\n",
      "                ('HL-min-VeryGood-Hit1', 56.52)])\n",
      "Epoch:  48%|████▊     | 95/200 [20:24<15:34,  8.90s/it]2024-12-11 08:01:32.709:INFO:training.myTrain - [Epoch 96]\n"
     ]
    },
    {
     "name": "stdout",
     "output_type": "stream",
     "text": [
      "Calculating highlight scores with min score 4 (VeryGood)\n",
      "Time cost 0.26 seconds\n"
     ]
    },
    {
     "name": "stderr",
     "output_type": "stream",
     "text": [
      "Training Iteration: 100%|██████████| 226/226 [00:06<00:00, 35.56it/s]\n",
      "2024-12-11 08:01:39.133:INFO:training.myEvaluate - Generate submissions\n",
      "compute st ed scores: 100%|██████████| 16/16 [00:01<00:00, 13.36it/s]\n",
      "convert to multiples of clip_length=2: 100%|██████████| 1550/1550 [00:00<00:00, 40499.18it/s]\n",
      "2024-12-11 08:01:40.379:INFO:training.myEvaluate - Saving/Evaluating before nms results\n"
     ]
    },
    {
     "name": "stdout",
     "output_type": "stream",
     "text": [
      "full: [0, 1500], 1550/1550=100.00 examples.\n",
      "[eval_moment_retrieval] [full] 0.35 seconds\n",
      "Calculating highlight scores with min score 2 (Fair)\n",
      "Time cost 0.24 seconds\n",
      "Calculating highlight scores with min score 3 (Good)\n",
      "Time cost 0.24 seconds\n"
     ]
    },
    {
     "name": "stderr",
     "output_type": "stream",
     "text": [
      "2024-12-11 08:01:41.470:INFO:training.myTrain - metrics OrderedDict([   ('MR-full-R1@0.5', 55.23),\n",
      "                ('MR-full-R1@0.7', 35.42),\n",
      "                ('MR-full-mAP', 32.2),\n",
      "                ('MR-full-mAP@0.5', 56.56),\n",
      "                ('MR-full-mAP@0.75', 30.7),\n",
      "                ('HL-min-Fair-mAP', 68.68),\n",
      "                ('HL-min-Fair-Hit1', 67.48),\n",
      "                ('HL-min-Good-mAP', 58.93),\n",
      "                ('HL-min-Good-Hit1', 65.94),\n",
      "                ('HL-min-VeryGood-mAP', 36.41),\n",
      "                ('HL-min-VeryGood-Hit1', 56.32)])\n",
      "Epoch:  48%|████▊     | 96/200 [20:33<15:20,  8.86s/it]2024-12-11 08:01:41.471:INFO:training.myTrain - [Epoch 97]\n"
     ]
    },
    {
     "name": "stdout",
     "output_type": "stream",
     "text": [
      "Calculating highlight scores with min score 4 (VeryGood)\n",
      "Time cost 0.21 seconds\n"
     ]
    },
    {
     "name": "stderr",
     "output_type": "stream",
     "text": [
      "Training Iteration: 100%|██████████| 226/226 [00:06<00:00, 35.14it/s]\n",
      "2024-12-11 08:01:47.976:INFO:training.myEvaluate - Generate submissions\n",
      "compute st ed scores: 100%|██████████| 16/16 [00:01<00:00, 11.85it/s]\n",
      "convert to multiples of clip_length=2: 100%|██████████| 1550/1550 [00:00<00:00, 40938.08it/s]\n",
      "2024-12-11 08:01:49.374:INFO:training.myEvaluate - Saving/Evaluating before nms results\n"
     ]
    },
    {
     "name": "stdout",
     "output_type": "stream",
     "text": [
      "full: [0, 1500], 1550/1550=100.00 examples.\n",
      "[eval_moment_retrieval] [full] 0.28 seconds\n",
      "Calculating highlight scores with min score 2 (Fair)\n",
      "Time cost 0.27 seconds\n",
      "Calculating highlight scores with min score 3 (Good)\n",
      "Time cost 0.27 seconds\n"
     ]
    },
    {
     "name": "stderr",
     "output_type": "stream",
     "text": [
      "2024-12-11 08:01:50.488:INFO:training.myTrain - metrics OrderedDict([   ('MR-full-R1@0.5', 53.81),\n",
      "                ('MR-full-R1@0.7', 33.74),\n",
      "                ('MR-full-mAP', 30.97),\n",
      "                ('MR-full-mAP@0.5', 55.34),\n",
      "                ('MR-full-mAP@0.75', 28.75),\n",
      "                ('HL-min-Fair-mAP', 68.83),\n",
      "                ('HL-min-Fair-Hit1', 68.97),\n",
      "                ('HL-min-Good-mAP', 58.98),\n",
      "                ('HL-min-Good-Hit1', 66.97),\n",
      "                ('HL-min-VeryGood-mAP', 36.49),\n",
      "                ('HL-min-VeryGood-Hit1', 57.29)])\n",
      "Epoch:  48%|████▊     | 97/200 [20:42<15:17,  8.90s/it]2024-12-11 08:01:50.489:INFO:training.myTrain - [Epoch 98]\n"
     ]
    },
    {
     "name": "stdout",
     "output_type": "stream",
     "text": [
      "Calculating highlight scores with min score 4 (VeryGood)\n",
      "Time cost 0.24 seconds\n"
     ]
    },
    {
     "name": "stderr",
     "output_type": "stream",
     "text": [
      "Training Iteration: 100%|██████████| 226/226 [00:06<00:00, 34.57it/s]\n",
      "2024-12-11 08:01:57.096:INFO:training.myEvaluate - Generate submissions\n",
      "compute st ed scores: 100%|██████████| 16/16 [00:01<00:00, 13.56it/s]\n",
      "convert to multiples of clip_length=2: 100%|██████████| 1550/1550 [00:00<00:00, 48122.25it/s]\n",
      "2024-12-11 08:01:58.318:INFO:training.myEvaluate - Saving/Evaluating before nms results\n"
     ]
    },
    {
     "name": "stdout",
     "output_type": "stream",
     "text": [
      "full: [0, 1500], 1550/1550=100.00 examples.\n",
      "[eval_moment_retrieval] [full] 0.39 seconds\n",
      "Calculating highlight scores with min score 2 (Fair)\n",
      "Time cost 0.28 seconds\n",
      "Calculating highlight scores with min score 3 (Good)\n",
      "Time cost 0.26 seconds\n"
     ]
    },
    {
     "name": "stderr",
     "output_type": "stream",
     "text": [
      "2024-12-11 08:01:59.553:INFO:training.myTrain - metrics OrderedDict([   ('MR-full-R1@0.5', 55.87),\n",
      "                ('MR-full-R1@0.7', 36.06),\n",
      "                ('MR-full-mAP', 32.4),\n",
      "                ('MR-full-mAP@0.5', 56.08),\n",
      "                ('MR-full-mAP@0.75', 30.61),\n",
      "                ('HL-min-Fair-mAP', 69.29),\n",
      "                ('HL-min-Fair-Hit1', 67.87),\n",
      "                ('HL-min-Good-mAP', 59.42),\n",
      "                ('HL-min-Good-Hit1', 66.13),\n",
      "                ('HL-min-VeryGood-mAP', 36.68),\n",
      "                ('HL-min-VeryGood-Hit1', 57.03)])\n",
      "Epoch:  49%|████▉     | 98/200 [20:51<15:13,  8.95s/it]2024-12-11 08:01:59.554:INFO:training.myTrain - [Epoch 99]\n"
     ]
    },
    {
     "name": "stdout",
     "output_type": "stream",
     "text": [
      "Calculating highlight scores with min score 4 (VeryGood)\n",
      "Time cost 0.25 seconds\n"
     ]
    },
    {
     "name": "stderr",
     "output_type": "stream",
     "text": [
      "Training Iteration: 100%|██████████| 226/226 [00:06<00:00, 35.28it/s]\n",
      "2024-12-11 08:02:06.034:INFO:training.myEvaluate - Generate submissions\n",
      "compute st ed scores: 100%|██████████| 16/16 [00:01<00:00, 11.99it/s]\n",
      "convert to multiples of clip_length=2: 100%|██████████| 1550/1550 [00:00<00:00, 44989.25it/s]\n",
      "2024-12-11 08:02:07.413:INFO:training.myEvaluate - Saving/Evaluating before nms results\n"
     ]
    },
    {
     "name": "stdout",
     "output_type": "stream",
     "text": [
      "full: [0, 1500], 1550/1550=100.00 examples.\n",
      "[eval_moment_retrieval] [full] 0.29 seconds\n",
      "Calculating highlight scores with min score 2 (Fair)\n",
      "Time cost 0.28 seconds\n",
      "Calculating highlight scores with min score 3 (Good)\n",
      "Time cost 0.29 seconds\n"
     ]
    },
    {
     "name": "stderr",
     "output_type": "stream",
     "text": [
      "2024-12-11 08:02:08.567:INFO:training.myTrain - metrics OrderedDict([   ('MR-full-R1@0.5', 56.52),\n",
      "                ('MR-full-R1@0.7', 37.55),\n",
      "                ('MR-full-mAP', 33.4),\n",
      "                ('MR-full-mAP@0.5', 56.95),\n",
      "                ('MR-full-mAP@0.75', 32.33),\n",
      "                ('HL-min-Fair-mAP', 69.56),\n",
      "                ('HL-min-Fair-Hit1', 68.45),\n",
      "                ('HL-min-Good-mAP', 59.53),\n",
      "                ('HL-min-Good-Hit1', 66.9),\n",
      "                ('HL-min-VeryGood-mAP', 36.69),\n",
      "                ('HL-min-VeryGood-Hit1', 57.03)])\n",
      "2024-12-11 08:02:08.667:INFO:training.myTrain - The checkpoint file has been updated.\n",
      "Epoch:  50%|████▉     | 99/200 [21:00<15:09,  9.00s/it]2024-12-11 08:02:08.668:INFO:training.myTrain - [Epoch 100]\n"
     ]
    },
    {
     "name": "stdout",
     "output_type": "stream",
     "text": [
      "Calculating highlight scores with min score 4 (VeryGood)\n",
      "Time cost 0.25 seconds\n"
     ]
    },
    {
     "name": "stderr",
     "output_type": "stream",
     "text": [
      "Training Iteration: 100%|██████████| 226/226 [00:06<00:00, 35.34it/s]\n",
      "2024-12-11 08:02:15.137:INFO:training.myEvaluate - Generate submissions\n",
      "compute st ed scores: 100%|██████████| 16/16 [00:01<00:00, 13.62it/s]\n",
      "convert to multiples of clip_length=2: 100%|██████████| 1550/1550 [00:00<00:00, 48882.82it/s]\n",
      "2024-12-11 08:02:16.353:INFO:training.myEvaluate - Saving/Evaluating before nms results\n"
     ]
    },
    {
     "name": "stdout",
     "output_type": "stream",
     "text": [
      "full: [0, 1500], 1550/1550=100.00 examples.\n",
      "[eval_moment_retrieval] [full] 0.38 seconds\n",
      "Calculating highlight scores with min score 2 (Fair)\n",
      "Time cost 0.27 seconds\n",
      "Calculating highlight scores with min score 3 (Good)\n",
      "Time cost 0.26 seconds\n"
     ]
    },
    {
     "name": "stderr",
     "output_type": "stream",
     "text": [
      "2024-12-11 08:02:17.545:INFO:training.myTrain - metrics OrderedDict([   ('MR-full-R1@0.5', 55.61),\n",
      "                ('MR-full-R1@0.7', 35.23),\n",
      "                ('MR-full-mAP', 31.89),\n",
      "                ('MR-full-mAP@0.5', 56.38),\n",
      "                ('MR-full-mAP@0.75', 30.53),\n",
      "                ('HL-min-Fair-mAP', 68.9),\n",
      "                ('HL-min-Fair-Hit1', 67.94),\n",
      "                ('HL-min-Good-mAP', 59.02),\n",
      "                ('HL-min-Good-Hit1', 66.26),\n",
      "                ('HL-min-VeryGood-mAP', 36.41),\n",
      "                ('HL-min-VeryGood-Hit1', 56.77)])\n",
      "Epoch:  50%|█████     | 100/200 [21:09<14:56,  8.96s/it]2024-12-11 08:02:17.546:INFO:training.myTrain - [Epoch 101]\n"
     ]
    },
    {
     "name": "stdout",
     "output_type": "stream",
     "text": [
      "Calculating highlight scores with min score 4 (VeryGood)\n",
      "Time cost 0.23 seconds\n"
     ]
    },
    {
     "name": "stderr",
     "output_type": "stream",
     "text": [
      "Training Iteration: 100%|██████████| 226/226 [00:06<00:00, 36.33it/s]\n",
      "2024-12-11 08:02:23.838:INFO:training.myEvaluate - Generate submissions\n",
      "compute st ed scores: 100%|██████████| 16/16 [00:01<00:00, 12.07it/s]\n",
      "convert to multiples of clip_length=2: 100%|██████████| 1550/1550 [00:00<00:00, 41895.20it/s]\n",
      "2024-12-11 08:02:25.211:INFO:training.myEvaluate - Saving/Evaluating before nms results\n"
     ]
    },
    {
     "name": "stdout",
     "output_type": "stream",
     "text": [
      "full: [0, 1500], 1550/1550=100.00 examples.\n",
      "[eval_moment_retrieval] [full] 0.30 seconds\n",
      "Calculating highlight scores with min score 2 (Fair)\n",
      "Time cost 0.25 seconds\n",
      "Calculating highlight scores with min score 3 (Good)\n",
      "Time cost 0.25 seconds\n"
     ]
    },
    {
     "name": "stderr",
     "output_type": "stream",
     "text": [
      "2024-12-11 08:02:26.286:INFO:training.myTrain - metrics OrderedDict([   ('MR-full-R1@0.5', 54.45),\n",
      "                ('MR-full-R1@0.7', 34.84),\n",
      "                ('MR-full-mAP', 32.45),\n",
      "                ('MR-full-mAP@0.5', 55.96),\n",
      "                ('MR-full-mAP@0.75', 30.94),\n",
      "                ('HL-min-Fair-mAP', 68.95),\n",
      "                ('HL-min-Fair-Hit1', 67.87),\n",
      "                ('HL-min-Good-mAP', 59.19),\n",
      "                ('HL-min-Good-Hit1', 66.65),\n",
      "                ('HL-min-VeryGood-mAP', 36.56),\n",
      "                ('HL-min-VeryGood-Hit1', 56.97)])\n",
      "Epoch:  50%|█████     | 101/200 [21:18<14:40,  8.90s/it]2024-12-11 08:02:26.287:INFO:training.myTrain - [Epoch 102]\n"
     ]
    },
    {
     "name": "stdout",
     "output_type": "stream",
     "text": [
      "Calculating highlight scores with min score 4 (VeryGood)\n",
      "Time cost 0.22 seconds\n"
     ]
    },
    {
     "name": "stderr",
     "output_type": "stream",
     "text": [
      "Training Iteration: 100%|██████████| 226/226 [00:06<00:00, 35.61it/s]\n",
      "2024-12-11 08:02:32.714:INFO:training.myEvaluate - Generate submissions\n",
      "compute st ed scores: 100%|██████████| 16/16 [00:01<00:00, 13.34it/s]\n",
      "convert to multiples of clip_length=2: 100%|██████████| 1550/1550 [00:00<00:00, 43340.85it/s]\n",
      "2024-12-11 08:02:33.959:INFO:training.myEvaluate - Saving/Evaluating before nms results\n"
     ]
    },
    {
     "name": "stdout",
     "output_type": "stream",
     "text": [
      "full: [0, 1500], 1550/1550=100.00 examples.\n",
      "[eval_moment_retrieval] [full] 0.38 seconds\n",
      "Calculating highlight scores with min score 2 (Fair)\n",
      "Time cost 0.26 seconds\n",
      "Calculating highlight scores with min score 3 (Good)\n",
      "Time cost 0.27 seconds\n"
     ]
    },
    {
     "name": "stderr",
     "output_type": "stream",
     "text": [
      "2024-12-11 08:02:35.148:INFO:training.myTrain - metrics OrderedDict([   ('MR-full-R1@0.5', 53.74),\n",
      "                ('MR-full-R1@0.7', 34.84),\n",
      "                ('MR-full-mAP', 31.61),\n",
      "                ('MR-full-mAP@0.5', 54.74),\n",
      "                ('MR-full-mAP@0.75', 29.89),\n",
      "                ('HL-min-Fair-mAP', 68.97),\n",
      "                ('HL-min-Fair-Hit1', 67.81),\n",
      "                ('HL-min-Good-mAP', 59.11),\n",
      "                ('HL-min-Good-Hit1', 66.39),\n",
      "                ('HL-min-VeryGood-mAP', 36.59),\n",
      "                ('HL-min-VeryGood-Hit1', 57.74)])\n",
      "Epoch:  51%|█████     | 102/200 [21:26<14:30,  8.89s/it]2024-12-11 08:02:35.149:INFO:training.myTrain - [Epoch 103]\n"
     ]
    },
    {
     "name": "stdout",
     "output_type": "stream",
     "text": [
      "Calculating highlight scores with min score 4 (VeryGood)\n",
      "Time cost 0.23 seconds\n"
     ]
    },
    {
     "name": "stderr",
     "output_type": "stream",
     "text": [
      "Training Iteration: 100%|██████████| 226/226 [00:06<00:00, 35.24it/s]\n",
      "2024-12-11 08:02:41.630:INFO:training.myEvaluate - Generate submissions\n",
      "compute st ed scores: 100%|██████████| 16/16 [00:01<00:00, 12.01it/s]\n",
      "convert to multiples of clip_length=2: 100%|██████████| 1550/1550 [00:00<00:00, 41017.63it/s]\n",
      "2024-12-11 08:02:43.011:INFO:training.myEvaluate - Saving/Evaluating before nms results\n"
     ]
    },
    {
     "name": "stdout",
     "output_type": "stream",
     "text": [
      "full: [0, 1500], 1550/1550=100.00 examples.\n",
      "[eval_moment_retrieval] [full] 0.29 seconds\n",
      "Calculating highlight scores with min score 2 (Fair)\n",
      "Time cost 0.26 seconds\n",
      "Calculating highlight scores with min score 3 (Good)\n",
      "Time cost 0.26 seconds\n"
     ]
    },
    {
     "name": "stderr",
     "output_type": "stream",
     "text": [
      "2024-12-11 08:02:44.099:INFO:training.myTrain - metrics OrderedDict([   ('MR-full-R1@0.5', 55.48),\n",
      "                ('MR-full-R1@0.7', 36.0),\n",
      "                ('MR-full-mAP', 32.58),\n",
      "                ('MR-full-mAP@0.5', 56.73),\n",
      "                ('MR-full-mAP@0.75', 31.49),\n",
      "                ('HL-min-Fair-mAP', 68.79),\n",
      "                ('HL-min-Fair-Hit1', 66.97),\n",
      "                ('HL-min-Good-mAP', 58.96),\n",
      "                ('HL-min-Good-Hit1', 65.48),\n",
      "                ('HL-min-VeryGood-mAP', 36.4),\n",
      "                ('HL-min-VeryGood-Hit1', 56.65)])\n",
      "Epoch:  52%|█████▏    | 103/200 [21:35<14:23,  8.91s/it]2024-12-11 08:02:44.100:INFO:training.myTrain - [Epoch 104]\n"
     ]
    },
    {
     "name": "stdout",
     "output_type": "stream",
     "text": [
      "Calculating highlight scores with min score 4 (VeryGood)\n",
      "Time cost 0.22 seconds\n"
     ]
    },
    {
     "name": "stderr",
     "output_type": "stream",
     "text": [
      "Training Iteration: 100%|██████████| 226/226 [00:06<00:00, 35.66it/s]\n",
      "2024-12-11 08:02:50.497:INFO:training.myEvaluate - Generate submissions\n",
      "compute st ed scores: 100%|██████████| 16/16 [00:01<00:00, 13.40it/s]\n",
      "convert to multiples of clip_length=2: 100%|██████████| 1550/1550 [00:00<00:00, 45240.33it/s]\n",
      "2024-12-11 08:02:51.735:INFO:training.myEvaluate - Saving/Evaluating before nms results\n"
     ]
    },
    {
     "name": "stdout",
     "output_type": "stream",
     "text": [
      "full: [0, 1500], 1550/1550=100.00 examples.\n",
      "[eval_moment_retrieval] [full] 0.36 seconds\n",
      "Calculating highlight scores with min score 2 (Fair)\n",
      "Time cost 0.25 seconds\n",
      "Calculating highlight scores with min score 3 (Good)\n",
      "Time cost 0.26 seconds\n"
     ]
    },
    {
     "name": "stderr",
     "output_type": "stream",
     "text": [
      "2024-12-11 08:02:52.896:INFO:training.myTrain - metrics OrderedDict([   ('MR-full-R1@0.5', 55.81),\n",
      "                ('MR-full-R1@0.7', 36.84),\n",
      "                ('MR-full-mAP', 32.83),\n",
      "                ('MR-full-mAP@0.5', 56.71),\n",
      "                ('MR-full-mAP@0.75', 31.8),\n",
      "                ('HL-min-Fair-mAP', 69.18),\n",
      "                ('HL-min-Fair-Hit1', 67.55),\n",
      "                ('HL-min-Good-mAP', 59.36),\n",
      "                ('HL-min-Good-Hit1', 65.94),\n",
      "                ('HL-min-VeryGood-mAP', 36.6),\n",
      "                ('HL-min-VeryGood-Hit1', 56.71)])\n",
      "Epoch:  52%|█████▏    | 104/200 [21:44<14:11,  8.87s/it]2024-12-11 08:02:52.897:INFO:training.myTrain - [Epoch 105]\n"
     ]
    },
    {
     "name": "stdout",
     "output_type": "stream",
     "text": [
      "Calculating highlight scores with min score 4 (VeryGood)\n",
      "Time cost 0.24 seconds\n"
     ]
    },
    {
     "name": "stderr",
     "output_type": "stream",
     "text": [
      "Training Iteration: 100%|██████████| 226/226 [00:06<00:00, 36.31it/s]\n",
      "2024-12-11 08:02:59.192:INFO:training.myEvaluate - Generate submissions\n",
      "compute st ed scores: 100%|██████████| 16/16 [00:01<00:00, 12.13it/s]\n",
      "convert to multiples of clip_length=2: 100%|██████████| 1550/1550 [00:00<00:00, 43304.19it/s]\n",
      "2024-12-11 08:03:00.558:INFO:training.myEvaluate - Saving/Evaluating before nms results\n"
     ]
    },
    {
     "name": "stdout",
     "output_type": "stream",
     "text": [
      "full: [0, 1500], 1550/1550=100.00 examples.\n",
      "[eval_moment_retrieval] [full] 0.29 seconds\n",
      "Calculating highlight scores with min score 2 (Fair)\n",
      "Time cost 0.29 seconds\n",
      "Calculating highlight scores with min score 3 (Good)\n",
      "Time cost 0.27 seconds\n"
     ]
    },
    {
     "name": "stderr",
     "output_type": "stream",
     "text": [
      "2024-12-11 08:03:01.713:INFO:training.myTrain - metrics OrderedDict([   ('MR-full-R1@0.5', 55.61),\n",
      "                ('MR-full-R1@0.7', 36.0),\n",
      "                ('MR-full-mAP', 32.25),\n",
      "                ('MR-full-mAP@0.5', 57.0),\n",
      "                ('MR-full-mAP@0.75', 31.6),\n",
      "                ('HL-min-Fair-mAP', 69.15),\n",
      "                ('HL-min-Fair-Hit1', 67.81),\n",
      "                ('HL-min-Good-mAP', 59.35),\n",
      "                ('HL-min-Good-Hit1', 66.13),\n",
      "                ('HL-min-VeryGood-mAP', 36.72),\n",
      "                ('HL-min-VeryGood-Hit1', 56.84)])\n",
      "Epoch:  52%|█████▎    | 105/200 [21:53<14:01,  8.86s/it]2024-12-11 08:03:01.713:INFO:training.myTrain - [Epoch 106]\n"
     ]
    },
    {
     "name": "stdout",
     "output_type": "stream",
     "text": [
      "Calculating highlight scores with min score 4 (VeryGood)\n",
      "Time cost 0.25 seconds\n"
     ]
    },
    {
     "name": "stderr",
     "output_type": "stream",
     "text": [
      "Training Iteration: 100%|██████████| 226/226 [00:06<00:00, 35.89it/s]\n",
      "2024-12-11 08:03:08.081:INFO:training.myEvaluate - Generate submissions\n",
      "compute st ed scores: 100%|██████████| 16/16 [00:01<00:00, 13.38it/s]\n",
      "convert to multiples of clip_length=2: 100%|██████████| 1550/1550 [00:00<00:00, 39567.94it/s]\n",
      "2024-12-11 08:03:09.326:INFO:training.myEvaluate - Saving/Evaluating before nms results\n"
     ]
    },
    {
     "name": "stdout",
     "output_type": "stream",
     "text": [
      "full: [0, 1500], 1550/1550=100.00 examples.\n",
      "[eval_moment_retrieval] [full] 0.36 seconds\n",
      "Calculating highlight scores with min score 2 (Fair)\n",
      "Time cost 0.27 seconds\n",
      "Calculating highlight scores with min score 3 (Good)\n",
      "Time cost 0.25 seconds\n"
     ]
    },
    {
     "name": "stderr",
     "output_type": "stream",
     "text": [
      "2024-12-11 08:03:10.467:INFO:training.myTrain - metrics OrderedDict([   ('MR-full-R1@0.5', 54.0),\n",
      "                ('MR-full-R1@0.7', 34.71),\n",
      "                ('MR-full-mAP', 31.7),\n",
      "                ('MR-full-mAP@0.5', 55.19),\n",
      "                ('MR-full-mAP@0.75', 30.6),\n",
      "                ('HL-min-Fair-mAP', 68.97),\n",
      "                ('HL-min-Fair-Hit1', 67.29),\n",
      "                ('HL-min-Good-mAP', 59.25),\n",
      "                ('HL-min-Good-Hit1', 65.81),\n",
      "                ('HL-min-VeryGood-mAP', 36.5),\n",
      "                ('HL-min-VeryGood-Hit1', 56.26)])\n",
      "Epoch:  53%|█████▎    | 106/200 [22:02<13:49,  8.83s/it]2024-12-11 08:03:10.468:INFO:training.myTrain - [Epoch 107]\n"
     ]
    },
    {
     "name": "stdout",
     "output_type": "stream",
     "text": [
      "Calculating highlight scores with min score 4 (VeryGood)\n",
      "Time cost 0.21 seconds\n"
     ]
    },
    {
     "name": "stderr",
     "output_type": "stream",
     "text": [
      "Training Iteration: 100%|██████████| 226/226 [00:06<00:00, 35.54it/s]\n",
      "2024-12-11 08:03:16.893:INFO:training.myEvaluate - Generate submissions\n",
      "compute st ed scores: 100%|██████████| 16/16 [00:01<00:00, 13.07it/s]\n",
      "convert to multiples of clip_length=2: 100%|██████████| 1550/1550 [00:00<00:00, 41690.21it/s]\n",
      "2024-12-11 08:03:18.166:INFO:training.myEvaluate - Saving/Evaluating before nms results\n"
     ]
    },
    {
     "name": "stdout",
     "output_type": "stream",
     "text": [
      "full: [0, 1500], 1550/1550=100.00 examples.\n",
      "[eval_moment_retrieval] [full] 0.35 seconds\n",
      "Calculating highlight scores with min score 2 (Fair)\n",
      "Time cost 0.27 seconds\n",
      "Calculating highlight scores with min score 3 (Good)\n",
      "Time cost 0.24 seconds\n"
     ]
    },
    {
     "name": "stderr",
     "output_type": "stream",
     "text": [
      "2024-12-11 08:03:19.290:INFO:training.myTrain - metrics OrderedDict([   ('MR-full-R1@0.5', 54.45),\n",
      "                ('MR-full-R1@0.7', 35.87),\n",
      "                ('MR-full-mAP', 31.65),\n",
      "                ('MR-full-mAP@0.5', 55.33),\n",
      "                ('MR-full-mAP@0.75', 30.14),\n",
      "                ('HL-min-Fair-mAP', 69.18),\n",
      "                ('HL-min-Fair-Hit1', 67.23),\n",
      "                ('HL-min-Good-mAP', 59.42),\n",
      "                ('HL-min-Good-Hit1', 65.48),\n",
      "                ('HL-min-VeryGood-mAP', 36.79),\n",
      "                ('HL-min-VeryGood-Hit1', 56.71)])\n",
      "Epoch:  54%|█████▎    | 107/200 [22:11<13:40,  8.82s/it]2024-12-11 08:03:19.291:INFO:training.myTrain - [Epoch 108]\n"
     ]
    },
    {
     "name": "stdout",
     "output_type": "stream",
     "text": [
      "Calculating highlight scores with min score 4 (VeryGood)\n",
      "Time cost 0.21 seconds\n"
     ]
    },
    {
     "name": "stderr",
     "output_type": "stream",
     "text": [
      "Training Iteration: 100%|██████████| 226/226 [00:06<00:00, 35.64it/s]\n",
      "2024-12-11 08:03:25.697:INFO:training.myEvaluate - Generate submissions\n",
      "compute st ed scores: 100%|██████████| 16/16 [00:01<00:00, 12.09it/s]\n",
      "convert to multiples of clip_length=2: 100%|██████████| 1550/1550 [00:00<00:00, 39852.70it/s]\n",
      "2024-12-11 08:03:27.069:INFO:training.myEvaluate - Saving/Evaluating before nms results\n"
     ]
    },
    {
     "name": "stdout",
     "output_type": "stream",
     "text": [
      "full: [0, 1500], 1550/1550=100.00 examples.\n",
      "[eval_moment_retrieval] [full] 0.27 seconds\n",
      "Calculating highlight scores with min score 2 (Fair)\n",
      "Time cost 0.29 seconds\n",
      "Calculating highlight scores with min score 3 (Good)\n",
      "Time cost 0.29 seconds\n"
     ]
    },
    {
     "name": "stderr",
     "output_type": "stream",
     "text": [
      "2024-12-11 08:03:28.238:INFO:training.myTrain - metrics OrderedDict([   ('MR-full-R1@0.5', 54.26),\n",
      "                ('MR-full-R1@0.7', 35.74),\n",
      "                ('MR-full-mAP', 32.36),\n",
      "                ('MR-full-mAP@0.5', 55.38),\n",
      "                ('MR-full-mAP@0.75', 31.02),\n",
      "                ('HL-min-Fair-mAP', 69.15),\n",
      "                ('HL-min-Fair-Hit1', 67.1),\n",
      "                ('HL-min-Good-mAP', 59.37),\n",
      "                ('HL-min-Good-Hit1', 65.42),\n",
      "                ('HL-min-VeryGood-mAP', 36.61),\n",
      "                ('HL-min-VeryGood-Hit1', 56.26)])\n",
      "Epoch:  54%|█████▍    | 108/200 [22:20<13:35,  8.86s/it]2024-12-11 08:03:28.239:INFO:training.myTrain - [Epoch 109]\n"
     ]
    },
    {
     "name": "stdout",
     "output_type": "stream",
     "text": [
      "Calculating highlight scores with min score 4 (VeryGood)\n",
      "Time cost 0.27 seconds\n"
     ]
    },
    {
     "name": "stderr",
     "output_type": "stream",
     "text": [
      "Training Iteration: 100%|██████████| 226/226 [00:06<00:00, 34.51it/s]\n",
      "2024-12-11 08:03:34.858:INFO:training.myEvaluate - Generate submissions\n",
      "compute st ed scores: 100%|██████████| 16/16 [00:01<00:00, 13.57it/s]\n",
      "convert to multiples of clip_length=2: 100%|██████████| 1550/1550 [00:00<00:00, 41772.45it/s]\n",
      "2024-12-11 08:03:36.084:INFO:training.myEvaluate - Saving/Evaluating before nms results\n"
     ]
    },
    {
     "name": "stdout",
     "output_type": "stream",
     "text": [
      "full: [0, 1500], 1550/1550=100.00 examples.\n",
      "[eval_moment_retrieval] [full] 0.34 seconds\n",
      "Calculating highlight scores with min score 2 (Fair)\n",
      "Time cost 0.26 seconds\n",
      "Calculating highlight scores with min score 3 (Good)\n",
      "Time cost 0.25 seconds\n"
     ]
    },
    {
     "name": "stderr",
     "output_type": "stream",
     "text": [
      "2024-12-11 08:03:37.197:INFO:training.myTrain - metrics OrderedDict([   ('MR-full-R1@0.5', 56.26),\n",
      "                ('MR-full-R1@0.7', 37.29),\n",
      "                ('MR-full-mAP', 33.38),\n",
      "                ('MR-full-mAP@0.5', 56.67),\n",
      "                ('MR-full-mAP@0.75', 31.73),\n",
      "                ('HL-min-Fair-mAP', 69.97),\n",
      "                ('HL-min-Fair-Hit1', 69.55),\n",
      "                ('HL-min-Good-mAP', 59.93),\n",
      "                ('HL-min-Good-Hit1', 67.87),\n",
      "                ('HL-min-VeryGood-mAP', 36.95),\n",
      "                ('HL-min-VeryGood-Hit1', 58.13)])\n",
      "Epoch:  55%|█████▍    | 109/200 [22:29<13:29,  8.89s/it]2024-12-11 08:03:37.198:INFO:training.myTrain - [Epoch 110]\n"
     ]
    },
    {
     "name": "stdout",
     "output_type": "stream",
     "text": [
      "Calculating highlight scores with min score 4 (VeryGood)\n",
      "Time cost 0.21 seconds\n"
     ]
    },
    {
     "name": "stderr",
     "output_type": "stream",
     "text": [
      "Training Iteration: 100%|██████████| 226/226 [00:06<00:00, 36.05it/s]\n",
      "2024-12-11 08:03:43.539:INFO:training.myEvaluate - Generate submissions\n",
      "compute st ed scores: 100%|██████████| 16/16 [00:01<00:00, 12.32it/s]\n",
      "convert to multiples of clip_length=2: 100%|██████████| 1550/1550 [00:00<00:00, 42300.00it/s]\n",
      "2024-12-11 08:03:44.886:INFO:training.myEvaluate - Saving/Evaluating before nms results\n"
     ]
    },
    {
     "name": "stdout",
     "output_type": "stream",
     "text": [
      "full: [0, 1500], 1550/1550=100.00 examples.\n",
      "[eval_moment_retrieval] [full] 0.29 seconds\n",
      "Calculating highlight scores with min score 2 (Fair)\n",
      "Time cost 0.27 seconds\n",
      "Calculating highlight scores with min score 3 (Good)\n",
      "Time cost 0.26 seconds\n"
     ]
    },
    {
     "name": "stderr",
     "output_type": "stream",
     "text": [
      "2024-12-11 08:03:46.006:INFO:training.myTrain - metrics OrderedDict([   ('MR-full-R1@0.5', 53.35),\n",
      "                ('MR-full-R1@0.7', 34.97),\n",
      "                ('MR-full-mAP', 31.47),\n",
      "                ('MR-full-mAP@0.5', 54.61),\n",
      "                ('MR-full-mAP@0.75', 30.06),\n",
      "                ('HL-min-Fair-mAP', 69.12),\n",
      "                ('HL-min-Fair-Hit1', 68.19),\n",
      "                ('HL-min-Good-mAP', 59.36),\n",
      "                ('HL-min-Good-Hit1', 66.32),\n",
      "                ('HL-min-VeryGood-mAP', 36.62),\n",
      "                ('HL-min-VeryGood-Hit1', 56.9)])\n",
      "Epoch:  55%|█████▌    | 110/200 [22:37<13:17,  8.87s/it]2024-12-11 08:03:46.007:INFO:training.myTrain - [Epoch 111]\n"
     ]
    },
    {
     "name": "stdout",
     "output_type": "stream",
     "text": [
      "Calculating highlight scores with min score 4 (VeryGood)\n",
      "Time cost 0.24 seconds\n"
     ]
    },
    {
     "name": "stderr",
     "output_type": "stream",
     "text": [
      "Training Iteration: 100%|██████████| 226/226 [00:06<00:00, 35.28it/s]\n",
      "2024-12-11 08:03:52.482:INFO:training.myEvaluate - Generate submissions\n",
      "compute st ed scores: 100%|██████████| 16/16 [00:01<00:00, 11.96it/s]\n",
      "convert to multiples of clip_length=2: 100%|██████████| 1550/1550 [00:00<00:00, 42366.98it/s]\n",
      "2024-12-11 08:03:53.865:INFO:training.myEvaluate - Saving/Evaluating before nms results\n"
     ]
    },
    {
     "name": "stdout",
     "output_type": "stream",
     "text": [
      "full: [0, 1500], 1550/1550=100.00 examples.\n",
      "[eval_moment_retrieval] [full] 0.26 seconds\n",
      "Calculating highlight scores with min score 2 (Fair)\n",
      "Time cost 0.29 seconds\n",
      "Calculating highlight scores with min score 3 (Good)\n",
      "Time cost 0.27 seconds\n"
     ]
    },
    {
     "name": "stderr",
     "output_type": "stream",
     "text": [
      "2024-12-11 08:03:54.966:INFO:training.myTrain - metrics OrderedDict([   ('MR-full-R1@0.5', 56.26),\n",
      "                ('MR-full-R1@0.7', 35.87),\n",
      "                ('MR-full-mAP', 32.29),\n",
      "                ('MR-full-mAP@0.5', 56.51),\n",
      "                ('MR-full-mAP@0.75', 30.81),\n",
      "                ('HL-min-Fair-mAP', 69.48),\n",
      "                ('HL-min-Fair-Hit1', 68.77),\n",
      "                ('HL-min-Good-mAP', 59.59),\n",
      "                ('HL-min-Good-Hit1', 67.1),\n",
      "                ('HL-min-VeryGood-mAP', 36.93),\n",
      "                ('HL-min-VeryGood-Hit1', 57.61)])\n",
      "Epoch:  56%|█████▌    | 111/200 [22:46<13:11,  8.89s/it]2024-12-11 08:03:54.967:INFO:training.myTrain - [Epoch 112]\n"
     ]
    },
    {
     "name": "stdout",
     "output_type": "stream",
     "text": [
      "Calculating highlight scores with min score 4 (VeryGood)\n",
      "Time cost 0.24 seconds\n"
     ]
    },
    {
     "name": "stderr",
     "output_type": "stream",
     "text": [
      "Training Iteration: 100%|██████████| 226/226 [00:06<00:00, 34.77it/s]\n",
      "2024-12-11 08:04:01.536:INFO:training.myEvaluate - Generate submissions\n",
      "compute st ed scores: 100%|██████████| 16/16 [00:01<00:00, 13.43it/s]\n",
      "convert to multiples of clip_length=2: 100%|██████████| 1550/1550 [00:00<00:00, 42210.74it/s]\n",
      "2024-12-11 08:04:02.774:INFO:training.myEvaluate - Saving/Evaluating before nms results\n"
     ]
    },
    {
     "name": "stdout",
     "output_type": "stream",
     "text": [
      "full: [0, 1500], 1550/1550=100.00 examples.\n",
      "[eval_moment_retrieval] [full] 0.35 seconds\n",
      "Calculating highlight scores with min score 2 (Fair)\n",
      "Time cost 0.26 seconds\n",
      "Calculating highlight scores with min score 3 (Good)\n",
      "Time cost 0.25 seconds\n"
     ]
    },
    {
     "name": "stderr",
     "output_type": "stream",
     "text": [
      "2024-12-11 08:04:03.904:INFO:training.myTrain - metrics OrderedDict([   ('MR-full-R1@0.5', 54.9),\n",
      "                ('MR-full-R1@0.7', 35.87),\n",
      "                ('MR-full-mAP', 32.28),\n",
      "                ('MR-full-mAP@0.5', 55.78),\n",
      "                ('MR-full-mAP@0.75', 31.02),\n",
      "                ('HL-min-Fair-mAP', 69.86),\n",
      "                ('HL-min-Fair-Hit1', 69.1),\n",
      "                ('HL-min-Good-mAP', 59.85),\n",
      "                ('HL-min-Good-Hit1', 67.48),\n",
      "                ('HL-min-VeryGood-mAP', 37.0),\n",
      "                ('HL-min-VeryGood-Hit1', 57.68)])\n",
      "Epoch:  56%|█████▌    | 112/200 [22:55<13:03,  8.91s/it]2024-12-11 08:04:03.905:INFO:training.myTrain - [Epoch 113]\n"
     ]
    },
    {
     "name": "stdout",
     "output_type": "stream",
     "text": [
      "Calculating highlight scores with min score 4 (VeryGood)\n",
      "Time cost 0.22 seconds\n"
     ]
    },
    {
     "name": "stderr",
     "output_type": "stream",
     "text": [
      "Training Iteration: 100%|██████████| 226/226 [00:06<00:00, 35.85it/s]\n",
      "2024-12-11 08:04:10.261:INFO:training.myEvaluate - Generate submissions\n",
      "compute st ed scores: 100%|██████████| 16/16 [00:01<00:00, 12.31it/s]\n",
      "convert to multiples of clip_length=2: 100%|██████████| 1550/1550 [00:00<00:00, 44213.92it/s]\n",
      "2024-12-11 08:04:11.607:INFO:training.myEvaluate - Saving/Evaluating before nms results\n"
     ]
    },
    {
     "name": "stdout",
     "output_type": "stream",
     "text": [
      "full: [0, 1500], 1550/1550=100.00 examples.\n",
      "[eval_moment_retrieval] [full] 0.30 seconds\n",
      "Calculating highlight scores with min score 2 (Fair)\n",
      "Time cost 0.28 seconds\n",
      "Calculating highlight scores with min score 3 (Good)\n",
      "Time cost 0.25 seconds\n"
     ]
    },
    {
     "name": "stderr",
     "output_type": "stream",
     "text": [
      "2024-12-11 08:04:12.742:INFO:training.myTrain - metrics OrderedDict([   ('MR-full-R1@0.5', 55.03),\n",
      "                ('MR-full-R1@0.7', 36.32),\n",
      "                ('MR-full-mAP', 32.91),\n",
      "                ('MR-full-mAP@0.5', 55.56),\n",
      "                ('MR-full-mAP@0.75', 31.67),\n",
      "                ('HL-min-Fair-mAP', 69.67),\n",
      "                ('HL-min-Fair-Hit1', 68.97),\n",
      "                ('HL-min-Good-mAP', 59.67),\n",
      "                ('HL-min-Good-Hit1', 67.1),\n",
      "                ('HL-min-VeryGood-mAP', 36.84),\n",
      "                ('HL-min-VeryGood-Hit1', 57.61)])\n",
      "Epoch:  56%|█████▋    | 113/200 [23:04<12:53,  8.89s/it]2024-12-11 08:04:12.743:INFO:training.myTrain - [Epoch 114]\n"
     ]
    },
    {
     "name": "stdout",
     "output_type": "stream",
     "text": [
      "Calculating highlight scores with min score 4 (VeryGood)\n",
      "Time cost 0.25 seconds\n"
     ]
    },
    {
     "name": "stderr",
     "output_type": "stream",
     "text": [
      "Training Iteration: 100%|██████████| 226/226 [00:06<00:00, 34.78it/s]\n",
      "2024-12-11 08:04:19.314:INFO:training.myEvaluate - Generate submissions\n",
      "compute st ed scores: 100%|██████████| 16/16 [00:01<00:00, 13.28it/s]\n",
      "convert to multiples of clip_length=2: 100%|██████████| 1550/1550 [00:00<00:00, 41899.52it/s]\n",
      "2024-12-11 08:04:20.566:INFO:training.myEvaluate - Saving/Evaluating before nms results\n"
     ]
    },
    {
     "name": "stdout",
     "output_type": "stream",
     "text": [
      "full: [0, 1500], 1550/1550=100.00 examples.\n",
      "[eval_moment_retrieval] [full] 0.39 seconds\n",
      "Calculating highlight scores with min score 2 (Fair)\n",
      "Time cost 0.28 seconds\n",
      "Calculating highlight scores with min score 3 (Good)\n",
      "Time cost 0.27 seconds\n"
     ]
    },
    {
     "name": "stderr",
     "output_type": "stream",
     "text": [
      "2024-12-11 08:04:21.791:INFO:training.myTrain - metrics OrderedDict([   ('MR-full-R1@0.5', 54.71),\n",
      "                ('MR-full-R1@0.7', 36.58),\n",
      "                ('MR-full-mAP', 32.31),\n",
      "                ('MR-full-mAP@0.5', 55.12),\n",
      "                ('MR-full-mAP@0.75', 31.33),\n",
      "                ('HL-min-Fair-mAP', 69.11),\n",
      "                ('HL-min-Fair-Hit1', 67.42),\n",
      "                ('HL-min-Good-mAP', 59.29),\n",
      "                ('HL-min-Good-Hit1', 66.0),\n",
      "                ('HL-min-VeryGood-mAP', 36.58),\n",
      "                ('HL-min-VeryGood-Hit1', 56.26)])\n",
      "Epoch:  57%|█████▋    | 114/200 [23:13<12:48,  8.94s/it]2024-12-11 08:04:21.792:INFO:training.myTrain - [Epoch 115]\n"
     ]
    },
    {
     "name": "stdout",
     "output_type": "stream",
     "text": [
      "Calculating highlight scores with min score 4 (VeryGood)\n",
      "Time cost 0.24 seconds\n"
     ]
    },
    {
     "name": "stderr",
     "output_type": "stream",
     "text": [
      "Training Iteration: 100%|██████████| 226/226 [00:06<00:00, 35.72it/s]\n",
      "2024-12-11 08:04:28.184:INFO:training.myEvaluate - Generate submissions\n",
      "compute st ed scores: 100%|██████████| 16/16 [00:01<00:00, 12.11it/s]\n",
      "convert to multiples of clip_length=2: 100%|██████████| 1550/1550 [00:00<00:00, 41405.04it/s]\n",
      "2024-12-11 08:04:29.553:INFO:training.myEvaluate - Saving/Evaluating before nms results\n"
     ]
    },
    {
     "name": "stdout",
     "output_type": "stream",
     "text": [
      "full: [0, 1500], 1550/1550=100.00 examples.\n",
      "[eval_moment_retrieval] [full] 0.28 seconds\n",
      "Calculating highlight scores with min score 2 (Fair)\n",
      "Time cost 0.26 seconds\n",
      "Calculating highlight scores with min score 3 (Good)\n",
      "Time cost 0.25 seconds\n"
     ]
    },
    {
     "name": "stderr",
     "output_type": "stream",
     "text": [
      "2024-12-11 08:04:30.607:INFO:training.myTrain - metrics OrderedDict([   ('MR-full-R1@0.5', 54.13),\n",
      "                ('MR-full-R1@0.7', 36.13),\n",
      "                ('MR-full-mAP', 31.76),\n",
      "                ('MR-full-mAP@0.5', 54.44),\n",
      "                ('MR-full-mAP@0.75', 30.54),\n",
      "                ('HL-min-Fair-mAP', 68.89),\n",
      "                ('HL-min-Fair-Hit1', 67.74),\n",
      "                ('HL-min-Good-mAP', 59.08),\n",
      "                ('HL-min-Good-Hit1', 66.06),\n",
      "                ('HL-min-VeryGood-mAP', 36.45),\n",
      "                ('HL-min-VeryGood-Hit1', 56.71)])\n",
      "Epoch:  57%|█████▊    | 115/200 [23:22<12:36,  8.90s/it]2024-12-11 08:04:30.607:INFO:training.myTrain - [Epoch 116]\n"
     ]
    },
    {
     "name": "stdout",
     "output_type": "stream",
     "text": [
      "Calculating highlight scores with min score 4 (VeryGood)\n",
      "Time cost 0.21 seconds\n"
     ]
    },
    {
     "name": "stderr",
     "output_type": "stream",
     "text": [
      "Training Iteration: 100%|██████████| 226/226 [00:06<00:00, 35.11it/s]\n",
      "2024-12-11 08:04:37.110:INFO:training.myEvaluate - Generate submissions\n",
      "compute st ed scores: 100%|██████████| 16/16 [00:01<00:00, 13.49it/s]\n",
      "convert to multiples of clip_length=2: 100%|██████████| 1550/1550 [00:00<00:00, 43501.52it/s]\n",
      "2024-12-11 08:04:38.342:INFO:training.myEvaluate - Saving/Evaluating before nms results\n"
     ]
    },
    {
     "name": "stdout",
     "output_type": "stream",
     "text": [
      "full: [0, 1500], 1550/1550=100.00 examples.\n",
      "[eval_moment_retrieval] [full] 0.34 seconds\n",
      "Calculating highlight scores with min score 2 (Fair)\n",
      "Time cost 0.25 seconds\n",
      "Calculating highlight scores with min score 3 (Good)\n",
      "Time cost 0.25 seconds\n",
      "Calculating highlight scores with min score 4 (VeryGood)\n",
      "Time cost 0.20 seconds\n"
     ]
    },
    {
     "name": "stderr",
     "output_type": "stream",
     "text": [
      "2024-12-11 08:04:39.443:INFO:training.myTrain - metrics OrderedDict([   ('MR-full-R1@0.5', 53.68),\n",
      "                ('MR-full-R1@0.7', 34.77),\n",
      "                ('MR-full-mAP', 30.5),\n",
      "                ('MR-full-mAP@0.5', 54.11),\n",
      "                ('MR-full-mAP@0.75', 29.05),\n",
      "                ('HL-min-Fair-mAP', 69.32),\n",
      "                ('HL-min-Fair-Hit1', 68.77),\n",
      "                ('HL-min-Good-mAP', 59.4),\n",
      "                ('HL-min-Good-Hit1', 67.1),\n",
      "                ('HL-min-VeryGood-mAP', 36.83),\n",
      "                ('HL-min-VeryGood-Hit1', 57.81)])\n",
      "Epoch:  58%|█████▊    | 116/200 [23:31<12:25,  8.88s/it]2024-12-11 08:04:39.443:INFO:training.myTrain - [Epoch 117]\n",
      "Training Iteration: 100%|██████████| 226/226 [00:06<00:00, 35.91it/s]\n",
      "2024-12-11 08:04:45.799:INFO:training.myEvaluate - Generate submissions\n",
      "compute st ed scores: 100%|██████████| 16/16 [00:01<00:00, 12.30it/s]\n",
      "convert to multiples of clip_length=2: 100%|██████████| 1550/1550 [00:00<00:00, 40809.33it/s]\n",
      "2024-12-11 08:04:47.148:INFO:training.myEvaluate - Saving/Evaluating before nms results\n"
     ]
    },
    {
     "name": "stdout",
     "output_type": "stream",
     "text": [
      "full: [0, 1500], 1550/1550=100.00 examples.\n",
      "[eval_moment_retrieval] [full] 0.26 seconds\n",
      "Calculating highlight scores with min score 2 (Fair)\n",
      "Time cost 0.26 seconds\n",
      "Calculating highlight scores with min score 3 (Good)\n",
      "Time cost 0.25 seconds\n"
     ]
    },
    {
     "name": "stderr",
     "output_type": "stream",
     "text": [
      "2024-12-11 08:04:48.200:INFO:training.myTrain - metrics OrderedDict([   ('MR-full-R1@0.5', 56.84),\n",
      "                ('MR-full-R1@0.7', 36.58),\n",
      "                ('MR-full-mAP', 32.76),\n",
      "                ('MR-full-mAP@0.5', 56.74),\n",
      "                ('MR-full-mAP@0.75', 31.46),\n",
      "                ('HL-min-Fair-mAP', 69.69),\n",
      "                ('HL-min-Fair-Hit1', 69.16),\n",
      "                ('HL-min-Good-mAP', 59.64),\n",
      "                ('HL-min-Good-Hit1', 67.23),\n",
      "                ('HL-min-VeryGood-mAP', 36.89),\n",
      "                ('HL-min-VeryGood-Hit1', 57.55)])\n",
      "Epoch:  58%|█████▊    | 117/200 [23:40<12:14,  8.84s/it]2024-12-11 08:04:48.201:INFO:training.myTrain - [Epoch 118]\n"
     ]
    },
    {
     "name": "stdout",
     "output_type": "stream",
     "text": [
      "Calculating highlight scores with min score 4 (VeryGood)\n",
      "Time cost 0.23 seconds\n"
     ]
    },
    {
     "name": "stderr",
     "output_type": "stream",
     "text": [
      "Training Iteration: 100%|██████████| 226/226 [00:06<00:00, 35.54it/s]\n",
      "2024-12-11 08:04:54.627:INFO:training.myEvaluate - Generate submissions\n",
      "compute st ed scores: 100%|██████████| 16/16 [00:01<00:00, 13.25it/s]\n",
      "convert to multiples of clip_length=2: 100%|██████████| 1550/1550 [00:00<00:00, 41137.02it/s]\n",
      "2024-12-11 08:04:55.883:INFO:training.myEvaluate - Saving/Evaluating before nms results\n"
     ]
    },
    {
     "name": "stdout",
     "output_type": "stream",
     "text": [
      "full: [0, 1500], 1550/1550=100.00 examples.\n",
      "[eval_moment_retrieval] [full] 0.38 seconds\n",
      "Calculating highlight scores with min score 2 (Fair)\n",
      "Time cost 0.26 seconds\n",
      "Calculating highlight scores with min score 3 (Good)\n",
      "Time cost 0.26 seconds\n"
     ]
    },
    {
     "name": "stderr",
     "output_type": "stream",
     "text": [
      "2024-12-11 08:04:57.085:INFO:training.myTrain - metrics OrderedDict([   ('MR-full-R1@0.5', 55.42),\n",
      "                ('MR-full-R1@0.7', 36.84),\n",
      "                ('MR-full-mAP', 32.46),\n",
      "                ('MR-full-mAP@0.5', 55.74),\n",
      "                ('MR-full-mAP@0.75', 31.51),\n",
      "                ('HL-min-Fair-mAP', 69.33),\n",
      "                ('HL-min-Fair-Hit1', 68.52),\n",
      "                ('HL-min-Good-mAP', 59.3),\n",
      "                ('HL-min-Good-Hit1', 66.65),\n",
      "                ('HL-min-VeryGood-mAP', 36.57),\n",
      "                ('HL-min-VeryGood-Hit1', 57.29)])\n",
      "Epoch:  59%|█████▉    | 118/200 [23:48<12:06,  8.86s/it]2024-12-11 08:04:57.086:INFO:training.myTrain - [Epoch 119]\n"
     ]
    },
    {
     "name": "stdout",
     "output_type": "stream",
     "text": [
      "Calculating highlight scores with min score 4 (VeryGood)\n",
      "Time cost 0.25 seconds\n"
     ]
    },
    {
     "name": "stderr",
     "output_type": "stream",
     "text": [
      "Training Iteration: 100%|██████████| 226/226 [00:06<00:00, 35.83it/s]\n",
      "2024-12-11 08:05:03.469:INFO:training.myEvaluate - Generate submissions\n",
      "compute st ed scores: 100%|██████████| 16/16 [00:01<00:00, 13.21it/s]\n",
      "convert to multiples of clip_length=2: 100%|██████████| 1550/1550 [00:00<00:00, 42783.53it/s]\n",
      "2024-12-11 08:05:04.727:INFO:training.myEvaluate - Saving/Evaluating before nms results\n"
     ]
    },
    {
     "name": "stdout",
     "output_type": "stream",
     "text": [
      "full: [0, 1500], 1550/1550=100.00 examples.\n",
      "[eval_moment_retrieval] [full] 0.38 seconds\n",
      "Calculating highlight scores with min score 2 (Fair)\n",
      "Time cost 0.26 seconds\n",
      "Calculating highlight scores with min score 3 (Good)\n",
      "Time cost 0.27 seconds\n"
     ]
    },
    {
     "name": "stderr",
     "output_type": "stream",
     "text": [
      "2024-12-11 08:05:05.955:INFO:training.myTrain - metrics OrderedDict([   ('MR-full-R1@0.5', 53.48),\n",
      "                ('MR-full-R1@0.7', 35.1),\n",
      "                ('MR-full-mAP', 32.26),\n",
      "                ('MR-full-mAP@0.5', 55.15),\n",
      "                ('MR-full-mAP@0.75', 30.46),\n",
      "                ('HL-min-Fair-mAP', 68.75),\n",
      "                ('HL-min-Fair-Hit1', 68.0),\n",
      "                ('HL-min-Good-mAP', 59.03),\n",
      "                ('HL-min-Good-Hit1', 66.26),\n",
      "                ('HL-min-VeryGood-mAP', 36.59),\n",
      "                ('HL-min-VeryGood-Hit1', 57.61)])\n",
      "Epoch:  60%|█████▉    | 119/200 [23:57<11:57,  8.86s/it]2024-12-11 08:05:05.955:INFO:training.myTrain - [Epoch 120]\n"
     ]
    },
    {
     "name": "stdout",
     "output_type": "stream",
     "text": [
      "Calculating highlight scores with min score 4 (VeryGood)\n",
      "Time cost 0.26 seconds\n"
     ]
    },
    {
     "name": "stderr",
     "output_type": "stream",
     "text": [
      "Training Iteration: 100%|██████████| 226/226 [00:06<00:00, 35.46it/s]\n",
      "2024-12-11 08:05:12.401:INFO:training.myEvaluate - Generate submissions\n",
      "compute st ed scores: 100%|██████████| 16/16 [00:01<00:00, 12.60it/s]\n",
      "convert to multiples of clip_length=2: 100%|██████████| 1550/1550 [00:00<00:00, 40474.97it/s]\n",
      "2024-12-11 08:05:13.719:INFO:training.myEvaluate - Saving/Evaluating before nms results\n"
     ]
    },
    {
     "name": "stdout",
     "output_type": "stream",
     "text": [
      "full: [0, 1500], 1550/1550=100.00 examples.\n",
      "[eval_moment_retrieval] [full] 0.26 seconds\n",
      "Calculating highlight scores with min score 2 (Fair)\n",
      "Time cost 0.26 seconds\n",
      "Calculating highlight scores with min score 3 (Good)\n",
      "Time cost 0.28 seconds\n"
     ]
    },
    {
     "name": "stderr",
     "output_type": "stream",
     "text": [
      "2024-12-11 08:05:14.813:INFO:training.myTrain - metrics OrderedDict([   ('MR-full-R1@0.5', 57.23),\n",
      "                ('MR-full-R1@0.7', 36.32),\n",
      "                ('MR-full-mAP', 32.94),\n",
      "                ('MR-full-mAP@0.5', 57.18),\n",
      "                ('MR-full-mAP@0.75', 31.98),\n",
      "                ('HL-min-Fair-mAP', 69.63),\n",
      "                ('HL-min-Fair-Hit1', 69.48),\n",
      "                ('HL-min-Good-mAP', 59.79),\n",
      "                ('HL-min-Good-Hit1', 67.87),\n",
      "                ('HL-min-VeryGood-mAP', 37.09),\n",
      "                ('HL-min-VeryGood-Hit1', 58.71)])\n",
      "Epoch:  60%|██████    | 120/200 [24:06<11:48,  8.86s/it]2024-12-11 08:05:14.814:INFO:training.myTrain - [Epoch 121]\n"
     ]
    },
    {
     "name": "stdout",
     "output_type": "stream",
     "text": [
      "Calculating highlight scores with min score 4 (VeryGood)\n",
      "Time cost 0.24 seconds\n"
     ]
    },
    {
     "name": "stderr",
     "output_type": "stream",
     "text": [
      "Training Iteration: 100%|██████████| 226/226 [00:06<00:00, 35.04it/s]\n",
      "2024-12-11 08:05:21.330:INFO:training.myEvaluate - Generate submissions\n",
      "compute st ed scores: 100%|██████████| 16/16 [00:01<00:00, 13.37it/s]\n",
      "convert to multiples of clip_length=2: 100%|██████████| 1550/1550 [00:00<00:00, 40738.49it/s]\n",
      "2024-12-11 08:05:22.575:INFO:training.myEvaluate - Saving/Evaluating before nms results\n"
     ]
    },
    {
     "name": "stdout",
     "output_type": "stream",
     "text": [
      "full: [0, 1500], 1550/1550=100.00 examples.\n",
      "[eval_moment_retrieval] [full] 0.37 seconds\n",
      "Calculating highlight scores with min score 2 (Fair)\n",
      "Time cost 0.26 seconds\n",
      "Calculating highlight scores with min score 3 (Good)\n",
      "Time cost 0.25 seconds\n"
     ]
    },
    {
     "name": "stderr",
     "output_type": "stream",
     "text": [
      "2024-12-11 08:05:23.738:INFO:training.myTrain - metrics OrderedDict([   ('MR-full-R1@0.5', 56.13),\n",
      "                ('MR-full-R1@0.7', 36.65),\n",
      "                ('MR-full-mAP', 32.22),\n",
      "                ('MR-full-mAP@0.5', 55.76),\n",
      "                ('MR-full-mAP@0.75', 30.09),\n",
      "                ('HL-min-Fair-mAP', 69.55),\n",
      "                ('HL-min-Fair-Hit1', 68.71),\n",
      "                ('HL-min-Good-mAP', 59.69),\n",
      "                ('HL-min-Good-Hit1', 67.16),\n",
      "                ('HL-min-VeryGood-mAP', 36.88),\n",
      "                ('HL-min-VeryGood-Hit1', 57.16)])\n",
      "Epoch:  60%|██████    | 121/200 [24:15<11:41,  8.88s/it]2024-12-11 08:05:23.739:INFO:training.myTrain - [Epoch 122]\n"
     ]
    },
    {
     "name": "stdout",
     "output_type": "stream",
     "text": [
      "Calculating highlight scores with min score 4 (VeryGood)\n",
      "Time cost 0.22 seconds\n"
     ]
    },
    {
     "name": "stderr",
     "output_type": "stream",
     "text": [
      "Training Iteration: 100%|██████████| 226/226 [00:05<00:00, 38.04it/s]\n",
      "2024-12-11 08:05:29.738:INFO:training.myEvaluate - Generate submissions\n",
      "compute st ed scores: 100%|██████████| 16/16 [00:01<00:00, 12.14it/s]\n",
      "convert to multiples of clip_length=2: 100%|██████████| 1550/1550 [00:00<00:00, 42411.48it/s]\n",
      "2024-12-11 08:05:31.103:INFO:training.myEvaluate - Saving/Evaluating before nms results\n"
     ]
    },
    {
     "name": "stdout",
     "output_type": "stream",
     "text": [
      "full: [0, 1500], 1550/1550=100.00 examples.\n",
      "[eval_moment_retrieval] [full] 0.29 seconds\n",
      "Calculating highlight scores with min score 2 (Fair)\n",
      "Time cost 0.26 seconds\n",
      "Calculating highlight scores with min score 3 (Good)\n",
      "Time cost 0.27 seconds\n"
     ]
    },
    {
     "name": "stderr",
     "output_type": "stream",
     "text": [
      "2024-12-11 08:05:32.202:INFO:training.myTrain - metrics OrderedDict([   ('MR-full-R1@0.5', 55.23),\n",
      "                ('MR-full-R1@0.7', 38.19),\n",
      "                ('MR-full-mAP', 33.21),\n",
      "                ('MR-full-mAP@0.5', 56.14),\n",
      "                ('MR-full-mAP@0.75', 32.62),\n",
      "                ('HL-min-Fair-mAP', 69.36),\n",
      "                ('HL-min-Fair-Hit1', 68.65),\n",
      "                ('HL-min-Good-mAP', 59.35),\n",
      "                ('HL-min-Good-Hit1', 67.03),\n",
      "                ('HL-min-VeryGood-mAP', 36.7),\n",
      "                ('HL-min-VeryGood-Hit1', 57.87)])\n",
      "Epoch:  61%|██████    | 122/200 [24:24<11:22,  8.75s/it]2024-12-11 08:05:32.203:INFO:training.myTrain - [Epoch 123]\n"
     ]
    },
    {
     "name": "stdout",
     "output_type": "stream",
     "text": [
      "Calculating highlight scores with min score 4 (VeryGood)\n",
      "Time cost 0.23 seconds\n"
     ]
    },
    {
     "name": "stderr",
     "output_type": "stream",
     "text": [
      "Training Iteration: 100%|██████████| 226/226 [00:06<00:00, 35.07it/s]\n",
      "2024-12-11 08:05:38.720:INFO:training.myEvaluate - Generate submissions\n",
      "compute st ed scores: 100%|██████████| 16/16 [00:01<00:00, 13.64it/s]\n",
      "convert to multiples of clip_length=2: 100%|██████████| 1550/1550 [00:00<00:00, 47775.68it/s]\n",
      "2024-12-11 08:05:39.935:INFO:training.myEvaluate - Saving/Evaluating before nms results\n"
     ]
    },
    {
     "name": "stdout",
     "output_type": "stream",
     "text": [
      "full: [0, 1500], 1550/1550=100.00 examples.\n",
      "[eval_moment_retrieval] [full] 0.39 seconds\n",
      "Calculating highlight scores with min score 2 (Fair)\n",
      "Time cost 0.26 seconds\n",
      "Calculating highlight scores with min score 3 (Good)\n",
      "Time cost 0.26 seconds\n"
     ]
    },
    {
     "name": "stderr",
     "output_type": "stream",
     "text": [
      "2024-12-11 08:05:41.125:INFO:training.myTrain - metrics OrderedDict([   ('MR-full-R1@0.5', 55.68),\n",
      "                ('MR-full-R1@0.7', 36.52),\n",
      "                ('MR-full-mAP', 32.08),\n",
      "                ('MR-full-mAP@0.5', 55.57),\n",
      "                ('MR-full-mAP@0.75', 31.23),\n",
      "                ('HL-min-Fair-mAP', 69.45),\n",
      "                ('HL-min-Fair-Hit1', 68.77),\n",
      "                ('HL-min-Good-mAP', 59.49),\n",
      "                ('HL-min-Good-Hit1', 66.77),\n",
      "                ('HL-min-VeryGood-mAP', 36.65),\n",
      "                ('HL-min-VeryGood-Hit1', 56.97)])\n",
      "Epoch:  62%|██████▏   | 123/200 [24:32<11:17,  8.81s/it]2024-12-11 08:05:41.126:INFO:training.myTrain - [Epoch 124]\n"
     ]
    },
    {
     "name": "stdout",
     "output_type": "stream",
     "text": [
      "Calculating highlight scores with min score 4 (VeryGood)\n",
      "Time cost 0.23 seconds\n"
     ]
    },
    {
     "name": "stderr",
     "output_type": "stream",
     "text": [
      "Training Iteration: 100%|██████████| 226/226 [00:06<00:00, 35.70it/s]\n",
      "2024-12-11 08:05:47.525:INFO:training.myEvaluate - Generate submissions\n",
      "compute st ed scores: 100%|██████████| 16/16 [00:01<00:00, 11.72it/s]\n",
      "convert to multiples of clip_length=2: 100%|██████████| 1550/1550 [00:00<00:00, 40208.12it/s]\n",
      "2024-12-11 08:05:48.939:INFO:training.myEvaluate - Saving/Evaluating before nms results\n"
     ]
    },
    {
     "name": "stdout",
     "output_type": "stream",
     "text": [
      "full: [0, 1500], 1550/1550=100.00 examples.\n",
      "[eval_moment_retrieval] [full] 0.27 seconds\n",
      "Calculating highlight scores with min score 2 (Fair)\n",
      "Time cost 0.27 seconds\n",
      "Calculating highlight scores with min score 3 (Good)\n",
      "Time cost 0.24 seconds\n"
     ]
    },
    {
     "name": "stderr",
     "output_type": "stream",
     "text": [
      "2024-12-11 08:05:49.993:INFO:training.myTrain - metrics OrderedDict([   ('MR-full-R1@0.5', 56.32),\n",
      "                ('MR-full-R1@0.7', 37.1),\n",
      "                ('MR-full-mAP', 32.75),\n",
      "                ('MR-full-mAP@0.5', 56.32),\n",
      "                ('MR-full-mAP@0.75', 32.19),\n",
      "                ('HL-min-Fair-mAP', 69.56),\n",
      "                ('HL-min-Fair-Hit1', 68.45),\n",
      "                ('HL-min-Good-mAP', 59.54),\n",
      "                ('HL-min-Good-Hit1', 66.71),\n",
      "                ('HL-min-VeryGood-mAP', 36.75),\n",
      "                ('HL-min-VeryGood-Hit1', 56.71)])\n",
      "Epoch:  62%|██████▏   | 124/200 [24:41<11:10,  8.82s/it]2024-12-11 08:05:49.994:INFO:training.myTrain - [Epoch 125]\n"
     ]
    },
    {
     "name": "stdout",
     "output_type": "stream",
     "text": [
      "Calculating highlight scores with min score 4 (VeryGood)\n",
      "Time cost 0.22 seconds\n"
     ]
    },
    {
     "name": "stderr",
     "output_type": "stream",
     "text": [
      "Training Iteration: 100%|██████████| 226/226 [00:06<00:00, 34.45it/s]\n",
      "2024-12-11 08:05:56.611:INFO:training.myEvaluate - Generate submissions\n",
      "compute st ed scores: 100%|██████████| 16/16 [00:01<00:00, 13.33it/s]\n",
      "convert to multiples of clip_length=2: 100%|██████████| 1550/1550 [00:00<00:00, 46625.77it/s]\n",
      "2024-12-11 08:05:57.854:INFO:training.myEvaluate - Saving/Evaluating before nms results\n"
     ]
    },
    {
     "name": "stdout",
     "output_type": "stream",
     "text": [
      "full: [0, 1500], 1550/1550=100.00 examples.\n",
      "[eval_moment_retrieval] [full] 0.40 seconds\n",
      "Calculating highlight scores with min score 2 (Fair)\n",
      "Time cost 0.25 seconds\n",
      "Calculating highlight scores with min score 3 (Good)\n",
      "Time cost 0.27 seconds\n"
     ]
    },
    {
     "name": "stderr",
     "output_type": "stream",
     "text": [
      "2024-12-11 08:05:59.046:INFO:training.myTrain - metrics OrderedDict([   ('MR-full-R1@0.5', 55.1),\n",
      "                ('MR-full-R1@0.7', 35.87),\n",
      "                ('MR-full-mAP', 32.27),\n",
      "                ('MR-full-mAP@0.5', 55.96),\n",
      "                ('MR-full-mAP@0.75', 31.15),\n",
      "                ('HL-min-Fair-mAP', 69.57),\n",
      "                ('HL-min-Fair-Hit1', 69.03),\n",
      "                ('HL-min-Good-mAP', 59.64),\n",
      "                ('HL-min-Good-Hit1', 67.61),\n",
      "                ('HL-min-VeryGood-mAP', 36.76),\n",
      "                ('HL-min-VeryGood-Hit1', 57.48)])\n",
      "Epoch:  62%|██████▎   | 125/200 [24:50<11:06,  8.89s/it]2024-12-11 08:05:59.047:INFO:training.myTrain - [Epoch 126]\n"
     ]
    },
    {
     "name": "stdout",
     "output_type": "stream",
     "text": [
      "Calculating highlight scores with min score 4 (VeryGood)\n",
      "Time cost 0.22 seconds\n"
     ]
    },
    {
     "name": "stderr",
     "output_type": "stream",
     "text": [
      "Training Iteration: 100%|██████████| 226/226 [00:06<00:00, 35.10it/s]\n",
      "2024-12-11 08:06:05.549:INFO:training.myEvaluate - Generate submissions\n",
      "compute st ed scores: 100%|██████████| 16/16 [00:01<00:00, 13.04it/s]\n",
      "convert to multiples of clip_length=2: 100%|██████████| 1550/1550 [00:00<00:00, 42378.86it/s]\n",
      "2024-12-11 08:06:06.823:INFO:training.myEvaluate - Saving/Evaluating before nms results\n"
     ]
    },
    {
     "name": "stdout",
     "output_type": "stream",
     "text": [
      "full: [0, 1500], 1550/1550=100.00 examples.\n",
      "[eval_moment_retrieval] [full] 0.38 seconds\n",
      "Calculating highlight scores with min score 2 (Fair)\n",
      "Time cost 0.26 seconds\n",
      "Calculating highlight scores with min score 3 (Good)\n",
      "Time cost 0.27 seconds\n"
     ]
    },
    {
     "name": "stderr",
     "output_type": "stream",
     "text": [
      "2024-12-11 08:06:08.040:INFO:training.myTrain - metrics OrderedDict([   ('MR-full-R1@0.5', 56.0),\n",
      "                ('MR-full-R1@0.7', 35.68),\n",
      "                ('MR-full-mAP', 32.34),\n",
      "                ('MR-full-mAP@0.5', 56.1),\n",
      "                ('MR-full-mAP@0.75', 31.25),\n",
      "                ('HL-min-Fair-mAP', 69.48),\n",
      "                ('HL-min-Fair-Hit1', 69.35),\n",
      "                ('HL-min-Good-mAP', 59.57),\n",
      "                ('HL-min-Good-Hit1', 67.81),\n",
      "                ('HL-min-VeryGood-mAP', 36.91),\n",
      "                ('HL-min-VeryGood-Hit1', 57.68)])\n",
      "Epoch:  63%|██████▎   | 126/200 [24:59<11:00,  8.92s/it]2024-12-11 08:06:08.041:INFO:training.myTrain - [Epoch 127]\n"
     ]
    },
    {
     "name": "stdout",
     "output_type": "stream",
     "text": [
      "Calculating highlight scores with min score 4 (VeryGood)\n",
      "Time cost 0.25 seconds\n"
     ]
    },
    {
     "name": "stderr",
     "output_type": "stream",
     "text": [
      "Training Iteration: 100%|██████████| 226/226 [00:06<00:00, 35.46it/s]\n",
      "2024-12-11 08:06:14.484:INFO:training.myEvaluate - Generate submissions\n",
      "compute st ed scores: 100%|██████████| 16/16 [00:01<00:00, 11.84it/s]\n",
      "convert to multiples of clip_length=2: 100%|██████████| 1550/1550 [00:00<00:00, 40166.14it/s]\n",
      "2024-12-11 08:06:15.885:INFO:training.myEvaluate - Saving/Evaluating before nms results\n"
     ]
    },
    {
     "name": "stdout",
     "output_type": "stream",
     "text": [
      "full: [0, 1500], 1550/1550=100.00 examples.\n",
      "[eval_moment_retrieval] [full] 0.29 seconds\n",
      "Calculating highlight scores with min score 2 (Fair)\n",
      "Time cost 0.28 seconds\n",
      "Calculating highlight scores with min score 3 (Good)\n",
      "Time cost 0.29 seconds\n"
     ]
    },
    {
     "name": "stderr",
     "output_type": "stream",
     "text": [
      "2024-12-11 08:06:17.068:INFO:training.myTrain - metrics OrderedDict([   ('MR-full-R1@0.5', 56.32),\n",
      "                ('MR-full-R1@0.7', 38.13),\n",
      "                ('MR-full-mAP', 33.74),\n",
      "                ('MR-full-mAP@0.5', 57.03),\n",
      "                ('MR-full-mAP@0.75', 33.12),\n",
      "                ('HL-min-Fair-mAP', 69.67),\n",
      "                ('HL-min-Fair-Hit1', 69.81),\n",
      "                ('HL-min-Good-mAP', 59.79),\n",
      "                ('HL-min-Good-Hit1', 67.87),\n",
      "                ('HL-min-VeryGood-mAP', 36.92),\n",
      "                ('HL-min-VeryGood-Hit1', 57.29)])\n",
      "2024-12-11 08:06:17.157:INFO:training.myTrain - The checkpoint file has been updated.\n",
      "Epoch:  64%|██████▎   | 127/200 [25:08<10:55,  8.98s/it]2024-12-11 08:06:17.159:INFO:training.myTrain - [Epoch 128]\n"
     ]
    },
    {
     "name": "stdout",
     "output_type": "stream",
     "text": [
      "Calculating highlight scores with min score 4 (VeryGood)\n",
      "Time cost 0.27 seconds\n"
     ]
    },
    {
     "name": "stderr",
     "output_type": "stream",
     "text": [
      "Training Iteration: 100%|██████████| 226/226 [00:06<00:00, 34.61it/s]\n",
      "2024-12-11 08:06:23.761:INFO:training.myEvaluate - Generate submissions\n",
      "compute st ed scores: 100%|██████████| 16/16 [00:01<00:00, 13.25it/s]\n",
      "convert to multiples of clip_length=2: 100%|██████████| 1550/1550 [00:00<00:00, 42159.28it/s]\n",
      "2024-12-11 08:06:25.016:INFO:training.myEvaluate - Saving/Evaluating before nms results\n"
     ]
    },
    {
     "name": "stdout",
     "output_type": "stream",
     "text": [
      "full: [0, 1500], 1550/1550=100.00 examples.\n",
      "[eval_moment_retrieval] [full] 0.36 seconds\n",
      "Calculating highlight scores with min score 2 (Fair)\n",
      "Time cost 0.27 seconds\n",
      "Calculating highlight scores with min score 3 (Good)\n",
      "Time cost 0.24 seconds\n"
     ]
    },
    {
     "name": "stderr",
     "output_type": "stream",
     "text": [
      "2024-12-11 08:06:26.155:INFO:training.myTrain - metrics OrderedDict([   ('MR-full-R1@0.5', 57.87),\n",
      "                ('MR-full-R1@0.7', 36.84),\n",
      "                ('MR-full-mAP', 33.47),\n",
      "                ('MR-full-mAP@0.5', 57.81),\n",
      "                ('MR-full-mAP@0.75', 32.97),\n",
      "                ('HL-min-Fair-mAP', 69.51),\n",
      "                ('HL-min-Fair-Hit1', 69.29),\n",
      "                ('HL-min-Good-mAP', 59.68),\n",
      "                ('HL-min-Good-Hit1', 67.35),\n",
      "                ('HL-min-VeryGood-mAP', 36.91),\n",
      "                ('HL-min-VeryGood-Hit1', 57.29)])\n",
      "Epoch:  64%|██████▍   | 128/200 [25:17<10:47,  8.99s/it]2024-12-11 08:06:26.156:INFO:training.myTrain - [Epoch 129]\n"
     ]
    },
    {
     "name": "stdout",
     "output_type": "stream",
     "text": [
      "Calculating highlight scores with min score 4 (VeryGood)\n",
      "Time cost 0.22 seconds\n"
     ]
    },
    {
     "name": "stderr",
     "output_type": "stream",
     "text": [
      "Training Iteration: 100%|██████████| 226/226 [00:06<00:00, 35.90it/s]\n",
      "2024-12-11 08:06:32.523:INFO:training.myEvaluate - Generate submissions\n",
      "compute st ed scores: 100%|██████████| 16/16 [00:01<00:00, 12.46it/s]\n",
      "convert to multiples of clip_length=2: 100%|██████████| 1550/1550 [00:00<00:00, 43535.31it/s]\n",
      "2024-12-11 08:06:33.852:INFO:training.myEvaluate - Saving/Evaluating before nms results\n"
     ]
    },
    {
     "name": "stdout",
     "output_type": "stream",
     "text": [
      "full: [0, 1500], 1550/1550=100.00 examples.\n",
      "[eval_moment_retrieval] [full] 0.27 seconds\n",
      "Calculating highlight scores with min score 2 (Fair)\n",
      "Time cost 0.27 seconds\n",
      "Calculating highlight scores with min score 3 (Good)\n",
      "Time cost 0.29 seconds\n"
     ]
    },
    {
     "name": "stderr",
     "output_type": "stream",
     "text": [
      "2024-12-11 08:06:34.971:INFO:training.myTrain - metrics OrderedDict([   ('MR-full-R1@0.5', 54.65),\n",
      "                ('MR-full-R1@0.7', 36.71),\n",
      "                ('MR-full-mAP', 32.73),\n",
      "                ('MR-full-mAP@0.5', 55.87),\n",
      "                ('MR-full-mAP@0.75', 32.03),\n",
      "                ('HL-min-Fair-mAP', 69.35),\n",
      "                ('HL-min-Fair-Hit1', 67.87),\n",
      "                ('HL-min-Good-mAP', 59.44),\n",
      "                ('HL-min-Good-Hit1', 66.0),\n",
      "                ('HL-min-VeryGood-mAP', 36.67),\n",
      "                ('HL-min-VeryGood-Hit1', 56.77)])\n",
      "Epoch:  64%|██████▍   | 129/200 [25:26<10:34,  8.94s/it]2024-12-11 08:06:34.972:INFO:training.myTrain - [Epoch 130]\n"
     ]
    },
    {
     "name": "stdout",
     "output_type": "stream",
     "text": [
      "Calculating highlight scores with min score 4 (VeryGood)\n",
      "Time cost 0.24 seconds\n"
     ]
    },
    {
     "name": "stderr",
     "output_type": "stream",
     "text": [
      "Training Iteration: 100%|██████████| 226/226 [00:06<00:00, 35.97it/s]\n",
      "2024-12-11 08:06:41.325:INFO:training.myEvaluate - Generate submissions\n",
      "compute st ed scores: 100%|██████████| 16/16 [00:01<00:00, 13.48it/s]\n",
      "convert to multiples of clip_length=2: 100%|██████████| 1550/1550 [00:00<00:00, 42552.50it/s]\n",
      "2024-12-11 08:06:42.559:INFO:training.myEvaluate - Saving/Evaluating before nms results\n"
     ]
    },
    {
     "name": "stdout",
     "output_type": "stream",
     "text": [
      "full: [0, 1500], 1550/1550=100.00 examples.\n",
      "[eval_moment_retrieval] [full] 0.39 seconds\n",
      "Calculating highlight scores with min score 2 (Fair)\n",
      "Time cost 0.28 seconds\n",
      "Calculating highlight scores with min score 3 (Good)\n",
      "Time cost 0.25 seconds\n"
     ]
    },
    {
     "name": "stderr",
     "output_type": "stream",
     "text": [
      "2024-12-11 08:06:43.774:INFO:training.myTrain - metrics OrderedDict([   ('MR-full-R1@0.5', 55.87),\n",
      "                ('MR-full-R1@0.7', 36.45),\n",
      "                ('MR-full-mAP', 32.77),\n",
      "                ('MR-full-mAP@0.5', 56.51),\n",
      "                ('MR-full-mAP@0.75', 31.6),\n",
      "                ('HL-min-Fair-mAP', 69.92),\n",
      "                ('HL-min-Fair-Hit1', 69.23),\n",
      "                ('HL-min-Good-mAP', 60.01),\n",
      "                ('HL-min-Good-Hit1', 67.61),\n",
      "                ('HL-min-VeryGood-mAP', 37.12),\n",
      "                ('HL-min-VeryGood-Hit1', 57.23)])\n",
      "Epoch:  65%|██████▌   | 130/200 [25:35<10:22,  8.90s/it]2024-12-11 08:06:43.775:INFO:training.myTrain - [Epoch 131]\n"
     ]
    },
    {
     "name": "stdout",
     "output_type": "stream",
     "text": [
      "Calculating highlight scores with min score 4 (VeryGood)\n",
      "Time cost 0.24 seconds\n"
     ]
    },
    {
     "name": "stderr",
     "output_type": "stream",
     "text": [
      "Training Iteration: 100%|██████████| 226/226 [00:05<00:00, 38.61it/s]\n",
      "2024-12-11 08:06:49.699:INFO:training.myEvaluate - Generate submissions\n",
      "compute st ed scores: 100%|██████████| 16/16 [00:01<00:00, 12.32it/s]\n",
      "convert to multiples of clip_length=2: 100%|██████████| 1550/1550 [00:00<00:00, 44414.49it/s]\n",
      "2024-12-11 08:06:51.044:INFO:training.myEvaluate - Saving/Evaluating before nms results\n"
     ]
    },
    {
     "name": "stdout",
     "output_type": "stream",
     "text": [
      "full: [0, 1500], 1550/1550=100.00 examples.\n",
      "[eval_moment_retrieval] [full] 0.28 seconds\n",
      "Calculating highlight scores with min score 2 (Fair)\n",
      "Time cost 0.27 seconds\n",
      "Calculating highlight scores with min score 3 (Good)\n",
      "Time cost 0.28 seconds\n"
     ]
    },
    {
     "name": "stderr",
     "output_type": "stream",
     "text": [
      "2024-12-11 08:06:52.164:INFO:training.myTrain - metrics OrderedDict([   ('MR-full-R1@0.5', 55.48),\n",
      "                ('MR-full-R1@0.7', 36.45),\n",
      "                ('MR-full-mAP', 32.85),\n",
      "                ('MR-full-mAP@0.5', 56.41),\n",
      "                ('MR-full-mAP@0.75', 32.08),\n",
      "                ('HL-min-Fair-mAP', 69.28),\n",
      "                ('HL-min-Fair-Hit1', 67.48),\n",
      "                ('HL-min-Good-mAP', 59.49),\n",
      "                ('HL-min-Good-Hit1', 65.61),\n",
      "                ('HL-min-VeryGood-mAP', 36.8),\n",
      "                ('HL-min-VeryGood-Hit1', 55.94)])\n",
      "Epoch:  66%|██████▌   | 131/200 [25:43<10:03,  8.74s/it]2024-12-11 08:06:52.165:INFO:training.myTrain - [Epoch 132]\n"
     ]
    },
    {
     "name": "stdout",
     "output_type": "stream",
     "text": [
      "Calculating highlight scores with min score 4 (VeryGood)\n",
      "Time cost 0.23 seconds\n"
     ]
    },
    {
     "name": "stderr",
     "output_type": "stream",
     "text": [
      "Training Iteration: 100%|██████████| 226/226 [00:06<00:00, 34.85it/s]\n",
      "2024-12-11 08:06:58.722:INFO:training.myEvaluate - Generate submissions\n",
      "compute st ed scores: 100%|██████████| 16/16 [00:01<00:00, 13.18it/s]\n",
      "convert to multiples of clip_length=2: 100%|██████████| 1550/1550 [00:00<00:00, 47149.57it/s]\n",
      "2024-12-11 08:06:59.979:INFO:training.myEvaluate - Saving/Evaluating before nms results\n"
     ]
    },
    {
     "name": "stdout",
     "output_type": "stream",
     "text": [
      "full: [0, 1500], 1550/1550=100.00 examples.\n",
      "[eval_moment_retrieval] [full] 0.39 seconds\n",
      "Calculating highlight scores with min score 2 (Fair)\n",
      "Time cost 0.26 seconds\n",
      "Calculating highlight scores with min score 3 (Good)\n",
      "Time cost 0.29 seconds\n"
     ]
    },
    {
     "name": "stderr",
     "output_type": "stream",
     "text": [
      "2024-12-11 08:07:01.244:INFO:training.myTrain - metrics OrderedDict([   ('MR-full-R1@0.5', 56.65),\n",
      "                ('MR-full-R1@0.7', 37.74),\n",
      "                ('MR-full-mAP', 33.33),\n",
      "                ('MR-full-mAP@0.5', 56.76),\n",
      "                ('MR-full-mAP@0.75', 32.42),\n",
      "                ('HL-min-Fair-mAP', 69.53),\n",
      "                ('HL-min-Fair-Hit1', 68.39),\n",
      "                ('HL-min-Good-mAP', 59.57),\n",
      "                ('HL-min-Good-Hit1', 66.65),\n",
      "                ('HL-min-VeryGood-mAP', 36.91),\n",
      "                ('HL-min-VeryGood-Hit1', 56.97)])\n",
      "Epoch:  66%|██████▌   | 132/200 [25:53<10:01,  8.84s/it]2024-12-11 08:07:01.244:INFO:training.myTrain - [Epoch 133]\n"
     ]
    },
    {
     "name": "stdout",
     "output_type": "stream",
     "text": [
      "Calculating highlight scores with min score 4 (VeryGood)\n",
      "Time cost 0.26 seconds\n"
     ]
    },
    {
     "name": "stderr",
     "output_type": "stream",
     "text": [
      "Training Iteration: 100%|██████████| 226/226 [00:06<00:00, 35.53it/s]\n",
      "2024-12-11 08:07:07.682:INFO:training.myEvaluate - Generate submissions\n",
      "compute st ed scores: 100%|██████████| 16/16 [00:01<00:00, 12.32it/s]\n",
      "convert to multiples of clip_length=2: 100%|██████████| 1550/1550 [00:00<00:00, 48305.32it/s]\n",
      "2024-12-11 08:07:09.023:INFO:training.myEvaluate - Saving/Evaluating before nms results\n"
     ]
    },
    {
     "name": "stdout",
     "output_type": "stream",
     "text": [
      "full: [0, 1500], 1550/1550=100.00 examples.\n",
      "[eval_moment_retrieval] [full] 0.27 seconds\n",
      "Calculating highlight scores with min score 2 (Fair)\n",
      "Time cost 0.28 seconds\n",
      "Calculating highlight scores with min score 3 (Good)\n",
      "Time cost 0.27 seconds\n"
     ]
    },
    {
     "name": "stderr",
     "output_type": "stream",
     "text": [
      "2024-12-11 08:07:10.140:INFO:training.myTrain - metrics OrderedDict([   ('MR-full-R1@0.5', 56.06),\n",
      "                ('MR-full-R1@0.7', 34.84),\n",
      "                ('MR-full-mAP', 31.37),\n",
      "                ('MR-full-mAP@0.5', 55.56),\n",
      "                ('MR-full-mAP@0.75', 30.15),\n",
      "                ('HL-min-Fair-mAP', 69.67),\n",
      "                ('HL-min-Fair-Hit1', 68.39),\n",
      "                ('HL-min-Good-mAP', 59.56),\n",
      "                ('HL-min-Good-Hit1', 66.84),\n",
      "                ('HL-min-VeryGood-mAP', 36.78),\n",
      "                ('HL-min-VeryGood-Hit1', 56.26)])\n",
      "Epoch:  66%|██████▋   | 133/200 [26:01<09:53,  8.86s/it]2024-12-11 08:07:10.141:INFO:training.myTrain - [Epoch 134]\n"
     ]
    },
    {
     "name": "stdout",
     "output_type": "stream",
     "text": [
      "Calculating highlight scores with min score 4 (VeryGood)\n",
      "Time cost 0.24 seconds\n"
     ]
    },
    {
     "name": "stderr",
     "output_type": "stream",
     "text": [
      "Training Iteration: 100%|██████████| 226/226 [00:06<00:00, 33.80it/s]\n",
      "2024-12-11 08:07:16.900:INFO:training.myEvaluate - Generate submissions\n",
      "compute st ed scores: 100%|██████████| 16/16 [00:01<00:00, 13.25it/s]\n",
      "convert to multiples of clip_length=2: 100%|██████████| 1550/1550 [00:00<00:00, 41712.95it/s]\n",
      "2024-12-11 08:07:18.156:INFO:training.myEvaluate - Saving/Evaluating before nms results\n"
     ]
    },
    {
     "name": "stdout",
     "output_type": "stream",
     "text": [
      "full: [0, 1500], 1550/1550=100.00 examples.\n",
      "[eval_moment_retrieval] [full] 0.39 seconds\n",
      "Calculating highlight scores with min score 2 (Fair)\n",
      "Time cost 0.30 seconds\n",
      "Calculating highlight scores with min score 3 (Good)\n",
      "Time cost 0.27 seconds\n"
     ]
    },
    {
     "name": "stderr",
     "output_type": "stream",
     "text": [
      "2024-12-11 08:07:19.380:INFO:training.myTrain - metrics OrderedDict([   ('MR-full-R1@0.5', 56.0),\n",
      "                ('MR-full-R1@0.7', 38.39),\n",
      "                ('MR-full-mAP', 33.67),\n",
      "                ('MR-full-mAP@0.5', 57.22),\n",
      "                ('MR-full-mAP@0.75', 32.42),\n",
      "                ('HL-min-Fair-mAP', 69.42),\n",
      "                ('HL-min-Fair-Hit1', 68.06),\n",
      "                ('HL-min-Good-mAP', 59.48),\n",
      "                ('HL-min-Good-Hit1', 66.39),\n",
      "                ('HL-min-VeryGood-mAP', 36.82),\n",
      "                ('HL-min-VeryGood-Hit1', 56.19)])\n",
      "Epoch:  67%|██████▋   | 134/200 [26:11<09:52,  8.97s/it]2024-12-11 08:07:19.381:INFO:training.myTrain - [Epoch 135]\n"
     ]
    },
    {
     "name": "stdout",
     "output_type": "stream",
     "text": [
      "Calculating highlight scores with min score 4 (VeryGood)\n",
      "Time cost 0.22 seconds\n"
     ]
    },
    {
     "name": "stderr",
     "output_type": "stream",
     "text": [
      "Training Iteration: 100%|██████████| 226/226 [00:06<00:00, 36.78it/s]\n",
      "2024-12-11 08:07:25.598:INFO:training.myEvaluate - Generate submissions\n",
      "compute st ed scores: 100%|██████████| 16/16 [00:01<00:00, 13.47it/s]\n",
      "convert to multiples of clip_length=2: 100%|██████████| 1550/1550 [00:00<00:00, 39832.92it/s]\n",
      "2024-12-11 08:07:26.834:INFO:training.myEvaluate - Saving/Evaluating before nms results\n"
     ]
    },
    {
     "name": "stdout",
     "output_type": "stream",
     "text": [
      "full: [0, 1500], 1550/1550=100.00 examples.\n",
      "[eval_moment_retrieval] [full] 0.35 seconds\n",
      "Calculating highlight scores with min score 2 (Fair)\n",
      "Time cost 0.27 seconds\n",
      "Calculating highlight scores with min score 3 (Good)\n",
      "Time cost 0.24 seconds\n"
     ]
    },
    {
     "name": "stderr",
     "output_type": "stream",
     "text": [
      "2024-12-11 08:07:27.968:INFO:training.myTrain - metrics OrderedDict([   ('MR-full-R1@0.5', 56.19),\n",
      "                ('MR-full-R1@0.7', 37.55),\n",
      "                ('MR-full-mAP', 33.25),\n",
      "                ('MR-full-mAP@0.5', 56.77),\n",
      "                ('MR-full-mAP@0.75', 32.65),\n",
      "                ('HL-min-Fair-mAP', 69.82),\n",
      "                ('HL-min-Fair-Hit1', 69.29),\n",
      "                ('HL-min-Good-mAP', 59.83),\n",
      "                ('HL-min-Good-Hit1', 67.61),\n",
      "                ('HL-min-VeryGood-mAP', 37.1),\n",
      "                ('HL-min-VeryGood-Hit1', 58.0)])\n",
      "Epoch:  68%|██████▊   | 135/200 [26:19<09:35,  8.86s/it]2024-12-11 08:07:27.969:INFO:training.myTrain - [Epoch 136]\n"
     ]
    },
    {
     "name": "stdout",
     "output_type": "stream",
     "text": [
      "Calculating highlight scores with min score 4 (VeryGood)\n",
      "Time cost 0.21 seconds\n"
     ]
    },
    {
     "name": "stderr",
     "output_type": "stream",
     "text": [
      "Training Iteration: 100%|██████████| 226/226 [00:06<00:00, 36.31it/s]\n",
      "2024-12-11 08:07:34.267:INFO:training.myEvaluate - Generate submissions\n",
      "compute st ed scores: 100%|██████████| 16/16 [00:01<00:00, 12.33it/s]\n",
      "convert to multiples of clip_length=2: 100%|██████████| 1550/1550 [00:00<00:00, 42292.84it/s]\n",
      "2024-12-11 08:07:35.612:INFO:training.myEvaluate - Saving/Evaluating before nms results\n"
     ]
    },
    {
     "name": "stdout",
     "output_type": "stream",
     "text": [
      "full: [0, 1500], 1550/1550=100.00 examples.\n",
      "[eval_moment_retrieval] [full] 0.28 seconds\n",
      "Calculating highlight scores with min score 2 (Fair)\n",
      "Time cost 0.27 seconds\n",
      "Calculating highlight scores with min score 3 (Good)\n",
      "Time cost 0.27 seconds\n"
     ]
    },
    {
     "name": "stderr",
     "output_type": "stream",
     "text": [
      "2024-12-11 08:07:36.738:INFO:training.myTrain - metrics OrderedDict([   ('MR-full-R1@0.5', 56.32),\n",
      "                ('MR-full-R1@0.7', 38.52),\n",
      "                ('MR-full-mAP', 33.65),\n",
      "                ('MR-full-mAP@0.5', 56.47),\n",
      "                ('MR-full-mAP@0.75', 33.09),\n",
      "                ('HL-min-Fair-mAP', 70.27),\n",
      "                ('HL-min-Fair-Hit1', 70.0),\n",
      "                ('HL-min-Good-mAP', 60.26),\n",
      "                ('HL-min-Good-Hit1', 68.52),\n",
      "                ('HL-min-VeryGood-mAP', 37.13),\n",
      "                ('HL-min-VeryGood-Hit1', 58.26)])\n",
      "Epoch:  68%|██████▊   | 136/200 [26:28<09:25,  8.83s/it]2024-12-11 08:07:36.739:INFO:training.myTrain - [Epoch 137]\n"
     ]
    },
    {
     "name": "stdout",
     "output_type": "stream",
     "text": [
      "Calculating highlight scores with min score 4 (VeryGood)\n",
      "Time cost 0.25 seconds\n"
     ]
    },
    {
     "name": "stderr",
     "output_type": "stream",
     "text": [
      "Training Iteration: 100%|██████████| 226/226 [00:06<00:00, 36.06it/s]\n",
      "2024-12-11 08:07:43.077:INFO:training.myEvaluate - Generate submissions\n",
      "compute st ed scores: 100%|██████████| 16/16 [00:01<00:00, 13.17it/s]\n",
      "convert to multiples of clip_length=2: 100%|██████████| 1550/1550 [00:00<00:00, 40672.23it/s]\n",
      "2024-12-11 08:07:44.339:INFO:training.myEvaluate - Saving/Evaluating before nms results\n"
     ]
    },
    {
     "name": "stdout",
     "output_type": "stream",
     "text": [
      "full: [0, 1500], 1550/1550=100.00 examples.\n",
      "[eval_moment_retrieval] [full] 0.35 seconds\n",
      "Calculating highlight scores with min score 2 (Fair)\n",
      "Time cost 0.28 seconds\n",
      "Calculating highlight scores with min score 3 (Good)\n",
      "Time cost 0.25 seconds\n"
     ]
    },
    {
     "name": "stderr",
     "output_type": "stream",
     "text": [
      "2024-12-11 08:07:45.521:INFO:training.myTrain - metrics OrderedDict([   ('MR-full-R1@0.5', 56.39),\n",
      "                ('MR-full-R1@0.7', 38.26),\n",
      "                ('MR-full-mAP', 34.01),\n",
      "                ('MR-full-mAP@0.5', 57.26),\n",
      "                ('MR-full-mAP@0.75', 33.23),\n",
      "                ('HL-min-Fair-mAP', 70.05),\n",
      "                ('HL-min-Fair-Hit1', 70.39),\n",
      "                ('HL-min-Good-mAP', 60.02),\n",
      "                ('HL-min-Good-Hit1', 68.52),\n",
      "                ('HL-min-VeryGood-mAP', 37.11),\n",
      "                ('HL-min-VeryGood-Hit1', 58.65)])\n",
      "2024-12-11 08:07:45.598:INFO:training.myTrain - The checkpoint file has been updated.\n",
      "Epoch:  68%|██████▊   | 137/200 [26:37<09:16,  8.84s/it]2024-12-11 08:07:45.599:INFO:training.myTrain - [Epoch 138]\n"
     ]
    },
    {
     "name": "stdout",
     "output_type": "stream",
     "text": [
      "Calculating highlight scores with min score 4 (VeryGood)\n",
      "Time cost 0.25 seconds\n"
     ]
    },
    {
     "name": "stderr",
     "output_type": "stream",
     "text": [
      "Training Iteration: 100%|██████████| 226/226 [00:06<00:00, 35.37it/s]\n",
      "2024-12-11 08:07:52.061:INFO:training.myEvaluate - Generate submissions\n",
      "compute st ed scores: 100%|██████████| 16/16 [00:01<00:00, 12.08it/s]\n",
      "convert to multiples of clip_length=2: 100%|██████████| 1550/1550 [00:00<00:00, 44330.60it/s]\n",
      "2024-12-11 08:07:53.431:INFO:training.myEvaluate - Saving/Evaluating before nms results\n"
     ]
    },
    {
     "name": "stdout",
     "output_type": "stream",
     "text": [
      "full: [0, 1500], 1550/1550=100.00 examples.\n",
      "[eval_moment_retrieval] [full] 0.28 seconds\n",
      "Calculating highlight scores with min score 2 (Fair)\n",
      "Time cost 0.28 seconds\n",
      "Calculating highlight scores with min score 3 (Good)\n",
      "Time cost 0.30 seconds\n"
     ]
    },
    {
     "name": "stderr",
     "output_type": "stream",
     "text": [
      "2024-12-11 08:07:54.616:INFO:training.myTrain - metrics OrderedDict([   ('MR-full-R1@0.5', 56.71),\n",
      "                ('MR-full-R1@0.7', 37.1),\n",
      "                ('MR-full-mAP', 32.84),\n",
      "                ('MR-full-mAP@0.5', 56.11),\n",
      "                ('MR-full-mAP@0.75', 32.18),\n",
      "                ('HL-min-Fair-mAP', 70.02),\n",
      "                ('HL-min-Fair-Hit1', 68.65),\n",
      "                ('HL-min-Good-mAP', 60.11),\n",
      "                ('HL-min-Good-Hit1', 67.29),\n",
      "                ('HL-min-VeryGood-mAP', 37.29),\n",
      "                ('HL-min-VeryGood-Hit1', 57.81)])\n",
      "Epoch:  69%|██████▉   | 138/200 [26:46<09:11,  8.89s/it]2024-12-11 08:07:54.617:INFO:training.myTrain - [Epoch 139]\n"
     ]
    },
    {
     "name": "stdout",
     "output_type": "stream",
     "text": [
      "Calculating highlight scores with min score 4 (VeryGood)\n",
      "Time cost 0.28 seconds\n"
     ]
    },
    {
     "name": "stderr",
     "output_type": "stream",
     "text": [
      "Training Iteration: 100%|██████████| 226/226 [00:06<00:00, 33.63it/s]\n",
      "2024-12-11 08:08:01.412:INFO:training.myEvaluate - Generate submissions\n",
      "compute st ed scores: 100%|██████████| 16/16 [00:01<00:00, 13.14it/s]\n",
      "convert to multiples of clip_length=2: 100%|██████████| 1550/1550 [00:00<00:00, 42648.81it/s]\n",
      "2024-12-11 08:08:02.676:INFO:training.myEvaluate - Saving/Evaluating before nms results\n"
     ]
    },
    {
     "name": "stdout",
     "output_type": "stream",
     "text": [
      "full: [0, 1500], 1550/1550=100.00 examples.\n",
      "[eval_moment_retrieval] [full] 0.39 seconds\n",
      "Calculating highlight scores with min score 2 (Fair)\n",
      "Time cost 0.27 seconds\n",
      "Calculating highlight scores with min score 3 (Good)\n",
      "Time cost 0.27 seconds\n"
     ]
    },
    {
     "name": "stderr",
     "output_type": "stream",
     "text": [
      "2024-12-11 08:08:03.915:INFO:training.myTrain - metrics OrderedDict([   ('MR-full-R1@0.5', 52.65),\n",
      "                ('MR-full-R1@0.7', 34.32),\n",
      "                ('MR-full-mAP', 31.2),\n",
      "                ('MR-full-mAP@0.5', 54.1),\n",
      "                ('MR-full-mAP@0.75', 29.7),\n",
      "                ('HL-min-Fair-mAP', 69.82),\n",
      "                ('HL-min-Fair-Hit1', 68.32),\n",
      "                ('HL-min-Good-mAP', 59.69),\n",
      "                ('HL-min-Good-Hit1', 66.77),\n",
      "                ('HL-min-VeryGood-mAP', 36.97),\n",
      "                ('HL-min-VeryGood-Hit1', 57.16)])\n",
      "Epoch:  70%|██████▉   | 139/200 [26:55<09:09,  9.02s/it]2024-12-11 08:08:03.916:INFO:training.myTrain - [Epoch 140]\n"
     ]
    },
    {
     "name": "stdout",
     "output_type": "stream",
     "text": [
      "Calculating highlight scores with min score 4 (VeryGood)\n",
      "Time cost 0.26 seconds\n"
     ]
    },
    {
     "name": "stderr",
     "output_type": "stream",
     "text": [
      "Training Iteration: 100%|██████████| 226/226 [00:06<00:00, 35.82it/s]\n",
      "2024-12-11 08:08:10.301:INFO:training.myEvaluate - Generate submissions\n",
      "compute st ed scores: 100%|██████████| 16/16 [00:01<00:00, 12.04it/s]\n",
      "convert to multiples of clip_length=2: 100%|██████████| 1550/1550 [00:00<00:00, 40224.05it/s]\n",
      "2024-12-11 08:08:11.679:INFO:training.myEvaluate - Saving/Evaluating before nms results\n"
     ]
    },
    {
     "name": "stdout",
     "output_type": "stream",
     "text": [
      "full: [0, 1500], 1550/1550=100.00 examples.\n",
      "[eval_moment_retrieval] [full] 0.28 seconds\n",
      "Calculating highlight scores with min score 2 (Fair)\n",
      "Time cost 0.26 seconds\n",
      "Calculating highlight scores with min score 3 (Good)\n",
      "Time cost 0.27 seconds\n"
     ]
    },
    {
     "name": "stderr",
     "output_type": "stream",
     "text": [
      "2024-12-11 08:08:12.805:INFO:training.myTrain - metrics OrderedDict([   ('MR-full-R1@0.5', 54.06),\n",
      "                ('MR-full-R1@0.7', 34.9),\n",
      "                ('MR-full-mAP', 31.53),\n",
      "                ('MR-full-mAP@0.5', 55.41),\n",
      "                ('MR-full-mAP@0.75', 30.29),\n",
      "                ('HL-min-Fair-mAP', 69.36),\n",
      "                ('HL-min-Fair-Hit1', 68.0),\n",
      "                ('HL-min-Good-mAP', 59.47),\n",
      "                ('HL-min-Good-Hit1', 66.65),\n",
      "                ('HL-min-VeryGood-mAP', 36.73),\n",
      "                ('HL-min-VeryGood-Hit1', 57.35)])\n",
      "Epoch:  70%|███████   | 140/200 [27:04<08:58,  8.98s/it]2024-12-11 08:08:12.806:INFO:training.myTrain - [Epoch 141]\n"
     ]
    },
    {
     "name": "stdout",
     "output_type": "stream",
     "text": [
      "Calculating highlight scores with min score 4 (VeryGood)\n",
      "Time cost 0.25 seconds\n"
     ]
    },
    {
     "name": "stderr",
     "output_type": "stream",
     "text": [
      "Training Iteration: 100%|██████████| 226/226 [00:06<00:00, 35.97it/s]\n",
      "2024-12-11 08:08:19.156:INFO:training.myEvaluate - Generate submissions\n",
      "compute st ed scores: 100%|██████████| 16/16 [00:01<00:00, 13.33it/s]\n",
      "convert to multiples of clip_length=2: 100%|██████████| 1550/1550 [00:00<00:00, 42758.49it/s]\n",
      "2024-12-11 08:08:20.402:INFO:training.myEvaluate - Saving/Evaluating before nms results\n"
     ]
    },
    {
     "name": "stdout",
     "output_type": "stream",
     "text": [
      "full: [0, 1500], 1550/1550=100.00 examples.\n",
      "[eval_moment_retrieval] [full] 0.38 seconds\n",
      "Calculating highlight scores with min score 2 (Fair)\n",
      "Time cost 0.28 seconds\n",
      "Calculating highlight scores with min score 3 (Good)\n",
      "Time cost 0.26 seconds\n"
     ]
    },
    {
     "name": "stderr",
     "output_type": "stream",
     "text": [
      "2024-12-11 08:08:21.614:INFO:training.myTrain - metrics OrderedDict([   ('MR-full-R1@0.5', 56.39),\n",
      "                ('MR-full-R1@0.7', 37.61),\n",
      "                ('MR-full-mAP', 33.17),\n",
      "                ('MR-full-mAP@0.5', 56.59),\n",
      "                ('MR-full-mAP@0.75', 32.34),\n",
      "                ('HL-min-Fair-mAP', 69.75),\n",
      "                ('HL-min-Fair-Hit1', 69.87),\n",
      "                ('HL-min-Good-mAP', 59.78),\n",
      "                ('HL-min-Good-Hit1', 68.26),\n",
      "                ('HL-min-VeryGood-mAP', 36.99),\n",
      "                ('HL-min-VeryGood-Hit1', 58.71)])\n",
      "Epoch:  70%|███████   | 141/200 [27:13<08:46,  8.93s/it]2024-12-11 08:08:21.615:INFO:training.myTrain - [Epoch 142]\n"
     ]
    },
    {
     "name": "stdout",
     "output_type": "stream",
     "text": [
      "Calculating highlight scores with min score 4 (VeryGood)\n",
      "Time cost 0.23 seconds\n"
     ]
    },
    {
     "name": "stderr",
     "output_type": "stream",
     "text": [
      "Training Iteration: 100%|██████████| 226/226 [00:06<00:00, 35.09it/s]\n",
      "2024-12-11 08:08:28.121:INFO:training.myEvaluate - Generate submissions\n",
      "compute st ed scores: 100%|██████████| 16/16 [00:01<00:00, 12.37it/s]\n",
      "convert to multiples of clip_length=2: 100%|██████████| 1550/1550 [00:00<00:00, 44875.90it/s]\n",
      "2024-12-11 08:08:29.460:INFO:training.myEvaluate - Saving/Evaluating before nms results\n"
     ]
    },
    {
     "name": "stdout",
     "output_type": "stream",
     "text": [
      "full: [0, 1500], 1550/1550=100.00 examples.\n",
      "[eval_moment_retrieval] [full] 0.28 seconds\n",
      "Calculating highlight scores with min score 2 (Fair)\n",
      "Time cost 0.26 seconds\n",
      "Calculating highlight scores with min score 3 (Good)\n",
      "Time cost 0.28 seconds\n"
     ]
    },
    {
     "name": "stderr",
     "output_type": "stream",
     "text": [
      "2024-12-11 08:08:30.563:INFO:training.myTrain - metrics OrderedDict([   ('MR-full-R1@0.5', 54.58),\n",
      "                ('MR-full-R1@0.7', 36.19),\n",
      "                ('MR-full-mAP', 32.43),\n",
      "                ('MR-full-mAP@0.5', 55.58),\n",
      "                ('MR-full-mAP@0.75', 31.34),\n",
      "                ('HL-min-Fair-mAP', 69.6),\n",
      "                ('HL-min-Fair-Hit1', 69.74),\n",
      "                ('HL-min-Good-mAP', 59.7),\n",
      "                ('HL-min-Good-Hit1', 68.26),\n",
      "                ('HL-min-VeryGood-mAP', 37.04),\n",
      "                ('HL-min-VeryGood-Hit1', 58.58)])\n",
      "Epoch:  71%|███████   | 142/200 [27:22<08:38,  8.93s/it]2024-12-11 08:08:30.564:INFO:training.myTrain - [Epoch 143]\n"
     ]
    },
    {
     "name": "stdout",
     "output_type": "stream",
     "text": [
      "Calculating highlight scores with min score 4 (VeryGood)\n",
      "Time cost 0.22 seconds\n"
     ]
    },
    {
     "name": "stderr",
     "output_type": "stream",
     "text": [
      "Training Iteration: 100%|██████████| 226/226 [00:06<00:00, 35.48it/s]\n",
      "2024-12-11 08:08:37.008:INFO:training.myEvaluate - Generate submissions\n",
      "compute st ed scores: 100%|██████████| 16/16 [00:01<00:00, 13.39it/s]\n",
      "convert to multiples of clip_length=2: 100%|██████████| 1550/1550 [00:00<00:00, 40923.39it/s]\n",
      "2024-12-11 08:08:38.251:INFO:training.myEvaluate - Saving/Evaluating before nms results\n"
     ]
    },
    {
     "name": "stdout",
     "output_type": "stream",
     "text": [
      "full: [0, 1500], 1550/1550=100.00 examples.\n",
      "[eval_moment_retrieval] [full] 0.41 seconds\n",
      "Calculating highlight scores with min score 2 (Fair)\n",
      "Time cost 0.28 seconds\n",
      "Calculating highlight scores with min score 3 (Good)\n",
      "Time cost 0.29 seconds\n"
     ]
    },
    {
     "name": "stderr",
     "output_type": "stream",
     "text": [
      "2024-12-11 08:08:39.501:INFO:training.myTrain - metrics OrderedDict([   ('MR-full-R1@0.5', 56.71),\n",
      "                ('MR-full-R1@0.7', 37.87),\n",
      "                ('MR-full-mAP', 33.22),\n",
      "                ('MR-full-mAP@0.5', 56.38),\n",
      "                ('MR-full-mAP@0.75', 32.77),\n",
      "                ('HL-min-Fair-mAP', 70.51),\n",
      "                ('HL-min-Fair-Hit1', 70.26),\n",
      "                ('HL-min-Good-mAP', 60.5),\n",
      "                ('HL-min-Good-Hit1', 68.52),\n",
      "                ('HL-min-VeryGood-mAP', 37.3),\n",
      "                ('HL-min-VeryGood-Hit1', 58.26)])\n",
      "Epoch:  72%|███████▏  | 143/200 [27:31<08:29,  8.93s/it]2024-12-11 08:08:39.502:INFO:training.myTrain - [Epoch 144]\n"
     ]
    },
    {
     "name": "stdout",
     "output_type": "stream",
     "text": [
      "Calculating highlight scores with min score 4 (VeryGood)\n",
      "Time cost 0.22 seconds\n"
     ]
    },
    {
     "name": "stderr",
     "output_type": "stream",
     "text": [
      "Training Iteration: 100%|██████████| 226/226 [00:06<00:00, 35.44it/s]\n",
      "2024-12-11 08:08:45.950:INFO:training.myEvaluate - Generate submissions\n",
      "compute st ed scores: 100%|██████████| 16/16 [00:01<00:00, 12.18it/s]\n",
      "convert to multiples of clip_length=2: 100%|██████████| 1550/1550 [00:00<00:00, 46396.17it/s]\n",
      "2024-12-11 08:08:47.307:INFO:training.myEvaluate - Saving/Evaluating before nms results\n"
     ]
    },
    {
     "name": "stdout",
     "output_type": "stream",
     "text": [
      "full: [0, 1500], 1550/1550=100.00 examples.\n",
      "[eval_moment_retrieval] [full] 0.28 seconds\n",
      "Calculating highlight scores with min score 2 (Fair)\n",
      "Time cost 0.28 seconds\n",
      "Calculating highlight scores with min score 3 (Good)\n",
      "Time cost 0.27 seconds\n"
     ]
    },
    {
     "name": "stderr",
     "output_type": "stream",
     "text": [
      "2024-12-11 08:08:48.419:INFO:training.myTrain - metrics OrderedDict([   ('MR-full-R1@0.5', 54.58),\n",
      "                ('MR-full-R1@0.7', 35.74),\n",
      "                ('MR-full-mAP', 32.18),\n",
      "                ('MR-full-mAP@0.5', 54.7),\n",
      "                ('MR-full-mAP@0.75', 31.18),\n",
      "                ('HL-min-Fair-mAP', 69.66),\n",
      "                ('HL-min-Fair-Hit1', 69.16),\n",
      "                ('HL-min-Good-mAP', 59.7),\n",
      "                ('HL-min-Good-Hit1', 67.55),\n",
      "                ('HL-min-VeryGood-mAP', 36.92),\n",
      "                ('HL-min-VeryGood-Hit1', 57.61)])\n",
      "Epoch:  72%|███████▏  | 144/200 [27:40<08:20,  8.93s/it]2024-12-11 08:08:48.420:INFO:training.myTrain - [Epoch 145]\n"
     ]
    },
    {
     "name": "stdout",
     "output_type": "stream",
     "text": [
      "Calculating highlight scores with min score 4 (VeryGood)\n",
      "Time cost 0.23 seconds\n"
     ]
    },
    {
     "name": "stderr",
     "output_type": "stream",
     "text": [
      "Training Iteration: 100%|██████████| 226/226 [00:06<00:00, 37.39it/s]\n",
      "2024-12-11 08:08:54.532:INFO:training.myEvaluate - Generate submissions\n",
      "compute st ed scores: 100%|██████████| 16/16 [00:01<00:00, 13.53it/s]\n",
      "convert to multiples of clip_length=2: 100%|██████████| 1550/1550 [00:00<00:00, 42040.95it/s]\n",
      "2024-12-11 08:08:55.762:INFO:training.myEvaluate - Saving/Evaluating before nms results\n"
     ]
    },
    {
     "name": "stdout",
     "output_type": "stream",
     "text": [
      "full: [0, 1500], 1550/1550=100.00 examples.\n",
      "[eval_moment_retrieval] [full] 0.42 seconds\n",
      "Calculating highlight scores with min score 2 (Fair)\n",
      "Time cost 0.29 seconds\n",
      "Calculating highlight scores with min score 3 (Good)\n",
      "Time cost 0.24 seconds\n"
     ]
    },
    {
     "name": "stderr",
     "output_type": "stream",
     "text": [
      "2024-12-11 08:08:56.995:INFO:training.myTrain - metrics OrderedDict([   ('MR-full-R1@0.5', 56.13),\n",
      "                ('MR-full-R1@0.7', 36.65),\n",
      "                ('MR-full-mAP', 32.27),\n",
      "                ('MR-full-mAP@0.5', 56.26),\n",
      "                ('MR-full-mAP@0.75', 31.54),\n",
      "                ('HL-min-Fair-mAP', 69.63),\n",
      "                ('HL-min-Fair-Hit1', 69.29),\n",
      "                ('HL-min-Good-mAP', 59.63),\n",
      "                ('HL-min-Good-Hit1', 67.55),\n",
      "                ('HL-min-VeryGood-mAP', 36.88),\n",
      "                ('HL-min-VeryGood-Hit1', 57.87)])\n",
      "Epoch:  72%|███████▎  | 145/200 [27:48<08:05,  8.82s/it]2024-12-11 08:08:56.996:INFO:training.myTrain - [Epoch 146]\n"
     ]
    },
    {
     "name": "stdout",
     "output_type": "stream",
     "text": [
      "Calculating highlight scores with min score 4 (VeryGood)\n",
      "Time cost 0.22 seconds\n"
     ]
    },
    {
     "name": "stderr",
     "output_type": "stream",
     "text": [
      "Training Iteration: 100%|██████████| 226/226 [00:05<00:00, 38.39it/s]\n",
      "2024-12-11 08:09:02.951:INFO:training.myEvaluate - Generate submissions\n",
      "compute st ed scores: 100%|██████████| 16/16 [00:01<00:00, 12.30it/s]\n",
      "convert to multiples of clip_length=2: 100%|██████████| 1550/1550 [00:00<00:00, 44008.90it/s]\n",
      "2024-12-11 08:09:04.296:INFO:training.myEvaluate - Saving/Evaluating before nms results\n"
     ]
    },
    {
     "name": "stdout",
     "output_type": "stream",
     "text": [
      "full: [0, 1500], 1550/1550=100.00 examples.\n",
      "[eval_moment_retrieval] [full] 0.29 seconds\n",
      "Calculating highlight scores with min score 2 (Fair)\n",
      "Time cost 0.29 seconds\n",
      "Calculating highlight scores with min score 3 (Good)\n",
      "Time cost 0.26 seconds\n"
     ]
    },
    {
     "name": "stderr",
     "output_type": "stream",
     "text": [
      "2024-12-11 08:09:05.432:INFO:training.myTrain - metrics OrderedDict([   ('MR-full-R1@0.5', 56.39),\n",
      "                ('MR-full-R1@0.7', 36.97),\n",
      "                ('MR-full-mAP', 32.23),\n",
      "                ('MR-full-mAP@0.5', 55.86),\n",
      "                ('MR-full-mAP@0.75', 30.78),\n",
      "                ('HL-min-Fair-mAP', 69.8),\n",
      "                ('HL-min-Fair-Hit1', 68.77),\n",
      "                ('HL-min-Good-mAP', 59.84),\n",
      "                ('HL-min-Good-Hit1', 67.16),\n",
      "                ('HL-min-VeryGood-mAP', 36.85),\n",
      "                ('HL-min-VeryGood-Hit1', 56.45)])\n",
      "Epoch:  73%|███████▎  | 146/200 [27:57<07:50,  8.71s/it]2024-12-11 08:09:05.433:INFO:training.myTrain - [Epoch 147]\n"
     ]
    },
    {
     "name": "stdout",
     "output_type": "stream",
     "text": [
      "Calculating highlight scores with min score 4 (VeryGood)\n",
      "Time cost 0.24 seconds\n"
     ]
    },
    {
     "name": "stderr",
     "output_type": "stream",
     "text": [
      "Training Iteration: 100%|██████████| 226/226 [00:06<00:00, 37.10it/s]\n",
      "2024-12-11 08:09:11.587:INFO:training.myEvaluate - Generate submissions\n",
      "compute st ed scores: 100%|██████████| 16/16 [00:01<00:00, 13.62it/s]\n",
      "convert to multiples of clip_length=2: 100%|██████████| 1550/1550 [00:00<00:00, 41201.94it/s]\n",
      "2024-12-11 08:09:12.809:INFO:training.myEvaluate - Saving/Evaluating before nms results\n"
     ]
    },
    {
     "name": "stdout",
     "output_type": "stream",
     "text": [
      "full: [0, 1500], 1550/1550=100.00 examples.\n",
      "[eval_moment_retrieval] [full] 0.36 seconds\n",
      "Calculating highlight scores with min score 2 (Fair)\n",
      "Time cost 0.29 seconds\n",
      "Calculating highlight scores with min score 3 (Good)\n",
      "Time cost 0.26 seconds\n"
     ]
    },
    {
     "name": "stderr",
     "output_type": "stream",
     "text": [
      "2024-12-11 08:09:14.006:INFO:training.myTrain - metrics OrderedDict([   ('MR-full-R1@0.5', 55.23),\n",
      "                ('MR-full-R1@0.7', 37.87),\n",
      "                ('MR-full-mAP', 32.97),\n",
      "                ('MR-full-mAP@0.5', 55.68),\n",
      "                ('MR-full-mAP@0.75', 32.58),\n",
      "                ('HL-min-Fair-mAP', 70.09),\n",
      "                ('HL-min-Fair-Hit1', 69.03),\n",
      "                ('HL-min-Good-mAP', 59.96),\n",
      "                ('HL-min-Good-Hit1', 67.61),\n",
      "                ('HL-min-VeryGood-mAP', 36.99),\n",
      "                ('HL-min-VeryGood-Hit1', 57.1)])\n",
      "Epoch:  74%|███████▎  | 147/200 [28:05<07:39,  8.67s/it]2024-12-11 08:09:14.007:INFO:training.myTrain - [Epoch 148]\n"
     ]
    },
    {
     "name": "stdout",
     "output_type": "stream",
     "text": [
      "Calculating highlight scores with min score 4 (VeryGood)\n",
      "Time cost 0.23 seconds\n"
     ]
    },
    {
     "name": "stderr",
     "output_type": "stream",
     "text": [
      "Training Iteration: 100%|██████████| 226/226 [00:06<00:00, 35.00it/s]\n",
      "2024-12-11 08:09:20.535:INFO:training.myEvaluate - Generate submissions\n",
      "compute st ed scores: 100%|██████████| 16/16 [00:01<00:00, 13.21it/s]\n",
      "convert to multiples of clip_length=2: 100%|██████████| 1550/1550 [00:00<00:00, 44171.27it/s]\n",
      "2024-12-11 08:09:21.792:INFO:training.myEvaluate - Saving/Evaluating before nms results\n"
     ]
    },
    {
     "name": "stdout",
     "output_type": "stream",
     "text": [
      "full: [0, 1500], 1550/1550=100.00 examples.\n",
      "[eval_moment_retrieval] [full] 0.35 seconds\n",
      "Calculating highlight scores with min score 2 (Fair)\n",
      "Time cost 0.29 seconds\n",
      "Calculating highlight scores with min score 3 (Good)\n",
      "Time cost 0.28 seconds\n"
     ]
    },
    {
     "name": "stderr",
     "output_type": "stream",
     "text": [
      "2024-12-11 08:09:23.008:INFO:training.myTrain - metrics OrderedDict([   ('MR-full-R1@0.5', 55.16),\n",
      "                ('MR-full-R1@0.7', 37.29),\n",
      "                ('MR-full-mAP', 32.69),\n",
      "                ('MR-full-mAP@0.5', 56.09),\n",
      "                ('MR-full-mAP@0.75', 31.79),\n",
      "                ('HL-min-Fair-mAP', 69.61),\n",
      "                ('HL-min-Fair-Hit1', 69.23),\n",
      "                ('HL-min-Good-mAP', 59.57),\n",
      "                ('HL-min-Good-Hit1', 67.74),\n",
      "                ('HL-min-VeryGood-mAP', 36.72),\n",
      "                ('HL-min-VeryGood-Hit1', 57.48)])\n",
      "Epoch:  74%|███████▍  | 148/200 [28:14<07:35,  8.77s/it]2024-12-11 08:09:23.008:INFO:training.myTrain - [Epoch 149]\n"
     ]
    },
    {
     "name": "stdout",
     "output_type": "stream",
     "text": [
      "Calculating highlight scores with min score 4 (VeryGood)\n",
      "Time cost 0.24 seconds\n"
     ]
    },
    {
     "name": "stderr",
     "output_type": "stream",
     "text": [
      "Training Iteration: 100%|██████████| 226/226 [00:06<00:00, 37.00it/s]\n",
      "2024-12-11 08:09:29.198:INFO:training.myEvaluate - Generate submissions\n",
      "compute st ed scores: 100%|██████████| 16/16 [00:01<00:00, 12.18it/s]\n",
      "convert to multiples of clip_length=2: 100%|██████████| 1550/1550 [00:00<00:00, 42342.70it/s]\n",
      "2024-12-11 08:09:30.558:INFO:training.myEvaluate - Saving/Evaluating before nms results\n"
     ]
    },
    {
     "name": "stdout",
     "output_type": "stream",
     "text": [
      "full: [0, 1500], 1550/1550=100.00 examples.\n",
      "[eval_moment_retrieval] [full] 0.26 seconds\n",
      "Calculating highlight scores with min score 2 (Fair)\n",
      "Time cost 0.25 seconds\n",
      "Calculating highlight scores with min score 3 (Good)\n",
      "Time cost 0.27 seconds\n"
     ]
    },
    {
     "name": "stderr",
     "output_type": "stream",
     "text": [
      "2024-12-11 08:09:31.615:INFO:training.myTrain - metrics OrderedDict([   ('MR-full-R1@0.5', 56.65),\n",
      "                ('MR-full-R1@0.7', 37.48),\n",
      "                ('MR-full-mAP', 32.63),\n",
      "                ('MR-full-mAP@0.5', 56.42),\n",
      "                ('MR-full-mAP@0.75', 32.15),\n",
      "                ('HL-min-Fair-mAP', 69.71),\n",
      "                ('HL-min-Fair-Hit1', 68.06),\n",
      "                ('HL-min-Good-mAP', 59.64),\n",
      "                ('HL-min-Good-Hit1', 66.71),\n",
      "                ('HL-min-VeryGood-mAP', 36.57),\n",
      "                ('HL-min-VeryGood-Hit1', 56.19)])\n",
      "Epoch:  74%|███████▍  | 149/200 [28:23<07:24,  8.72s/it]2024-12-11 08:09:31.616:INFO:training.myTrain - [Epoch 150]\n"
     ]
    },
    {
     "name": "stdout",
     "output_type": "stream",
     "text": [
      "Calculating highlight scores with min score 4 (VeryGood)\n",
      "Time cost 0.22 seconds\n"
     ]
    },
    {
     "name": "stderr",
     "output_type": "stream",
     "text": [
      "Training Iteration: 100%|██████████| 226/226 [00:06<00:00, 34.57it/s]\n",
      "2024-12-11 08:09:38.229:INFO:training.myEvaluate - Generate submissions\n",
      "compute st ed scores: 100%|██████████| 16/16 [00:01<00:00, 13.33it/s]\n",
      "convert to multiples of clip_length=2: 100%|██████████| 1550/1550 [00:00<00:00, 41521.93it/s]\n",
      "2024-12-11 08:09:39.477:INFO:training.myEvaluate - Saving/Evaluating before nms results\n"
     ]
    },
    {
     "name": "stdout",
     "output_type": "stream",
     "text": [
      "full: [0, 1500], 1550/1550=100.00 examples.\n",
      "[eval_moment_retrieval] [full] 0.35 seconds\n",
      "Calculating highlight scores with min score 2 (Fair)\n",
      "Time cost 0.26 seconds\n",
      "Calculating highlight scores with min score 3 (Good)\n",
      "Time cost 0.27 seconds\n"
     ]
    },
    {
     "name": "stderr",
     "output_type": "stream",
     "text": [
      "2024-12-11 08:09:40.622:INFO:training.myTrain - metrics OrderedDict([   ('MR-full-R1@0.5', 55.48),\n",
      "                ('MR-full-R1@0.7', 36.65),\n",
      "                ('MR-full-mAP', 32.79),\n",
      "                ('MR-full-mAP@0.5', 56.11),\n",
      "                ('MR-full-mAP@0.75', 31.99),\n",
      "                ('HL-min-Fair-mAP', 69.78),\n",
      "                ('HL-min-Fair-Hit1', 68.06),\n",
      "                ('HL-min-Good-mAP', 59.75),\n",
      "                ('HL-min-Good-Hit1', 66.39),\n",
      "                ('HL-min-VeryGood-mAP', 36.76),\n",
      "                ('HL-min-VeryGood-Hit1', 56.39)])\n",
      "Epoch:  75%|███████▌  | 150/200 [28:32<07:20,  8.81s/it]2024-12-11 08:09:40.622:INFO:training.myTrain - [Epoch 151]\n"
     ]
    },
    {
     "name": "stdout",
     "output_type": "stream",
     "text": [
      "Calculating highlight scores with min score 4 (VeryGood)\n",
      "Time cost 0.21 seconds\n"
     ]
    },
    {
     "name": "stderr",
     "output_type": "stream",
     "text": [
      "Training Iteration: 100%|██████████| 226/226 [00:06<00:00, 35.42it/s]\n",
      "2024-12-11 08:09:47.062:INFO:training.myEvaluate - Generate submissions\n",
      "compute st ed scores: 100%|██████████| 16/16 [00:01<00:00, 12.28it/s]\n",
      "convert to multiples of clip_length=2: 100%|██████████| 1550/1550 [00:00<00:00, 41253.97it/s]\n",
      "2024-12-11 08:09:48.412:INFO:training.myEvaluate - Saving/Evaluating before nms results\n"
     ]
    },
    {
     "name": "stdout",
     "output_type": "stream",
     "text": [
      "full: [0, 1500], 1550/1550=100.00 examples.\n",
      "[eval_moment_retrieval] [full] 0.30 seconds\n",
      "Calculating highlight scores with min score 2 (Fair)\n",
      "Time cost 0.32 seconds\n",
      "Calculating highlight scores with min score 3 (Good)\n",
      "Time cost 0.26 seconds\n"
     ]
    },
    {
     "name": "stderr",
     "output_type": "stream",
     "text": [
      "2024-12-11 08:09:49.579:INFO:training.myTrain - metrics OrderedDict([   ('MR-full-R1@0.5', 56.71),\n",
      "                ('MR-full-R1@0.7', 36.65),\n",
      "                ('MR-full-mAP', 32.84),\n",
      "                ('MR-full-mAP@0.5', 56.71),\n",
      "                ('MR-full-mAP@0.75', 32.25),\n",
      "                ('HL-min-Fair-mAP', 69.9),\n",
      "                ('HL-min-Fair-Hit1', 68.65),\n",
      "                ('HL-min-Good-mAP', 59.83),\n",
      "                ('HL-min-Good-Hit1', 66.97),\n",
      "                ('HL-min-VeryGood-mAP', 36.81),\n",
      "                ('HL-min-VeryGood-Hit1', 56.65)])\n",
      "Epoch:  76%|███████▌  | 151/200 [28:41<07:13,  8.85s/it]2024-12-11 08:09:49.580:INFO:training.myTrain - [Epoch 152]\n"
     ]
    },
    {
     "name": "stdout",
     "output_type": "stream",
     "text": [
      "Calculating highlight scores with min score 4 (VeryGood)\n",
      "Time cost 0.23 seconds\n"
     ]
    },
    {
     "name": "stderr",
     "output_type": "stream",
     "text": [
      "Training Iteration: 100%|██████████| 226/226 [00:06<00:00, 35.30it/s]\n",
      "2024-12-11 08:09:56.050:INFO:training.myEvaluate - Generate submissions\n",
      "compute st ed scores: 100%|██████████| 16/16 [00:01<00:00, 13.19it/s]\n",
      "convert to multiples of clip_length=2: 100%|██████████| 1550/1550 [00:00<00:00, 41947.91it/s]\n",
      "2024-12-11 08:09:57.311:INFO:training.myEvaluate - Saving/Evaluating before nms results\n"
     ]
    },
    {
     "name": "stdout",
     "output_type": "stream",
     "text": [
      "full: [0, 1500], 1550/1550=100.00 examples.\n",
      "[eval_moment_retrieval] [full] 0.40 seconds\n",
      "Calculating highlight scores with min score 2 (Fair)\n",
      "Time cost 0.26 seconds\n",
      "Calculating highlight scores with min score 3 (Good)\n",
      "Time cost 0.27 seconds\n"
     ]
    },
    {
     "name": "stderr",
     "output_type": "stream",
     "text": [
      "2024-12-11 08:09:58.529:INFO:training.myTrain - metrics OrderedDict([   ('MR-full-R1@0.5', 56.19),\n",
      "                ('MR-full-R1@0.7', 36.97),\n",
      "                ('MR-full-mAP', 33.29),\n",
      "                ('MR-full-mAP@0.5', 56.88),\n",
      "                ('MR-full-mAP@0.75', 31.7),\n",
      "                ('HL-min-Fair-mAP', 70.05),\n",
      "                ('HL-min-Fair-Hit1', 69.48),\n",
      "                ('HL-min-Good-mAP', 59.99),\n",
      "                ('HL-min-Good-Hit1', 67.61),\n",
      "                ('HL-min-VeryGood-mAP', 36.97),\n",
      "                ('HL-min-VeryGood-Hit1', 58.06)])\n",
      "Epoch:  76%|███████▌  | 152/200 [28:50<07:06,  8.88s/it]2024-12-11 08:09:58.530:INFO:training.myTrain - [Epoch 153]\n"
     ]
    },
    {
     "name": "stdout",
     "output_type": "stream",
     "text": [
      "Calculating highlight scores with min score 4 (VeryGood)\n",
      "Time cost 0.23 seconds\n"
     ]
    },
    {
     "name": "stderr",
     "output_type": "stream",
     "text": [
      "Training Iteration: 100%|██████████| 226/226 [00:06<00:00, 36.95it/s]\n",
      "2024-12-11 08:10:04.713:INFO:training.myEvaluate - Generate submissions\n",
      "compute st ed scores: 100%|██████████| 16/16 [00:01<00:00, 12.40it/s]\n",
      "convert to multiples of clip_length=2: 100%|██████████| 1550/1550 [00:00<00:00, 41893.85it/s]\n",
      "2024-12-11 08:10:06.051:INFO:training.myEvaluate - Saving/Evaluating before nms results\n"
     ]
    },
    {
     "name": "stdout",
     "output_type": "stream",
     "text": [
      "full: [0, 1500], 1550/1550=100.00 examples.\n",
      "[eval_moment_retrieval] [full] 0.28 seconds\n",
      "Calculating highlight scores with min score 2 (Fair)\n",
      "Time cost 0.27 seconds\n",
      "Calculating highlight scores with min score 3 (Good)\n",
      "Time cost 0.28 seconds\n"
     ]
    },
    {
     "name": "stderr",
     "output_type": "stream",
     "text": [
      "2024-12-11 08:10:07.195:INFO:training.myTrain - metrics OrderedDict([   ('MR-full-R1@0.5', 56.06),\n",
      "                ('MR-full-R1@0.7', 37.03),\n",
      "                ('MR-full-mAP', 33.12),\n",
      "                ('MR-full-mAP@0.5', 56.48),\n",
      "                ('MR-full-mAP@0.75', 32.11),\n",
      "                ('HL-min-Fair-mAP', 69.49),\n",
      "                ('HL-min-Fair-Hit1', 69.29),\n",
      "                ('HL-min-Good-mAP', 59.54),\n",
      "                ('HL-min-Good-Hit1', 67.81),\n",
      "                ('HL-min-VeryGood-mAP', 36.8),\n",
      "                ('HL-min-VeryGood-Hit1', 57.87)])\n",
      "Epoch:  76%|███████▋  | 153/200 [28:58<06:54,  8.82s/it]2024-12-11 08:10:07.196:INFO:training.myTrain - [Epoch 154]\n"
     ]
    },
    {
     "name": "stdout",
     "output_type": "stream",
     "text": [
      "Calculating highlight scores with min score 4 (VeryGood)\n",
      "Time cost 0.26 seconds\n"
     ]
    },
    {
     "name": "stderr",
     "output_type": "stream",
     "text": [
      "Training Iteration: 100%|██████████| 226/226 [00:06<00:00, 35.85it/s]\n",
      "2024-12-11 08:10:13.576:INFO:training.myEvaluate - Generate submissions\n",
      "compute st ed scores: 100%|██████████| 16/16 [00:01<00:00, 13.78it/s]\n",
      "convert to multiples of clip_length=2: 100%|██████████| 1550/1550 [00:00<00:00, 47417.12it/s]\n",
      "2024-12-11 08:10:14.780:INFO:training.myEvaluate - Saving/Evaluating before nms results\n"
     ]
    },
    {
     "name": "stdout",
     "output_type": "stream",
     "text": [
      "full: [0, 1500], 1550/1550=100.00 examples.\n",
      "[eval_moment_retrieval] [full] 0.39 seconds\n",
      "Calculating highlight scores with min score 2 (Fair)\n",
      "Time cost 0.28 seconds\n",
      "Calculating highlight scores with min score 3 (Good)\n",
      "Time cost 0.28 seconds\n"
     ]
    },
    {
     "name": "stderr",
     "output_type": "stream",
     "text": [
      "2024-12-11 08:10:15.998:INFO:training.myTrain - metrics OrderedDict([   ('MR-full-R1@0.5', 55.35),\n",
      "                ('MR-full-R1@0.7', 36.32),\n",
      "                ('MR-full-mAP', 32.95),\n",
      "                ('MR-full-mAP@0.5', 55.82),\n",
      "                ('MR-full-mAP@0.75', 32.15),\n",
      "                ('HL-min-Fair-mAP', 69.87),\n",
      "                ('HL-min-Fair-Hit1', 69.03),\n",
      "                ('HL-min-Good-mAP', 59.86),\n",
      "                ('HL-min-Good-Hit1', 67.55),\n",
      "                ('HL-min-VeryGood-mAP', 36.94),\n",
      "                ('HL-min-VeryGood-Hit1', 57.29)])\n",
      "Epoch:  77%|███████▋  | 154/200 [29:07<06:45,  8.81s/it]2024-12-11 08:10:15.999:INFO:training.myTrain - [Epoch 155]\n"
     ]
    },
    {
     "name": "stdout",
     "output_type": "stream",
     "text": [
      "Calculating highlight scores with min score 4 (VeryGood)\n",
      "Time cost 0.22 seconds\n"
     ]
    },
    {
     "name": "stderr",
     "output_type": "stream",
     "text": [
      "Training Iteration: 100%|██████████| 226/226 [00:06<00:00, 36.44it/s]\n",
      "2024-12-11 08:10:22.272:INFO:training.myEvaluate - Generate submissions\n",
      "compute st ed scores: 100%|██████████| 16/16 [00:01<00:00, 12.88it/s]\n",
      "convert to multiples of clip_length=2: 100%|██████████| 1550/1550 [00:00<00:00, 40952.78it/s]\n",
      "2024-12-11 08:10:23.562:INFO:training.myEvaluate - Saving/Evaluating before nms results\n"
     ]
    },
    {
     "name": "stdout",
     "output_type": "stream",
     "text": [
      "full: [0, 1500], 1550/1550=100.00 examples.\n",
      "[eval_moment_retrieval] [full] 0.34 seconds\n",
      "Calculating highlight scores with min score 2 (Fair)\n",
      "Time cost 0.27 seconds\n",
      "Calculating highlight scores with min score 3 (Good)\n",
      "Time cost 0.26 seconds\n"
     ]
    },
    {
     "name": "stderr",
     "output_type": "stream",
     "text": [
      "2024-12-11 08:10:24.701:INFO:training.myTrain - metrics OrderedDict([   ('MR-full-R1@0.5', 55.55),\n",
      "                ('MR-full-R1@0.7', 37.1),\n",
      "                ('MR-full-mAP', 32.64),\n",
      "                ('MR-full-mAP@0.5', 56.14),\n",
      "                ('MR-full-mAP@0.75', 32.1),\n",
      "                ('HL-min-Fair-mAP', 69.36),\n",
      "                ('HL-min-Fair-Hit1', 68.45),\n",
      "                ('HL-min-Good-mAP', 59.49),\n",
      "                ('HL-min-Good-Hit1', 66.9),\n",
      "                ('HL-min-VeryGood-mAP', 36.54),\n",
      "                ('HL-min-VeryGood-Hit1', 56.84)])\n",
      "Epoch:  78%|███████▊  | 155/200 [29:16<06:35,  8.78s/it]2024-12-11 08:10:24.702:INFO:training.myTrain - [Epoch 156]\n"
     ]
    },
    {
     "name": "stdout",
     "output_type": "stream",
     "text": [
      "Calculating highlight scores with min score 4 (VeryGood)\n",
      "Time cost 0.22 seconds\n"
     ]
    },
    {
     "name": "stderr",
     "output_type": "stream",
     "text": [
      "Training Iteration: 100%|██████████| 226/226 [00:06<00:00, 35.88it/s]\n",
      "2024-12-11 08:10:31.065:INFO:training.myEvaluate - Generate submissions\n",
      "compute st ed scores: 100%|██████████| 16/16 [00:01<00:00, 12.07it/s]\n",
      "convert to multiples of clip_length=2: 100%|██████████| 1550/1550 [00:00<00:00, 40566.65it/s]\n",
      "2024-12-11 08:10:32.439:INFO:training.myEvaluate - Saving/Evaluating before nms results\n"
     ]
    },
    {
     "name": "stdout",
     "output_type": "stream",
     "text": [
      "full: [0, 1500], 1550/1550=100.00 examples.\n",
      "[eval_moment_retrieval] [full] 0.29 seconds\n",
      "Calculating highlight scores with min score 2 (Fair)\n",
      "Time cost 0.29 seconds\n",
      "Calculating highlight scores with min score 3 (Good)\n",
      "Time cost 0.26 seconds\n"
     ]
    },
    {
     "name": "stderr",
     "output_type": "stream",
     "text": [
      "2024-12-11 08:10:33.582:INFO:training.myTrain - metrics OrderedDict([   ('MR-full-R1@0.5', 54.77),\n",
      "                ('MR-full-R1@0.7', 35.61),\n",
      "                ('MR-full-mAP', 32.13),\n",
      "                ('MR-full-mAP@0.5', 55.11),\n",
      "                ('MR-full-mAP@0.75', 30.75),\n",
      "                ('HL-min-Fair-mAP', 69.11),\n",
      "                ('HL-min-Fair-Hit1', 67.94),\n",
      "                ('HL-min-Good-mAP', 59.27),\n",
      "                ('HL-min-Good-Hit1', 66.58),\n",
      "                ('HL-min-VeryGood-mAP', 36.55),\n",
      "                ('HL-min-VeryGood-Hit1', 56.77)])\n",
      "Epoch:  78%|███████▊  | 156/200 [29:25<06:27,  8.81s/it]2024-12-11 08:10:33.582:INFO:training.myTrain - [Epoch 157]\n"
     ]
    },
    {
     "name": "stdout",
     "output_type": "stream",
     "text": [
      "Calculating highlight scores with min score 4 (VeryGood)\n",
      "Time cost 0.25 seconds\n"
     ]
    },
    {
     "name": "stderr",
     "output_type": "stream",
     "text": [
      "Training Iteration: 100%|██████████| 226/226 [00:06<00:00, 36.58it/s]\n",
      "2024-12-11 08:10:39.838:INFO:training.myEvaluate - Generate submissions\n",
      "compute st ed scores: 100%|██████████| 16/16 [00:01<00:00, 13.30it/s]\n",
      "convert to multiples of clip_length=2: 100%|██████████| 1550/1550 [00:00<00:00, 41546.60it/s]\n",
      "2024-12-11 08:10:41.088:INFO:training.myEvaluate - Saving/Evaluating before nms results\n"
     ]
    },
    {
     "name": "stdout",
     "output_type": "stream",
     "text": [
      "full: [0, 1500], 1550/1550=100.00 examples.\n",
      "[eval_moment_retrieval] [full] 0.34 seconds\n",
      "Calculating highlight scores with min score 2 (Fair)\n",
      "Time cost 0.27 seconds\n",
      "Calculating highlight scores with min score 3 (Good)\n",
      "Time cost 0.23 seconds\n"
     ]
    },
    {
     "name": "stderr",
     "output_type": "stream",
     "text": [
      "2024-12-11 08:10:42.206:INFO:training.myTrain - metrics OrderedDict([   ('MR-full-R1@0.5', 56.71),\n",
      "                ('MR-full-R1@0.7', 38.06),\n",
      "                ('MR-full-mAP', 33.64),\n",
      "                ('MR-full-mAP@0.5', 56.44),\n",
      "                ('MR-full-mAP@0.75', 33.33),\n",
      "                ('HL-min-Fair-mAP', 70.48),\n",
      "                ('HL-min-Fair-Hit1', 70.13),\n",
      "                ('HL-min-Good-mAP', 60.38),\n",
      "                ('HL-min-Good-Hit1', 68.71),\n",
      "                ('HL-min-VeryGood-mAP', 37.23),\n",
      "                ('HL-min-VeryGood-Hit1', 58.32)])\n",
      "Epoch:  78%|███████▊  | 157/200 [29:34<06:16,  8.75s/it]2024-12-11 08:10:42.207:INFO:training.myTrain - [Epoch 158]\n"
     ]
    },
    {
     "name": "stdout",
     "output_type": "stream",
     "text": [
      "Calculating highlight scores with min score 4 (VeryGood)\n",
      "Time cost 0.23 seconds\n"
     ]
    },
    {
     "name": "stderr",
     "output_type": "stream",
     "text": [
      "Training Iteration: 100%|██████████| 226/226 [00:06<00:00, 36.41it/s]\n",
      "2024-12-11 08:10:48.486:INFO:training.myEvaluate - Generate submissions\n",
      "compute st ed scores: 100%|██████████| 16/16 [00:01<00:00, 12.15it/s]\n",
      "convert to multiples of clip_length=2: 100%|██████████| 1550/1550 [00:00<00:00, 40641.72it/s]\n",
      "2024-12-11 08:10:49.851:INFO:training.myEvaluate - Saving/Evaluating before nms results\n"
     ]
    },
    {
     "name": "stdout",
     "output_type": "stream",
     "text": [
      "full: [0, 1500], 1550/1550=100.00 examples.\n",
      "[eval_moment_retrieval] [full] 0.27 seconds\n",
      "Calculating highlight scores with min score 2 (Fair)\n",
      "Time cost 0.25 seconds\n",
      "Calculating highlight scores with min score 3 (Good)\n",
      "Time cost 0.26 seconds\n"
     ]
    },
    {
     "name": "stderr",
     "output_type": "stream",
     "text": [
      "2024-12-11 08:10:50.913:INFO:training.myTrain - metrics OrderedDict([   ('MR-full-R1@0.5', 56.26),\n",
      "                ('MR-full-R1@0.7', 38.26),\n",
      "                ('MR-full-mAP', 33.67),\n",
      "                ('MR-full-mAP@0.5', 56.96),\n",
      "                ('MR-full-mAP@0.75', 32.7),\n",
      "                ('HL-min-Fair-mAP', 70.03),\n",
      "                ('HL-min-Fair-Hit1', 69.03),\n",
      "                ('HL-min-Good-mAP', 60.13),\n",
      "                ('HL-min-Good-Hit1', 67.68),\n",
      "                ('HL-min-VeryGood-mAP', 37.14),\n",
      "                ('HL-min-VeryGood-Hit1', 57.35)])\n",
      "Epoch:  79%|███████▉  | 158/200 [29:42<06:07,  8.74s/it]2024-12-11 08:10:50.914:INFO:training.myTrain - [Epoch 159]\n"
     ]
    },
    {
     "name": "stdout",
     "output_type": "stream",
     "text": [
      "Calculating highlight scores with min score 4 (VeryGood)\n",
      "Time cost 0.23 seconds\n"
     ]
    },
    {
     "name": "stderr",
     "output_type": "stream",
     "text": [
      "Training Iteration: 100%|██████████| 226/226 [00:06<00:00, 35.08it/s]\n",
      "2024-12-11 08:10:57.432:INFO:training.myEvaluate - Generate submissions\n",
      "compute st ed scores: 100%|██████████| 16/16 [00:01<00:00, 13.77it/s]\n",
      "convert to multiples of clip_length=2: 100%|██████████| 1550/1550 [00:00<00:00, 47769.01it/s]\n",
      "2024-12-11 08:10:58.637:INFO:training.myEvaluate - Saving/Evaluating before nms results\n"
     ]
    },
    {
     "name": "stdout",
     "output_type": "stream",
     "text": [
      "full: [0, 1500], 1550/1550=100.00 examples.\n",
      "[eval_moment_retrieval] [full] 0.40 seconds\n",
      "Calculating highlight scores with min score 2 (Fair)\n",
      "Time cost 0.31 seconds\n",
      "Calculating highlight scores with min score 3 (Good)\n",
      "Time cost 0.27 seconds\n"
     ]
    },
    {
     "name": "stderr",
     "output_type": "stream",
     "text": [
      "2024-12-11 08:10:59.912:INFO:training.myTrain - metrics OrderedDict([   ('MR-full-R1@0.5', 56.13),\n",
      "                ('MR-full-R1@0.7', 37.48),\n",
      "                ('MR-full-mAP', 32.95),\n",
      "                ('MR-full-mAP@0.5', 56.6),\n",
      "                ('MR-full-mAP@0.75', 32.33),\n",
      "                ('HL-min-Fair-mAP', 69.69),\n",
      "                ('HL-min-Fair-Hit1', 69.35),\n",
      "                ('HL-min-Good-mAP', 59.72),\n",
      "                ('HL-min-Good-Hit1', 67.94),\n",
      "                ('HL-min-VeryGood-mAP', 36.8),\n",
      "                ('HL-min-VeryGood-Hit1', 57.74)])\n",
      "Epoch:  80%|███████▉  | 159/200 [29:51<06:01,  8.82s/it]2024-12-11 08:10:59.913:INFO:training.myTrain - [Epoch 160]\n"
     ]
    },
    {
     "name": "stdout",
     "output_type": "stream",
     "text": [
      "Calculating highlight scores with min score 4 (VeryGood)\n",
      "Time cost 0.25 seconds\n"
     ]
    },
    {
     "name": "stderr",
     "output_type": "stream",
     "text": [
      "Training Iteration: 100%|██████████| 226/226 [00:06<00:00, 36.05it/s]\n",
      "2024-12-11 08:11:06.237:INFO:training.myEvaluate - Generate submissions\n",
      "compute st ed scores: 100%|██████████| 16/16 [00:01<00:00, 12.23it/s]\n",
      "convert to multiples of clip_length=2: 100%|██████████| 1550/1550 [00:00<00:00, 44832.88it/s]\n",
      "2024-12-11 08:11:07.591:INFO:training.myEvaluate - Saving/Evaluating before nms results\n"
     ]
    },
    {
     "name": "stdout",
     "output_type": "stream",
     "text": [
      "full: [0, 1500], 1550/1550=100.00 examples.\n",
      "[eval_moment_retrieval] [full] 0.30 seconds\n",
      "Calculating highlight scores with min score 2 (Fair)\n",
      "Time cost 0.29 seconds\n",
      "Calculating highlight scores with min score 3 (Good)\n",
      "Time cost 0.26 seconds\n"
     ]
    },
    {
     "name": "stderr",
     "output_type": "stream",
     "text": [
      "2024-12-11 08:11:08.722:INFO:training.myTrain - metrics OrderedDict([   ('MR-full-R1@0.5', 55.74),\n",
      "                ('MR-full-R1@0.7', 37.87),\n",
      "                ('MR-full-mAP', 33.33),\n",
      "                ('MR-full-mAP@0.5', 56.42),\n",
      "                ('MR-full-mAP@0.75', 32.93),\n",
      "                ('HL-min-Fair-mAP', 69.92),\n",
      "                ('HL-min-Fair-Hit1', 69.48),\n",
      "                ('HL-min-Good-mAP', 59.88),\n",
      "                ('HL-min-Good-Hit1', 67.81),\n",
      "                ('HL-min-VeryGood-mAP', 36.93),\n",
      "                ('HL-min-VeryGood-Hit1', 57.23)])\n",
      "Epoch:  80%|████████  | 160/200 [30:00<05:52,  8.82s/it]2024-12-11 08:11:08.723:INFO:training.myTrain - [Epoch 161]\n"
     ]
    },
    {
     "name": "stdout",
     "output_type": "stream",
     "text": [
      "Calculating highlight scores with min score 4 (VeryGood)\n",
      "Time cost 0.23 seconds\n"
     ]
    },
    {
     "name": "stderr",
     "output_type": "stream",
     "text": [
      "Training Iteration: 100%|██████████| 226/226 [00:06<00:00, 34.91it/s]\n",
      "2024-12-11 08:11:15.269:INFO:training.myEvaluate - Generate submissions\n",
      "compute st ed scores: 100%|██████████| 16/16 [00:01<00:00, 13.62it/s]\n",
      "convert to multiples of clip_length=2: 100%|██████████| 1550/1550 [00:00<00:00, 45486.59it/s]\n",
      "2024-12-11 08:11:16.487:INFO:training.myEvaluate - Saving/Evaluating before nms results\n"
     ]
    },
    {
     "name": "stdout",
     "output_type": "stream",
     "text": [
      "full: [0, 1500], 1550/1550=100.00 examples.\n",
      "[eval_moment_retrieval] [full] 0.38 seconds\n",
      "Calculating highlight scores with min score 2 (Fair)\n",
      "Time cost 0.27 seconds\n",
      "Calculating highlight scores with min score 3 (Good)\n",
      "Time cost 0.26 seconds\n"
     ]
    },
    {
     "name": "stderr",
     "output_type": "stream",
     "text": [
      "2024-12-11 08:11:17.688:INFO:training.myTrain - metrics OrderedDict([   ('MR-full-R1@0.5', 55.35),\n",
      "                ('MR-full-R1@0.7', 36.13),\n",
      "                ('MR-full-mAP', 32.63),\n",
      "                ('MR-full-mAP@0.5', 56.42),\n",
      "                ('MR-full-mAP@0.75', 31.23),\n",
      "                ('HL-min-Fair-mAP', 70.0),\n",
      "                ('HL-min-Fair-Hit1', 70.77),\n",
      "                ('HL-min-Good-mAP', 59.96),\n",
      "                ('HL-min-Good-Hit1', 69.29),\n",
      "                ('HL-min-VeryGood-mAP', 36.93),\n",
      "                ('HL-min-VeryGood-Hit1', 58.58)])\n",
      "Epoch:  80%|████████  | 161/200 [30:09<05:45,  8.86s/it]2024-12-11 08:11:17.689:INFO:training.myTrain - [Epoch 162]\n"
     ]
    },
    {
     "name": "stdout",
     "output_type": "stream",
     "text": [
      "Calculating highlight scores with min score 4 (VeryGood)\n",
      "Time cost 0.24 seconds\n"
     ]
    },
    {
     "name": "stderr",
     "output_type": "stream",
     "text": [
      "Training Iteration: 100%|██████████| 226/226 [00:05<00:00, 38.15it/s]\n",
      "2024-12-11 08:11:23.680:INFO:training.myEvaluate - Generate submissions\n",
      "compute st ed scores: 100%|██████████| 16/16 [00:01<00:00, 12.41it/s]\n",
      "convert to multiples of clip_length=2: 100%|██████████| 1550/1550 [00:00<00:00, 41245.85it/s]\n",
      "2024-12-11 08:11:25.016:INFO:training.myEvaluate - Saving/Evaluating before nms results\n"
     ]
    },
    {
     "name": "stdout",
     "output_type": "stream",
     "text": [
      "full: [0, 1500], 1550/1550=100.00 examples.\n",
      "[eval_moment_retrieval] [full] 0.27 seconds\n",
      "Calculating highlight scores with min score 2 (Fair)\n",
      "Time cost 0.27 seconds\n",
      "Calculating highlight scores with min score 3 (Good)\n",
      "Time cost 0.25 seconds\n"
     ]
    },
    {
     "name": "stderr",
     "output_type": "stream",
     "text": [
      "2024-12-11 08:11:26.082:INFO:training.myTrain - metrics OrderedDict([   ('MR-full-R1@0.5', 56.32),\n",
      "                ('MR-full-R1@0.7', 37.16),\n",
      "                ('MR-full-mAP', 32.55),\n",
      "                ('MR-full-mAP@0.5', 56.25),\n",
      "                ('MR-full-mAP@0.75', 31.03),\n",
      "                ('HL-min-Fair-mAP', 70.13),\n",
      "                ('HL-min-Fair-Hit1', 69.87),\n",
      "                ('HL-min-Good-mAP', 60.07),\n",
      "                ('HL-min-Good-Hit1', 68.52),\n",
      "                ('HL-min-VeryGood-mAP', 37.03),\n",
      "                ('HL-min-VeryGood-Hit1', 57.94)])\n",
      "Epoch:  81%|████████  | 162/200 [30:17<05:31,  8.72s/it]2024-12-11 08:11:26.083:INFO:training.myTrain - [Epoch 163]\n"
     ]
    },
    {
     "name": "stdout",
     "output_type": "stream",
     "text": [
      "Calculating highlight scores with min score 4 (VeryGood)\n",
      "Time cost 0.23 seconds\n"
     ]
    },
    {
     "name": "stderr",
     "output_type": "stream",
     "text": [
      "Training Iteration: 100%|██████████| 226/226 [00:06<00:00, 35.48it/s]\n",
      "2024-12-11 08:11:32.510:INFO:training.myEvaluate - Generate submissions\n",
      "compute st ed scores: 100%|██████████| 16/16 [00:01<00:00, 13.31it/s]\n",
      "convert to multiples of clip_length=2: 100%|██████████| 1550/1550 [00:00<00:00, 44011.58it/s]\n",
      "2024-12-11 08:11:33.757:INFO:training.myEvaluate - Saving/Evaluating before nms results\n"
     ]
    },
    {
     "name": "stdout",
     "output_type": "stream",
     "text": [
      "full: [0, 1500], 1550/1550=100.00 examples.\n",
      "[eval_moment_retrieval] [full] 0.38 seconds\n",
      "Calculating highlight scores with min score 2 (Fair)\n",
      "Time cost 0.28 seconds\n",
      "Calculating highlight scores with min score 3 (Good)\n",
      "Time cost 0.27 seconds\n"
     ]
    },
    {
     "name": "stderr",
     "output_type": "stream",
     "text": [
      "2024-12-11 08:11:34.974:INFO:training.myTrain - metrics OrderedDict([   ('MR-full-R1@0.5', 54.77),\n",
      "                ('MR-full-R1@0.7', 36.0),\n",
      "                ('MR-full-mAP', 32.25),\n",
      "                ('MR-full-mAP@0.5', 54.93),\n",
      "                ('MR-full-mAP@0.75', 30.93),\n",
      "                ('HL-min-Fair-mAP', 69.96),\n",
      "                ('HL-min-Fair-Hit1', 69.29),\n",
      "                ('HL-min-Good-mAP', 59.97),\n",
      "                ('HL-min-Good-Hit1', 68.06),\n",
      "                ('HL-min-VeryGood-mAP', 36.97),\n",
      "                ('HL-min-VeryGood-Hit1', 57.81)])\n",
      "Epoch:  82%|████████▏ | 163/200 [30:26<05:24,  8.77s/it]2024-12-11 08:11:34.975:INFO:training.myTrain - [Epoch 164]\n"
     ]
    },
    {
     "name": "stdout",
     "output_type": "stream",
     "text": [
      "Calculating highlight scores with min score 4 (VeryGood)\n",
      "Time cost 0.23 seconds\n"
     ]
    },
    {
     "name": "stderr",
     "output_type": "stream",
     "text": [
      "Training Iteration: 100%|██████████| 226/226 [00:06<00:00, 35.47it/s]\n",
      "2024-12-11 08:11:41.417:INFO:training.myEvaluate - Generate submissions\n",
      "compute st ed scores: 100%|██████████| 16/16 [00:01<00:00, 12.33it/s]\n",
      "convert to multiples of clip_length=2: 100%|██████████| 1550/1550 [00:00<00:00, 42360.63it/s]\n",
      "2024-12-11 08:11:42.763:INFO:training.myEvaluate - Saving/Evaluating before nms results\n"
     ]
    },
    {
     "name": "stdout",
     "output_type": "stream",
     "text": [
      "full: [0, 1500], 1550/1550=100.00 examples.\n",
      "[eval_moment_retrieval] [full] 0.26 seconds\n",
      "Calculating highlight scores with min score 2 (Fair)\n",
      "Time cost 0.26 seconds\n",
      "Calculating highlight scores with min score 3 (Good)\n",
      "Time cost 0.26 seconds\n"
     ]
    },
    {
     "name": "stderr",
     "output_type": "stream",
     "text": [
      "2024-12-11 08:11:43.832:INFO:training.myTrain - metrics OrderedDict([   ('MR-full-R1@0.5', 55.74),\n",
      "                ('MR-full-R1@0.7', 36.26),\n",
      "                ('MR-full-mAP', 31.7),\n",
      "                ('MR-full-mAP@0.5', 55.02),\n",
      "                ('MR-full-mAP@0.75', 30.61),\n",
      "                ('HL-min-Fair-mAP', 69.85),\n",
      "                ('HL-min-Fair-Hit1', 69.68),\n",
      "                ('HL-min-Good-mAP', 59.8),\n",
      "                ('HL-min-Good-Hit1', 68.32),\n",
      "                ('HL-min-VeryGood-mAP', 36.86),\n",
      "                ('HL-min-VeryGood-Hit1', 57.61)])\n",
      "Epoch:  82%|████████▏ | 164/200 [30:35<05:16,  8.80s/it]2024-12-11 08:11:43.833:INFO:training.myTrain - [Epoch 165]\n"
     ]
    },
    {
     "name": "stdout",
     "output_type": "stream",
     "text": [
      "Calculating highlight scores with min score 4 (VeryGood)\n",
      "Time cost 0.23 seconds\n"
     ]
    },
    {
     "name": "stderr",
     "output_type": "stream",
     "text": [
      "Training Iteration: 100%|██████████| 226/226 [00:06<00:00, 35.90it/s]\n",
      "2024-12-11 08:11:50.206:INFO:training.myEvaluate - Generate submissions\n",
      "compute st ed scores: 100%|██████████| 16/16 [00:01<00:00, 13.53it/s]\n",
      "convert to multiples of clip_length=2: 100%|██████████| 1550/1550 [00:00<00:00, 41232.25it/s]\n",
      "2024-12-11 08:11:51.436:INFO:training.myEvaluate - Saving/Evaluating before nms results\n"
     ]
    },
    {
     "name": "stdout",
     "output_type": "stream",
     "text": [
      "full: [0, 1500], 1550/1550=100.00 examples.\n",
      "[eval_moment_retrieval] [full] 0.37 seconds\n",
      "Calculating highlight scores with min score 2 (Fair)\n",
      "Time cost 0.27 seconds\n",
      "Calculating highlight scores with min score 3 (Good)\n",
      "Time cost 0.23 seconds\n"
     ]
    },
    {
     "name": "stderr",
     "output_type": "stream",
     "text": [
      "2024-12-11 08:11:52.576:INFO:training.myTrain - metrics OrderedDict([   ('MR-full-R1@0.5', 54.84),\n",
      "                ('MR-full-R1@0.7', 36.39),\n",
      "                ('MR-full-mAP', 32.35),\n",
      "                ('MR-full-mAP@0.5', 55.79),\n",
      "                ('MR-full-mAP@0.75', 31.33),\n",
      "                ('HL-min-Fair-mAP', 69.65),\n",
      "                ('HL-min-Fair-Hit1', 68.45),\n",
      "                ('HL-min-Good-mAP', 59.73),\n",
      "                ('HL-min-Good-Hit1', 67.29),\n",
      "                ('HL-min-VeryGood-mAP', 36.75),\n",
      "                ('HL-min-VeryGood-Hit1', 56.9)])\n",
      "Epoch:  82%|████████▎ | 165/200 [30:44<05:07,  8.78s/it]2024-12-11 08:11:52.577:INFO:training.myTrain - [Epoch 166]\n"
     ]
    },
    {
     "name": "stdout",
     "output_type": "stream",
     "text": [
      "Calculating highlight scores with min score 4 (VeryGood)\n",
      "Time cost 0.21 seconds\n"
     ]
    },
    {
     "name": "stderr",
     "output_type": "stream",
     "text": [
      "Training Iteration: 100%|██████████| 226/226 [00:06<00:00, 35.94it/s]\n",
      "2024-12-11 08:11:58.927:INFO:training.myEvaluate - Generate submissions\n",
      "compute st ed scores: 100%|██████████| 16/16 [00:01<00:00, 13.58it/s]\n",
      "convert to multiples of clip_length=2: 100%|██████████| 1550/1550 [00:00<00:00, 40378.19it/s]\n",
      "2024-12-11 08:12:00.153:INFO:training.myEvaluate - Saving/Evaluating before nms results\n"
     ]
    },
    {
     "name": "stdout",
     "output_type": "stream",
     "text": [
      "full: [0, 1500], 1550/1550=100.00 examples.\n",
      "[eval_moment_retrieval] [full] 0.37 seconds\n",
      "Calculating highlight scores with min score 2 (Fair)\n",
      "Time cost 0.26 seconds\n",
      "Calculating highlight scores with min score 3 (Good)\n",
      "Time cost 0.25 seconds\n"
     ]
    },
    {
     "name": "stderr",
     "output_type": "stream",
     "text": [
      "2024-12-11 08:12:01.325:INFO:training.myTrain - metrics OrderedDict([   ('MR-full-R1@0.5', 56.9),\n",
      "                ('MR-full-R1@0.7', 38.06),\n",
      "                ('MR-full-mAP', 33.01),\n",
      "                ('MR-full-mAP@0.5', 56.77),\n",
      "                ('MR-full-mAP@0.75', 32.42),\n",
      "                ('HL-min-Fair-mAP', 69.86),\n",
      "                ('HL-min-Fair-Hit1', 68.65),\n",
      "                ('HL-min-Good-mAP', 59.76),\n",
      "                ('HL-min-Good-Hit1', 67.23),\n",
      "                ('HL-min-VeryGood-mAP', 36.78),\n",
      "                ('HL-min-VeryGood-Hit1', 57.16)])\n",
      "Epoch:  83%|████████▎ | 166/200 [30:53<04:58,  8.77s/it]2024-12-11 08:12:01.326:INFO:training.myTrain - [Epoch 167]\n"
     ]
    },
    {
     "name": "stdout",
     "output_type": "stream",
     "text": [
      "Calculating highlight scores with min score 4 (VeryGood)\n",
      "Time cost 0.23 seconds\n"
     ]
    },
    {
     "name": "stderr",
     "output_type": "stream",
     "text": [
      "Training Iteration: 100%|██████████| 226/226 [00:06<00:00, 35.88it/s]\n",
      "2024-12-11 08:12:07.687:INFO:training.myEvaluate - Generate submissions\n",
      "compute st ed scores: 100%|██████████| 16/16 [00:01<00:00, 12.31it/s]\n",
      "convert to multiples of clip_length=2: 100%|██████████| 1550/1550 [00:00<00:00, 40588.18it/s]\n",
      "2024-12-11 08:12:09.035:INFO:training.myEvaluate - Saving/Evaluating before nms results\n"
     ]
    },
    {
     "name": "stdout",
     "output_type": "stream",
     "text": [
      "full: [0, 1500], 1550/1550=100.00 examples.\n",
      "[eval_moment_retrieval] [full] 0.28 seconds\n",
      "Calculating highlight scores with min score 2 (Fair)\n",
      "Time cost 0.30 seconds\n",
      "Calculating highlight scores with min score 3 (Good)\n",
      "Time cost 0.27 seconds\n"
     ]
    },
    {
     "name": "stderr",
     "output_type": "stream",
     "text": [
      "2024-12-11 08:12:10.157:INFO:training.myTrain - metrics OrderedDict([   ('MR-full-R1@0.5', 55.35),\n",
      "                ('MR-full-R1@0.7', 37.55),\n",
      "                ('MR-full-mAP', 32.65),\n",
      "                ('MR-full-mAP@0.5', 55.62),\n",
      "                ('MR-full-mAP@0.75', 32.0),\n",
      "                ('HL-min-Fair-mAP', 69.84),\n",
      "                ('HL-min-Fair-Hit1', 68.32),\n",
      "                ('HL-min-Good-mAP', 59.89),\n",
      "                ('HL-min-Good-Hit1', 67.1),\n",
      "                ('HL-min-VeryGood-mAP', 36.72),\n",
      "                ('HL-min-VeryGood-Hit1', 56.77)])\n",
      "Epoch:  84%|████████▎ | 167/200 [31:01<04:50,  8.79s/it]2024-12-11 08:12:10.158:INFO:training.myTrain - [Epoch 168]\n"
     ]
    },
    {
     "name": "stdout",
     "output_type": "stream",
     "text": [
      "Calculating highlight scores with min score 4 (VeryGood)\n",
      "Time cost 0.22 seconds\n"
     ]
    },
    {
     "name": "stderr",
     "output_type": "stream",
     "text": [
      "Training Iteration: 100%|██████████| 226/226 [00:06<00:00, 35.41it/s]\n",
      "2024-12-11 08:12:16.621:INFO:training.myEvaluate - Generate submissions\n",
      "compute st ed scores: 100%|██████████| 16/16 [00:01<00:00, 13.32it/s]\n",
      "convert to multiples of clip_length=2: 100%|██████████| 1550/1550 [00:00<00:00, 44541.99it/s]\n",
      "2024-12-11 08:12:17.867:INFO:training.myEvaluate - Saving/Evaluating before nms results\n"
     ]
    },
    {
     "name": "stdout",
     "output_type": "stream",
     "text": [
      "full: [0, 1500], 1550/1550=100.00 examples.\n",
      "[eval_moment_retrieval] [full] 0.38 seconds\n",
      "Calculating highlight scores with min score 2 (Fair)\n",
      "Time cost 0.27 seconds\n",
      "Calculating highlight scores with min score 3 (Good)\n",
      "Time cost 0.27 seconds\n"
     ]
    },
    {
     "name": "stderr",
     "output_type": "stream",
     "text": [
      "2024-12-11 08:12:19.104:INFO:training.myTrain - metrics OrderedDict([   ('MR-full-R1@0.5', 56.58),\n",
      "                ('MR-full-R1@0.7', 37.42),\n",
      "                ('MR-full-mAP', 32.75),\n",
      "                ('MR-full-mAP@0.5', 56.87),\n",
      "                ('MR-full-mAP@0.75', 31.47),\n",
      "                ('HL-min-Fair-mAP', 69.63),\n",
      "                ('HL-min-Fair-Hit1', 68.84),\n",
      "                ('HL-min-Good-mAP', 59.76),\n",
      "                ('HL-min-Good-Hit1', 67.74),\n",
      "                ('HL-min-VeryGood-mAP', 36.8),\n",
      "                ('HL-min-VeryGood-Hit1', 57.87)])\n",
      "Epoch:  84%|████████▍ | 168/200 [31:10<04:42,  8.84s/it]2024-12-11 08:12:19.105:INFO:training.myTrain - [Epoch 169]\n"
     ]
    },
    {
     "name": "stdout",
     "output_type": "stream",
     "text": [
      "Calculating highlight scores with min score 4 (VeryGood)\n",
      "Time cost 0.26 seconds\n"
     ]
    },
    {
     "name": "stderr",
     "output_type": "stream",
     "text": [
      "Training Iteration: 100%|██████████| 226/226 [00:06<00:00, 35.50it/s]\n",
      "2024-12-11 08:12:25.552:INFO:training.myEvaluate - Generate submissions\n",
      "compute st ed scores: 100%|██████████| 16/16 [00:01<00:00, 12.37it/s]\n",
      "convert to multiples of clip_length=2: 100%|██████████| 1550/1550 [00:00<00:00, 42416.46it/s]\n",
      "2024-12-11 08:12:26.893:INFO:training.myEvaluate - Saving/Evaluating before nms results\n"
     ]
    },
    {
     "name": "stdout",
     "output_type": "stream",
     "text": [
      "full: [0, 1500], 1550/1550=100.00 examples.\n",
      "[eval_moment_retrieval] [full] 0.27 seconds\n",
      "Calculating highlight scores with min score 2 (Fair)\n",
      "Time cost 0.27 seconds\n",
      "Calculating highlight scores with min score 3 (Good)\n",
      "Time cost 0.27 seconds\n"
     ]
    },
    {
     "name": "stderr",
     "output_type": "stream",
     "text": [
      "2024-12-11 08:12:27.994:INFO:training.myTrain - metrics OrderedDict([   ('MR-full-R1@0.5', 55.94),\n",
      "                ('MR-full-R1@0.7', 36.26),\n",
      "                ('MR-full-mAP', 32.23),\n",
      "                ('MR-full-mAP@0.5', 56.13),\n",
      "                ('MR-full-mAP@0.75', 31.8),\n",
      "                ('HL-min-Fair-mAP', 70.16),\n",
      "                ('HL-min-Fair-Hit1', 69.74),\n",
      "                ('HL-min-Good-mAP', 60.11),\n",
      "                ('HL-min-Good-Hit1', 68.32),\n",
      "                ('HL-min-VeryGood-mAP', 37.07),\n",
      "                ('HL-min-VeryGood-Hit1', 58.0)])\n",
      "Epoch:  84%|████████▍ | 169/200 [31:19<04:34,  8.85s/it]2024-12-11 08:12:27.995:INFO:training.myTrain - [Epoch 170]\n"
     ]
    },
    {
     "name": "stdout",
     "output_type": "stream",
     "text": [
      "Calculating highlight scores with min score 4 (VeryGood)\n",
      "Time cost 0.24 seconds\n"
     ]
    },
    {
     "name": "stderr",
     "output_type": "stream",
     "text": [
      "Training Iteration: 100%|██████████| 226/226 [00:06<00:00, 35.72it/s]\n",
      "2024-12-11 08:12:34.393:INFO:training.myEvaluate - Generate submissions\n",
      "compute st ed scores: 100%|██████████| 16/16 [00:01<00:00, 13.37it/s]\n",
      "convert to multiples of clip_length=2: 100%|██████████| 1550/1550 [00:00<00:00, 45101.29it/s]\n",
      "2024-12-11 08:12:35.635:INFO:training.myEvaluate - Saving/Evaluating before nms results\n"
     ]
    },
    {
     "name": "stdout",
     "output_type": "stream",
     "text": [
      "full: [0, 1500], 1550/1550=100.00 examples.\n",
      "[eval_moment_retrieval] [full] 0.42 seconds\n",
      "Calculating highlight scores with min score 2 (Fair)\n",
      "Time cost 0.28 seconds\n",
      "Calculating highlight scores with min score 3 (Good)\n",
      "Time cost 0.26 seconds\n"
     ]
    },
    {
     "name": "stderr",
     "output_type": "stream",
     "text": [
      "2024-12-11 08:12:36.893:INFO:training.myTrain - metrics OrderedDict([   ('MR-full-R1@0.5', 55.87),\n",
      "                ('MR-full-R1@0.7', 36.45),\n",
      "                ('MR-full-mAP', 32.35),\n",
      "                ('MR-full-mAP@0.5', 56.1),\n",
      "                ('MR-full-mAP@0.75', 31.39),\n",
      "                ('HL-min-Fair-mAP', 69.64),\n",
      "                ('HL-min-Fair-Hit1', 68.77),\n",
      "                ('HL-min-Good-mAP', 59.69),\n",
      "                ('HL-min-Good-Hit1', 67.35),\n",
      "                ('HL-min-VeryGood-mAP', 36.75),\n",
      "                ('HL-min-VeryGood-Hit1', 57.23)])\n",
      "Epoch:  85%|████████▌ | 170/200 [31:28<04:26,  8.87s/it]2024-12-11 08:12:36.894:INFO:training.myTrain - [Epoch 171]\n"
     ]
    },
    {
     "name": "stdout",
     "output_type": "stream",
     "text": [
      "Calculating highlight scores with min score 4 (VeryGood)\n",
      "Time cost 0.25 seconds\n"
     ]
    },
    {
     "name": "stderr",
     "output_type": "stream",
     "text": [
      "Training Iteration: 100%|██████████| 226/226 [00:06<00:00, 34.80it/s]\n",
      "2024-12-11 08:12:43.466:INFO:training.myEvaluate - Generate submissions\n",
      "compute st ed scores: 100%|██████████| 16/16 [00:01<00:00, 12.34it/s]\n",
      "convert to multiples of clip_length=2: 100%|██████████| 1550/1550 [00:00<00:00, 37982.78it/s]\n",
      "2024-12-11 08:12:44.814:INFO:training.myEvaluate - Saving/Evaluating before nms results\n"
     ]
    },
    {
     "name": "stdout",
     "output_type": "stream",
     "text": [
      "full: [0, 1500], 1550/1550=100.00 examples.\n",
      "[eval_moment_retrieval] [full] 0.29 seconds\n",
      "Calculating highlight scores with min score 2 (Fair)\n",
      "Time cost 0.27 seconds\n",
      "Calculating highlight scores with min score 3 (Good)\n",
      "Time cost 0.26 seconds\n"
     ]
    },
    {
     "name": "stderr",
     "output_type": "stream",
     "text": [
      "2024-12-11 08:12:45.939:INFO:training.myTrain - metrics OrderedDict([   ('MR-full-R1@0.5', 57.03),\n",
      "                ('MR-full-R1@0.7', 38.45),\n",
      "                ('MR-full-mAP', 33.95),\n",
      "                ('MR-full-mAP@0.5', 57.38),\n",
      "                ('MR-full-mAP@0.75', 33.3),\n",
      "                ('HL-min-Fair-mAP', 69.96),\n",
      "                ('HL-min-Fair-Hit1', 69.61),\n",
      "                ('HL-min-Good-mAP', 59.97),\n",
      "                ('HL-min-Good-Hit1', 68.32),\n",
      "                ('HL-min-VeryGood-mAP', 36.89),\n",
      "                ('HL-min-VeryGood-Hit1', 57.29)])\n",
      "Epoch:  86%|████████▌ | 171/200 [31:37<04:18,  8.92s/it]2024-12-11 08:12:45.940:INFO:training.myTrain - [Epoch 172]\n"
     ]
    },
    {
     "name": "stdout",
     "output_type": "stream",
     "text": [
      "Calculating highlight scores with min score 4 (VeryGood)\n",
      "Time cost 0.25 seconds\n"
     ]
    },
    {
     "name": "stderr",
     "output_type": "stream",
     "text": [
      "Training Iteration: 100%|██████████| 226/226 [00:06<00:00, 35.07it/s]\n",
      "2024-12-11 08:12:52.457:INFO:training.myEvaluate - Generate submissions\n",
      "compute st ed scores: 100%|██████████| 16/16 [00:01<00:00, 13.31it/s]\n",
      "convert to multiples of clip_length=2: 100%|██████████| 1550/1550 [00:00<00:00, 40131.68it/s]\n",
      "2024-12-11 08:12:53.708:INFO:training.myEvaluate - Saving/Evaluating before nms results\n"
     ]
    },
    {
     "name": "stdout",
     "output_type": "stream",
     "text": [
      "full: [0, 1500], 1550/1550=100.00 examples.\n",
      "[eval_moment_retrieval] [full] 0.36 seconds\n",
      "Calculating highlight scores with min score 2 (Fair)\n",
      "Time cost 0.26 seconds\n",
      "Calculating highlight scores with min score 3 (Good)\n",
      "Time cost 0.29 seconds\n"
     ]
    },
    {
     "name": "stderr",
     "output_type": "stream",
     "text": [
      "2024-12-11 08:12:54.917:INFO:training.myTrain - metrics OrderedDict([   ('MR-full-R1@0.5', 56.39),\n",
      "                ('MR-full-R1@0.7', 37.87),\n",
      "                ('MR-full-mAP', 32.22),\n",
      "                ('MR-full-mAP@0.5', 56.36),\n",
      "                ('MR-full-mAP@0.75', 31.47),\n",
      "                ('HL-min-Fair-mAP', 70.08),\n",
      "                ('HL-min-Fair-Hit1', 70.0),\n",
      "                ('HL-min-Good-mAP', 59.95),\n",
      "                ('HL-min-Good-Hit1', 68.52),\n",
      "                ('HL-min-VeryGood-mAP', 36.91),\n",
      "                ('HL-min-VeryGood-Hit1', 57.87)])\n",
      "Epoch:  86%|████████▌ | 172/200 [31:46<04:10,  8.94s/it]2024-12-11 08:12:54.918:INFO:training.myTrain - [Epoch 173]\n"
     ]
    },
    {
     "name": "stdout",
     "output_type": "stream",
     "text": [
      "Calculating highlight scores with min score 4 (VeryGood)\n",
      "Time cost 0.24 seconds\n"
     ]
    },
    {
     "name": "stderr",
     "output_type": "stream",
     "text": [
      "Training Iteration: 100%|██████████| 226/226 [00:06<00:00, 35.36it/s]\n",
      "2024-12-11 08:13:01.381:INFO:training.myEvaluate - Generate submissions\n",
      "compute st ed scores: 100%|██████████| 16/16 [00:01<00:00, 11.98it/s]\n",
      "convert to multiples of clip_length=2: 100%|██████████| 1550/1550 [00:00<00:00, 47162.57it/s]\n",
      "2024-12-11 08:13:02.760:INFO:training.myEvaluate - Saving/Evaluating before nms results\n"
     ]
    },
    {
     "name": "stdout",
     "output_type": "stream",
     "text": [
      "full: [0, 1500], 1550/1550=100.00 examples.\n",
      "[eval_moment_retrieval] [full] 0.28 seconds\n",
      "Calculating highlight scores with min score 2 (Fair)\n",
      "Time cost 0.27 seconds\n",
      "Calculating highlight scores with min score 3 (Good)\n",
      "Time cost 0.27 seconds\n"
     ]
    },
    {
     "name": "stderr",
     "output_type": "stream",
     "text": [
      "2024-12-11 08:13:03.865:INFO:training.myTrain - metrics OrderedDict([   ('MR-full-R1@0.5', 56.39),\n",
      "                ('MR-full-R1@0.7', 37.29),\n",
      "                ('MR-full-mAP', 33.12),\n",
      "                ('MR-full-mAP@0.5', 56.5),\n",
      "                ('MR-full-mAP@0.75', 32.43),\n",
      "                ('HL-min-Fair-mAP', 70.05),\n",
      "                ('HL-min-Fair-Hit1', 70.26),\n",
      "                ('HL-min-Good-mAP', 60.02),\n",
      "                ('HL-min-Good-Hit1', 68.84),\n",
      "                ('HL-min-VeryGood-mAP', 36.97),\n",
      "                ('HL-min-VeryGood-Hit1', 58.58)])\n",
      "Epoch:  86%|████████▋ | 173/200 [31:55<04:01,  8.94s/it]2024-12-11 08:13:03.866:INFO:training.myTrain - [Epoch 174]\n"
     ]
    },
    {
     "name": "stdout",
     "output_type": "stream",
     "text": [
      "Calculating highlight scores with min score 4 (VeryGood)\n",
      "Time cost 0.23 seconds\n"
     ]
    },
    {
     "name": "stderr",
     "output_type": "stream",
     "text": [
      "Training Iteration: 100%|██████████| 226/226 [00:06<00:00, 34.97it/s]\n",
      "2024-12-11 08:13:10.399:INFO:training.myEvaluate - Generate submissions\n",
      "compute st ed scores: 100%|██████████| 16/16 [00:01<00:00, 13.38it/s]\n",
      "convert to multiples of clip_length=2: 100%|██████████| 1550/1550 [00:00<00:00, 41797.42it/s]\n",
      "2024-12-11 08:13:11.642:INFO:training.myEvaluate - Saving/Evaluating before nms results\n"
     ]
    },
    {
     "name": "stdout",
     "output_type": "stream",
     "text": [
      "full: [0, 1500], 1550/1550=100.00 examples.\n",
      "[eval_moment_retrieval] [full] 0.40 seconds\n",
      "Calculating highlight scores with min score 2 (Fair)\n",
      "Time cost 0.28 seconds\n",
      "Calculating highlight scores with min score 3 (Good)\n",
      "Time cost 0.24 seconds\n"
     ]
    },
    {
     "name": "stderr",
     "output_type": "stream",
     "text": [
      "2024-12-11 08:13:12.821:INFO:training.myTrain - metrics OrderedDict([   ('MR-full-R1@0.5', 56.77),\n",
      "                ('MR-full-R1@0.7', 36.71),\n",
      "                ('MR-full-mAP', 33.22),\n",
      "                ('MR-full-mAP@0.5', 57.51),\n",
      "                ('MR-full-mAP@0.75', 32.51),\n",
      "                ('HL-min-Fair-mAP', 70.28),\n",
      "                ('HL-min-Fair-Hit1', 70.39),\n",
      "                ('HL-min-Good-mAP', 60.17),\n",
      "                ('HL-min-Good-Hit1', 69.03),\n",
      "                ('HL-min-VeryGood-mAP', 37.02),\n",
      "                ('HL-min-VeryGood-Hit1', 58.39)])\n",
      "Epoch:  87%|████████▋ | 174/200 [32:04<03:52,  8.95s/it]2024-12-11 08:13:12.822:INFO:training.myTrain - [Epoch 175]\n"
     ]
    },
    {
     "name": "stdout",
     "output_type": "stream",
     "text": [
      "Calculating highlight scores with min score 4 (VeryGood)\n",
      "Time cost 0.22 seconds\n"
     ]
    },
    {
     "name": "stderr",
     "output_type": "stream",
     "text": [
      "Training Iteration: 100%|██████████| 226/226 [00:06<00:00, 35.67it/s]\n",
      "2024-12-11 08:13:19.214:INFO:training.myEvaluate - Generate submissions\n",
      "compute st ed scores: 100%|██████████| 16/16 [00:01<00:00, 13.30it/s]\n",
      "convert to multiples of clip_length=2: 100%|██████████| 1550/1550 [00:00<00:00, 45625.78it/s]\n",
      "2024-12-11 08:13:20.460:INFO:training.myEvaluate - Saving/Evaluating before nms results\n"
     ]
    },
    {
     "name": "stdout",
     "output_type": "stream",
     "text": [
      "full: [0, 1500], 1550/1550=100.00 examples.\n",
      "[eval_moment_retrieval] [full] 0.35 seconds\n",
      "Calculating highlight scores with min score 2 (Fair)\n",
      "Time cost 0.26 seconds\n",
      "Calculating highlight scores with min score 3 (Good)\n",
      "Time cost 0.28 seconds\n"
     ]
    },
    {
     "name": "stderr",
     "output_type": "stream",
     "text": [
      "2024-12-11 08:13:21.630:INFO:training.myTrain - metrics OrderedDict([   ('MR-full-R1@0.5', 56.39),\n",
      "                ('MR-full-R1@0.7', 36.9),\n",
      "                ('MR-full-mAP', 32.93),\n",
      "                ('MR-full-mAP@0.5', 56.18),\n",
      "                ('MR-full-mAP@0.75', 31.69),\n",
      "                ('HL-min-Fair-mAP', 69.48),\n",
      "                ('HL-min-Fair-Hit1', 68.77),\n",
      "                ('HL-min-Good-mAP', 59.55),\n",
      "                ('HL-min-Good-Hit1', 67.42),\n",
      "                ('HL-min-VeryGood-mAP', 36.69),\n",
      "                ('HL-min-VeryGood-Hit1', 57.68)])\n",
      "Epoch:  88%|████████▊ | 175/200 [32:13<03:42,  8.90s/it]2024-12-11 08:13:21.630:INFO:training.myTrain - [Epoch 176]\n"
     ]
    },
    {
     "name": "stdout",
     "output_type": "stream",
     "text": [
      "Calculating highlight scores with min score 4 (VeryGood)\n",
      "Time cost 0.23 seconds\n"
     ]
    },
    {
     "name": "stderr",
     "output_type": "stream",
     "text": [
      "Training Iteration: 100%|██████████| 226/226 [00:06<00:00, 36.01it/s]\n",
      "2024-12-11 08:13:27.968:INFO:training.myEvaluate - Generate submissions\n",
      "compute st ed scores: 100%|██████████| 16/16 [00:01<00:00, 12.13it/s]\n",
      "convert to multiples of clip_length=2: 100%|██████████| 1550/1550 [00:00<00:00, 42789.16it/s]\n",
      "2024-12-11 08:13:29.333:INFO:training.myEvaluate - Saving/Evaluating before nms results\n"
     ]
    },
    {
     "name": "stdout",
     "output_type": "stream",
     "text": [
      "full: [0, 1500], 1550/1550=100.00 examples.\n",
      "[eval_moment_retrieval] [full] 0.27 seconds\n",
      "Calculating highlight scores with min score 2 (Fair)\n",
      "Time cost 0.25 seconds\n",
      "Calculating highlight scores with min score 3 (Good)\n",
      "Time cost 0.25 seconds\n"
     ]
    },
    {
     "name": "stderr",
     "output_type": "stream",
     "text": [
      "2024-12-11 08:13:30.393:INFO:training.myTrain - metrics OrderedDict([   ('MR-full-R1@0.5', 57.1),\n",
      "                ('MR-full-R1@0.7', 37.55),\n",
      "                ('MR-full-mAP', 33.73),\n",
      "                ('MR-full-mAP@0.5', 57.16),\n",
      "                ('MR-full-mAP@0.75', 32.17),\n",
      "                ('HL-min-Fair-mAP', 70.37),\n",
      "                ('HL-min-Fair-Hit1', 70.06),\n",
      "                ('HL-min-Good-mAP', 60.34),\n",
      "                ('HL-min-Good-Hit1', 68.77),\n",
      "                ('HL-min-VeryGood-mAP', 37.18),\n",
      "                ('HL-min-VeryGood-Hit1', 58.13)])\n",
      "Epoch:  88%|████████▊ | 176/200 [32:22<03:32,  8.86s/it]2024-12-11 08:13:30.393:INFO:training.myTrain - [Epoch 177]\n"
     ]
    },
    {
     "name": "stdout",
     "output_type": "stream",
     "text": [
      "Calculating highlight scores with min score 4 (VeryGood)\n",
      "Time cost 0.24 seconds\n"
     ]
    },
    {
     "name": "stderr",
     "output_type": "stream",
     "text": [
      "Training Iteration: 100%|██████████| 226/226 [00:06<00:00, 35.67it/s]\n",
      "2024-12-11 08:13:36.800:INFO:training.myEvaluate - Generate submissions\n",
      "compute st ed scores: 100%|██████████| 16/16 [00:01<00:00, 13.42it/s]\n",
      "convert to multiples of clip_length=2: 100%|██████████| 1550/1550 [00:00<00:00, 40880.93it/s]\n",
      "2024-12-11 08:13:38.040:INFO:training.myEvaluate - Saving/Evaluating before nms results\n"
     ]
    },
    {
     "name": "stdout",
     "output_type": "stream",
     "text": [
      "full: [0, 1500], 1550/1550=100.00 examples.\n",
      "[eval_moment_retrieval] [full] 0.40 seconds\n",
      "Calculating highlight scores with min score 2 (Fair)\n",
      "Time cost 0.27 seconds\n",
      "Calculating highlight scores with min score 3 (Good)\n",
      "Time cost 0.28 seconds\n"
     ]
    },
    {
     "name": "stderr",
     "output_type": "stream",
     "text": [
      "2024-12-11 08:13:39.284:INFO:training.myTrain - metrics OrderedDict([   ('MR-full-R1@0.5', 54.77),\n",
      "                ('MR-full-R1@0.7', 37.16),\n",
      "                ('MR-full-mAP', 32.32),\n",
      "                ('MR-full-mAP@0.5', 55.21),\n",
      "                ('MR-full-mAP@0.75', 31.58),\n",
      "                ('HL-min-Fair-mAP', 70.04),\n",
      "                ('HL-min-Fair-Hit1', 69.87),\n",
      "                ('HL-min-Good-mAP', 60.05),\n",
      "                ('HL-min-Good-Hit1', 68.71),\n",
      "                ('HL-min-VeryGood-mAP', 36.99),\n",
      "                ('HL-min-VeryGood-Hit1', 58.19)])\n",
      "Epoch:  88%|████████▊ | 177/200 [32:31<03:24,  8.87s/it]2024-12-11 08:13:39.285:INFO:training.myTrain - [Epoch 178]\n"
     ]
    },
    {
     "name": "stdout",
     "output_type": "stream",
     "text": [
      "Calculating highlight scores with min score 4 (VeryGood)\n",
      "Time cost 0.24 seconds\n"
     ]
    },
    {
     "name": "stderr",
     "output_type": "stream",
     "text": [
      "Training Iteration: 100%|██████████| 226/226 [00:06<00:00, 35.06it/s]\n",
      "2024-12-11 08:13:45.806:INFO:training.myEvaluate - Generate submissions\n",
      "compute st ed scores: 100%|██████████| 16/16 [00:01<00:00, 11.92it/s]\n",
      "convert to multiples of clip_length=2: 100%|██████████| 1550/1550 [00:00<00:00, 39326.20it/s]\n",
      "2024-12-11 08:13:47.197:INFO:training.myEvaluate - Saving/Evaluating before nms results\n"
     ]
    },
    {
     "name": "stdout",
     "output_type": "stream",
     "text": [
      "full: [0, 1500], 1550/1550=100.00 examples.\n",
      "[eval_moment_retrieval] [full] 0.26 seconds\n",
      "Calculating highlight scores with min score 2 (Fair)\n",
      "Time cost 0.27 seconds\n",
      "Calculating highlight scores with min score 3 (Good)\n",
      "Time cost 0.26 seconds\n"
     ]
    },
    {
     "name": "stderr",
     "output_type": "stream",
     "text": [
      "2024-12-11 08:13:48.250:INFO:training.myTrain - metrics OrderedDict([   ('MR-full-R1@0.5', 55.16),\n",
      "                ('MR-full-R1@0.7', 36.39),\n",
      "                ('MR-full-mAP', 31.97),\n",
      "                ('MR-full-mAP@0.5', 55.48),\n",
      "                ('MR-full-mAP@0.75', 30.89),\n",
      "                ('HL-min-Fair-mAP', 70.12),\n",
      "                ('HL-min-Fair-Hit1', 69.03),\n",
      "                ('HL-min-Good-mAP', 59.95),\n",
      "                ('HL-min-Good-Hit1', 67.74),\n",
      "                ('HL-min-VeryGood-mAP', 36.89),\n",
      "                ('HL-min-VeryGood-Hit1', 57.23)])\n",
      "Epoch:  89%|████████▉ | 178/200 [32:40<03:15,  8.90s/it]2024-12-11 08:13:48.251:INFO:training.myTrain - [Epoch 179]\n"
     ]
    },
    {
     "name": "stdout",
     "output_type": "stream",
     "text": [
      "Calculating highlight scores with min score 4 (VeryGood)\n",
      "Time cost 0.21 seconds\n"
     ]
    },
    {
     "name": "stderr",
     "output_type": "stream",
     "text": [
      "Training Iteration: 100%|██████████| 226/226 [00:06<00:00, 34.98it/s]\n",
      "2024-12-11 08:13:54.781:INFO:training.myEvaluate - Generate submissions\n",
      "compute st ed scores: 100%|██████████| 16/16 [00:01<00:00, 13.37it/s]\n",
      "convert to multiples of clip_length=2: 100%|██████████| 1550/1550 [00:00<00:00, 47884.06it/s]\n",
      "2024-12-11 08:13:56.021:INFO:training.myEvaluate - Saving/Evaluating before nms results\n"
     ]
    },
    {
     "name": "stdout",
     "output_type": "stream",
     "text": [
      "full: [0, 1500], 1550/1550=100.00 examples.\n",
      "[eval_moment_retrieval] [full] 0.40 seconds\n",
      "Calculating highlight scores with min score 2 (Fair)\n",
      "Time cost 0.27 seconds\n",
      "Calculating highlight scores with min score 3 (Good)\n",
      "Time cost 0.27 seconds\n"
     ]
    },
    {
     "name": "stderr",
     "output_type": "stream",
     "text": [
      "2024-12-11 08:13:57.245:INFO:training.myTrain - metrics OrderedDict([   ('MR-full-R1@0.5', 54.06),\n",
      "                ('MR-full-R1@0.7', 36.06),\n",
      "                ('MR-full-mAP', 31.74),\n",
      "                ('MR-full-mAP@0.5', 54.75),\n",
      "                ('MR-full-mAP@0.75', 30.44),\n",
      "                ('HL-min-Fair-mAP', 69.8),\n",
      "                ('HL-min-Fair-Hit1', 69.81),\n",
      "                ('HL-min-Good-mAP', 59.85),\n",
      "                ('HL-min-Good-Hit1', 68.71),\n",
      "                ('HL-min-VeryGood-mAP', 36.87),\n",
      "                ('HL-min-VeryGood-Hit1', 58.0)])\n",
      "Epoch:  90%|████████▉ | 179/200 [32:49<03:07,  8.93s/it]2024-12-11 08:13:57.245:INFO:training.myTrain - [Epoch 180]\n"
     ]
    },
    {
     "name": "stdout",
     "output_type": "stream",
     "text": [
      "Calculating highlight scores with min score 4 (VeryGood)\n",
      "Time cost 0.22 seconds\n"
     ]
    },
    {
     "name": "stderr",
     "output_type": "stream",
     "text": [
      "Training Iteration: 100%|██████████| 226/226 [00:06<00:00, 35.77it/s]\n",
      "2024-12-11 08:14:03.626:INFO:training.myEvaluate - Generate submissions\n",
      "compute st ed scores: 100%|██████████| 16/16 [00:01<00:00, 12.31it/s]\n",
      "convert to multiples of clip_length=2: 100%|██████████| 1550/1550 [00:00<00:00, 47567.69it/s]\n",
      "2024-12-11 08:14:04.968:INFO:training.myEvaluate - Saving/Evaluating before nms results\n"
     ]
    },
    {
     "name": "stdout",
     "output_type": "stream",
     "text": [
      "full: [0, 1500], 1550/1550=100.00 examples.\n",
      "[eval_moment_retrieval] [full] 0.27 seconds\n",
      "Calculating highlight scores with min score 2 (Fair)\n",
      "Time cost 0.27 seconds\n",
      "Calculating highlight scores with min score 3 (Good)\n",
      "Time cost 0.26 seconds\n"
     ]
    },
    {
     "name": "stderr",
     "output_type": "stream",
     "text": [
      "2024-12-11 08:14:06.048:INFO:training.myTrain - metrics OrderedDict([   ('MR-full-R1@0.5', 54.32),\n",
      "                ('MR-full-R1@0.7', 34.97),\n",
      "                ('MR-full-mAP', 31.07),\n",
      "                ('MR-full-mAP@0.5', 54.56),\n",
      "                ('MR-full-mAP@0.75', 30.2),\n",
      "                ('HL-min-Fair-mAP', 69.3),\n",
      "                ('HL-min-Fair-Hit1', 68.58),\n",
      "                ('HL-min-Good-mAP', 59.33),\n",
      "                ('HL-min-Good-Hit1', 67.29),\n",
      "                ('HL-min-VeryGood-mAP', 36.75),\n",
      "                ('HL-min-VeryGood-Hit1', 57.29)])\n",
      "Epoch:  90%|█████████ | 180/200 [32:57<02:57,  8.89s/it]2024-12-11 08:14:06.048:INFO:training.myTrain - [Epoch 181]\n"
     ]
    },
    {
     "name": "stdout",
     "output_type": "stream",
     "text": [
      "Calculating highlight scores with min score 4 (VeryGood)\n",
      "Time cost 0.23 seconds\n"
     ]
    },
    {
     "name": "stderr",
     "output_type": "stream",
     "text": [
      "Training Iteration: 100%|██████████| 226/226 [00:06<00:00, 34.68it/s]\n",
      "2024-12-11 08:14:12.634:INFO:training.myEvaluate - Generate submissions\n",
      "compute st ed scores: 100%|██████████| 16/16 [00:01<00:00, 13.64it/s]\n",
      "convert to multiples of clip_length=2: 100%|██████████| 1550/1550 [00:00<00:00, 41625.08it/s]\n",
      "2024-12-11 08:14:13.854:INFO:training.myEvaluate - Saving/Evaluating before nms results\n"
     ]
    },
    {
     "name": "stdout",
     "output_type": "stream",
     "text": [
      "full: [0, 1500], 1550/1550=100.00 examples.\n",
      "[eval_moment_retrieval] [full] 0.40 seconds\n",
      "Calculating highlight scores with min score 2 (Fair)\n",
      "Time cost 0.27 seconds\n",
      "Calculating highlight scores with min score 3 (Good)\n",
      "Time cost 0.27 seconds\n"
     ]
    },
    {
     "name": "stderr",
     "output_type": "stream",
     "text": [
      "2024-12-11 08:14:15.096:INFO:training.myTrain - metrics OrderedDict([   ('MR-full-R1@0.5', 55.87),\n",
      "                ('MR-full-R1@0.7', 37.03),\n",
      "                ('MR-full-mAP', 33.06),\n",
      "                ('MR-full-mAP@0.5', 56.45),\n",
      "                ('MR-full-mAP@0.75', 31.99),\n",
      "                ('HL-min-Fair-mAP', 69.67),\n",
      "                ('HL-min-Fair-Hit1', 68.52),\n",
      "                ('HL-min-Good-mAP', 59.58),\n",
      "                ('HL-min-Good-Hit1', 66.97),\n",
      "                ('HL-min-VeryGood-mAP', 36.64),\n",
      "                ('HL-min-VeryGood-Hit1', 56.26)])\n",
      "Epoch:  90%|█████████ | 181/200 [33:06<02:49,  8.94s/it]2024-12-11 08:14:15.097:INFO:training.myTrain - [Epoch 182]\n"
     ]
    },
    {
     "name": "stdout",
     "output_type": "stream",
     "text": [
      "Calculating highlight scores with min score 4 (VeryGood)\n",
      "Time cost 0.25 seconds\n"
     ]
    },
    {
     "name": "stderr",
     "output_type": "stream",
     "text": [
      "Training Iteration: 100%|██████████| 226/226 [00:06<00:00, 35.84it/s]\n",
      "2024-12-11 08:14:21.469:INFO:training.myEvaluate - Generate submissions\n",
      "compute st ed scores: 100%|██████████| 16/16 [00:01<00:00, 12.66it/s]\n",
      "convert to multiples of clip_length=2: 100%|██████████| 1550/1550 [00:00<00:00, 41481.66it/s]\n",
      "2024-12-11 08:14:22.780:INFO:training.myEvaluate - Saving/Evaluating before nms results\n"
     ]
    },
    {
     "name": "stdout",
     "output_type": "stream",
     "text": [
      "full: [0, 1500], 1550/1550=100.00 examples.\n",
      "[eval_moment_retrieval] [full] 0.28 seconds\n",
      "Calculating highlight scores with min score 2 (Fair)\n",
      "Time cost 0.27 seconds\n",
      "Calculating highlight scores with min score 3 (Good)\n",
      "Time cost 0.26 seconds\n"
     ]
    },
    {
     "name": "stderr",
     "output_type": "stream",
     "text": [
      "2024-12-11 08:14:23.873:INFO:training.myTrain - metrics OrderedDict([   ('MR-full-R1@0.5', 54.39),\n",
      "                ('MR-full-R1@0.7', 34.77),\n",
      "                ('MR-full-mAP', 30.94),\n",
      "                ('MR-full-mAP@0.5', 54.96),\n",
      "                ('MR-full-mAP@0.75', 28.87),\n",
      "                ('HL-min-Fair-mAP', 69.54),\n",
      "                ('HL-min-Fair-Hit1', 69.16),\n",
      "                ('HL-min-Good-mAP', 59.6),\n",
      "                ('HL-min-Good-Hit1', 68.26),\n",
      "                ('HL-min-VeryGood-mAP', 36.67),\n",
      "                ('HL-min-VeryGood-Hit1', 57.23)])\n",
      "Epoch:  91%|█████████ | 182/200 [33:15<02:40,  8.89s/it]2024-12-11 08:14:23.874:INFO:training.myTrain - [Epoch 183]\n"
     ]
    },
    {
     "name": "stdout",
     "output_type": "stream",
     "text": [
      "Calculating highlight scores with min score 4 (VeryGood)\n",
      "Time cost 0.23 seconds\n"
     ]
    },
    {
     "name": "stderr",
     "output_type": "stream",
     "text": [
      "Training Iteration: 100%|██████████| 226/226 [00:06<00:00, 35.39it/s]\n",
      "2024-12-11 08:14:30.330:INFO:training.myEvaluate - Generate submissions\n",
      "compute st ed scores: 100%|██████████| 16/16 [00:01<00:00, 13.60it/s]\n",
      "convert to multiples of clip_length=2: 100%|██████████| 1550/1550 [00:00<00:00, 41990.45it/s]\n",
      "2024-12-11 08:14:31.553:INFO:training.myEvaluate - Saving/Evaluating before nms results\n"
     ]
    },
    {
     "name": "stdout",
     "output_type": "stream",
     "text": [
      "full: [0, 1500], 1550/1550=100.00 examples.\n",
      "[eval_moment_retrieval] [full] 0.35 seconds\n",
      "Calculating highlight scores with min score 2 (Fair)\n",
      "Time cost 0.27 seconds\n",
      "Calculating highlight scores with min score 3 (Good)\n",
      "Time cost 0.25 seconds\n"
     ]
    },
    {
     "name": "stderr",
     "output_type": "stream",
     "text": [
      "2024-12-11 08:14:32.691:INFO:training.myTrain - metrics OrderedDict([   ('MR-full-R1@0.5', 56.39),\n",
      "                ('MR-full-R1@0.7', 36.13),\n",
      "                ('MR-full-mAP', 32.24),\n",
      "                ('MR-full-mAP@0.5', 56.1),\n",
      "                ('MR-full-mAP@0.75', 31.24),\n",
      "                ('HL-min-Fair-mAP', 70.18),\n",
      "                ('HL-min-Fair-Hit1', 70.26),\n",
      "                ('HL-min-Good-mAP', 60.17),\n",
      "                ('HL-min-Good-Hit1', 68.97),\n",
      "                ('HL-min-VeryGood-mAP', 37.08),\n",
      "                ('HL-min-VeryGood-Hit1', 58.9)])\n",
      "Epoch:  92%|█████████▏| 183/200 [33:24<02:30,  8.87s/it]2024-12-11 08:14:32.692:INFO:training.myTrain - [Epoch 184]\n"
     ]
    },
    {
     "name": "stdout",
     "output_type": "stream",
     "text": [
      "Calculating highlight scores with min score 4 (VeryGood)\n",
      "Time cost 0.21 seconds\n"
     ]
    },
    {
     "name": "stderr",
     "output_type": "stream",
     "text": [
      "Training Iteration: 100%|██████████| 226/226 [00:06<00:00, 36.64it/s]\n",
      "2024-12-11 08:14:38.918:INFO:training.myEvaluate - Generate submissions\n",
      "compute st ed scores: 100%|██████████| 16/16 [00:01<00:00, 13.41it/s]\n",
      "convert to multiples of clip_length=2: 100%|██████████| 1550/1550 [00:00<00:00, 45779.03it/s]\n",
      "2024-12-11 08:14:40.155:INFO:training.myEvaluate - Saving/Evaluating before nms results\n"
     ]
    },
    {
     "name": "stdout",
     "output_type": "stream",
     "text": [
      "full: [0, 1500], 1550/1550=100.00 examples.\n",
      "[eval_moment_retrieval] [full] 0.37 seconds\n",
      "Calculating highlight scores with min score 2 (Fair)\n",
      "Time cost 0.25 seconds\n",
      "Calculating highlight scores with min score 3 (Good)\n",
      "Time cost 0.25 seconds\n"
     ]
    },
    {
     "name": "stderr",
     "output_type": "stream",
     "text": [
      "2024-12-11 08:14:41.317:INFO:training.myTrain - metrics OrderedDict([   ('MR-full-R1@0.5', 53.48),\n",
      "                ('MR-full-R1@0.7', 34.45),\n",
      "                ('MR-full-mAP', 31.08),\n",
      "                ('MR-full-mAP@0.5', 54.07),\n",
      "                ('MR-full-mAP@0.75', 29.52),\n",
      "                ('HL-min-Fair-mAP', 69.5),\n",
      "                ('HL-min-Fair-Hit1', 69.1),\n",
      "                ('HL-min-Good-mAP', 59.65),\n",
      "                ('HL-min-Good-Hit1', 67.87),\n",
      "                ('HL-min-VeryGood-mAP', 36.69),\n",
      "                ('HL-min-VeryGood-Hit1', 57.03)])\n",
      "Epoch:  92%|█████████▏| 184/200 [33:33<02:20,  8.80s/it]2024-12-11 08:14:41.318:INFO:training.myTrain - [Epoch 185]\n"
     ]
    },
    {
     "name": "stdout",
     "output_type": "stream",
     "text": [
      "Calculating highlight scores with min score 4 (VeryGood)\n",
      "Time cost 0.23 seconds\n"
     ]
    },
    {
     "name": "stderr",
     "output_type": "stream",
     "text": [
      "Training Iteration: 100%|██████████| 226/226 [00:06<00:00, 35.86it/s]\n",
      "2024-12-11 08:14:47.674:INFO:training.myEvaluate - Generate submissions\n",
      "compute st ed scores: 100%|██████████| 16/16 [00:01<00:00, 12.25it/s]\n",
      "convert to multiples of clip_length=2: 100%|██████████| 1550/1550 [00:00<00:00, 42798.46it/s]\n",
      "2024-12-11 08:14:49.025:INFO:training.myEvaluate - Saving/Evaluating before nms results\n"
     ]
    },
    {
     "name": "stdout",
     "output_type": "stream",
     "text": [
      "full: [0, 1500], 1550/1550=100.00 examples.\n",
      "[eval_moment_retrieval] [full] 0.25 seconds\n",
      "Calculating highlight scores with min score 2 (Fair)\n",
      "Time cost 0.26 seconds\n",
      "Calculating highlight scores with min score 3 (Good)\n",
      "Time cost 0.26 seconds\n"
     ]
    },
    {
     "name": "stderr",
     "output_type": "stream",
     "text": [
      "2024-12-11 08:14:50.084:INFO:training.myTrain - metrics OrderedDict([   ('MR-full-R1@0.5', 56.58),\n",
      "                ('MR-full-R1@0.7', 37.42),\n",
      "                ('MR-full-mAP', 32.9),\n",
      "                ('MR-full-mAP@0.5', 56.47),\n",
      "                ('MR-full-mAP@0.75', 31.41),\n",
      "                ('HL-min-Fair-mAP', 69.12),\n",
      "                ('HL-min-Fair-Hit1', 68.26),\n",
      "                ('HL-min-Good-mAP', 59.22),\n",
      "                ('HL-min-Good-Hit1', 66.97),\n",
      "                ('HL-min-VeryGood-mAP', 36.59),\n",
      "                ('HL-min-VeryGood-Hit1', 57.23)])\n",
      "Epoch:  92%|█████████▎| 185/200 [33:41<02:11,  8.79s/it]2024-12-11 08:14:50.084:INFO:training.myTrain - [Epoch 186]\n"
     ]
    },
    {
     "name": "stdout",
     "output_type": "stream",
     "text": [
      "Calculating highlight scores with min score 4 (VeryGood)\n",
      "Time cost 0.23 seconds\n"
     ]
    },
    {
     "name": "stderr",
     "output_type": "stream",
     "text": [
      "Training Iteration: 100%|██████████| 226/226 [00:06<00:00, 35.95it/s]\n",
      "2024-12-11 08:14:56.433:INFO:training.myEvaluate - Generate submissions\n",
      "compute st ed scores: 100%|██████████| 16/16 [00:01<00:00, 13.44it/s]\n",
      "convert to multiples of clip_length=2: 100%|██████████| 1550/1550 [00:00<00:00, 42569.50it/s]\n",
      "2024-12-11 08:14:57.670:INFO:training.myEvaluate - Saving/Evaluating before nms results\n"
     ]
    },
    {
     "name": "stdout",
     "output_type": "stream",
     "text": [
      "full: [0, 1500], 1550/1550=100.00 examples.\n",
      "[eval_moment_retrieval] [full] 0.40 seconds\n",
      "Calculating highlight scores with min score 2 (Fair)\n",
      "Time cost 0.28 seconds\n",
      "Calculating highlight scores with min score 3 (Good)\n",
      "Time cost 0.29 seconds\n"
     ]
    },
    {
     "name": "stderr",
     "output_type": "stream",
     "text": [
      "2024-12-11 08:14:58.915:INFO:training.myTrain - metrics OrderedDict([   ('MR-full-R1@0.5', 56.26),\n",
      "                ('MR-full-R1@0.7', 36.65),\n",
      "                ('MR-full-mAP', 32.52),\n",
      "                ('MR-full-mAP@0.5', 56.55),\n",
      "                ('MR-full-mAP@0.75', 31.05),\n",
      "                ('HL-min-Fair-mAP', 70.01),\n",
      "                ('HL-min-Fair-Hit1', 69.68),\n",
      "                ('HL-min-Good-mAP', 59.91),\n",
      "                ('HL-min-Good-Hit1', 67.94),\n",
      "                ('HL-min-VeryGood-mAP', 36.96),\n",
      "                ('HL-min-VeryGood-Hit1', 57.87)])\n",
      "Epoch:  93%|█████████▎| 186/200 [33:50<02:03,  8.80s/it]2024-12-11 08:14:58.916:INFO:training.myTrain - [Epoch 187]\n"
     ]
    },
    {
     "name": "stdout",
     "output_type": "stream",
     "text": [
      "Calculating highlight scores with min score 4 (VeryGood)\n",
      "Time cost 0.22 seconds\n"
     ]
    },
    {
     "name": "stderr",
     "output_type": "stream",
     "text": [
      "Training Iteration: 100%|██████████| 226/226 [00:06<00:00, 35.85it/s]\n",
      "2024-12-11 08:15:05.268:INFO:training.myEvaluate - Generate submissions\n",
      "compute st ed scores: 100%|██████████| 16/16 [00:01<00:00, 12.17it/s]\n",
      "convert to multiples of clip_length=2: 100%|██████████| 1550/1550 [00:00<00:00, 41674.98it/s]\n",
      "2024-12-11 08:15:06.630:INFO:training.myEvaluate - Saving/Evaluating before nms results\n"
     ]
    },
    {
     "name": "stdout",
     "output_type": "stream",
     "text": [
      "full: [0, 1500], 1550/1550=100.00 examples.\n",
      "[eval_moment_retrieval] [full] 0.31 seconds\n",
      "Calculating highlight scores with min score 2 (Fair)\n",
      "Time cost 0.27 seconds\n",
      "Calculating highlight scores with min score 3 (Good)\n",
      "Time cost 0.27 seconds\n"
     ]
    },
    {
     "name": "stderr",
     "output_type": "stream",
     "text": [
      "2024-12-11 08:15:07.761:INFO:training.myTrain - metrics OrderedDict([   ('MR-full-R1@0.5', 55.42),\n",
      "                ('MR-full-R1@0.7', 37.68),\n",
      "                ('MR-full-mAP', 32.76),\n",
      "                ('MR-full-mAP@0.5', 55.8),\n",
      "                ('MR-full-mAP@0.75', 32.6),\n",
      "                ('HL-min-Fair-mAP', 69.59),\n",
      "                ('HL-min-Fair-Hit1', 68.77),\n",
      "                ('HL-min-Good-mAP', 59.55),\n",
      "                ('HL-min-Good-Hit1', 67.55),\n",
      "                ('HL-min-VeryGood-mAP', 36.6),\n",
      "                ('HL-min-VeryGood-Hit1', 56.97)])\n",
      "Epoch:  94%|█████████▎| 187/200 [33:59<01:54,  8.81s/it]2024-12-11 08:15:07.762:INFO:training.myTrain - [Epoch 188]\n"
     ]
    },
    {
     "name": "stdout",
     "output_type": "stream",
     "text": [
      "Calculating highlight scores with min score 4 (VeryGood)\n",
      "Time cost 0.23 seconds\n"
     ]
    },
    {
     "name": "stderr",
     "output_type": "stream",
     "text": [
      "Training Iteration: 100%|██████████| 226/226 [00:06<00:00, 35.11it/s]\n",
      "2024-12-11 08:15:14.265:INFO:training.myEvaluate - Generate submissions\n",
      "compute st ed scores: 100%|██████████| 16/16 [00:01<00:00, 13.30it/s]\n",
      "convert to multiples of clip_length=2: 100%|██████████| 1550/1550 [00:00<00:00, 45137.62it/s]\n",
      "2024-12-11 08:15:15.512:INFO:training.myEvaluate - Saving/Evaluating before nms results\n"
     ]
    },
    {
     "name": "stdout",
     "output_type": "stream",
     "text": [
      "full: [0, 1500], 1550/1550=100.00 examples.\n",
      "[eval_moment_retrieval] [full] 0.34 seconds\n",
      "Calculating highlight scores with min score 2 (Fair)\n",
      "Time cost 0.25 seconds\n",
      "Calculating highlight scores with min score 3 (Good)\n",
      "Time cost 0.27 seconds\n"
     ]
    },
    {
     "name": "stderr",
     "output_type": "stream",
     "text": [
      "2024-12-11 08:15:16.630:INFO:training.myTrain - metrics OrderedDict([   ('MR-full-R1@0.5', 54.13),\n",
      "                ('MR-full-R1@0.7', 36.45),\n",
      "                ('MR-full-mAP', 31.88),\n",
      "                ('MR-full-mAP@0.5', 54.96),\n",
      "                ('MR-full-mAP@0.75', 31.55),\n",
      "                ('HL-min-Fair-mAP', 69.68),\n",
      "                ('HL-min-Fair-Hit1', 69.29),\n",
      "                ('HL-min-Good-mAP', 59.58),\n",
      "                ('HL-min-Good-Hit1', 68.13),\n",
      "                ('HL-min-VeryGood-mAP', 36.74),\n",
      "                ('HL-min-VeryGood-Hit1', 57.55)])\n",
      "Epoch:  94%|█████████▍| 188/200 [34:08<01:45,  8.83s/it]2024-12-11 08:15:16.631:INFO:training.myTrain - [Epoch 189]\n"
     ]
    },
    {
     "name": "stdout",
     "output_type": "stream",
     "text": [
      "Calculating highlight scores with min score 4 (VeryGood)\n",
      "Time cost 0.21 seconds\n"
     ]
    },
    {
     "name": "stderr",
     "output_type": "stream",
     "text": [
      "Training Iteration: 100%|██████████| 226/226 [00:06<00:00, 34.93it/s]\n",
      "2024-12-11 08:15:23.177:INFO:training.myEvaluate - Generate submissions\n",
      "compute st ed scores: 100%|██████████| 16/16 [00:01<00:00, 12.31it/s]\n",
      "convert to multiples of clip_length=2: 100%|██████████| 1550/1550 [00:00<00:00, 39830.97it/s]\n",
      "2024-12-11 08:15:24.526:INFO:training.myEvaluate - Saving/Evaluating before nms results\n"
     ]
    },
    {
     "name": "stdout",
     "output_type": "stream",
     "text": [
      "full: [0, 1500], 1550/1550=100.00 examples.\n",
      "[eval_moment_retrieval] [full] 0.27 seconds\n",
      "Calculating highlight scores with min score 2 (Fair)\n",
      "Time cost 0.26 seconds\n",
      "Calculating highlight scores with min score 3 (Good)\n",
      "Time cost 0.27 seconds\n"
     ]
    },
    {
     "name": "stderr",
     "output_type": "stream",
     "text": [
      "2024-12-11 08:15:25.600:INFO:training.myTrain - metrics OrderedDict([   ('MR-full-R1@0.5', 55.87),\n",
      "                ('MR-full-R1@0.7', 37.03),\n",
      "                ('MR-full-mAP', 32.82),\n",
      "                ('MR-full-mAP@0.5', 56.27),\n",
      "                ('MR-full-mAP@0.75', 32.27),\n",
      "                ('HL-min-Fair-mAP', 69.51),\n",
      "                ('HL-min-Fair-Hit1', 68.84),\n",
      "                ('HL-min-Good-mAP', 59.48),\n",
      "                ('HL-min-Good-Hit1', 67.29),\n",
      "                ('HL-min-VeryGood-mAP', 36.61),\n",
      "                ('HL-min-VeryGood-Hit1', 57.1)])\n",
      "Epoch:  94%|█████████▍| 189/200 [34:17<01:37,  8.87s/it]2024-12-11 08:15:25.601:INFO:training.myTrain - [Epoch 190]\n"
     ]
    },
    {
     "name": "stdout",
     "output_type": "stream",
     "text": [
      "Calculating highlight scores with min score 4 (VeryGood)\n",
      "Time cost 0.22 seconds\n"
     ]
    },
    {
     "name": "stderr",
     "output_type": "stream",
     "text": [
      "Training Iteration: 100%|██████████| 226/226 [00:06<00:00, 34.97it/s]\n",
      "2024-12-11 08:15:32.129:INFO:training.myEvaluate - Generate submissions\n",
      "compute st ed scores: 100%|██████████| 16/16 [00:01<00:00, 13.72it/s]\n",
      "convert to multiples of clip_length=2: 100%|██████████| 1550/1550 [00:00<00:00, 41564.14it/s]\n",
      "2024-12-11 08:15:33.342:INFO:training.myEvaluate - Saving/Evaluating before nms results\n"
     ]
    },
    {
     "name": "stdout",
     "output_type": "stream",
     "text": [
      "full: [0, 1500], 1550/1550=100.00 examples.\n",
      "[eval_moment_retrieval] [full] 0.39 seconds\n",
      "Calculating highlight scores with min score 2 (Fair)\n",
      "Time cost 0.28 seconds\n",
      "Calculating highlight scores with min score 3 (Good)\n",
      "Time cost 0.28 seconds\n"
     ]
    },
    {
     "name": "stderr",
     "output_type": "stream",
     "text": [
      "2024-12-11 08:15:34.579:INFO:training.myTrain - metrics OrderedDict([   ('MR-full-R1@0.5', 53.23),\n",
      "                ('MR-full-R1@0.7', 35.81),\n",
      "                ('MR-full-mAP', 31.72),\n",
      "                ('MR-full-mAP@0.5', 54.81),\n",
      "                ('MR-full-mAP@0.75', 30.63),\n",
      "                ('HL-min-Fair-mAP', 69.96),\n",
      "                ('HL-min-Fair-Hit1', 70.52),\n",
      "                ('HL-min-Good-mAP', 59.93),\n",
      "                ('HL-min-Good-Hit1', 68.9),\n",
      "                ('HL-min-VeryGood-mAP', 36.87),\n",
      "                ('HL-min-VeryGood-Hit1', 58.13)])\n",
      "Epoch:  95%|█████████▌| 190/200 [34:26<01:29,  8.90s/it]2024-12-11 08:15:34.580:INFO:training.myTrain - [Epoch 191]\n"
     ]
    },
    {
     "name": "stdout",
     "output_type": "stream",
     "text": [
      "Calculating highlight scores with min score 4 (VeryGood)\n",
      "Time cost 0.23 seconds\n"
     ]
    },
    {
     "name": "stderr",
     "output_type": "stream",
     "text": [
      "Training Iteration: 100%|██████████| 226/226 [00:06<00:00, 36.84it/s]\n",
      "2024-12-11 08:15:40.775:INFO:training.myEvaluate - Generate submissions\n",
      "compute st ed scores: 100%|██████████| 16/16 [00:01<00:00, 13.63it/s]\n",
      "convert to multiples of clip_length=2: 100%|██████████| 1550/1550 [00:00<00:00, 44886.43it/s]\n",
      "2024-12-11 08:15:41.993:INFO:training.myEvaluate - Saving/Evaluating before nms results\n"
     ]
    },
    {
     "name": "stdout",
     "output_type": "stream",
     "text": [
      "full: [0, 1500], 1550/1550=100.00 examples.\n",
      "[eval_moment_retrieval] [full] 0.40 seconds\n",
      "Calculating highlight scores with min score 2 (Fair)\n",
      "Time cost 0.28 seconds\n",
      "Calculating highlight scores with min score 3 (Good)\n",
      "Time cost 0.27 seconds\n"
     ]
    },
    {
     "name": "stderr",
     "output_type": "stream",
     "text": [
      "2024-12-11 08:15:43.227:INFO:training.myTrain - metrics OrderedDict([   ('MR-full-R1@0.5', 52.13),\n",
      "                ('MR-full-R1@0.7', 33.42),\n",
      "                ('MR-full-mAP', 30.39),\n",
      "                ('MR-full-mAP@0.5', 53.49),\n",
      "                ('MR-full-mAP@0.75', 29.31),\n",
      "                ('HL-min-Fair-mAP', 70.15),\n",
      "                ('HL-min-Fair-Hit1', 70.26),\n",
      "                ('HL-min-Good-mAP', 60.15),\n",
      "                ('HL-min-Good-Hit1', 68.84),\n",
      "                ('HL-min-VeryGood-mAP', 36.99),\n",
      "                ('HL-min-VeryGood-Hit1', 58.32)])\n",
      "Epoch:  96%|█████████▌| 191/200 [34:35<01:19,  8.83s/it]2024-12-11 08:15:43.228:INFO:training.myTrain - [Epoch 192]\n"
     ]
    },
    {
     "name": "stdout",
     "output_type": "stream",
     "text": [
      "Calculating highlight scores with min score 4 (VeryGood)\n",
      "Time cost 0.24 seconds\n"
     ]
    },
    {
     "name": "stderr",
     "output_type": "stream",
     "text": [
      "Training Iteration: 100%|██████████| 226/226 [00:06<00:00, 35.56it/s]\n",
      "2024-12-11 08:15:49.655:INFO:training.myEvaluate - Generate submissions\n",
      "compute st ed scores: 100%|██████████| 16/16 [00:01<00:00, 12.41it/s]\n",
      "convert to multiples of clip_length=2: 100%|██████████| 1550/1550 [00:00<00:00, 46984.64it/s]\n",
      "2024-12-11 08:15:50.986:INFO:training.myEvaluate - Saving/Evaluating before nms results\n"
     ]
    },
    {
     "name": "stdout",
     "output_type": "stream",
     "text": [
      "full: [0, 1500], 1550/1550=100.00 examples.\n",
      "[eval_moment_retrieval] [full] 0.29 seconds\n",
      "Calculating highlight scores with min score 2 (Fair)\n",
      "Time cost 0.28 seconds\n",
      "Calculating highlight scores with min score 3 (Good)\n",
      "Time cost 0.28 seconds\n"
     ]
    },
    {
     "name": "stderr",
     "output_type": "stream",
     "text": [
      "2024-12-11 08:15:52.117:INFO:training.myTrain - metrics OrderedDict([   ('MR-full-R1@0.5', 55.16),\n",
      "                ('MR-full-R1@0.7', 36.84),\n",
      "                ('MR-full-mAP', 33.18),\n",
      "                ('MR-full-mAP@0.5', 56.27),\n",
      "                ('MR-full-mAP@0.75', 32.64),\n",
      "                ('HL-min-Fair-mAP', 70.21),\n",
      "                ('HL-min-Fair-Hit1', 68.77),\n",
      "                ('HL-min-Good-mAP', 60.02),\n",
      "                ('HL-min-Good-Hit1', 67.16),\n",
      "                ('HL-min-VeryGood-mAP', 36.92),\n",
      "                ('HL-min-VeryGood-Hit1', 56.52)])\n",
      "Epoch:  96%|█████████▌| 192/200 [34:43<01:10,  8.85s/it]2024-12-11 08:15:52.118:INFO:training.myTrain - [Epoch 193]\n"
     ]
    },
    {
     "name": "stdout",
     "output_type": "stream",
     "text": [
      "Calculating highlight scores with min score 4 (VeryGood)\n",
      "Time cost 0.23 seconds\n"
     ]
    },
    {
     "name": "stderr",
     "output_type": "stream",
     "text": [
      "Training Iteration: 100%|██████████| 226/226 [00:06<00:00, 35.73it/s]\n",
      "2024-12-11 08:15:58.510:INFO:training.myEvaluate - Generate submissions\n",
      "compute st ed scores: 100%|██████████| 16/16 [00:01<00:00, 13.46it/s]\n",
      "convert to multiples of clip_length=2: 100%|██████████| 1550/1550 [00:00<00:00, 44916.51it/s]\n",
      "2024-12-11 08:15:59.743:INFO:training.myEvaluate - Saving/Evaluating before nms results\n"
     ]
    },
    {
     "name": "stdout",
     "output_type": "stream",
     "text": [
      "full: [0, 1500], 1550/1550=100.00 examples.\n",
      "[eval_moment_retrieval] [full] 0.41 seconds\n",
      "Calculating highlight scores with min score 2 (Fair)\n",
      "Time cost 0.29 seconds\n",
      "Calculating highlight scores with min score 3 (Good)\n",
      "Time cost 0.26 seconds\n"
     ]
    },
    {
     "name": "stderr",
     "output_type": "stream",
     "text": [
      "2024-12-11 08:16:00.977:INFO:training.myTrain - metrics OrderedDict([   ('MR-full-R1@0.5', 53.48),\n",
      "                ('MR-full-R1@0.7', 35.48),\n",
      "                ('MR-full-mAP', 31.33),\n",
      "                ('MR-full-mAP@0.5', 54.75),\n",
      "                ('MR-full-mAP@0.75', 30.01),\n",
      "                ('HL-min-Fair-mAP', 69.67),\n",
      "                ('HL-min-Fair-Hit1', 70.06),\n",
      "                ('HL-min-Good-mAP', 59.65),\n",
      "                ('HL-min-Good-Hit1', 68.58),\n",
      "                ('HL-min-VeryGood-mAP', 36.69),\n",
      "                ('HL-min-VeryGood-Hit1', 58.77)])\n",
      "Epoch:  96%|█████████▋| 193/200 [34:52<01:01,  8.85s/it]2024-12-11 08:16:00.978:INFO:training.myTrain - [Epoch 194]\n"
     ]
    },
    {
     "name": "stdout",
     "output_type": "stream",
     "text": [
      "Calculating highlight scores with min score 4 (VeryGood)\n",
      "Time cost 0.23 seconds\n"
     ]
    },
    {
     "name": "stderr",
     "output_type": "stream",
     "text": [
      "Training Iteration: 100%|██████████| 226/226 [00:06<00:00, 37.10it/s]\n",
      "2024-12-11 08:16:07.140:INFO:training.myEvaluate - Generate submissions\n",
      "compute st ed scores: 100%|██████████| 16/16 [00:01<00:00, 12.26it/s]\n",
      "convert to multiples of clip_length=2: 100%|██████████| 1550/1550 [00:00<00:00, 46650.53it/s]\n",
      "2024-12-11 08:16:08.489:INFO:training.myEvaluate - Saving/Evaluating before nms results\n"
     ]
    },
    {
     "name": "stdout",
     "output_type": "stream",
     "text": [
      "full: [0, 1500], 1550/1550=100.00 examples.\n",
      "[eval_moment_retrieval] [full] 0.28 seconds\n",
      "Calculating highlight scores with min score 2 (Fair)\n",
      "Time cost 0.28 seconds\n",
      "Calculating highlight scores with min score 3 (Good)\n",
      "Time cost 0.26 seconds\n"
     ]
    },
    {
     "name": "stderr",
     "output_type": "stream",
     "text": [
      "2024-12-11 08:16:09.601:INFO:training.myTrain - metrics OrderedDict([   ('MR-full-R1@0.5', 55.55),\n",
      "                ('MR-full-R1@0.7', 37.42),\n",
      "                ('MR-full-mAP', 33.48),\n",
      "                ('MR-full-mAP@0.5', 56.46),\n",
      "                ('MR-full-mAP@0.75', 32.78),\n",
      "                ('HL-min-Fair-mAP', 69.82),\n",
      "                ('HL-min-Fair-Hit1', 69.68),\n",
      "                ('HL-min-Good-mAP', 59.72),\n",
      "                ('HL-min-Good-Hit1', 67.74),\n",
      "                ('HL-min-VeryGood-mAP', 36.57),\n",
      "                ('HL-min-VeryGood-Hit1', 57.48)])\n",
      "Epoch:  97%|█████████▋| 194/200 [35:01<00:52,  8.78s/it]2024-12-11 08:16:09.602:INFO:training.myTrain - [Epoch 195]\n"
     ]
    },
    {
     "name": "stdout",
     "output_type": "stream",
     "text": [
      "Calculating highlight scores with min score 4 (VeryGood)\n",
      "Time cost 0.24 seconds\n"
     ]
    },
    {
     "name": "stderr",
     "output_type": "stream",
     "text": [
      "Training Iteration: 100%|██████████| 226/226 [00:06<00:00, 34.54it/s]\n",
      "2024-12-11 08:16:16.219:INFO:training.myEvaluate - Generate submissions\n",
      "compute st ed scores: 100%|██████████| 16/16 [00:01<00:00, 13.29it/s]\n",
      "convert to multiples of clip_length=2: 100%|██████████| 1550/1550 [00:00<00:00, 40036.28it/s]\n",
      "2024-12-11 08:16:17.471:INFO:training.myEvaluate - Saving/Evaluating before nms results\n"
     ]
    },
    {
     "name": "stdout",
     "output_type": "stream",
     "text": [
      "full: [0, 1500], 1550/1550=100.00 examples.\n",
      "[eval_moment_retrieval] [full] 0.36 seconds\n",
      "Calculating highlight scores with min score 2 (Fair)\n",
      "Time cost 0.25 seconds\n",
      "Calculating highlight scores with min score 3 (Good)\n",
      "Time cost 0.30 seconds\n"
     ]
    },
    {
     "name": "stderr",
     "output_type": "stream",
     "text": [
      "2024-12-11 08:16:18.689:INFO:training.myTrain - metrics OrderedDict([   ('MR-full-R1@0.5', 56.58),\n",
      "                ('MR-full-R1@0.7', 37.35),\n",
      "                ('MR-full-mAP', 33.27),\n",
      "                ('MR-full-mAP@0.5', 56.57),\n",
      "                ('MR-full-mAP@0.75', 32.79),\n",
      "                ('HL-min-Fair-mAP', 70.08),\n",
      "                ('HL-min-Fair-Hit1', 69.61),\n",
      "                ('HL-min-Good-mAP', 59.89),\n",
      "                ('HL-min-Good-Hit1', 67.68),\n",
      "                ('HL-min-VeryGood-mAP', 36.72),\n",
      "                ('HL-min-VeryGood-Hit1', 57.81)])\n",
      "Epoch:  98%|█████████▊| 195/200 [35:10<00:44,  8.87s/it]2024-12-11 08:16:18.690:INFO:training.myTrain - [Epoch 196]\n"
     ]
    },
    {
     "name": "stdout",
     "output_type": "stream",
     "text": [
      "Calculating highlight scores with min score 4 (VeryGood)\n",
      "Time cost 0.26 seconds\n"
     ]
    },
    {
     "name": "stderr",
     "output_type": "stream",
     "text": [
      "Training Iteration: 100%|██████████| 226/226 [00:06<00:00, 35.59it/s]\n",
      "2024-12-11 08:16:25.113:INFO:training.myEvaluate - Generate submissions\n",
      "compute st ed scores: 100%|██████████| 16/16 [00:01<00:00, 11.89it/s]\n",
      "convert to multiples of clip_length=2: 100%|██████████| 1550/1550 [00:00<00:00, 40195.94it/s]\n",
      "2024-12-11 08:16:26.508:INFO:training.myEvaluate - Saving/Evaluating before nms results\n"
     ]
    },
    {
     "name": "stdout",
     "output_type": "stream",
     "text": [
      "full: [0, 1500], 1550/1550=100.00 examples.\n",
      "[eval_moment_retrieval] [full] 0.28 seconds\n",
      "Calculating highlight scores with min score 2 (Fair)\n",
      "Time cost 0.27 seconds\n",
      "Calculating highlight scores with min score 3 (Good)\n",
      "Time cost 0.24 seconds\n"
     ]
    },
    {
     "name": "stderr",
     "output_type": "stream",
     "text": [
      "2024-12-11 08:16:27.564:INFO:training.myTrain - metrics OrderedDict([   ('MR-full-R1@0.5', 54.0),\n",
      "                ('MR-full-R1@0.7', 36.19),\n",
      "                ('MR-full-mAP', 32.27),\n",
      "                ('MR-full-mAP@0.5', 54.94),\n",
      "                ('MR-full-mAP@0.75', 31.71),\n",
      "                ('HL-min-Fair-mAP', 69.77),\n",
      "                ('HL-min-Fair-Hit1', 69.35),\n",
      "                ('HL-min-Good-mAP', 59.62),\n",
      "                ('HL-min-Good-Hit1', 67.81),\n",
      "                ('HL-min-VeryGood-mAP', 36.48),\n",
      "                ('HL-min-VeryGood-Hit1', 56.84)])\n",
      "Epoch:  98%|█████████▊| 196/200 [35:19<00:35,  8.87s/it]2024-12-11 08:16:27.565:INFO:training.myTrain - [Epoch 197]\n"
     ]
    },
    {
     "name": "stdout",
     "output_type": "stream",
     "text": [
      "Calculating highlight scores with min score 4 (VeryGood)\n",
      "Time cost 0.22 seconds\n"
     ]
    },
    {
     "name": "stderr",
     "output_type": "stream",
     "text": [
      "Training Iteration: 100%|██████████| 226/226 [00:06<00:00, 35.53it/s]\n",
      "2024-12-11 08:16:33.991:INFO:training.myEvaluate - Generate submissions\n",
      "compute st ed scores: 100%|██████████| 16/16 [00:01<00:00, 13.26it/s]\n",
      "convert to multiples of clip_length=2: 100%|██████████| 1550/1550 [00:00<00:00, 45104.42it/s]\n",
      "2024-12-11 08:16:35.241:INFO:training.myEvaluate - Saving/Evaluating before nms results\n"
     ]
    },
    {
     "name": "stdout",
     "output_type": "stream",
     "text": [
      "full: [0, 1500], 1550/1550=100.00 examples.\n",
      "[eval_moment_retrieval] [full] 0.37 seconds\n",
      "Calculating highlight scores with min score 2 (Fair)\n",
      "Time cost 0.27 seconds\n",
      "Calculating highlight scores with min score 3 (Good)\n",
      "Time cost 0.24 seconds\n"
     ]
    },
    {
     "name": "stderr",
     "output_type": "stream",
     "text": [
      "2024-12-11 08:16:36.391:INFO:training.myTrain - metrics OrderedDict([   ('MR-full-R1@0.5', 54.97),\n",
      "                ('MR-full-R1@0.7', 35.81),\n",
      "                ('MR-full-mAP', 31.71),\n",
      "                ('MR-full-mAP@0.5', 55.42),\n",
      "                ('MR-full-mAP@0.75', 30.71),\n",
      "                ('HL-min-Fair-mAP', 70.01),\n",
      "                ('HL-min-Fair-Hit1', 69.94),\n",
      "                ('HL-min-Good-mAP', 59.97),\n",
      "                ('HL-min-Good-Hit1', 68.32),\n",
      "                ('HL-min-VeryGood-mAP', 36.79),\n",
      "                ('HL-min-VeryGood-Hit1', 57.03)])\n",
      "Epoch:  98%|█████████▊| 197/200 [35:28<00:26,  8.86s/it]2024-12-11 08:16:36.392:INFO:training.myTrain - [Epoch 198]\n"
     ]
    },
    {
     "name": "stdout",
     "output_type": "stream",
     "text": [
      "Calculating highlight scores with min score 4 (VeryGood)\n",
      "Time cost 0.22 seconds\n"
     ]
    },
    {
     "name": "stderr",
     "output_type": "stream",
     "text": [
      "Training Iteration: 100%|██████████| 226/226 [00:06<00:00, 35.05it/s]\n",
      "2024-12-11 08:16:42.912:INFO:training.myEvaluate - Generate submissions\n",
      "compute st ed scores: 100%|██████████| 16/16 [00:01<00:00, 13.40it/s]\n",
      "convert to multiples of clip_length=2: 100%|██████████| 1550/1550 [00:00<00:00, 43427.42it/s]\n",
      "2024-12-11 08:16:44.152:INFO:training.myEvaluate - Saving/Evaluating before nms results\n"
     ]
    },
    {
     "name": "stdout",
     "output_type": "stream",
     "text": [
      "full: [0, 1500], 1550/1550=100.00 examples.\n",
      "[eval_moment_retrieval] [full] 0.38 seconds\n",
      "Calculating highlight scores with min score 2 (Fair)\n",
      "Time cost 0.26 seconds\n",
      "Calculating highlight scores with min score 3 (Good)\n",
      "Time cost 0.26 seconds\n"
     ]
    },
    {
     "name": "stderr",
     "output_type": "stream",
     "text": [
      "2024-12-11 08:16:45.317:INFO:training.myTrain - metrics OrderedDict([   ('MR-full-R1@0.5', 55.23),\n",
      "                ('MR-full-R1@0.7', 37.68),\n",
      "                ('MR-full-mAP', 33.18),\n",
      "                ('MR-full-mAP@0.5', 55.59),\n",
      "                ('MR-full-mAP@0.75', 32.17),\n",
      "                ('HL-min-Fair-mAP', 70.22),\n",
      "                ('HL-min-Fair-Hit1', 70.97),\n",
      "                ('HL-min-Good-mAP', 60.15),\n",
      "                ('HL-min-Good-Hit1', 69.35),\n",
      "                ('HL-min-VeryGood-mAP', 36.9),\n",
      "                ('HL-min-VeryGood-Hit1', 58.65)])\n",
      "Epoch:  99%|█████████▉| 198/200 [35:37<00:17,  8.88s/it]2024-12-11 08:16:45.318:INFO:training.myTrain - [Epoch 199]\n"
     ]
    },
    {
     "name": "stdout",
     "output_type": "stream",
     "text": [
      "Calculating highlight scores with min score 4 (VeryGood)\n",
      "Time cost 0.22 seconds\n"
     ]
    },
    {
     "name": "stderr",
     "output_type": "stream",
     "text": [
      "Training Iteration: 100%|██████████| 226/226 [00:05<00:00, 38.15it/s]\n",
      "2024-12-11 08:16:51.310:INFO:training.myEvaluate - Generate submissions\n",
      "compute st ed scores: 100%|██████████| 16/16 [00:01<00:00, 12.25it/s]\n",
      "convert to multiples of clip_length=2: 100%|██████████| 1550/1550 [00:00<00:00, 48559.69it/s]\n",
      "2024-12-11 08:16:52.659:INFO:training.myEvaluate - Saving/Evaluating before nms results\n"
     ]
    },
    {
     "name": "stdout",
     "output_type": "stream",
     "text": [
      "full: [0, 1500], 1550/1550=100.00 examples.\n",
      "[eval_moment_retrieval] [full] 0.30 seconds\n",
      "Calculating highlight scores with min score 2 (Fair)\n",
      "Time cost 0.28 seconds\n",
      "Calculating highlight scores with min score 3 (Good)\n",
      "Time cost 0.27 seconds\n"
     ]
    },
    {
     "name": "stderr",
     "output_type": "stream",
     "text": [
      "2024-12-11 08:16:53.809:INFO:training.myTrain - metrics OrderedDict([   ('MR-full-R1@0.5', 55.16),\n",
      "                ('MR-full-R1@0.7', 37.42),\n",
      "                ('MR-full-mAP', 33.08),\n",
      "                ('MR-full-mAP@0.5', 55.94),\n",
      "                ('MR-full-mAP@0.75', 31.74),\n",
      "                ('HL-min-Fair-mAP', 69.99),\n",
      "                ('HL-min-Fair-Hit1', 69.42),\n",
      "                ('HL-min-Good-mAP', 59.96),\n",
      "                ('HL-min-Good-Hit1', 67.94),\n",
      "                ('HL-min-VeryGood-mAP', 36.81),\n",
      "                ('HL-min-VeryGood-Hit1', 57.87)])\n",
      "Epoch: 100%|█████████▉| 199/200 [35:45<00:08,  8.76s/it]2024-12-11 08:16:53.810:INFO:training.myTrain - [Epoch 200]\n"
     ]
    },
    {
     "name": "stdout",
     "output_type": "stream",
     "text": [
      "Calculating highlight scores with min score 4 (VeryGood)\n",
      "Time cost 0.24 seconds\n"
     ]
    },
    {
     "name": "stderr",
     "output_type": "stream",
     "text": [
      "Training Iteration: 100%|██████████| 226/226 [00:06<00:00, 35.31it/s]\n",
      "2024-12-11 08:17:00.281:INFO:training.myEvaluate - Generate submissions\n",
      "compute st ed scores: 100%|██████████| 16/16 [00:01<00:00, 13.33it/s]\n",
      "convert to multiples of clip_length=2: 100%|██████████| 1550/1550 [00:00<00:00, 41722.05it/s]\n",
      "2024-12-11 08:17:01.529:INFO:training.myEvaluate - Saving/Evaluating before nms results\n"
     ]
    },
    {
     "name": "stdout",
     "output_type": "stream",
     "text": [
      "full: [0, 1500], 1550/1550=100.00 examples.\n",
      "[eval_moment_retrieval] [full] 0.37 seconds\n",
      "Calculating highlight scores with min score 2 (Fair)\n",
      "Time cost 0.26 seconds\n",
      "Calculating highlight scores with min score 3 (Good)\n",
      "Time cost 0.30 seconds\n"
     ]
    },
    {
     "name": "stderr",
     "output_type": "stream",
     "text": [
      "2024-12-11 08:17:02.740:INFO:training.myTrain - metrics OrderedDict([   ('MR-full-R1@0.5', 54.52),\n",
      "                ('MR-full-R1@0.7', 35.48),\n",
      "                ('MR-full-mAP', 32.12),\n",
      "                ('MR-full-mAP@0.5', 55.81),\n",
      "                ('MR-full-mAP@0.75', 30.74),\n",
      "                ('HL-min-Fair-mAP', 69.51),\n",
      "                ('HL-min-Fair-Hit1', 69.35),\n",
      "                ('HL-min-Good-mAP', 59.5),\n",
      "                ('HL-min-Good-Hit1', 67.81),\n",
      "                ('HL-min-VeryGood-mAP', 36.48),\n",
      "                ('HL-min-VeryGood-Hit1', 57.87)])\n",
      "Epoch: 100%|██████████| 200/200 [35:54<00:00, 10.77s/it]"
     ]
    },
    {
     "name": "stdout",
     "output_type": "stream",
     "text": [
      "Calculating highlight scores with min score 4 (VeryGood)\n",
      "Time cost 0.23 seconds\n"
     ]
    },
    {
     "name": "stderr",
     "output_type": "stream",
     "text": [
      "\n"
     ]
    }
   ],
   "source": [
    "import argparse\n",
    "from training.myTrain import main,check_valid_combination\n",
    "# 使用硬编码的参数\n",
    "args = argparse.Namespace(\n",
    "    model='moment_detr',\n",
    "    dataset='qvhighlight',\n",
    "    feature='clip_slowfast',\n",
    "    resume=None,\n",
    "    domain=None\n",
    ")\n",
    "\n",
    "is_valid = check_valid_combination(args.dataset, args.feature, args.domain)\n",
    "if is_valid:\n",
    "    option_manager = BaseOptions(args.model, args.dataset, args.feature, args.resume, args.domain)\n",
    "    option_manager.parse()\n",
    "    option_manager.clean_and_makedirs()\n",
    "    opt = option_manager.option\n",
    "\n",
    "    print(opt.v_feat_dirs)\n",
    "    print(opt.t_feat_dir)\n",
    "    print(opt.a_feat_dirs)\n",
    "\n",
    "\n",
    "    main(opt, resume=args.resume, domain=args.domain)\n",
    "else:\n",
    "    raise ValueError('The combination of dataset, feature, and domain is invalid: dataset={}, feature={}, domain={}'.format(args.dataset, args.feature, args.domain))\n",
    "\n"
   ]
  }
 ],
 "metadata": {
  "kernelspec": {
   "display_name": "lighthouse",
   "language": "python",
   "name": "python3"
  },
  "language_info": {
   "codemirror_mode": {
    "name": "ipython",
    "version": 3
   },
   "file_extension": ".py",
   "mimetype": "text/x-python",
   "name": "python",
   "nbconvert_exporter": "python",
   "pygments_lexer": "ipython3",
   "version": "3.9.12"
  }
 },
 "nbformat": 4,
 "nbformat_minor": 2
}
